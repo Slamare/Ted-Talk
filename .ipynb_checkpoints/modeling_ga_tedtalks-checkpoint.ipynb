{
 "cells": [
  {
   "cell_type": "markdown",
   "metadata": {},
   "source": [
    "# Ted Talks | Wrangling"
   ]
  },
  {
   "cell_type": "code",
   "execution_count": 1,
   "metadata": {},
   "outputs": [
    {
     "name": "stderr",
     "output_type": "stream",
     "text": [
      "/anaconda/lib/python3.6/site-packages/sklearn/cross_validation.py:44: DeprecationWarning: This module was deprecated in version 0.18 in favor of the model_selection module into which all the refactored classes and functions are moved. Also note that the interface of the new CV iterators are different from that of this module. This module will be removed in 0.20.\n",
      "  \"This module will be removed in 0.20.\", DeprecationWarning)\n"
     ]
    }
   ],
   "source": [
    "#imports\n",
    "import pandas as pd\n",
    "import numpy as np\n",
    "import seaborn as sns\n",
    "import matplotlib as mpl\n",
    "import matplotlib.pyplot as plt\n",
    "import sklearn.metrics\n",
    "from sklearn.feature_extraction.text import CountVectorizer\n",
    "from sklearn.cross_validation import train_test_split, cross_val_score\n",
    "from sklearn.linear_model import Ridge, Lasso, ElasticNet, LinearRegression\n",
    "from sklearn.model_selection import cross_val_score, train_test_split\n",
    "from sklearn import datasets\n",
    "from sklearn.linear_model import LinearRegression\n",
    "from sklearn.metrics import mean_squared_error\n",
    "from sklearn.datasets import make_regression\n",
    "\n",
    "%matplotlib inline\n",
    "plt.style.use('ggplot')"
   ]
  },
  {
   "cell_type": "code",
   "execution_count": 2,
   "metadata": {
    "collapsed": true
   },
   "outputs": [],
   "source": [
    "#load data and make into datafame\n",
    "df = pd.read_csv(\"../ga_tedtalks/ted_main.csv\")"
   ]
  },
  {
   "cell_type": "code",
   "execution_count": 3,
   "metadata": {},
   "outputs": [
    {
     "data": {
      "text/html": [
       "<div>\n",
       "<style>\n",
       "    .dataframe thead tr:only-child th {\n",
       "        text-align: right;\n",
       "    }\n",
       "\n",
       "    .dataframe thead th {\n",
       "        text-align: left;\n",
       "    }\n",
       "\n",
       "    .dataframe tbody tr th {\n",
       "        vertical-align: top;\n",
       "    }\n",
       "</style>\n",
       "<table border=\"1\" class=\"dataframe\">\n",
       "  <thead>\n",
       "    <tr style=\"text-align: right;\">\n",
       "      <th></th>\n",
       "      <th>comments</th>\n",
       "      <th>description</th>\n",
       "      <th>duration</th>\n",
       "      <th>event</th>\n",
       "      <th>film_date</th>\n",
       "      <th>languages</th>\n",
       "      <th>main_speaker</th>\n",
       "      <th>name</th>\n",
       "      <th>num_speaker</th>\n",
       "      <th>published_date</th>\n",
       "      <th>ratings</th>\n",
       "      <th>related_talks</th>\n",
       "      <th>speaker_occupation</th>\n",
       "      <th>tags</th>\n",
       "      <th>title</th>\n",
       "      <th>url</th>\n",
       "      <th>views</th>\n",
       "    </tr>\n",
       "  </thead>\n",
       "  <tbody>\n",
       "    <tr>\n",
       "      <th>0</th>\n",
       "      <td>4553</td>\n",
       "      <td>Sir Ken Robinson makes an entertaining and pro...</td>\n",
       "      <td>1164</td>\n",
       "      <td>TED2006</td>\n",
       "      <td>1140825600</td>\n",
       "      <td>60</td>\n",
       "      <td>Ken Robinson</td>\n",
       "      <td>Ken Robinson: Do schools kill creativity?</td>\n",
       "      <td>1</td>\n",
       "      <td>1151367060</td>\n",
       "      <td>[{'id': 7, 'name': 'Funny', 'count': 19645}, {...</td>\n",
       "      <td>[{'id': 865, 'hero': 'https://pe.tedcdn.com/im...</td>\n",
       "      <td>Author/educator</td>\n",
       "      <td>['children', 'creativity', 'culture', 'dance',...</td>\n",
       "      <td>Do schools kill creativity?</td>\n",
       "      <td>https://www.ted.com/talks/ken_robinson_says_sc...</td>\n",
       "      <td>47227110</td>\n",
       "    </tr>\n",
       "    <tr>\n",
       "      <th>1</th>\n",
       "      <td>265</td>\n",
       "      <td>With the same humor and humanity he exuded in ...</td>\n",
       "      <td>977</td>\n",
       "      <td>TED2006</td>\n",
       "      <td>1140825600</td>\n",
       "      <td>43</td>\n",
       "      <td>Al Gore</td>\n",
       "      <td>Al Gore: Averting the climate crisis</td>\n",
       "      <td>1</td>\n",
       "      <td>1151367060</td>\n",
       "      <td>[{'id': 7, 'name': 'Funny', 'count': 544}, {'i...</td>\n",
       "      <td>[{'id': 243, 'hero': 'https://pe.tedcdn.com/im...</td>\n",
       "      <td>Climate advocate</td>\n",
       "      <td>['alternative energy', 'cars', 'climate change...</td>\n",
       "      <td>Averting the climate crisis</td>\n",
       "      <td>https://www.ted.com/talks/al_gore_on_averting_...</td>\n",
       "      <td>3200520</td>\n",
       "    </tr>\n",
       "    <tr>\n",
       "      <th>2</th>\n",
       "      <td>124</td>\n",
       "      <td>New York Times columnist David Pogue takes aim...</td>\n",
       "      <td>1286</td>\n",
       "      <td>TED2006</td>\n",
       "      <td>1140739200</td>\n",
       "      <td>26</td>\n",
       "      <td>David Pogue</td>\n",
       "      <td>David Pogue: Simplicity sells</td>\n",
       "      <td>1</td>\n",
       "      <td>1151367060</td>\n",
       "      <td>[{'id': 7, 'name': 'Funny', 'count': 964}, {'i...</td>\n",
       "      <td>[{'id': 1725, 'hero': 'https://pe.tedcdn.com/i...</td>\n",
       "      <td>Technology columnist</td>\n",
       "      <td>['computers', 'entertainment', 'interface desi...</td>\n",
       "      <td>Simplicity sells</td>\n",
       "      <td>https://www.ted.com/talks/david_pogue_says_sim...</td>\n",
       "      <td>1636292</td>\n",
       "    </tr>\n",
       "    <tr>\n",
       "      <th>3</th>\n",
       "      <td>200</td>\n",
       "      <td>In an emotionally charged talk, MacArthur-winn...</td>\n",
       "      <td>1116</td>\n",
       "      <td>TED2006</td>\n",
       "      <td>1140912000</td>\n",
       "      <td>35</td>\n",
       "      <td>Majora Carter</td>\n",
       "      <td>Majora Carter: Greening the ghetto</td>\n",
       "      <td>1</td>\n",
       "      <td>1151367060</td>\n",
       "      <td>[{'id': 3, 'name': 'Courageous', 'count': 760}...</td>\n",
       "      <td>[{'id': 1041, 'hero': 'https://pe.tedcdn.com/i...</td>\n",
       "      <td>Activist for environmental justice</td>\n",
       "      <td>['MacArthur grant', 'activism', 'business', 'c...</td>\n",
       "      <td>Greening the ghetto</td>\n",
       "      <td>https://www.ted.com/talks/majora_carter_s_tale...</td>\n",
       "      <td>1697550</td>\n",
       "    </tr>\n",
       "    <tr>\n",
       "      <th>4</th>\n",
       "      <td>593</td>\n",
       "      <td>You've never seen data presented like this. Wi...</td>\n",
       "      <td>1190</td>\n",
       "      <td>TED2006</td>\n",
       "      <td>1140566400</td>\n",
       "      <td>48</td>\n",
       "      <td>Hans Rosling</td>\n",
       "      <td>Hans Rosling: The best stats you've ever seen</td>\n",
       "      <td>1</td>\n",
       "      <td>1151440680</td>\n",
       "      <td>[{'id': 9, 'name': 'Ingenious', 'count': 3202}...</td>\n",
       "      <td>[{'id': 2056, 'hero': 'https://pe.tedcdn.com/i...</td>\n",
       "      <td>Global health expert; data visionary</td>\n",
       "      <td>['Africa', 'Asia', 'Google', 'demo', 'economic...</td>\n",
       "      <td>The best stats you've ever seen</td>\n",
       "      <td>https://www.ted.com/talks/hans_rosling_shows_t...</td>\n",
       "      <td>12005869</td>\n",
       "    </tr>\n",
       "  </tbody>\n",
       "</table>\n",
       "</div>"
      ],
      "text/plain": [
       "   comments                                        description  duration  \\\n",
       "0      4553  Sir Ken Robinson makes an entertaining and pro...      1164   \n",
       "1       265  With the same humor and humanity he exuded in ...       977   \n",
       "2       124  New York Times columnist David Pogue takes aim...      1286   \n",
       "3       200  In an emotionally charged talk, MacArthur-winn...      1116   \n",
       "4       593  You've never seen data presented like this. Wi...      1190   \n",
       "\n",
       "     event   film_date  languages   main_speaker  \\\n",
       "0  TED2006  1140825600         60   Ken Robinson   \n",
       "1  TED2006  1140825600         43        Al Gore   \n",
       "2  TED2006  1140739200         26    David Pogue   \n",
       "3  TED2006  1140912000         35  Majora Carter   \n",
       "4  TED2006  1140566400         48   Hans Rosling   \n",
       "\n",
       "                                            name  num_speaker  published_date  \\\n",
       "0      Ken Robinson: Do schools kill creativity?            1      1151367060   \n",
       "1           Al Gore: Averting the climate crisis            1      1151367060   \n",
       "2                  David Pogue: Simplicity sells            1      1151367060   \n",
       "3             Majora Carter: Greening the ghetto            1      1151367060   \n",
       "4  Hans Rosling: The best stats you've ever seen            1      1151440680   \n",
       "\n",
       "                                             ratings  \\\n",
       "0  [{'id': 7, 'name': 'Funny', 'count': 19645}, {...   \n",
       "1  [{'id': 7, 'name': 'Funny', 'count': 544}, {'i...   \n",
       "2  [{'id': 7, 'name': 'Funny', 'count': 964}, {'i...   \n",
       "3  [{'id': 3, 'name': 'Courageous', 'count': 760}...   \n",
       "4  [{'id': 9, 'name': 'Ingenious', 'count': 3202}...   \n",
       "\n",
       "                                       related_talks  \\\n",
       "0  [{'id': 865, 'hero': 'https://pe.tedcdn.com/im...   \n",
       "1  [{'id': 243, 'hero': 'https://pe.tedcdn.com/im...   \n",
       "2  [{'id': 1725, 'hero': 'https://pe.tedcdn.com/i...   \n",
       "3  [{'id': 1041, 'hero': 'https://pe.tedcdn.com/i...   \n",
       "4  [{'id': 2056, 'hero': 'https://pe.tedcdn.com/i...   \n",
       "\n",
       "                     speaker_occupation  \\\n",
       "0                       Author/educator   \n",
       "1                      Climate advocate   \n",
       "2                  Technology columnist   \n",
       "3    Activist for environmental justice   \n",
       "4  Global health expert; data visionary   \n",
       "\n",
       "                                                tags  \\\n",
       "0  ['children', 'creativity', 'culture', 'dance',...   \n",
       "1  ['alternative energy', 'cars', 'climate change...   \n",
       "2  ['computers', 'entertainment', 'interface desi...   \n",
       "3  ['MacArthur grant', 'activism', 'business', 'c...   \n",
       "4  ['Africa', 'Asia', 'Google', 'demo', 'economic...   \n",
       "\n",
       "                             title  \\\n",
       "0      Do schools kill creativity?   \n",
       "1      Averting the climate crisis   \n",
       "2                 Simplicity sells   \n",
       "3              Greening the ghetto   \n",
       "4  The best stats you've ever seen   \n",
       "\n",
       "                                                 url     views  \n",
       "0  https://www.ted.com/talks/ken_robinson_says_sc...  47227110  \n",
       "1  https://www.ted.com/talks/al_gore_on_averting_...   3200520  \n",
       "2  https://www.ted.com/talks/david_pogue_says_sim...   1636292  \n",
       "3  https://www.ted.com/talks/majora_carter_s_tale...   1697550  \n",
       "4  https://www.ted.com/talks/hans_rosling_shows_t...  12005869  "
      ]
     },
     "execution_count": 3,
     "metadata": {},
     "output_type": "execute_result"
    }
   ],
   "source": [
    "#review dataset\n",
    "df.head()"
   ]
  },
  {
   "cell_type": "code",
   "execution_count": 4,
   "metadata": {},
   "outputs": [
    {
     "data": {
      "text/plain": [
       "(2550, 17)"
      ]
     },
     "execution_count": 4,
     "metadata": {},
     "output_type": "execute_result"
    }
   ],
   "source": [
    "#review shape of dataset\n",
    "df.shape"
   ]
  },
  {
   "cell_type": "code",
   "execution_count": 5,
   "metadata": {},
   "outputs": [
    {
     "data": {
      "text/plain": [
       "Index(['comments', 'description', 'duration', 'event', 'film_date',\n",
       "       'languages', 'main_speaker', 'name', 'num_speaker', 'published_date',\n",
       "       'ratings', 'related_talks', 'speaker_occupation', 'tags', 'title',\n",
       "       'url', 'views'],\n",
       "      dtype='object')"
      ]
     },
     "execution_count": 5,
     "metadata": {},
     "output_type": "execute_result"
    }
   ],
   "source": [
    "#review columns to consider features and prediction questions\n",
    "df.columns"
   ]
  },
  {
   "cell_type": "code",
   "execution_count": 6,
   "metadata": {},
   "outputs": [
    {
     "data": {
      "text/plain": [
       "comments              0\n",
       "description           0\n",
       "duration              0\n",
       "event                 0\n",
       "film_date             0\n",
       "languages             0\n",
       "main_speaker          0\n",
       "name                  0\n",
       "num_speaker           0\n",
       "published_date        0\n",
       "ratings               0\n",
       "related_talks         0\n",
       "speaker_occupation    6\n",
       "tags                  0\n",
       "title                 0\n",
       "url                   0\n",
       "views                 0\n",
       "dtype: int64"
      ]
     },
     "execution_count": 6,
     "metadata": {},
     "output_type": "execute_result"
    }
   ],
   "source": [
    "#count the number of missing values\n",
    "df.isnull().sum()\n",
    "#there are only 6 missing columns, that is great!"
   ]
  },
  {
   "cell_type": "markdown",
   "metadata": {},
   "source": [
    "### Tags\n"
   ]
  },
  {
   "cell_type": "markdown",
   "metadata": {},
   "source": [
    "tags: The themes associated with the talk. #count vectorizer "
   ]
  },
  {
   "cell_type": "code",
   "execution_count": 7,
   "metadata": {},
   "outputs": [
    {
     "data": {
      "text/plain": [
       "0    ['children', 'creativity', 'culture', 'dance',...\n",
       "1    ['alternative energy', 'cars', 'climate change...\n",
       "2    ['computers', 'entertainment', 'interface desi...\n",
       "3    ['MacArthur grant', 'activism', 'business', 'c...\n",
       "4    ['Africa', 'Asia', 'Google', 'demo', 'economic...\n",
       "5    ['business', 'culture', 'entertainment', 'goal...\n",
       "6    ['Christianity', 'God', 'atheism', 'comedy', '...\n",
       "7    ['architecture', 'collaboration', 'culture', '...\n",
       "8    ['God', 'TED Brain Trust', 'atheism', 'brain',...\n",
       "9    ['Christianity', 'God', 'culture', 'happiness'...\n",
       "Name: tags, dtype: object"
      ]
     },
     "execution_count": 7,
     "metadata": {},
     "output_type": "execute_result"
    }
   ],
   "source": [
    "df.tags.head(10)"
   ]
  },
  {
   "cell_type": "code",
   "execution_count": 8,
   "metadata": {
    "collapsed": true
   },
   "outputs": [],
   "source": [
    "#turn tags into dummy variables\n",
    "#narrow down to top 100 tags\n",
    "tags = df.tags\n",
    "\n",
    "countv = CountVectorizer(max_features=100)\n",
    "\n",
    "tag_dtm = countv.fit_transform(tags)"
   ]
  },
  {
   "cell_type": "code",
   "execution_count": 9,
   "metadata": {},
   "outputs": [
    {
     "data": {
      "text/html": [
       "<div>\n",
       "<style>\n",
       "    .dataframe thead tr:only-child th {\n",
       "        text-align: right;\n",
       "    }\n",
       "\n",
       "    .dataframe thead th {\n",
       "        text-align: left;\n",
       "    }\n",
       "\n",
       "    .dataframe tbody tr th {\n",
       "        vertical-align: top;\n",
       "    }\n",
       "</style>\n",
       "<table border=\"1\" class=\"dataframe\">\n",
       "  <thead>\n",
       "    <tr style=\"text-align: right;\">\n",
       "      <th></th>\n",
       "      <th>activism</th>\n",
       "      <th>africa</th>\n",
       "      <th>animals</th>\n",
       "      <th>architecture</th>\n",
       "      <th>art</th>\n",
       "      <th>beauty</th>\n",
       "      <th>big</th>\n",
       "      <th>biodiversity</th>\n",
       "      <th>biology</th>\n",
       "      <th>biotech</th>\n",
       "      <th>...</th>\n",
       "      <th>technology</th>\n",
       "      <th>ted</th>\n",
       "      <th>tedx</th>\n",
       "      <th>trust</th>\n",
       "      <th>violence</th>\n",
       "      <th>visualizations</th>\n",
       "      <th>war</th>\n",
       "      <th>women</th>\n",
       "      <th>work</th>\n",
       "      <th>writing</th>\n",
       "    </tr>\n",
       "  </thead>\n",
       "  <tbody>\n",
       "    <tr>\n",
       "      <th>0</th>\n",
       "      <td>0</td>\n",
       "      <td>0</td>\n",
       "      <td>0</td>\n",
       "      <td>0</td>\n",
       "      <td>0</td>\n",
       "      <td>0</td>\n",
       "      <td>0</td>\n",
       "      <td>0</td>\n",
       "      <td>0</td>\n",
       "      <td>0</td>\n",
       "      <td>...</td>\n",
       "      <td>0</td>\n",
       "      <td>0</td>\n",
       "      <td>0</td>\n",
       "      <td>0</td>\n",
       "      <td>0</td>\n",
       "      <td>0</td>\n",
       "      <td>0</td>\n",
       "      <td>0</td>\n",
       "      <td>0</td>\n",
       "      <td>0</td>\n",
       "    </tr>\n",
       "    <tr>\n",
       "      <th>1</th>\n",
       "      <td>0</td>\n",
       "      <td>0</td>\n",
       "      <td>0</td>\n",
       "      <td>0</td>\n",
       "      <td>0</td>\n",
       "      <td>0</td>\n",
       "      <td>0</td>\n",
       "      <td>0</td>\n",
       "      <td>0</td>\n",
       "      <td>0</td>\n",
       "      <td>...</td>\n",
       "      <td>1</td>\n",
       "      <td>0</td>\n",
       "      <td>0</td>\n",
       "      <td>0</td>\n",
       "      <td>0</td>\n",
       "      <td>0</td>\n",
       "      <td>0</td>\n",
       "      <td>0</td>\n",
       "      <td>0</td>\n",
       "      <td>0</td>\n",
       "    </tr>\n",
       "    <tr>\n",
       "      <th>2</th>\n",
       "      <td>0</td>\n",
       "      <td>0</td>\n",
       "      <td>0</td>\n",
       "      <td>0</td>\n",
       "      <td>0</td>\n",
       "      <td>0</td>\n",
       "      <td>0</td>\n",
       "      <td>0</td>\n",
       "      <td>0</td>\n",
       "      <td>0</td>\n",
       "      <td>...</td>\n",
       "      <td>1</td>\n",
       "      <td>0</td>\n",
       "      <td>0</td>\n",
       "      <td>0</td>\n",
       "      <td>0</td>\n",
       "      <td>0</td>\n",
       "      <td>0</td>\n",
       "      <td>0</td>\n",
       "      <td>0</td>\n",
       "      <td>0</td>\n",
       "    </tr>\n",
       "    <tr>\n",
       "      <th>3</th>\n",
       "      <td>1</td>\n",
       "      <td>0</td>\n",
       "      <td>0</td>\n",
       "      <td>0</td>\n",
       "      <td>0</td>\n",
       "      <td>0</td>\n",
       "      <td>0</td>\n",
       "      <td>0</td>\n",
       "      <td>0</td>\n",
       "      <td>0</td>\n",
       "      <td>...</td>\n",
       "      <td>0</td>\n",
       "      <td>0</td>\n",
       "      <td>0</td>\n",
       "      <td>0</td>\n",
       "      <td>0</td>\n",
       "      <td>0</td>\n",
       "      <td>0</td>\n",
       "      <td>0</td>\n",
       "      <td>0</td>\n",
       "      <td>0</td>\n",
       "    </tr>\n",
       "    <tr>\n",
       "      <th>4</th>\n",
       "      <td>0</td>\n",
       "      <td>1</td>\n",
       "      <td>0</td>\n",
       "      <td>0</td>\n",
       "      <td>0</td>\n",
       "      <td>0</td>\n",
       "      <td>0</td>\n",
       "      <td>0</td>\n",
       "      <td>0</td>\n",
       "      <td>0</td>\n",
       "      <td>...</td>\n",
       "      <td>0</td>\n",
       "      <td>0</td>\n",
       "      <td>0</td>\n",
       "      <td>0</td>\n",
       "      <td>0</td>\n",
       "      <td>1</td>\n",
       "      <td>0</td>\n",
       "      <td>0</td>\n",
       "      <td>0</td>\n",
       "      <td>0</td>\n",
       "    </tr>\n",
       "  </tbody>\n",
       "</table>\n",
       "<p>5 rows × 100 columns</p>\n",
       "</div>"
      ],
      "text/plain": [
       "   activism  africa  animals  architecture  art  beauty  big  biodiversity  \\\n",
       "0         0       0        0             0    0       0    0             0   \n",
       "1         0       0        0             0    0       0    0             0   \n",
       "2         0       0        0             0    0       0    0             0   \n",
       "3         1       0        0             0    0       0    0             0   \n",
       "4         0       1        0             0    0       0    0             0   \n",
       "\n",
       "   biology  biotech   ...     technology  ted  tedx  trust  violence  \\\n",
       "0        0        0   ...              0    0     0      0         0   \n",
       "1        0        0   ...              1    0     0      0         0   \n",
       "2        0        0   ...              1    0     0      0         0   \n",
       "3        0        0   ...              0    0     0      0         0   \n",
       "4        0        0   ...              0    0     0      0         0   \n",
       "\n",
       "   visualizations  war  women  work  writing  \n",
       "0               0    0      0     0        0  \n",
       "1               0    0      0     0        0  \n",
       "2               0    0      0     0        0  \n",
       "3               0    0      0     0        0  \n",
       "4               1    0      0     0        0  \n",
       "\n",
       "[5 rows x 100 columns]"
      ]
     },
     "execution_count": 9,
     "metadata": {},
     "output_type": "execute_result"
    }
   ],
   "source": [
    "tag_df = pd.DataFrame(tag_dtm.toarray(), columns=countv.get_feature_names())\n",
    "tag_df.head()"
   ]
  },
  {
   "cell_type": "code",
   "execution_count": 10,
   "metadata": {},
   "outputs": [
    {
     "data": {
      "text/plain": [
       "(2550, 100)"
      ]
     },
     "execution_count": 10,
     "metadata": {},
     "output_type": "execute_result"
    }
   ],
   "source": [
    "tag_df.shape"
   ]
  },
  {
   "cell_type": "markdown",
   "metadata": {},
   "source": [
    "### Rating Column"
   ]
  },
  {
   "cell_type": "markdown",
   "metadata": {},
   "source": [
    "Adding a rating column to better visualize data and do comparisons"
   ]
  },
  {
   "cell_type": "code",
   "execution_count": 11,
   "metadata": {
    "scrolled": true
   },
   "outputs": [
    {
     "data": {
      "text/html": [
       "<div>\n",
       "<style>\n",
       "    .dataframe thead tr:only-child th {\n",
       "        text-align: right;\n",
       "    }\n",
       "\n",
       "    .dataframe thead th {\n",
       "        text-align: left;\n",
       "    }\n",
       "\n",
       "    .dataframe tbody tr th {\n",
       "        vertical-align: top;\n",
       "    }\n",
       "</style>\n",
       "<table border=\"1\" class=\"dataframe\">\n",
       "  <thead>\n",
       "    <tr style=\"text-align: right;\">\n",
       "      <th></th>\n",
       "      <th>title</th>\n",
       "      <th>views</th>\n",
       "      <th>duration</th>\n",
       "      <th>comments</th>\n",
       "      <th>num_speaker</th>\n",
       "      <th>film_date</th>\n",
       "      <th>tags</th>\n",
       "    </tr>\n",
       "  </thead>\n",
       "  <tbody>\n",
       "    <tr>\n",
       "      <th>0</th>\n",
       "      <td>Do schools kill creativity?</td>\n",
       "      <td>47227110</td>\n",
       "      <td>1164</td>\n",
       "      <td>4553</td>\n",
       "      <td>1</td>\n",
       "      <td>1140825600</td>\n",
       "      <td>['children', 'creativity', 'culture', 'dance',...</td>\n",
       "    </tr>\n",
       "    <tr>\n",
       "      <th>1346</th>\n",
       "      <td>Your body language may shape who you are</td>\n",
       "      <td>43155405</td>\n",
       "      <td>1262</td>\n",
       "      <td>2290</td>\n",
       "      <td>1</td>\n",
       "      <td>1340668800</td>\n",
       "      <td>['body language', 'brain', 'business', 'psycho...</td>\n",
       "    </tr>\n",
       "    <tr>\n",
       "      <th>677</th>\n",
       "      <td>How great leaders inspire action</td>\n",
       "      <td>34309432</td>\n",
       "      <td>1084</td>\n",
       "      <td>1930</td>\n",
       "      <td>1</td>\n",
       "      <td>1253145600</td>\n",
       "      <td>['TEDx', 'business', 'entrepreneur', 'leadersh...</td>\n",
       "    </tr>\n",
       "    <tr>\n",
       "      <th>837</th>\n",
       "      <td>The power of vulnerability</td>\n",
       "      <td>31168150</td>\n",
       "      <td>1219</td>\n",
       "      <td>1927</td>\n",
       "      <td>1</td>\n",
       "      <td>1275782400</td>\n",
       "      <td>['TEDx', 'communication', 'culture', 'depressi...</td>\n",
       "    </tr>\n",
       "    <tr>\n",
       "      <th>452</th>\n",
       "      <td>10 things you didn't know about orgasm</td>\n",
       "      <td>22270883</td>\n",
       "      <td>1003</td>\n",
       "      <td>354</td>\n",
       "      <td>1</td>\n",
       "      <td>1233878400</td>\n",
       "      <td>['books', 'culture', 'history', 'humor', 'scie...</td>\n",
       "    </tr>\n",
       "    <tr>\n",
       "      <th>1776</th>\n",
       "      <td>How to speak so that people want to listen</td>\n",
       "      <td>21594632</td>\n",
       "      <td>598</td>\n",
       "      <td>297</td>\n",
       "      <td>1</td>\n",
       "      <td>1370822400</td>\n",
       "      <td>['culture', 'sound', 'speech']</td>\n",
       "    </tr>\n",
       "    <tr>\n",
       "      <th>201</th>\n",
       "      <td>My stroke of insight</td>\n",
       "      <td>21190883</td>\n",
       "      <td>1099</td>\n",
       "      <td>2877</td>\n",
       "      <td>1</td>\n",
       "      <td>1204070400</td>\n",
       "      <td>['biology', 'brain', 'consciousness', 'global ...</td>\n",
       "    </tr>\n",
       "    <tr>\n",
       "      <th>5</th>\n",
       "      <td>Why we do what we do</td>\n",
       "      <td>20685401</td>\n",
       "      <td>1305</td>\n",
       "      <td>672</td>\n",
       "      <td>1</td>\n",
       "      <td>1138838400</td>\n",
       "      <td>['business', 'culture', 'entertainment', 'goal...</td>\n",
       "    </tr>\n",
       "    <tr>\n",
       "      <th>2114</th>\n",
       "      <td>This is what happens when you reply to spam email</td>\n",
       "      <td>20475972</td>\n",
       "      <td>588</td>\n",
       "      <td>150</td>\n",
       "      <td>1</td>\n",
       "      <td>1449532800</td>\n",
       "      <td>['comedy', 'communication', 'curiosity', 'humo...</td>\n",
       "    </tr>\n",
       "    <tr>\n",
       "      <th>1416</th>\n",
       "      <td>Looks aren't everything. Believe me, I'm a model.</td>\n",
       "      <td>19787465</td>\n",
       "      <td>577</td>\n",
       "      <td>846</td>\n",
       "      <td>1</td>\n",
       "      <td>1351296000</td>\n",
       "      <td>['TEDx', 'beauty', 'culture', 'fashion', 'phot...</td>\n",
       "    </tr>\n",
       "    <tr>\n",
       "      <th>500</th>\n",
       "      <td>The puzzle of motivation</td>\n",
       "      <td>18830983</td>\n",
       "      <td>1116</td>\n",
       "      <td>1094</td>\n",
       "      <td>1</td>\n",
       "      <td>1248393600</td>\n",
       "      <td>['brain', 'business', 'creativity', 'motivatio...</td>\n",
       "    </tr>\n",
       "    <tr>\n",
       "      <th>1163</th>\n",
       "      <td>The power of introverts</td>\n",
       "      <td>17629275</td>\n",
       "      <td>1144</td>\n",
       "      <td>1155</td>\n",
       "      <td>1</td>\n",
       "      <td>1330387200</td>\n",
       "      <td>['business', 'culture', 'introvert', 'psycholo...</td>\n",
       "    </tr>\n",
       "    <tr>\n",
       "      <th>1036</th>\n",
       "      <td>How to spot a liar</td>\n",
       "      <td>16861578</td>\n",
       "      <td>1130</td>\n",
       "      <td>561</td>\n",
       "      <td>1</td>\n",
       "      <td>1310515200</td>\n",
       "      <td>['culture', 'psychology', 'science', 'society']</td>\n",
       "    </tr>\n",
       "    <tr>\n",
       "      <th>2109</th>\n",
       "      <td>What makes a good life? Lessons from the longe...</td>\n",
       "      <td>16601927</td>\n",
       "      <td>766</td>\n",
       "      <td>527</td>\n",
       "      <td>1</td>\n",
       "      <td>1447459200</td>\n",
       "      <td>['TEDx', 'aging', 'data', 'friendship', 'happi...</td>\n",
       "    </tr>\n",
       "    <tr>\n",
       "      <th>1129</th>\n",
       "      <td>The happy secret to better work</td>\n",
       "      <td>16209727</td>\n",
       "      <td>740</td>\n",
       "      <td>754</td>\n",
       "      <td>1</td>\n",
       "      <td>1305072000</td>\n",
       "      <td>['TEDx', 'brain', 'business', 'cognitive scien...</td>\n",
       "    </tr>\n",
       "    <tr>\n",
       "      <th>553</th>\n",
       "      <td>The thrilling potential of SixthSense technology</td>\n",
       "      <td>16097077</td>\n",
       "      <td>830</td>\n",
       "      <td>1329</td>\n",
       "      <td>1</td>\n",
       "      <td>1257379200</td>\n",
       "      <td>['demo', 'design', 'open-source', 'technology']</td>\n",
       "    </tr>\n",
       "    <tr>\n",
       "      <th>596</th>\n",
       "      <td>How I held my breath for 17 minutes</td>\n",
       "      <td>15601385</td>\n",
       "      <td>1219</td>\n",
       "      <td>296</td>\n",
       "      <td>1</td>\n",
       "      <td>1256601600</td>\n",
       "      <td>['biology', 'magic', 'medicine', 'performance']</td>\n",
       "    </tr>\n",
       "    <tr>\n",
       "      <th>1579</th>\n",
       "      <td>The art of misdirection</td>\n",
       "      <td>15283242</td>\n",
       "      <td>527</td>\n",
       "      <td>285</td>\n",
       "      <td>1</td>\n",
       "      <td>1370995200</td>\n",
       "      <td>['crime', 'entertainment']</td>\n",
       "    </tr>\n",
       "    <tr>\n",
       "      <th>2161</th>\n",
       "      <td>Inside the mind of a master procrastinator</td>\n",
       "      <td>14745406</td>\n",
       "      <td>843</td>\n",
       "      <td>310</td>\n",
       "      <td>1</td>\n",
       "      <td>1455580800</td>\n",
       "      <td>['Internet', 'brain', 'choice', 'comedy', 'dec...</td>\n",
       "    </tr>\n",
       "    <tr>\n",
       "      <th>29</th>\n",
       "      <td>The surprising science of happiness</td>\n",
       "      <td>14689301</td>\n",
       "      <td>1276</td>\n",
       "      <td>970</td>\n",
       "      <td>1</td>\n",
       "      <td>1075680000</td>\n",
       "      <td>['TED Brain Trust', 'brain', 'choice', 'cultur...</td>\n",
       "    </tr>\n",
       "    <tr>\n",
       "      <th>1572</th>\n",
       "      <td>How to make stress your friend</td>\n",
       "      <td>14566463</td>\n",
       "      <td>868</td>\n",
       "      <td>693</td>\n",
       "      <td>1</td>\n",
       "      <td>1370908800</td>\n",
       "      <td>['body language', 'health', 'psychology']</td>\n",
       "    </tr>\n",
       "    <tr>\n",
       "      <th>176</th>\n",
       "      <td>Underwater astonishments</td>\n",
       "      <td>13926113</td>\n",
       "      <td>327</td>\n",
       "      <td>554</td>\n",
       "      <td>1</td>\n",
       "      <td>1172880000</td>\n",
       "      <td>['animals', 'evolution', 'exploration', 'fish'...</td>\n",
       "    </tr>\n",
       "    <tr>\n",
       "      <th>262</th>\n",
       "      <td>Brain magic</td>\n",
       "      <td>13327101</td>\n",
       "      <td>1189</td>\n",
       "      <td>669</td>\n",
       "      <td>1</td>\n",
       "      <td>1075680000</td>\n",
       "      <td>['brain', 'entertainment', 'illusion', 'magic']</td>\n",
       "    </tr>\n",
       "    <tr>\n",
       "      <th>530</th>\n",
       "      <td>The danger of a single story</td>\n",
       "      <td>13298341</td>\n",
       "      <td>1129</td>\n",
       "      <td>1155</td>\n",
       "      <td>1</td>\n",
       "      <td>1248307200</td>\n",
       "      <td>['Africa', 'books', 'culture', 'identity', 'st...</td>\n",
       "    </tr>\n",
       "    <tr>\n",
       "      <th>381</th>\n",
       "      <td>Your elusive creative genius</td>\n",
       "      <td>13155478</td>\n",
       "      <td>1149</td>\n",
       "      <td>1604</td>\n",
       "      <td>1</td>\n",
       "      <td>1233792000</td>\n",
       "      <td>['creativity', 'culture', 'entertainment', 'pe...</td>\n",
       "    </tr>\n",
       "    <tr>\n",
       "      <th>1501</th>\n",
       "      <td>Grit: The power of passion and perseverance</td>\n",
       "      <td>12039978</td>\n",
       "      <td>372</td>\n",
       "      <td>659</td>\n",
       "      <td>1</td>\n",
       "      <td>1365033600</td>\n",
       "      <td>['business', 'education', 'psychology', 'succe...</td>\n",
       "    </tr>\n",
       "    <tr>\n",
       "      <th>4</th>\n",
       "      <td>The best stats you've ever seen</td>\n",
       "      <td>12005869</td>\n",
       "      <td>1190</td>\n",
       "      <td>593</td>\n",
       "      <td>1</td>\n",
       "      <td>1140566400</td>\n",
       "      <td>['Africa', 'Asia', 'Google', 'demo', 'economic...</td>\n",
       "    </tr>\n",
       "    <tr>\n",
       "      <th>1940</th>\n",
       "      <td>The price of shame</td>\n",
       "      <td>11443190</td>\n",
       "      <td>1346</td>\n",
       "      <td>1355</td>\n",
       "      <td>1</td>\n",
       "      <td>1426723200</td>\n",
       "      <td>['communication', 'media', 'social media', 'su...</td>\n",
       "    </tr>\n",
       "    <tr>\n",
       "      <th>47</th>\n",
       "      <td>8 secrets of success</td>\n",
       "      <td>10841210</td>\n",
       "      <td>210</td>\n",
       "      <td>578</td>\n",
       "      <td>1</td>\n",
       "      <td>1109116800</td>\n",
       "      <td>['business', 'culture', 'entertainment', 'happ...</td>\n",
       "    </tr>\n",
       "    <tr>\n",
       "      <th>892</th>\n",
       "      <td>If I should have a daughter ...</td>\n",
       "      <td>10529854</td>\n",
       "      <td>1105</td>\n",
       "      <td>645</td>\n",
       "      <td>1</td>\n",
       "      <td>1299110400</td>\n",
       "      <td>['entertainment', 'performance', 'poetry', 'st...</td>\n",
       "    </tr>\n",
       "    <tr>\n",
       "      <th>...</th>\n",
       "      <td>...</td>\n",
       "      <td>...</td>\n",
       "      <td>...</td>\n",
       "      <td>...</td>\n",
       "      <td>...</td>\n",
       "      <td>...</td>\n",
       "      <td>...</td>\n",
       "    </tr>\n",
       "    <tr>\n",
       "      <th>1486</th>\n",
       "      <td>How much does a video weigh?</td>\n",
       "      <td>195899</td>\n",
       "      <td>441</td>\n",
       "      <td>126</td>\n",
       "      <td>1</td>\n",
       "      <td>1362009600</td>\n",
       "      <td>['Internet', 'TED-Ed', 'computers', 'humor', '...</td>\n",
       "    </tr>\n",
       "    <tr>\n",
       "      <th>1093</th>\n",
       "      <td>My subversive (garden) plot</td>\n",
       "      <td>191555</td>\n",
       "      <td>1129</td>\n",
       "      <td>130</td>\n",
       "      <td>1</td>\n",
       "      <td>1315612800</td>\n",
       "      <td>['TEDx', 'culture', 'food', 'garden', 'global ...</td>\n",
       "    </tr>\n",
       "    <tr>\n",
       "      <th>1198</th>\n",
       "      <td>\"Put the financial aid in the bag\"</td>\n",
       "      <td>186308</td>\n",
       "      <td>305</td>\n",
       "      <td>175</td>\n",
       "      <td>1</td>\n",
       "      <td>1320969600</td>\n",
       "      <td>['TED-Ed', 'TEDYouth', 'culture', 'entertainme...</td>\n",
       "    </tr>\n",
       "    <tr>\n",
       "      <th>292</th>\n",
       "      <td>The camel's hump</td>\n",
       "      <td>185275</td>\n",
       "      <td>966</td>\n",
       "      <td>12</td>\n",
       "      <td>1</td>\n",
       "      <td>1012608000</td>\n",
       "      <td>['animals', 'energy', 'entertainment', 'global...</td>\n",
       "    </tr>\n",
       "    <tr>\n",
       "      <th>2507</th>\n",
       "      <td>A dance to honor Mother Earth</td>\n",
       "      <td>182975</td>\n",
       "      <td>575</td>\n",
       "      <td>6</td>\n",
       "      <td>5</td>\n",
       "      <td>1492992000</td>\n",
       "      <td>['art', 'creativity', 'dance', 'performance', ...</td>\n",
       "    </tr>\n",
       "    <tr>\n",
       "      <th>1192</th>\n",
       "      <td>I am a pirate</td>\n",
       "      <td>181010</td>\n",
       "      <td>1097</td>\n",
       "      <td>122</td>\n",
       "      <td>1</td>\n",
       "      <td>1331424000</td>\n",
       "      <td>['Internet', 'TEDx', 'global issues', 'politic...</td>\n",
       "    </tr>\n",
       "    <tr>\n",
       "      <th>649</th>\n",
       "      <td>Why I do theater</td>\n",
       "      <td>176995</td>\n",
       "      <td>407</td>\n",
       "      <td>74</td>\n",
       "      <td>1</td>\n",
       "      <td>1223510400</td>\n",
       "      <td>['humanity', 'psychology', 'theater']</td>\n",
       "    </tr>\n",
       "    <tr>\n",
       "      <th>323</th>\n",
       "      <td>The balancing act of compassion</td>\n",
       "      <td>176245</td>\n",
       "      <td>946</td>\n",
       "      <td>76</td>\n",
       "      <td>1</td>\n",
       "      <td>1254355200</td>\n",
       "      <td>['charter for compassion', 'compassion', 'glob...</td>\n",
       "    </tr>\n",
       "    <tr>\n",
       "      <th>1149</th>\n",
       "      <td>Look up for a change</td>\n",
       "      <td>175395</td>\n",
       "      <td>669</td>\n",
       "      <td>80</td>\n",
       "      <td>1</td>\n",
       "      <td>1320969600</td>\n",
       "      <td>['NASA', 'Planets', 'TED Fellows', 'TEDx', 'ac...</td>\n",
       "    </tr>\n",
       "    <tr>\n",
       "      <th>1250</th>\n",
       "      <td>A new way to stop identity theft</td>\n",
       "      <td>174326</td>\n",
       "      <td>1023</td>\n",
       "      <td>208</td>\n",
       "      <td>1</td>\n",
       "      <td>1335484800</td>\n",
       "      <td>['TEDx', 'security', 'self', 'technology']</td>\n",
       "    </tr>\n",
       "    <tr>\n",
       "      <th>1223</th>\n",
       "      <td>From stigma to supermodel</td>\n",
       "      <td>166959</td>\n",
       "      <td>1084</td>\n",
       "      <td>59</td>\n",
       "      <td>1</td>\n",
       "      <td>1320969600</td>\n",
       "      <td>['TEDx', 'beauty', 'fashion', 'global issues',...</td>\n",
       "    </tr>\n",
       "    <tr>\n",
       "      <th>1237</th>\n",
       "      <td>The sea we've hardly seen</td>\n",
       "      <td>166835</td>\n",
       "      <td>697</td>\n",
       "      <td>67</td>\n",
       "      <td>1</td>\n",
       "      <td>1334707200</td>\n",
       "      <td>['TEDx', 'bacteria', 'biodiversity', 'biology'...</td>\n",
       "    </tr>\n",
       "    <tr>\n",
       "      <th>1105</th>\n",
       "      <td>Can astronomers help doctors?</td>\n",
       "      <td>161462</td>\n",
       "      <td>581</td>\n",
       "      <td>41</td>\n",
       "      <td>1</td>\n",
       "      <td>1309219200</td>\n",
       "      <td>['TEDx', 'astronomy', 'collaboration', 'medica...</td>\n",
       "    </tr>\n",
       "    <tr>\n",
       "      <th>1119</th>\n",
       "      <td>Plant fuels that could power a jet</td>\n",
       "      <td>155895</td>\n",
       "      <td>869</td>\n",
       "      <td>76</td>\n",
       "      <td>1</td>\n",
       "      <td>1313539200</td>\n",
       "      <td>['Natural resources', 'TEDx', 'alternative ene...</td>\n",
       "    </tr>\n",
       "    <tr>\n",
       "      <th>581</th>\n",
       "      <td>Engineering a better life for all</td>\n",
       "      <td>154698</td>\n",
       "      <td>889</td>\n",
       "      <td>105</td>\n",
       "      <td>1</td>\n",
       "      <td>1254873600</td>\n",
       "      <td>['business', 'creativity', 'engineering', 'glo...</td>\n",
       "    </tr>\n",
       "    <tr>\n",
       "      <th>590</th>\n",
       "      <td>What Bernie Madoff couldn't steal from me</td>\n",
       "      <td>149818</td>\n",
       "      <td>510</td>\n",
       "      <td>87</td>\n",
       "      <td>1</td>\n",
       "      <td>1237024800</td>\n",
       "      <td>['business', 'life', 'money', 'presentation']</td>\n",
       "    </tr>\n",
       "    <tr>\n",
       "      <th>1053</th>\n",
       "      <td>How mobile phones helped solve two murders</td>\n",
       "      <td>148971</td>\n",
       "      <td>1013</td>\n",
       "      <td>46</td>\n",
       "      <td>1</td>\n",
       "      <td>1301702400</td>\n",
       "      <td>['TEDx', 'cities', 'collaboration', 'culture',...</td>\n",
       "    </tr>\n",
       "    <tr>\n",
       "      <th>1301</th>\n",
       "      <td>When a reporter becomes the story</td>\n",
       "      <td>144044</td>\n",
       "      <td>711</td>\n",
       "      <td>43</td>\n",
       "      <td>1</td>\n",
       "      <td>1331337600</td>\n",
       "      <td>['TEDx', 'culture', 'disability', 'journalism'...</td>\n",
       "    </tr>\n",
       "    <tr>\n",
       "      <th>1179</th>\n",
       "      <td>Victims of the city</td>\n",
       "      <td>142164</td>\n",
       "      <td>1191</td>\n",
       "      <td>99</td>\n",
       "      <td>1</td>\n",
       "      <td>1320969600</td>\n",
       "      <td>['TEDx', 'architecture', 'cities', 'design', '...</td>\n",
       "    </tr>\n",
       "    <tr>\n",
       "      <th>1061</th>\n",
       "      <td>Open science now!</td>\n",
       "      <td>138812</td>\n",
       "      <td>982</td>\n",
       "      <td>118</td>\n",
       "      <td>1</td>\n",
       "      <td>1299110400</td>\n",
       "      <td>['Internet', 'TEDx', 'collaboration', 'crowdso...</td>\n",
       "    </tr>\n",
       "    <tr>\n",
       "      <th>1178</th>\n",
       "      <td>Beautiful artificial limbs</td>\n",
       "      <td>132199</td>\n",
       "      <td>663</td>\n",
       "      <td>84</td>\n",
       "      <td>1</td>\n",
       "      <td>1321660800</td>\n",
       "      <td>['TEDx', 'beauty', 'design', 'industrial desig...</td>\n",
       "    </tr>\n",
       "    <tr>\n",
       "      <th>1104</th>\n",
       "      <td>Change our culture, change our world</td>\n",
       "      <td>125050</td>\n",
       "      <td>632</td>\n",
       "      <td>70</td>\n",
       "      <td>1</td>\n",
       "      <td>1286928000</td>\n",
       "      <td>['TEDx', 'culture', 'politics']</td>\n",
       "    </tr>\n",
       "    <tr>\n",
       "      <th>1079</th>\n",
       "      <td>Don't misrepresent Africa</td>\n",
       "      <td>121186</td>\n",
       "      <td>686</td>\n",
       "      <td>84</td>\n",
       "      <td>1</td>\n",
       "      <td>1316822400</td>\n",
       "      <td>['Africa', 'TEDx', 'journalism', 'media', 'pov...</td>\n",
       "    </tr>\n",
       "    <tr>\n",
       "      <th>1141</th>\n",
       "      <td>Deaf in the military</td>\n",
       "      <td>120274</td>\n",
       "      <td>1118</td>\n",
       "      <td>70</td>\n",
       "      <td>1</td>\n",
       "      <td>1303516800</td>\n",
       "      <td>['TEDx', 'disability', 'global issues', 'milit...</td>\n",
       "    </tr>\n",
       "    <tr>\n",
       "      <th>1229</th>\n",
       "      <td>Beethoven the businessman</td>\n",
       "      <td>117756</td>\n",
       "      <td>769</td>\n",
       "      <td>73</td>\n",
       "      <td>1</td>\n",
       "      <td>1322870400</td>\n",
       "      <td>['TEDx', 'business', 'history', 'music']</td>\n",
       "    </tr>\n",
       "    <tr>\n",
       "      <th>1133</th>\n",
       "      <td>Let's bridge the digital divide!</td>\n",
       "      <td>115346</td>\n",
       "      <td>594</td>\n",
       "      <td>80</td>\n",
       "      <td>1</td>\n",
       "      <td>1312588800</td>\n",
       "      <td>['TEDx', 'global issues', 'poverty', 'technolo...</td>\n",
       "    </tr>\n",
       "    <tr>\n",
       "      <th>776</th>\n",
       "      <td>The early birdwatchers</td>\n",
       "      <td>112321</td>\n",
       "      <td>1690</td>\n",
       "      <td>40</td>\n",
       "      <td>1</td>\n",
       "      <td>1253232000</td>\n",
       "      <td>['biology', 'birds', 'evolution', 'life']</td>\n",
       "    </tr>\n",
       "    <tr>\n",
       "      <th>237</th>\n",
       "      <td>\"Kounandi\"</td>\n",
       "      <td>82488</td>\n",
       "      <td>386</td>\n",
       "      <td>43</td>\n",
       "      <td>1</td>\n",
       "      <td>1181088000</td>\n",
       "      <td>['Africa', 'guitar', 'live music', 'music', 's...</td>\n",
       "    </tr>\n",
       "    <tr>\n",
       "      <th>1112</th>\n",
       "      <td>The debut of the British Paraorchestra</td>\n",
       "      <td>66668</td>\n",
       "      <td>816</td>\n",
       "      <td>43</td>\n",
       "      <td>2</td>\n",
       "      <td>1321920000</td>\n",
       "      <td>['TEDx', 'disability', 'entertainment', 'globa...</td>\n",
       "    </tr>\n",
       "    <tr>\n",
       "      <th>594</th>\n",
       "      <td>Stories of Haiti</td>\n",
       "      <td>50443</td>\n",
       "      <td>3573</td>\n",
       "      <td>20</td>\n",
       "      <td>1</td>\n",
       "      <td>1097625600</td>\n",
       "      <td>['books', 'disaster relief', 'novel', 'poetry'...</td>\n",
       "    </tr>\n",
       "  </tbody>\n",
       "</table>\n",
       "<p>2550 rows × 7 columns</p>\n",
       "</div>"
      ],
      "text/plain": [
       "                                                  title     views  duration  \\\n",
       "0                           Do schools kill creativity?  47227110      1164   \n",
       "1346           Your body language may shape who you are  43155405      1262   \n",
       "677                    How great leaders inspire action  34309432      1084   \n",
       "837                          The power of vulnerability  31168150      1219   \n",
       "452              10 things you didn't know about orgasm  22270883      1003   \n",
       "1776         How to speak so that people want to listen  21594632       598   \n",
       "201                                My stroke of insight  21190883      1099   \n",
       "5                                  Why we do what we do  20685401      1305   \n",
       "2114  This is what happens when you reply to spam email  20475972       588   \n",
       "1416  Looks aren't everything. Believe me, I'm a model.  19787465       577   \n",
       "500                            The puzzle of motivation  18830983      1116   \n",
       "1163                            The power of introverts  17629275      1144   \n",
       "1036                                 How to spot a liar  16861578      1130   \n",
       "2109  What makes a good life? Lessons from the longe...  16601927       766   \n",
       "1129                    The happy secret to better work  16209727       740   \n",
       "553    The thrilling potential of SixthSense technology  16097077       830   \n",
       "596                 How I held my breath for 17 minutes  15601385      1219   \n",
       "1579                            The art of misdirection  15283242       527   \n",
       "2161         Inside the mind of a master procrastinator  14745406       843   \n",
       "29                  The surprising science of happiness  14689301      1276   \n",
       "1572                     How to make stress your friend  14566463       868   \n",
       "176                            Underwater astonishments  13926113       327   \n",
       "262                                         Brain magic  13327101      1189   \n",
       "530                        The danger of a single story  13298341      1129   \n",
       "381                        Your elusive creative genius  13155478      1149   \n",
       "1501        Grit: The power of passion and perseverance  12039978       372   \n",
       "4                       The best stats you've ever seen  12005869      1190   \n",
       "1940                                 The price of shame  11443190      1346   \n",
       "47                                 8 secrets of success  10841210       210   \n",
       "892                     If I should have a daughter ...  10529854      1105   \n",
       "...                                                 ...       ...       ...   \n",
       "1486                       How much does a video weigh?    195899       441   \n",
       "1093                        My subversive (garden) plot    191555      1129   \n",
       "1198                 \"Put the financial aid in the bag\"    186308       305   \n",
       "292                                    The camel's hump    185275       966   \n",
       "2507                      A dance to honor Mother Earth    182975       575   \n",
       "1192                                      I am a pirate    181010      1097   \n",
       "649                                    Why I do theater    176995       407   \n",
       "323                     The balancing act of compassion    176245       946   \n",
       "1149                               Look up for a change    175395       669   \n",
       "1250                   A new way to stop identity theft    174326      1023   \n",
       "1223                          From stigma to supermodel    166959      1084   \n",
       "1237                          The sea we've hardly seen    166835       697   \n",
       "1105                      Can astronomers help doctors?    161462       581   \n",
       "1119                 Plant fuels that could power a jet    155895       869   \n",
       "581                   Engineering a better life for all    154698       889   \n",
       "590           What Bernie Madoff couldn't steal from me    149818       510   \n",
       "1053         How mobile phones helped solve two murders    148971      1013   \n",
       "1301                  When a reporter becomes the story    144044       711   \n",
       "1179                                Victims of the city    142164      1191   \n",
       "1061                                  Open science now!    138812       982   \n",
       "1178                         Beautiful artificial limbs    132199       663   \n",
       "1104               Change our culture, change our world    125050       632   \n",
       "1079                          Don't misrepresent Africa    121186       686   \n",
       "1141                               Deaf in the military    120274      1118   \n",
       "1229                          Beethoven the businessman    117756       769   \n",
       "1133                   Let's bridge the digital divide!    115346       594   \n",
       "776                              The early birdwatchers    112321      1690   \n",
       "237                                          \"Kounandi\"     82488       386   \n",
       "1112             The debut of the British Paraorchestra     66668       816   \n",
       "594                                    Stories of Haiti     50443      3573   \n",
       "\n",
       "      comments  num_speaker   film_date  \\\n",
       "0         4553            1  1140825600   \n",
       "1346      2290            1  1340668800   \n",
       "677       1930            1  1253145600   \n",
       "837       1927            1  1275782400   \n",
       "452        354            1  1233878400   \n",
       "1776       297            1  1370822400   \n",
       "201       2877            1  1204070400   \n",
       "5          672            1  1138838400   \n",
       "2114       150            1  1449532800   \n",
       "1416       846            1  1351296000   \n",
       "500       1094            1  1248393600   \n",
       "1163      1155            1  1330387200   \n",
       "1036       561            1  1310515200   \n",
       "2109       527            1  1447459200   \n",
       "1129       754            1  1305072000   \n",
       "553       1329            1  1257379200   \n",
       "596        296            1  1256601600   \n",
       "1579       285            1  1370995200   \n",
       "2161       310            1  1455580800   \n",
       "29         970            1  1075680000   \n",
       "1572       693            1  1370908800   \n",
       "176        554            1  1172880000   \n",
       "262        669            1  1075680000   \n",
       "530       1155            1  1248307200   \n",
       "381       1604            1  1233792000   \n",
       "1501       659            1  1365033600   \n",
       "4          593            1  1140566400   \n",
       "1940      1355            1  1426723200   \n",
       "47         578            1  1109116800   \n",
       "892        645            1  1299110400   \n",
       "...        ...          ...         ...   \n",
       "1486       126            1  1362009600   \n",
       "1093       130            1  1315612800   \n",
       "1198       175            1  1320969600   \n",
       "292         12            1  1012608000   \n",
       "2507         6            5  1492992000   \n",
       "1192       122            1  1331424000   \n",
       "649         74            1  1223510400   \n",
       "323         76            1  1254355200   \n",
       "1149        80            1  1320969600   \n",
       "1250       208            1  1335484800   \n",
       "1223        59            1  1320969600   \n",
       "1237        67            1  1334707200   \n",
       "1105        41            1  1309219200   \n",
       "1119        76            1  1313539200   \n",
       "581        105            1  1254873600   \n",
       "590         87            1  1237024800   \n",
       "1053        46            1  1301702400   \n",
       "1301        43            1  1331337600   \n",
       "1179        99            1  1320969600   \n",
       "1061       118            1  1299110400   \n",
       "1178        84            1  1321660800   \n",
       "1104        70            1  1286928000   \n",
       "1079        84            1  1316822400   \n",
       "1141        70            1  1303516800   \n",
       "1229        73            1  1322870400   \n",
       "1133        80            1  1312588800   \n",
       "776         40            1  1253232000   \n",
       "237         43            1  1181088000   \n",
       "1112        43            2  1321920000   \n",
       "594         20            1  1097625600   \n",
       "\n",
       "                                                   tags  \n",
       "0     ['children', 'creativity', 'culture', 'dance',...  \n",
       "1346  ['body language', 'brain', 'business', 'psycho...  \n",
       "677   ['TEDx', 'business', 'entrepreneur', 'leadersh...  \n",
       "837   ['TEDx', 'communication', 'culture', 'depressi...  \n",
       "452   ['books', 'culture', 'history', 'humor', 'scie...  \n",
       "1776                     ['culture', 'sound', 'speech']  \n",
       "201   ['biology', 'brain', 'consciousness', 'global ...  \n",
       "5     ['business', 'culture', 'entertainment', 'goal...  \n",
       "2114  ['comedy', 'communication', 'curiosity', 'humo...  \n",
       "1416  ['TEDx', 'beauty', 'culture', 'fashion', 'phot...  \n",
       "500   ['brain', 'business', 'creativity', 'motivatio...  \n",
       "1163  ['business', 'culture', 'introvert', 'psycholo...  \n",
       "1036    ['culture', 'psychology', 'science', 'society']  \n",
       "2109  ['TEDx', 'aging', 'data', 'friendship', 'happi...  \n",
       "1129  ['TEDx', 'brain', 'business', 'cognitive scien...  \n",
       "553     ['demo', 'design', 'open-source', 'technology']  \n",
       "596     ['biology', 'magic', 'medicine', 'performance']  \n",
       "1579                         ['crime', 'entertainment']  \n",
       "2161  ['Internet', 'brain', 'choice', 'comedy', 'dec...  \n",
       "29    ['TED Brain Trust', 'brain', 'choice', 'cultur...  \n",
       "1572          ['body language', 'health', 'psychology']  \n",
       "176   ['animals', 'evolution', 'exploration', 'fish'...  \n",
       "262     ['brain', 'entertainment', 'illusion', 'magic']  \n",
       "530   ['Africa', 'books', 'culture', 'identity', 'st...  \n",
       "381   ['creativity', 'culture', 'entertainment', 'pe...  \n",
       "1501  ['business', 'education', 'psychology', 'succe...  \n",
       "4     ['Africa', 'Asia', 'Google', 'demo', 'economic...  \n",
       "1940  ['communication', 'media', 'social media', 'su...  \n",
       "47    ['business', 'culture', 'entertainment', 'happ...  \n",
       "892   ['entertainment', 'performance', 'poetry', 'st...  \n",
       "...                                                 ...  \n",
       "1486  ['Internet', 'TED-Ed', 'computers', 'humor', '...  \n",
       "1093  ['TEDx', 'culture', 'food', 'garden', 'global ...  \n",
       "1198  ['TED-Ed', 'TEDYouth', 'culture', 'entertainme...  \n",
       "292   ['animals', 'energy', 'entertainment', 'global...  \n",
       "2507  ['art', 'creativity', 'dance', 'performance', ...  \n",
       "1192  ['Internet', 'TEDx', 'global issues', 'politic...  \n",
       "649               ['humanity', 'psychology', 'theater']  \n",
       "323   ['charter for compassion', 'compassion', 'glob...  \n",
       "1149  ['NASA', 'Planets', 'TED Fellows', 'TEDx', 'ac...  \n",
       "1250         ['TEDx', 'security', 'self', 'technology']  \n",
       "1223  ['TEDx', 'beauty', 'fashion', 'global issues',...  \n",
       "1237  ['TEDx', 'bacteria', 'biodiversity', 'biology'...  \n",
       "1105  ['TEDx', 'astronomy', 'collaboration', 'medica...  \n",
       "1119  ['Natural resources', 'TEDx', 'alternative ene...  \n",
       "581   ['business', 'creativity', 'engineering', 'glo...  \n",
       "590       ['business', 'life', 'money', 'presentation']  \n",
       "1053  ['TEDx', 'cities', 'collaboration', 'culture',...  \n",
       "1301  ['TEDx', 'culture', 'disability', 'journalism'...  \n",
       "1179  ['TEDx', 'architecture', 'cities', 'design', '...  \n",
       "1061  ['Internet', 'TEDx', 'collaboration', 'crowdso...  \n",
       "1178  ['TEDx', 'beauty', 'design', 'industrial desig...  \n",
       "1104                    ['TEDx', 'culture', 'politics']  \n",
       "1079  ['Africa', 'TEDx', 'journalism', 'media', 'pov...  \n",
       "1141  ['TEDx', 'disability', 'global issues', 'milit...  \n",
       "1229           ['TEDx', 'business', 'history', 'music']  \n",
       "1133  ['TEDx', 'global issues', 'poverty', 'technolo...  \n",
       "776           ['biology', 'birds', 'evolution', 'life']  \n",
       "237   ['Africa', 'guitar', 'live music', 'music', 's...  \n",
       "1112  ['TEDx', 'disability', 'entertainment', 'globa...  \n",
       "594   ['books', 'disaster relief', 'novel', 'poetry'...  \n",
       "\n",
       "[2550 rows x 7 columns]"
      ]
     },
     "execution_count": 11,
     "metadata": {},
     "output_type": "execute_result"
    }
   ],
   "source": [
    "df_ordered = df[[\"title\",\"views\",\"duration\", \"comments\", \"num_speaker\",\"film_date\", \"tags\"]].sort_values('views', ascending=False)\n",
    "df_ordered"
   ]
  },
  {
   "cell_type": "code",
   "execution_count": 12,
   "metadata": {},
   "outputs": [],
   "source": [
    "df_rank = df_ordered['views'].rank(axis=0, method='first', ascending=False)"
   ]
  },
  {
   "cell_type": "code",
   "execution_count": 13,
   "metadata": {
    "scrolled": true
   },
   "outputs": [],
   "source": [
    "# df_rank.head()"
   ]
  },
  {
   "cell_type": "code",
   "execution_count": 14,
   "metadata": {
    "collapsed": true
   },
   "outputs": [],
   "source": [
    "df[\"rank\"] = df_rank = df_ordered['views'].rank(axis=0, method='first', ascending=False)"
   ]
  },
  {
   "cell_type": "code",
   "execution_count": 15,
   "metadata": {
    "collapsed": true
   },
   "outputs": [],
   "source": [
    "df_ordered['rank'] = df['rank'].rank(ascending=True)"
   ]
  },
  {
   "cell_type": "code",
   "execution_count": 16,
   "metadata": {},
   "outputs": [
    {
     "data": {
      "text/html": [
       "<div>\n",
       "<style>\n",
       "    .dataframe thead tr:only-child th {\n",
       "        text-align: right;\n",
       "    }\n",
       "\n",
       "    .dataframe thead th {\n",
       "        text-align: left;\n",
       "    }\n",
       "\n",
       "    .dataframe tbody tr th {\n",
       "        vertical-align: top;\n",
       "    }\n",
       "</style>\n",
       "<table border=\"1\" class=\"dataframe\">\n",
       "  <thead>\n",
       "    <tr style=\"text-align: right;\">\n",
       "      <th></th>\n",
       "      <th>title</th>\n",
       "      <th>views</th>\n",
       "      <th>duration</th>\n",
       "      <th>comments</th>\n",
       "      <th>num_speaker</th>\n",
       "      <th>film_date</th>\n",
       "      <th>tags</th>\n",
       "      <th>rank</th>\n",
       "    </tr>\n",
       "  </thead>\n",
       "  <tbody>\n",
       "    <tr>\n",
       "      <th>0</th>\n",
       "      <td>Do schools kill creativity?</td>\n",
       "      <td>47227110</td>\n",
       "      <td>1164</td>\n",
       "      <td>4553</td>\n",
       "      <td>1</td>\n",
       "      <td>1140825600</td>\n",
       "      <td>['children', 'creativity', 'culture', 'dance',...</td>\n",
       "      <td>1.0</td>\n",
       "    </tr>\n",
       "    <tr>\n",
       "      <th>1346</th>\n",
       "      <td>Your body language may shape who you are</td>\n",
       "      <td>43155405</td>\n",
       "      <td>1262</td>\n",
       "      <td>2290</td>\n",
       "      <td>1</td>\n",
       "      <td>1340668800</td>\n",
       "      <td>['body language', 'brain', 'business', 'psycho...</td>\n",
       "      <td>2.0</td>\n",
       "    </tr>\n",
       "    <tr>\n",
       "      <th>677</th>\n",
       "      <td>How great leaders inspire action</td>\n",
       "      <td>34309432</td>\n",
       "      <td>1084</td>\n",
       "      <td>1930</td>\n",
       "      <td>1</td>\n",
       "      <td>1253145600</td>\n",
       "      <td>['TEDx', 'business', 'entrepreneur', 'leadersh...</td>\n",
       "      <td>3.0</td>\n",
       "    </tr>\n",
       "    <tr>\n",
       "      <th>837</th>\n",
       "      <td>The power of vulnerability</td>\n",
       "      <td>31168150</td>\n",
       "      <td>1219</td>\n",
       "      <td>1927</td>\n",
       "      <td>1</td>\n",
       "      <td>1275782400</td>\n",
       "      <td>['TEDx', 'communication', 'culture', 'depressi...</td>\n",
       "      <td>4.0</td>\n",
       "    </tr>\n",
       "    <tr>\n",
       "      <th>452</th>\n",
       "      <td>10 things you didn't know about orgasm</td>\n",
       "      <td>22270883</td>\n",
       "      <td>1003</td>\n",
       "      <td>354</td>\n",
       "      <td>1</td>\n",
       "      <td>1233878400</td>\n",
       "      <td>['books', 'culture', 'history', 'humor', 'scie...</td>\n",
       "      <td>5.0</td>\n",
       "    </tr>\n",
       "  </tbody>\n",
       "</table>\n",
       "</div>"
      ],
      "text/plain": [
       "                                         title     views  duration  comments  \\\n",
       "0                  Do schools kill creativity?  47227110      1164      4553   \n",
       "1346  Your body language may shape who you are  43155405      1262      2290   \n",
       "677           How great leaders inspire action  34309432      1084      1930   \n",
       "837                 The power of vulnerability  31168150      1219      1927   \n",
       "452     10 things you didn't know about orgasm  22270883      1003       354   \n",
       "\n",
       "      num_speaker   film_date  \\\n",
       "0               1  1140825600   \n",
       "1346            1  1340668800   \n",
       "677             1  1253145600   \n",
       "837             1  1275782400   \n",
       "452             1  1233878400   \n",
       "\n",
       "                                                   tags  rank  \n",
       "0     ['children', 'creativity', 'culture', 'dance',...   1.0  \n",
       "1346  ['body language', 'brain', 'business', 'psycho...   2.0  \n",
       "677   ['TEDx', 'business', 'entrepreneur', 'leadersh...   3.0  \n",
       "837   ['TEDx', 'communication', 'culture', 'depressi...   4.0  \n",
       "452   ['books', 'culture', 'history', 'humor', 'scie...   5.0  "
      ]
     },
     "execution_count": 16,
     "metadata": {},
     "output_type": "execute_result"
    }
   ],
   "source": [
    "df_ordered.head()"
   ]
  },
  {
   "cell_type": "code",
   "execution_count": 17,
   "metadata": {
    "scrolled": true
   },
   "outputs": [],
   "source": [
    "# df.plot(kind = 'scatter', x = 'duration', y = 'views', s = 50, figsize = (8,8))"
   ]
  },
  {
   "cell_type": "code",
   "execution_count": 18,
   "metadata": {
    "collapsed": true
   },
   "outputs": [],
   "source": [
    "#lm plot with seaborn and doing a regression line #george suggestion"
   ]
  },
  {
   "cell_type": "code",
   "execution_count": 19,
   "metadata": {},
   "outputs": [],
   "source": [
    "# sns.lmplot(x = \"duration\", y = \"views\", data = df_ordered, x_estimator=np.mea)"
   ]
  },
  {
   "cell_type": "code",
   "execution_count": 20,
   "metadata": {},
   "outputs": [
    {
     "data": {
      "text/plain": [
       "<matplotlib.axes._subplots.AxesSubplot at 0x1149bc390>"
      ]
     },
     "execution_count": 20,
     "metadata": {},
     "output_type": "execute_result"
    },
    {
     "data": {
      "image/png": "[encoded data removed]",
      "text/plain": [
       "<matplotlib.figure.Figure at 0x1095ba828>"
      ]
     },
     "metadata": {},
     "output_type": "display_data"
    }
   ],
   "source": [
    "df.plot(kind = 'scatter', x = 'duration', y ='views')"
   ]
  },
  {
   "cell_type": "code",
   "execution_count": 21,
   "metadata": {},
   "outputs": [
    {
     "data": {
      "text/plain": [
       "0       ['children', 'creativity', 'culture', 'dance',...\n",
       "1346    ['body language', 'brain', 'business', 'psycho...\n",
       "677     ['TEDx', 'business', 'entrepreneur', 'leadersh...\n",
       "837     ['TEDx', 'communication', 'culture', 'depressi...\n",
       "452     ['books', 'culture', 'history', 'humor', 'scie...\n",
       "1776                       ['culture', 'sound', 'speech']\n",
       "201     ['biology', 'brain', 'consciousness', 'global ...\n",
       "5       ['business', 'culture', 'entertainment', 'goal...\n",
       "2114    ['comedy', 'communication', 'curiosity', 'humo...\n",
       "1416    ['TEDx', 'beauty', 'culture', 'fashion', 'phot...\n",
       "Name: tags, dtype: object"
      ]
     },
     "execution_count": 21,
     "metadata": {},
     "output_type": "execute_result"
    }
   ],
   "source": [
    "df_ordered.tags.head(10)"
   ]
  },
  {
   "cell_type": "code",
   "execution_count": 22,
   "metadata": {
    "collapsed": true
   },
   "outputs": [],
   "source": [
    "tags = df_ordered.tags\n",
    "\n",
    "countv = CountVectorizer(max_features=100) #top 100 tags used\n",
    "\n",
    "tag_dtm = countv.fit_transform(tags)"
   ]
  },
  {
   "cell_type": "code",
   "execution_count": 23,
   "metadata": {},
   "outputs": [
    {
     "data": {
      "text/html": [
       "<div>\n",
       "<style>\n",
       "    .dataframe thead tr:only-child th {\n",
       "        text-align: right;\n",
       "    }\n",
       "\n",
       "    .dataframe thead th {\n",
       "        text-align: left;\n",
       "    }\n",
       "\n",
       "    .dataframe tbody tr th {\n",
       "        vertical-align: top;\n",
       "    }\n",
       "</style>\n",
       "<table border=\"1\" class=\"dataframe\">\n",
       "  <thead>\n",
       "    <tr style=\"text-align: right;\">\n",
       "      <th></th>\n",
       "      <th>activism</th>\n",
       "      <th>africa</th>\n",
       "      <th>animals</th>\n",
       "      <th>architecture</th>\n",
       "      <th>art</th>\n",
       "      <th>beauty</th>\n",
       "      <th>big</th>\n",
       "      <th>biodiversity</th>\n",
       "      <th>biology</th>\n",
       "      <th>biotech</th>\n",
       "      <th>...</th>\n",
       "      <th>technology</th>\n",
       "      <th>ted</th>\n",
       "      <th>tedx</th>\n",
       "      <th>trust</th>\n",
       "      <th>violence</th>\n",
       "      <th>visualizations</th>\n",
       "      <th>war</th>\n",
       "      <th>women</th>\n",
       "      <th>work</th>\n",
       "      <th>writing</th>\n",
       "    </tr>\n",
       "  </thead>\n",
       "  <tbody>\n",
       "    <tr>\n",
       "      <th>0</th>\n",
       "      <td>0</td>\n",
       "      <td>0</td>\n",
       "      <td>0</td>\n",
       "      <td>0</td>\n",
       "      <td>0</td>\n",
       "      <td>0</td>\n",
       "      <td>0</td>\n",
       "      <td>0</td>\n",
       "      <td>0</td>\n",
       "      <td>0</td>\n",
       "      <td>...</td>\n",
       "      <td>0</td>\n",
       "      <td>0</td>\n",
       "      <td>0</td>\n",
       "      <td>0</td>\n",
       "      <td>0</td>\n",
       "      <td>0</td>\n",
       "      <td>0</td>\n",
       "      <td>0</td>\n",
       "      <td>0</td>\n",
       "      <td>0</td>\n",
       "    </tr>\n",
       "    <tr>\n",
       "      <th>1</th>\n",
       "      <td>0</td>\n",
       "      <td>0</td>\n",
       "      <td>0</td>\n",
       "      <td>0</td>\n",
       "      <td>0</td>\n",
       "      <td>0</td>\n",
       "      <td>0</td>\n",
       "      <td>0</td>\n",
       "      <td>0</td>\n",
       "      <td>0</td>\n",
       "      <td>...</td>\n",
       "      <td>0</td>\n",
       "      <td>0</td>\n",
       "      <td>0</td>\n",
       "      <td>0</td>\n",
       "      <td>0</td>\n",
       "      <td>0</td>\n",
       "      <td>0</td>\n",
       "      <td>0</td>\n",
       "      <td>0</td>\n",
       "      <td>0</td>\n",
       "    </tr>\n",
       "    <tr>\n",
       "      <th>2</th>\n",
       "      <td>0</td>\n",
       "      <td>0</td>\n",
       "      <td>0</td>\n",
       "      <td>0</td>\n",
       "      <td>0</td>\n",
       "      <td>0</td>\n",
       "      <td>0</td>\n",
       "      <td>0</td>\n",
       "      <td>0</td>\n",
       "      <td>0</td>\n",
       "      <td>...</td>\n",
       "      <td>0</td>\n",
       "      <td>0</td>\n",
       "      <td>1</td>\n",
       "      <td>0</td>\n",
       "      <td>0</td>\n",
       "      <td>0</td>\n",
       "      <td>0</td>\n",
       "      <td>0</td>\n",
       "      <td>0</td>\n",
       "      <td>0</td>\n",
       "    </tr>\n",
       "    <tr>\n",
       "      <th>3</th>\n",
       "      <td>0</td>\n",
       "      <td>0</td>\n",
       "      <td>0</td>\n",
       "      <td>0</td>\n",
       "      <td>0</td>\n",
       "      <td>0</td>\n",
       "      <td>0</td>\n",
       "      <td>0</td>\n",
       "      <td>0</td>\n",
       "      <td>0</td>\n",
       "      <td>...</td>\n",
       "      <td>0</td>\n",
       "      <td>0</td>\n",
       "      <td>1</td>\n",
       "      <td>0</td>\n",
       "      <td>0</td>\n",
       "      <td>0</td>\n",
       "      <td>0</td>\n",
       "      <td>0</td>\n",
       "      <td>0</td>\n",
       "      <td>0</td>\n",
       "    </tr>\n",
       "    <tr>\n",
       "      <th>4</th>\n",
       "      <td>0</td>\n",
       "      <td>0</td>\n",
       "      <td>0</td>\n",
       "      <td>0</td>\n",
       "      <td>0</td>\n",
       "      <td>0</td>\n",
       "      <td>0</td>\n",
       "      <td>0</td>\n",
       "      <td>0</td>\n",
       "      <td>0</td>\n",
       "      <td>...</td>\n",
       "      <td>0</td>\n",
       "      <td>0</td>\n",
       "      <td>0</td>\n",
       "      <td>0</td>\n",
       "      <td>0</td>\n",
       "      <td>0</td>\n",
       "      <td>0</td>\n",
       "      <td>0</td>\n",
       "      <td>0</td>\n",
       "      <td>1</td>\n",
       "    </tr>\n",
       "  </tbody>\n",
       "</table>\n",
       "<p>5 rows × 100 columns</p>\n",
       "</div>"
      ],
      "text/plain": [
       "   activism  africa  animals  architecture  art  beauty  big  biodiversity  \\\n",
       "0         0       0        0             0    0       0    0             0   \n",
       "1         0       0        0             0    0       0    0             0   \n",
       "2         0       0        0             0    0       0    0             0   \n",
       "3         0       0        0             0    0       0    0             0   \n",
       "4         0       0        0             0    0       0    0             0   \n",
       "\n",
       "   biology  biotech   ...     technology  ted  tedx  trust  violence  \\\n",
       "0        0        0   ...              0    0     0      0         0   \n",
       "1        0        0   ...              0    0     0      0         0   \n",
       "2        0        0   ...              0    0     1      0         0   \n",
       "3        0        0   ...              0    0     1      0         0   \n",
       "4        0        0   ...              0    0     0      0         0   \n",
       "\n",
       "   visualizations  war  women  work  writing  \n",
       "0               0    0      0     0        0  \n",
       "1               0    0      0     0        0  \n",
       "2               0    0      0     0        0  \n",
       "3               0    0      0     0        0  \n",
       "4               0    0      0     0        1  \n",
       "\n",
       "[5 rows x 100 columns]"
      ]
     },
     "execution_count": 23,
     "metadata": {},
     "output_type": "execute_result"
    }
   ],
   "source": [
    "tag_df = pd.DataFrame(tag_dtm.toarray(), columns=countv.get_feature_names())\n",
    "tag_df.head()"
   ]
  },
  {
   "cell_type": "code",
   "execution_count": 24,
   "metadata": {},
   "outputs": [
    {
     "data": {
      "text/plain": [
       "(2550, 100)"
      ]
     },
     "execution_count": 24,
     "metadata": {},
     "output_type": "execute_result"
    }
   ],
   "source": [
    "tag_df.shape"
   ]
  },
  {
   "cell_type": "code",
   "execution_count": 25,
   "metadata": {},
   "outputs": [],
   "source": [
    "#top tags used for ted talks\n",
    "# tag_df.sum().sort_values(ascending=False)"
   ]
  },
  {
   "cell_type": "code",
   "execution_count": 26,
   "metadata": {},
   "outputs": [],
   "source": [
    "df_ordered_tags = pd.concat([ df_ordered, tag_df], axis = 1)"
   ]
  },
  {
   "cell_type": "code",
   "execution_count": 27,
   "metadata": {},
   "outputs": [],
   "source": [
    "df_data = df_ordered_tags.drop(['tags', 'title', 'rank', 'film_date'], axis = 1)"
   ]
  },
  {
   "cell_type": "code",
   "execution_count": 28,
   "metadata": {
    "scrolled": true
   },
   "outputs": [
    {
     "data": {
      "text/html": [
       "<div>\n",
       "<style>\n",
       "    .dataframe thead tr:only-child th {\n",
       "        text-align: right;\n",
       "    }\n",
       "\n",
       "    .dataframe thead th {\n",
       "        text-align: left;\n",
       "    }\n",
       "\n",
       "    .dataframe tbody tr th {\n",
       "        vertical-align: top;\n",
       "    }\n",
       "</style>\n",
       "<table border=\"1\" class=\"dataframe\">\n",
       "  <thead>\n",
       "    <tr style=\"text-align: right;\">\n",
       "      <th></th>\n",
       "      <th>views</th>\n",
       "      <th>duration</th>\n",
       "      <th>comments</th>\n",
       "      <th>num_speaker</th>\n",
       "      <th>activism</th>\n",
       "      <th>africa</th>\n",
       "      <th>animals</th>\n",
       "      <th>architecture</th>\n",
       "      <th>art</th>\n",
       "      <th>beauty</th>\n",
       "      <th>...</th>\n",
       "      <th>technology</th>\n",
       "      <th>ted</th>\n",
       "      <th>tedx</th>\n",
       "      <th>trust</th>\n",
       "      <th>violence</th>\n",
       "      <th>visualizations</th>\n",
       "      <th>war</th>\n",
       "      <th>women</th>\n",
       "      <th>work</th>\n",
       "      <th>writing</th>\n",
       "    </tr>\n",
       "  </thead>\n",
       "  <tbody>\n",
       "    <tr>\n",
       "      <th>0</th>\n",
       "      <td>47227110</td>\n",
       "      <td>1164</td>\n",
       "      <td>4553</td>\n",
       "      <td>1</td>\n",
       "      <td>0</td>\n",
       "      <td>0</td>\n",
       "      <td>0</td>\n",
       "      <td>0</td>\n",
       "      <td>0</td>\n",
       "      <td>0</td>\n",
       "      <td>...</td>\n",
       "      <td>0</td>\n",
       "      <td>0</td>\n",
       "      <td>0</td>\n",
       "      <td>0</td>\n",
       "      <td>0</td>\n",
       "      <td>0</td>\n",
       "      <td>0</td>\n",
       "      <td>0</td>\n",
       "      <td>0</td>\n",
       "      <td>0</td>\n",
       "    </tr>\n",
       "    <tr>\n",
       "      <th>1</th>\n",
       "      <td>3200520</td>\n",
       "      <td>977</td>\n",
       "      <td>265</td>\n",
       "      <td>1</td>\n",
       "      <td>0</td>\n",
       "      <td>0</td>\n",
       "      <td>0</td>\n",
       "      <td>0</td>\n",
       "      <td>0</td>\n",
       "      <td>0</td>\n",
       "      <td>...</td>\n",
       "      <td>0</td>\n",
       "      <td>0</td>\n",
       "      <td>0</td>\n",
       "      <td>0</td>\n",
       "      <td>0</td>\n",
       "      <td>0</td>\n",
       "      <td>0</td>\n",
       "      <td>0</td>\n",
       "      <td>0</td>\n",
       "      <td>0</td>\n",
       "    </tr>\n",
       "    <tr>\n",
       "      <th>2</th>\n",
       "      <td>1636292</td>\n",
       "      <td>1286</td>\n",
       "      <td>124</td>\n",
       "      <td>1</td>\n",
       "      <td>0</td>\n",
       "      <td>0</td>\n",
       "      <td>0</td>\n",
       "      <td>0</td>\n",
       "      <td>0</td>\n",
       "      <td>0</td>\n",
       "      <td>...</td>\n",
       "      <td>0</td>\n",
       "      <td>0</td>\n",
       "      <td>1</td>\n",
       "      <td>0</td>\n",
       "      <td>0</td>\n",
       "      <td>0</td>\n",
       "      <td>0</td>\n",
       "      <td>0</td>\n",
       "      <td>0</td>\n",
       "      <td>0</td>\n",
       "    </tr>\n",
       "    <tr>\n",
       "      <th>3</th>\n",
       "      <td>1697550</td>\n",
       "      <td>1116</td>\n",
       "      <td>200</td>\n",
       "      <td>1</td>\n",
       "      <td>0</td>\n",
       "      <td>0</td>\n",
       "      <td>0</td>\n",
       "      <td>0</td>\n",
       "      <td>0</td>\n",
       "      <td>0</td>\n",
       "      <td>...</td>\n",
       "      <td>0</td>\n",
       "      <td>0</td>\n",
       "      <td>1</td>\n",
       "      <td>0</td>\n",
       "      <td>0</td>\n",
       "      <td>0</td>\n",
       "      <td>0</td>\n",
       "      <td>0</td>\n",
       "      <td>0</td>\n",
       "      <td>0</td>\n",
       "    </tr>\n",
       "    <tr>\n",
       "      <th>4</th>\n",
       "      <td>12005869</td>\n",
       "      <td>1190</td>\n",
       "      <td>593</td>\n",
       "      <td>1</td>\n",
       "      <td>0</td>\n",
       "      <td>0</td>\n",
       "      <td>0</td>\n",
       "      <td>0</td>\n",
       "      <td>0</td>\n",
       "      <td>0</td>\n",
       "      <td>...</td>\n",
       "      <td>0</td>\n",
       "      <td>0</td>\n",
       "      <td>0</td>\n",
       "      <td>0</td>\n",
       "      <td>0</td>\n",
       "      <td>0</td>\n",
       "      <td>0</td>\n",
       "      <td>0</td>\n",
       "      <td>0</td>\n",
       "      <td>1</td>\n",
       "    </tr>\n",
       "  </tbody>\n",
       "</table>\n",
       "<p>5 rows × 104 columns</p>\n",
       "</div>"
      ],
      "text/plain": [
       "      views  duration  comments  num_speaker  activism  africa  animals  \\\n",
       "0  47227110      1164      4553            1         0       0        0   \n",
       "1   3200520       977       265            1         0       0        0   \n",
       "2   1636292      1286       124            1         0       0        0   \n",
       "3   1697550      1116       200            1         0       0        0   \n",
       "4  12005869      1190       593            1         0       0        0   \n",
       "\n",
       "   architecture  art  beauty   ...     technology  ted  tedx  trust  violence  \\\n",
       "0             0    0       0   ...              0    0     0      0         0   \n",
       "1             0    0       0   ...              0    0     0      0         0   \n",
       "2             0    0       0   ...              0    0     1      0         0   \n",
       "3             0    0       0   ...              0    0     1      0         0   \n",
       "4             0    0       0   ...              0    0     0      0         0   \n",
       "\n",
       "   visualizations  war  women  work  writing  \n",
       "0               0    0      0     0        0  \n",
       "1               0    0      0     0        0  \n",
       "2               0    0      0     0        0  \n",
       "3               0    0      0     0        0  \n",
       "4               0    0      0     0        1  \n",
       "\n",
       "[5 rows x 104 columns]"
      ]
     },
     "execution_count": 28,
     "metadata": {},
     "output_type": "execute_result"
    }
   ],
   "source": [
    "df_data.head()"
   ]
  },
  {
   "cell_type": "code",
   "execution_count": 29,
   "metadata": {},
   "outputs": [
    {
     "data": {
      "text/plain": [
       "(2550, 104)"
      ]
     },
     "execution_count": 29,
     "metadata": {},
     "output_type": "execute_result"
    }
   ],
   "source": [
    "df_data.shape"
   ]
  },
  {
   "cell_type": "code",
   "execution_count": 30,
   "metadata": {
    "collapsed": true
   },
   "outputs": [],
   "source": [
    "# df_data.dtypes"
   ]
  },
  {
   "cell_type": "code",
   "execution_count": null,
   "metadata": {
    "collapsed": true
   },
   "outputs": [],
   "source": []
  },
  {
   "cell_type": "markdown",
   "metadata": {},
   "source": [
    "### Data with select features to view on linear regression model - SPEAKERS\n"
   ]
  },
  {
   "cell_type": "code",
   "execution_count": 31,
   "metadata": {
    "collapsed": true
   },
   "outputs": [],
   "source": [
    "df_speakers = df_ordered.drop([\"title\",\"duration\",\"comments\",\"film_date\",\"tags\",\"rank\"], axis = 1)"
   ]
  },
  {
   "cell_type": "code",
   "execution_count": 32,
   "metadata": {},
   "outputs": [
    {
     "data": {
      "text/html": [
       "<div>\n",
       "<style>\n",
       "    .dataframe thead tr:only-child th {\n",
       "        text-align: right;\n",
       "    }\n",
       "\n",
       "    .dataframe thead th {\n",
       "        text-align: left;\n",
       "    }\n",
       "\n",
       "    .dataframe tbody tr th {\n",
       "        vertical-align: top;\n",
       "    }\n",
       "</style>\n",
       "<table border=\"1\" class=\"dataframe\">\n",
       "  <thead>\n",
       "    <tr style=\"text-align: right;\">\n",
       "      <th></th>\n",
       "      <th>views</th>\n",
       "      <th>num_speaker</th>\n",
       "    </tr>\n",
       "  </thead>\n",
       "  <tbody>\n",
       "    <tr>\n",
       "      <th>0</th>\n",
       "      <td>47227110</td>\n",
       "      <td>1</td>\n",
       "    </tr>\n",
       "    <tr>\n",
       "      <th>1346</th>\n",
       "      <td>43155405</td>\n",
       "      <td>1</td>\n",
       "    </tr>\n",
       "    <tr>\n",
       "      <th>677</th>\n",
       "      <td>34309432</td>\n",
       "      <td>1</td>\n",
       "    </tr>\n",
       "    <tr>\n",
       "      <th>837</th>\n",
       "      <td>31168150</td>\n",
       "      <td>1</td>\n",
       "    </tr>\n",
       "    <tr>\n",
       "      <th>452</th>\n",
       "      <td>22270883</td>\n",
       "      <td>1</td>\n",
       "    </tr>\n",
       "  </tbody>\n",
       "</table>\n",
       "</div>"
      ],
      "text/plain": [
       "         views  num_speaker\n",
       "0     47227110            1\n",
       "1346  43155405            1\n",
       "677   34309432            1\n",
       "837   31168150            1\n",
       "452   22270883            1"
      ]
     },
     "execution_count": 32,
     "metadata": {},
     "output_type": "execute_result"
    }
   ],
   "source": [
    "df_speakers.head()"
   ]
  },
  {
   "cell_type": "code",
   "execution_count": 33,
   "metadata": {
    "collapsed": true
   },
   "outputs": [],
   "source": [
    "X = df_speakers.drop(\"views\", axis=1) #predictors\n",
    "y = df_speakers[\"views\"] #target variable"
   ]
  },
  {
   "cell_type": "code",
   "execution_count": 34,
   "metadata": {
    "collapsed": true
   },
   "outputs": [],
   "source": [
    "# STEP 1: split X and y into training and testing sets (using random_state for reproducibility)\n",
    "X_train, X_test, y_train, y_test = train_test_split(X, y, random_state=99, test_size=0.75)\n"
   ]
  },
  {
   "cell_type": "code",
   "execution_count": 35,
   "metadata": {},
   "outputs": [
    {
     "name": "stdout",
     "output_type": "stream",
     "text": [
      "(637, 1)\n",
      "(637,)\n"
     ]
    }
   ],
   "source": [
    "print (X_train.shape)\n",
    "print (y_train.shape)"
   ]
  },
  {
   "cell_type": "code",
   "execution_count": 36,
   "metadata": {},
   "outputs": [
    {
     "data": {
      "text/plain": [
       "LinearRegression(copy_X=True, fit_intercept=True, n_jobs=1, normalize=False)"
      ]
     },
     "execution_count": 36,
     "metadata": {},
     "output_type": "execute_result"
    }
   ],
   "source": [
    "lm = LinearRegression()\n",
    "lm.fit(X_train, y_train)"
   ]
  },
  {
   "cell_type": "code",
   "execution_count": 37,
   "metadata": {},
   "outputs": [
    {
     "data": {
      "image/png": "[encoded data removed]",
      "text/plain": [
       "<matplotlib.figure.Figure at 0x115009240>"
      ]
     },
     "metadata": {},
     "output_type": "display_data"
    },
    {
     "ename": "NameError",
     "evalue": "name 'score' is not defined",
     "output_type": "error",
     "traceback": [
      "\u001b[0;31m---------------------------------------------------------------------------\u001b[0m",
      "\u001b[0;31mNameError\u001b[0m                                 Traceback (most recent call last)",
      "\u001b[0;32m<ipython-input-37-54e6ae1b03e7>\u001b[0m in \u001b[0;36m<module>\u001b[0;34m()\u001b[0m\n\u001b[1;32m     14\u001b[0m \u001b[0;34m\u001b[0m\u001b[0m\n\u001b[1;32m     15\u001b[0m \u001b[0;34m\u001b[0m\u001b[0m\n\u001b[0;32m---> 16\u001b[0;31m \u001b[0mprint\u001b[0m \u001b[0;34m(\u001b[0m\u001b[0;34m\"score: \"\u001b[0m\u001b[0;34m,\u001b[0m \u001b[0mscore\u001b[0m\u001b[0;34m)\u001b[0m\u001b[0;34m\u001b[0m\u001b[0m\n\u001b[0m\u001b[1;32m     17\u001b[0m \u001b[0mprint\u001b[0m \u001b[0;34m(\u001b[0m\u001b[0;34m\"R2 on train: {}\"\u001b[0m\u001b[0;34m.\u001b[0m\u001b[0mformat\u001b[0m\u001b[0;34m(\u001b[0m\u001b[0mlm_r2_train\u001b[0m\u001b[0;34m)\u001b[0m\u001b[0;34m)\u001b[0m\u001b[0;34m\u001b[0m\u001b[0m\n\u001b[1;32m     18\u001b[0m \u001b[0mprint\u001b[0m \u001b[0;34m(\u001b[0m\u001b[0;34m\"R2 on test: {}\"\u001b[0m\u001b[0;34m.\u001b[0m\u001b[0mformat\u001b[0m\u001b[0;34m(\u001b[0m\u001b[0mlm_r2_test\u001b[0m\u001b[0;34m)\u001b[0m\u001b[0;34m)\u001b[0m\u001b[0;34m\u001b[0m\u001b[0m\n",
      "\u001b[0;31mNameError\u001b[0m: name 'score' is not defined"
     ]
    }
   ],
   "source": [
    "predictions = lm.predict(X_train)\n",
    "train_score = lm.score(X_train, y_train)\n",
    "test_score = lm.score(X_test, y_test)\n",
    "\n",
    "plt.figure(figsize=(8,8))\n",
    "plt.scatter(predictions, y_train, s=30, c='r', marker='+', zorder=10)\n",
    "plt.xlabel(\"Predicted Values from Views\")\n",
    "plt.ylabel(\"Actual Values \")\n",
    "plt.show()\n",
    "\n",
    "\n",
    "lm_r2_train = lm.score(X_train, y_train)\n",
    "lm_r2_test = lm.score(X_test, y_test)\n",
    "\n",
    "\n",
    "print (\"score: \", score)\n",
    "print (\"R2 on train: {}\".format(lm_r2_train))\n",
    "print (\"R2 on test: {}\".format(lm_r2_test))"
   ]
  },
  {
   "cell_type": "markdown",
   "metadata": {},
   "source": [
    "### Data with select features to view on linear model - COMMENTS\n"
   ]
  },
  {
   "cell_type": "code",
   "execution_count": null,
   "metadata": {
    "collapsed": true
   },
   "outputs": [],
   "source": [
    "df_comments = df_ordered.drop([\"title\",\"duration\",\"num_speaker\",\"film_date\",\"tags\",\"rank\"], axis = 1)"
   ]
  },
  {
   "cell_type": "code",
   "execution_count": null,
   "metadata": {},
   "outputs": [],
   "source": [
    "df_comments.head()"
   ]
  },
  {
   "cell_type": "code",
   "execution_count": null,
   "metadata": {
    "collapsed": true
   },
   "outputs": [],
   "source": [
    "X = df_comments.drop(\"views\", axis=1) #predictors\n",
    "y = df_comments[\"views\"] #target variable"
   ]
  },
  {
   "cell_type": "code",
   "execution_count": null,
   "metadata": {
    "collapsed": true
   },
   "outputs": [],
   "source": [
    "# STEP 1: split X and y into training and testing sets (using random_state for reproducibility)\n",
    "X_train, X_test, y_train, y_test = train_test_split(X, y, random_state=99, test_size=0.75)\n"
   ]
  },
  {
   "cell_type": "code",
   "execution_count": null,
   "metadata": {},
   "outputs": [],
   "source": [
    "print (X_train.shape)\n",
    "print (y_train.shape)"
   ]
  },
  {
   "cell_type": "code",
   "execution_count": null,
   "metadata": {},
   "outputs": [],
   "source": [
    "lm = LinearRegression()\n",
    "lm.fit(X_train, y_train)"
   ]
  },
  {
   "cell_type": "code",
   "execution_count": null,
   "metadata": {},
   "outputs": [],
   "source": [
    "predictions = lm.predict(X_train)\n",
    "train_score = lm.score(X_train, y_train)\n",
    "test_score = lm.score(X_test, y_test)\n",
    "\n",
    "plt.figure(figsize=(8,8))\n",
    "plt.scatter(predictions, y_train, s=30, c='r', marker='+', zorder=10)\n",
    "plt.xlabel(\"Predicted Values from Views\")\n",
    "plt.ylabel(\"Actual Values \")\n",
    "plt.show()\n",
    "\n",
    "print (\"score: \", score)"
   ]
  },
  {
   "cell_type": "code",
   "execution_count": null,
   "metadata": {
    "collapsed": true
   },
   "outputs": [],
   "source": []
  },
  {
   "cell_type": "markdown",
   "metadata": {},
   "source": [
    "### Data with select features to view on linear model - DURATION\n"
   ]
  },
  {
   "cell_type": "code",
   "execution_count": null,
   "metadata": {},
   "outputs": [],
   "source": [
    "df_duration = df_ordered.drop([\"title\",\"comments\",\"num_speaker\",\"film_date\",\"tags\",\"rank\"], axis = 1)"
   ]
  },
  {
   "cell_type": "code",
   "execution_count": null,
   "metadata": {},
   "outputs": [],
   "source": [
    "df_duration.head()"
   ]
  },
  {
   "cell_type": "code",
   "execution_count": null,
   "metadata": {},
   "outputs": [],
   "source": [
    "X = df_duration.drop(\"views\", axis=1) #predictors\n",
    "y = df_duration[\"views\"] #target variable"
   ]
  },
  {
   "cell_type": "code",
   "execution_count": null,
   "metadata": {
    "collapsed": true
   },
   "outputs": [],
   "source": [
    "# STEP 1: split X and y into training and testing sets (using random_state for reproducibility)\n",
    "X_train, X_test, y_train, y_test = train_test_split(X, y, random_state=99, test_size=0.75)\n"
   ]
  },
  {
   "cell_type": "code",
   "execution_count": null,
   "metadata": {},
   "outputs": [],
   "source": [
    "print (X_train.shape)\n",
    "print (y_train.shape)"
   ]
  },
  {
   "cell_type": "code",
   "execution_count": null,
   "metadata": {},
   "outputs": [],
   "source": [
    "lm = LinearRegression()\n",
    "lm.fit(X_train, y_train)"
   ]
  },
  {
   "cell_type": "code",
   "execution_count": null,
   "metadata": {},
   "outputs": [],
   "source": [
    "predictions = lm.predict(X_train)\n",
    "train_score = lm.score(X_train, y_train)\n",
    "test_score = lm.score(X_test, y_test)\n",
    "\n",
    "plt.figure(figsize=(8,8))\n",
    "plt.scatter(predictions, y_train, s=30, c='r', marker='+', zorder=10)\n",
    "plt.xlabel(\"Predicted Values from Views\")\n",
    "plt.ylabel(\"Actual Values \")\n",
    "plt.show()\n",
    "\n",
    "print (\"score: \", score)"
   ]
  },
  {
   "cell_type": "markdown",
   "metadata": {},
   "source": [
    "### Data with select features to view on linear model - TAGS\n"
   ]
  },
  {
   "cell_type": "code",
   "execution_count": null,
   "metadata": {
    "collapsed": true
   },
   "outputs": [],
   "source": [
    "# df_duration = df_data.drop([\"duration\"], axis = 1)"
   ]
  },
  {
   "cell_type": "code",
   "execution_count": null,
   "metadata": {},
   "outputs": [],
   "source": [
    "df_tags_only = df_data.drop([\"duration\", \"comments\", \"num_speaker\"], axis = 1)"
   ]
  },
  {
   "cell_type": "code",
   "execution_count": null,
   "metadata": {},
   "outputs": [],
   "source": [
    "df_tags_only.head()"
   ]
  },
  {
   "cell_type": "code",
   "execution_count": null,
   "metadata": {
    "collapsed": true
   },
   "outputs": [],
   "source": [
    "X = df_tags_only.drop(\"views\", axis=1) #predictors\n",
    "y = df_tags_only[\"views\"] #target variable"
   ]
  },
  {
   "cell_type": "code",
   "execution_count": null,
   "metadata": {
    "collapsed": true
   },
   "outputs": [],
   "source": [
    "# STEP 1: split X and y into training and testing sets (using random_state for reproducibility)\n",
    "X_train, X_test, y_train, y_test = train_test_split(X, y, random_state=99, test_size=0.75)\n"
   ]
  },
  {
   "cell_type": "code",
   "execution_count": null,
   "metadata": {},
   "outputs": [],
   "source": [
    "print (X_train.shape)\n",
    "print (y_train.shape)"
   ]
  },
  {
   "cell_type": "code",
   "execution_count": null,
   "metadata": {},
   "outputs": [],
   "source": [
    "lm = LinearRegression()\n",
    "lm.fit(X_train, y_train)"
   ]
  },
  {
   "cell_type": "code",
   "execution_count": null,
   "metadata": {},
   "outputs": [],
   "source": [
    "predictions = lm.predict(X_train)\n",
    "train_score = lm.score(X_train, y_train)\n",
    "test_score = lm.score(X_test, y_test)\n",
    "\n",
    "plt.figure(figsize=(8,8))\n",
    "plt.scatter(predictions, y_train, s=30, c='r', marker='+', zorder=10)\n",
    "plt.xlabel(\"Predicted Values from Views\")\n",
    "plt.ylabel(\"Actual Values \")\n",
    "plt.show()\n",
    "\n",
    "print (\"score: \", score)"
   ]
  },
  {
   "cell_type": "markdown",
   "metadata": {},
   "source": [
    "# Linear Regression Model on All Selected Features\n",
    "\n"
   ]
  },
  {
   "cell_type": "code",
   "execution_count": null,
   "metadata": {
    "collapsed": true
   },
   "outputs": [],
   "source": [
    "X = df_data.drop(\"views\", axis=1) #predictors\n",
    "y = df_data[\"views\"] #target variable"
   ]
  },
  {
   "cell_type": "code",
   "execution_count": null,
   "metadata": {
    "collapsed": true
   },
   "outputs": [],
   "source": [
    "# STEP 1: split X and y into training and testing sets (using random_state for reproducibility)\n",
    "X_train, X_test, y_train, y_test = train_test_split(X, y, random_state=99, test_size=0.75)\n"
   ]
  },
  {
   "cell_type": "code",
   "execution_count": null,
   "metadata": {
    "collapsed": true
   },
   "outputs": [],
   "source": [
    "assert X.shape[0] == y.shape[0]  #check that they are the same"
   ]
  },
  {
   "cell_type": "code",
   "execution_count": null,
   "metadata": {},
   "outputs": [],
   "source": [
    "print (X_train.shape)\n",
    "print (y_train.shape)"
   ]
  },
  {
   "cell_type": "code",
   "execution_count": null,
   "metadata": {},
   "outputs": [],
   "source": [
    "lm = LinearRegression()\n",
    "lm.fit(X_train, y_train)"
   ]
  },
  {
   "cell_type": "code",
   "execution_count": null,
   "metadata": {},
   "outputs": [],
   "source": [
    "predictions = lm.predict(X_train)\n",
    "train_score = lm.score(X_train, y_train)\n",
    "test_score = lm.score(X_test, y_test)\n",
    "\n",
    "plt.figure(figsize=(8,8))\n",
    "plt.scatter(predictions, y_train, s=30, c='r', marker='+', zorder=10)\n",
    "plt.xlabel(\"Predicted Values from Views\")\n",
    "plt.ylabel(\"Actual Values \")\n",
    "plt.show()\n",
    "\n",
    "print (\"score: \", score)"
   ]
  },
  {
   "cell_type": "code",
   "execution_count": null,
   "metadata": {},
   "outputs": [],
   "source": [
    "# # sklearn.metrics.mean_squared_error(y_true, y_pred, sample_weight=None, multioutput=’uniform_average’)[source]\n",
    "# sklearn.metrics.mean_squared_error(y_test, predictions)"
   ]
  },
  {
   "cell_type": "markdown",
   "metadata": {},
   "source": [
    "# Regression plots of features"
   ]
  },
  {
   "cell_type": "code",
   "execution_count": null,
   "metadata": {},
   "outputs": [],
   "source": [
    "sns.regplot(x=\"duration\", y=\"views\", data=df_data)"
   ]
  },
  {
   "cell_type": "code",
   "execution_count": null,
   "metadata": {
    "scrolled": false
   },
   "outputs": [],
   "source": [
    "sns.regplot(x=\"comments\", y=\"views\", data=df_data)"
   ]
  },
  {
   "cell_type": "code",
   "execution_count": null,
   "metadata": {},
   "outputs": [],
   "source": [
    "sns.regplot(x=\"num_speaker\", y=\"views\", data=df_data)"
   ]
  },
  {
   "cell_type": "code",
   "execution_count": null,
   "metadata": {},
   "outputs": [],
   "source": [
    "# sns.regplot(x=\"tags\", y=\"views\", data=df_data)  #how to look at tags?"
   ]
  },
  {
   "cell_type": "code",
   "execution_count": null,
   "metadata": {
    "collapsed": true
   },
   "outputs": [],
   "source": []
  },
  {
   "cell_type": "markdown",
   "metadata": {},
   "source": [
    "# Using Ridge Model on All Selected Features\n"
   ]
  },
  {
   "cell_type": "code",
   "execution_count": null,
   "metadata": {
    "collapsed": true
   },
   "outputs": [],
   "source": []
  },
  {
   "cell_type": "code",
   "execution_count": 55,
   "metadata": {
    "collapsed": true
   },
   "outputs": [],
   "source": [
    "y = df_data[\"views\"] #target variable\n",
    "X = df_data.drop(\"views\", axis=1) #predictors"
   ]
  },
  {
   "cell_type": "code",
   "execution_count": 56,
   "metadata": {},
   "outputs": [
    {
     "data": {
      "text/plain": [
       "(2550,)"
      ]
     },
     "execution_count": 56,
     "metadata": {},
     "output_type": "execute_result"
    }
   ],
   "source": [
    "df_data.views.shape"
   ]
  },
  {
   "cell_type": "code",
   "execution_count": 57,
   "metadata": {},
   "outputs": [
    {
     "name": "stdout",
     "output_type": "stream",
     "text": [
      "(2550, 103)\n"
     ]
    },
    {
     "data": {
      "text/plain": [
       "(2550,)"
      ]
     },
     "execution_count": 57,
     "metadata": {},
     "output_type": "execute_result"
    }
   ],
   "source": [
    "print(X.shape)\n",
    "y.shape"
   ]
  },
  {
   "cell_type": "code",
   "execution_count": 58,
   "metadata": {
    "scrolled": true
   },
   "outputs": [
    {
     "name": "stdout",
     "output_type": "stream",
     "text": [
      "(765, 103)\n",
      "(765,)\n"
     ]
    }
   ],
   "source": [
    "# STEP 1: split X and y into training and testing sets (using random_state for reproducibility)\n",
    "X_train, X_test, y_train, y_test = train_test_split(X, y, random_state=99, test_size=0.70)\n",
    "\n",
    "assert X.shape[0] == y.shape[0]  #check that they are the same\n",
    "\n",
    "print (X_train.shape)\n",
    "print (y_train.shape)"
   ]
  },
  {
   "cell_type": "code",
   "execution_count": 59,
   "metadata": {
    "scrolled": true
   },
   "outputs": [
    {
     "data": {
      "image/png": "[encoded data removed]",
      "text/plain": [
       "<matplotlib.figure.Figure at 0x1197942b0>"
      ]
     },
     "metadata": {},
     "output_type": "display_data"
    },
    {
     "name": "stdout",
     "output_type": "stream",
     "text": [
      "score:  0.41267665285739913\n"
     ]
    }
   ],
   "source": [
    "# TRAINING SET\n",
    "lmr = Ridge(alpha=.1, normalize=True)\n",
    "lmr.fit(X, y) \n",
    "\n",
    "# train_score = lm.score(X_train, y_train)\n",
    "# test_score = lm.score(X_test, y_test)\n",
    "\n",
    "predictions = lmr.predict(X_train)\n",
    "score = lmr.score(X_train, y_train)\n",
    "\n",
    "plt.figure(figsize=(8,8))\n",
    "plt.scatter(predictions, y_train, s=30, c='r', marker='+', zorder=10)\n",
    "plt.xlabel(\"Predicted Values from Views\")\n",
    "plt.ylabel(\"Actual Values \")\n",
    "plt.show()\n",
    "\n",
    "\n",
    "\n",
    "print (\"score: \", score)"
   ]
  },
  {
   "cell_type": "code",
   "execution_count": 60,
   "metadata": {},
   "outputs": [
    {
     "data": {
      "image/png": "[encoded data removed]",
      "text/plain": [
       "<matplotlib.figure.Figure at 0x119ab11d0>"
      ]
     },
     "metadata": {},
     "output_type": "display_data"
    },
    {
     "name": "stdout",
     "output_type": "stream",
     "text": [
      "score:  0.215647661410594\n"
     ]
    }
   ],
   "source": [
    "#TEST SET\n",
    "lmr = Ridge()\n",
    "lmr.fit(X, y) \n",
    "\n",
    "predictions = lmr.predict(X_test)\n",
    "score = lmr.score(X_test, y_test)\n",
    "\n",
    "plt.figure(figsize=(8,8))\n",
    "plt.scatter(predictions, y_test, s=30, c='r', marker='+', zorder=10)\n",
    "plt.xlabel(\"Predicted Values from Views\")\n",
    "plt.ylabel(\"Actual Values \")\n",
    "plt.show()\n",
    "\n",
    "print (\"score: \", score)"
   ]
  },
  {
   "cell_type": "code",
   "execution_count": null,
   "metadata": {},
   "outputs": [],
   "source": [
    "sns.boxplot(lmr.coef_)"
   ]
  },
  {
   "cell_type": "code",
   "execution_count": null,
   "metadata": {},
   "outputs": [],
   "source": [
    "lmr.coef_.std()"
   ]
  },
  {
   "cell_type": "code",
   "execution_count": null,
   "metadata": {},
   "outputs": [],
   "source": [
    "lmr.coef_.mean()"
   ]
  },
  {
   "cell_type": "code",
   "execution_count": null,
   "metadata": {
    "collapsed": true
   },
   "outputs": [],
   "source": []
  },
  {
   "cell_type": "markdown",
   "metadata": {},
   "source": [
    "# Compare Models"
   ]
  },
  {
   "cell_type": "code",
   "execution_count": null,
   "metadata": {},
   "outputs": [],
   "source": [
    "lm.coef_.mean()"
   ]
  },
  {
   "cell_type": "code",
   "execution_count": null,
   "metadata": {},
   "outputs": [],
   "source": [
    "lm.coef_.std()"
   ]
  },
  {
   "cell_type": "code",
   "execution_count": null,
   "metadata": {},
   "outputs": [],
   "source": [
    "lmr.coef_.mean()"
   ]
  },
  {
   "cell_type": "code",
   "execution_count": null,
   "metadata": {},
   "outputs": [],
   "source": [
    "lmr.coef_.std()"
   ]
  },
  {
   "cell_type": "code",
   "execution_count": null,
   "metadata": {},
   "outputs": [],
   "source": [
    "lmr.coef_.max()"
   ]
  },
  {
   "cell_type": "code",
   "execution_count": null,
   "metadata": {},
   "outputs": [],
   "source": [
    "# coef_.describe()"
   ]
  },
  {
   "cell_type": "code",
   "execution_count": null,
   "metadata": {},
   "outputs": [],
   "source": [
    "# X, y = make_regression(n_features=2, random_state=0)\n",
    "# regr = Ridge(random_state=0)\n",
    "# regr.fit(X, y)\n",
    "\n",
    "# print(regr.coef_) \n",
    "\n",
    "# print(regr.intercept_) \n",
    "\n",
    "# print(regr.predict([[0, 0]])) \n"
   ]
  },
  {
   "cell_type": "code",
   "execution_count": null,
   "metadata": {},
   "outputs": [],
   "source": [
    "# from sklearn import linear_model\n",
    "# reg = linear_model.RidgeCV(alphas=[0.1, 1.0, 10.0])\n",
    "# reg.fit(X,y)       \n",
    "\n",
    "# reg.alpha_  "
   ]
  },
  {
   "cell_type": "code",
   "execution_count": null,
   "metadata": {
    "collapsed": true
   },
   "outputs": [],
   "source": []
  },
  {
   "cell_type": "code",
   "execution_count": null,
   "metadata": {
    "collapsed": true
   },
   "outputs": [],
   "source": []
  },
  {
   "cell_type": "code",
   "execution_count": null,
   "metadata": {
    "collapsed": true
   },
   "outputs": [],
   "source": []
  },
  {
   "cell_type": "code",
   "execution_count": null,
   "metadata": {
    "collapsed": true
   },
   "outputs": [],
   "source": []
  }
 ],
 "metadata": {
  "kernelspec": {
   "display_name": "Python 3",
   "language": "python",
   "name": "python3"
  },
  "language_info": {
   "codemirror_mode": {
    "name": "ipython",
    "version": 3
   },
   "file_extension": ".py",
   "mimetype": "text/x-python",
   "name": "python",
   "nbconvert_exporter": "python",
   "pygments_lexer": "ipython3",
   "version": "3.6.1"
  }
 },
 "nbformat": 4,
 "nbformat_minor": 2
}
