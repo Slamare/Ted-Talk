{
 "cells": [
  {
   "cell_type": "markdown",
   "metadata": {},
   "source": [
    "# Project Proposal | Ted Talks"
   ]
  },
  {
   "cell_type": "markdown",
   "metadata": {},
   "source": [
    "![alt text](ted_logo2.png \"Title\")"
   ]
  },
  {
   "cell_type": "markdown",
   "metadata": {},
   "source": [
    "\n",
    "Ted Talks are popular because they are engaging and they have branded themselves as having'ideas worth spreading'. The presentation style has lead to millions watching. \n",
    "\n",
    "I am plannning to predict views of ted talks based on features like tags, duration, number of speakers, and comments. I am using Kaggle's Ted Talk dataset. Issues that I anticipate are building a model that acknowldges all the tag featurs. I chose this topic because I have always been facincated by Ted Talks and hope to give one some day. \n",
    "\n",
    "Kaggle Dataset: https://www.kaggle.com/rounakbanik/ted-talks/data\n",
    "\n",
    "TED is a nonpartisan nonprofit devoted to spreading ideas, usually in the form of short, powerful talks. TED began in 1984 as a conference where Technology, Entertainment and Design converged, and today covers almost all topics — from science to business to global issues — in more than 110 languages. Meanwhile, independently run TEDx events help share ideas in communities around the world.(https://www.ted.com/)"
   ]
  },
  {
   "cell_type": "code",
   "execution_count": null,
   "metadata": {
    "collapsed": true
   },
   "outputs": [],
   "source": []
  }
 ],
 "metadata": {
  "kernelspec": {
   "display_name": "Python 3",
   "language": "python",
   "name": "python3"
  },
  "language_info": {
   "codemirror_mode": {
    "name": "ipython",
    "version": 3
   },
   "file_extension": ".py",
   "mimetype": "text/x-python",
   "name": "python",
   "nbconvert_exporter": "python",
   "pygments_lexer": "ipython3",
   "version": "3.6.1"
  }
 },
 "nbformat": 4,
 "nbformat_minor": 2
}
