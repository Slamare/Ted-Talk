{
 "cells": [
  {
   "cell_type": "markdown",
   "metadata": {},
   "source": [
    "# Project Proposal | Ted Talks"
   ]
  },
  {
   "attachments": {},
   "cell_type": "markdown",
   "metadata": {},
   "source": [
    "![alt text](ted_logo2.png \"Title\")"
   ]
  },
  {
   "cell_type": "markdown",
   "metadata": {},
   "source": [
    "TED (Technology, Entertainment, Design) is a media organization which posts talks online for free distribution, under the slogan \"ideas worth spreading\". TED was founded in February 1984[5] as a conference, which has been held annually since 1990.[6] TED's early emphasis was technology and design, consistent with its Silicon Valley origins, but it has since broadened its focus to include talks on many scientific, cultural, and academic topics.- Wikipeida (https://en.wikipedia.org/wiki/TED_(conference))\n",
    "\n",
    "TED is a nonpartisan nonprofit devoted to spreading ideas, usually in the form of short, powerful talks. TED began in 1984 as a conference where Technology, Entertainment and Design converged, and today covers almost all topics — from science to business to global issues — in more than 110 languages. Meanwhile, independently run TEDx events help share ideas in communities around the world.(https://www.ted.com/)\n",
    "\n",
    "\n",
    "TEDx are independent TED-like events, which can be organized by anyone who obtains a free license from TED, agreeing to follow certain principles\n",
    "\n",
    "Ted Talks are popular because they are engaging and they have branded themselves as having'ideas worth spreading'. The presentation style has lead to millions watching. \n",
    "\n",
    "I am plannning to predict popularity of ted talks. I am using Kaggle's Ted Talk data with 7 features. Issues that I anticipate are ? I chose this topic because I have always been facincated by Ted Talks and hope to give one some day. \n",
    "\n",
    "Kaggle Dataset: https://www.kaggle.com/rounakbanik/ted-talks/data\n",
    "\n",
    "Data about TED Talks on the TED.com website until September 21st, 2017"
   ]
  },
  {
   "cell_type": "markdown",
   "metadata": {},
   "source": [
    "What are two or three potential questions you would like to try and answer? What data are you planning to use to answer that question? What do you know about the data so far? Why did you choose this data? Upload this as a MARKDOWN file in your the repo you created for the project. Keep in mind these might not be your final questions, but I want you to start thinking as soon as possible.\n",
    "\n",
    "Example:\n",
    "I'm planning to predict passenger survival on the Titanic.\n",
    "I have Kaggle's Titanic dataset with 10 passenger characteristics.\n",
    "I know that many of the fields have missing values, that some of the text fields are messy and will require cleaning, and that about 38% of the passengers in the training set survive.\n",
    "I chose this topic because I'm fascinated by the history of the Titanic.\n",
    "\n"
   ]
  },
  {
   "cell_type": "code",
   "execution_count": null,
   "metadata": {
    "collapsed": true
   },
   "outputs": [],
   "source": []
  }
 ],
 "metadata": {
  "kernelspec": {
   "display_name": "Python 3",
   "language": "python",
   "name": "python3"
  },
  "language_info": {
   "codemirror_mode": {
    "name": "ipython",
    "version": 3
   },
   "file_extension": ".py",
   "mimetype": "text/x-python",
   "name": "python",
   "nbconvert_exporter": "python",
   "pygments_lexer": "ipython3",
   "version": "3.6.1"
  }
 },
 "nbformat": 4,
 "nbformat_minor": 2
}
