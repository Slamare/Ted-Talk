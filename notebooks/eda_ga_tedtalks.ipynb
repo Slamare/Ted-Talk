{
 "cells": [
  {
   "cell_type": "markdown",
   "metadata": {},
   "source": [
    "# Ted Talks | Exploratory Data Analysis "
   ]
  },
  {
   "cell_type": "code",
   "execution_count": 2,
   "metadata": {
    "collapsed": true
   },
   "outputs": [],
   "source": [
    "#imports\n",
    "import pandas as pd\n",
    "import numpy as np\n",
    "import seaborn as sns\n",
    "import matplotlib.pyplot as plt\n",
    "import seaborn as sns\n",
    "import matplotlib as mpl\n",
    "%matplotlib inline\n",
    "plt.style.use('ggplot')\n",
    "from sklearn.linear_model import LinearRegression"
   ]
  },
  {
   "cell_type": "code",
   "execution_count": 7,
   "metadata": {},
   "outputs": [],
   "source": [
    "#load data and make into datafame\n",
    "df = pd.read_csv('/Users/shemikalamare/Desktop/ga_tedtalks/data/ted_main.csv')\n",
    "# %pwd"
   ]
  },
  {
   "cell_type": "code",
   "execution_count": 90,
   "metadata": {},
   "outputs": [
    {
     "data": {
      "text/html": [
       "<div>\n",
       "<style>\n",
       "    .dataframe thead tr:only-child th {\n",
       "        text-align: right;\n",
       "    }\n",
       "\n",
       "    .dataframe thead th {\n",
       "        text-align: left;\n",
       "    }\n",
       "\n",
       "    .dataframe tbody tr th {\n",
       "        vertical-align: top;\n",
       "    }\n",
       "</style>\n",
       "<table border=\"1\" class=\"dataframe\">\n",
       "  <thead>\n",
       "    <tr style=\"text-align: right;\">\n",
       "      <th></th>\n",
       "      <th>comments</th>\n",
       "      <th>description</th>\n",
       "      <th>duration</th>\n",
       "      <th>event</th>\n",
       "      <th>film_date</th>\n",
       "      <th>languages</th>\n",
       "      <th>main_speaker</th>\n",
       "      <th>name</th>\n",
       "      <th>num_speaker</th>\n",
       "      <th>published_date</th>\n",
       "      <th>ratings</th>\n",
       "      <th>related_talks</th>\n",
       "      <th>speaker_occupation</th>\n",
       "      <th>tags</th>\n",
       "      <th>title</th>\n",
       "      <th>url</th>\n",
       "      <th>views</th>\n",
       "    </tr>\n",
       "  </thead>\n",
       "  <tbody>\n",
       "    <tr>\n",
       "      <th>0</th>\n",
       "      <td>4553</td>\n",
       "      <td>Sir Ken Robinson makes an entertaining and pro...</td>\n",
       "      <td>1164</td>\n",
       "      <td>TED2006</td>\n",
       "      <td>24-02-2006</td>\n",
       "      <td>60</td>\n",
       "      <td>Ken Robinson</td>\n",
       "      <td>Ken Robinson: Do schools kill creativity?</td>\n",
       "      <td>1</td>\n",
       "      <td>26-06-2006</td>\n",
       "      <td>[{'id': 7, 'name': 'Funny', 'count': 19645}, {...</td>\n",
       "      <td>[{'id': 865, 'hero': 'https://pe.tedcdn.com/im...</td>\n",
       "      <td>Author/educator</td>\n",
       "      <td>['children', 'creativity', 'culture', 'dance',...</td>\n",
       "      <td>Do schools kill creativity?</td>\n",
       "      <td>https://www.ted.com/talks/ken_robinson_says_sc...</td>\n",
       "      <td>47227110</td>\n",
       "    </tr>\n",
       "    <tr>\n",
       "      <th>1</th>\n",
       "      <td>265</td>\n",
       "      <td>With the same humor and humanity he exuded in ...</td>\n",
       "      <td>977</td>\n",
       "      <td>TED2006</td>\n",
       "      <td>24-02-2006</td>\n",
       "      <td>43</td>\n",
       "      <td>Al Gore</td>\n",
       "      <td>Al Gore: Averting the climate crisis</td>\n",
       "      <td>1</td>\n",
       "      <td>26-06-2006</td>\n",
       "      <td>[{'id': 7, 'name': 'Funny', 'count': 544}, {'i...</td>\n",
       "      <td>[{'id': 243, 'hero': 'https://pe.tedcdn.com/im...</td>\n",
       "      <td>Climate advocate</td>\n",
       "      <td>['alternative energy', 'cars', 'climate change...</td>\n",
       "      <td>Averting the climate crisis</td>\n",
       "      <td>https://www.ted.com/talks/al_gore_on_averting_...</td>\n",
       "      <td>3200520</td>\n",
       "    </tr>\n",
       "    <tr>\n",
       "      <th>2</th>\n",
       "      <td>124</td>\n",
       "      <td>New York Times columnist David Pogue takes aim...</td>\n",
       "      <td>1286</td>\n",
       "      <td>TED2006</td>\n",
       "      <td>23-02-2006</td>\n",
       "      <td>26</td>\n",
       "      <td>David Pogue</td>\n",
       "      <td>David Pogue: Simplicity sells</td>\n",
       "      <td>1</td>\n",
       "      <td>26-06-2006</td>\n",
       "      <td>[{'id': 7, 'name': 'Funny', 'count': 964}, {'i...</td>\n",
       "      <td>[{'id': 1725, 'hero': 'https://pe.tedcdn.com/i...</td>\n",
       "      <td>Technology columnist</td>\n",
       "      <td>['computers', 'entertainment', 'interface desi...</td>\n",
       "      <td>Simplicity sells</td>\n",
       "      <td>https://www.ted.com/talks/david_pogue_says_sim...</td>\n",
       "      <td>1636292</td>\n",
       "    </tr>\n",
       "    <tr>\n",
       "      <th>3</th>\n",
       "      <td>200</td>\n",
       "      <td>In an emotionally charged talk, MacArthur-winn...</td>\n",
       "      <td>1116</td>\n",
       "      <td>TED2006</td>\n",
       "      <td>25-02-2006</td>\n",
       "      <td>35</td>\n",
       "      <td>Majora Carter</td>\n",
       "      <td>Majora Carter: Greening the ghetto</td>\n",
       "      <td>1</td>\n",
       "      <td>26-06-2006</td>\n",
       "      <td>[{'id': 3, 'name': 'Courageous', 'count': 760}...</td>\n",
       "      <td>[{'id': 1041, 'hero': 'https://pe.tedcdn.com/i...</td>\n",
       "      <td>Activist for environmental justice</td>\n",
       "      <td>['MacArthur grant', 'activism', 'business', 'c...</td>\n",
       "      <td>Greening the ghetto</td>\n",
       "      <td>https://www.ted.com/talks/majora_carter_s_tale...</td>\n",
       "      <td>1697550</td>\n",
       "    </tr>\n",
       "    <tr>\n",
       "      <th>4</th>\n",
       "      <td>593</td>\n",
       "      <td>You've never seen data presented like this. Wi...</td>\n",
       "      <td>1190</td>\n",
       "      <td>TED2006</td>\n",
       "      <td>21-02-2006</td>\n",
       "      <td>48</td>\n",
       "      <td>Hans Rosling</td>\n",
       "      <td>Hans Rosling: The best stats you've ever seen</td>\n",
       "      <td>1</td>\n",
       "      <td>27-06-2006</td>\n",
       "      <td>[{'id': 9, 'name': 'Ingenious', 'count': 3202}...</td>\n",
       "      <td>[{'id': 2056, 'hero': 'https://pe.tedcdn.com/i...</td>\n",
       "      <td>Global health expert; data visionary</td>\n",
       "      <td>['Africa', 'Asia', 'Google', 'demo', 'economic...</td>\n",
       "      <td>The best stats you've ever seen</td>\n",
       "      <td>https://www.ted.com/talks/hans_rosling_shows_t...</td>\n",
       "      <td>12005869</td>\n",
       "    </tr>\n",
       "  </tbody>\n",
       "</table>\n",
       "</div>"
      ],
      "text/plain": [
       "   comments                                        description  duration  \\\n",
       "0      4553  Sir Ken Robinson makes an entertaining and pro...      1164   \n",
       "1       265  With the same humor and humanity he exuded in ...       977   \n",
       "2       124  New York Times columnist David Pogue takes aim...      1286   \n",
       "3       200  In an emotionally charged talk, MacArthur-winn...      1116   \n",
       "4       593  You've never seen data presented like this. Wi...      1190   \n",
       "\n",
       "     event   film_date  languages   main_speaker  \\\n",
       "0  TED2006  24-02-2006         60   Ken Robinson   \n",
       "1  TED2006  24-02-2006         43        Al Gore   \n",
       "2  TED2006  23-02-2006         26    David Pogue   \n",
       "3  TED2006  25-02-2006         35  Majora Carter   \n",
       "4  TED2006  21-02-2006         48   Hans Rosling   \n",
       "\n",
       "                                            name  num_speaker published_date  \\\n",
       "0      Ken Robinson: Do schools kill creativity?            1     26-06-2006   \n",
       "1           Al Gore: Averting the climate crisis            1     26-06-2006   \n",
       "2                  David Pogue: Simplicity sells            1     26-06-2006   \n",
       "3             Majora Carter: Greening the ghetto            1     26-06-2006   \n",
       "4  Hans Rosling: The best stats you've ever seen            1     27-06-2006   \n",
       "\n",
       "                                             ratings  \\\n",
       "0  [{'id': 7, 'name': 'Funny', 'count': 19645}, {...   \n",
       "1  [{'id': 7, 'name': 'Funny', 'count': 544}, {'i...   \n",
       "2  [{'id': 7, 'name': 'Funny', 'count': 964}, {'i...   \n",
       "3  [{'id': 3, 'name': 'Courageous', 'count': 760}...   \n",
       "4  [{'id': 9, 'name': 'Ingenious', 'count': 3202}...   \n",
       "\n",
       "                                       related_talks  \\\n",
       "0  [{'id': 865, 'hero': 'https://pe.tedcdn.com/im...   \n",
       "1  [{'id': 243, 'hero': 'https://pe.tedcdn.com/im...   \n",
       "2  [{'id': 1725, 'hero': 'https://pe.tedcdn.com/i...   \n",
       "3  [{'id': 1041, 'hero': 'https://pe.tedcdn.com/i...   \n",
       "4  [{'id': 2056, 'hero': 'https://pe.tedcdn.com/i...   \n",
       "\n",
       "                     speaker_occupation  \\\n",
       "0                       Author/educator   \n",
       "1                      Climate advocate   \n",
       "2                  Technology columnist   \n",
       "3    Activist for environmental justice   \n",
       "4  Global health expert; data visionary   \n",
       "\n",
       "                                                tags  \\\n",
       "0  ['children', 'creativity', 'culture', 'dance',...   \n",
       "1  ['alternative energy', 'cars', 'climate change...   \n",
       "2  ['computers', 'entertainment', 'interface desi...   \n",
       "3  ['MacArthur grant', 'activism', 'business', 'c...   \n",
       "4  ['Africa', 'Asia', 'Google', 'demo', 'economic...   \n",
       "\n",
       "                             title  \\\n",
       "0      Do schools kill creativity?   \n",
       "1      Averting the climate crisis   \n",
       "2                 Simplicity sells   \n",
       "3              Greening the ghetto   \n",
       "4  The best stats you've ever seen   \n",
       "\n",
       "                                                 url     views  \n",
       "0  https://www.ted.com/talks/ken_robinson_says_sc...  47227110  \n",
       "1  https://www.ted.com/talks/al_gore_on_averting_...   3200520  \n",
       "2  https://www.ted.com/talks/david_pogue_says_sim...   1636292  \n",
       "3  https://www.ted.com/talks/majora_carter_s_tale...   1697550  \n",
       "4  https://www.ted.com/talks/hans_rosling_shows_t...  12005869  "
      ]
     },
     "execution_count": 90,
     "metadata": {},
     "output_type": "execute_result"
    }
   ],
   "source": [
    "#review dataset\n",
    "df.head()"
   ]
  },
  {
   "cell_type": "code",
   "execution_count": 9,
   "metadata": {},
   "outputs": [
    {
     "data": {
      "text/plain": [
       "(2550, 17)"
      ]
     },
     "execution_count": 9,
     "metadata": {},
     "output_type": "execute_result"
    }
   ],
   "source": [
    "#review shape of dataset\n",
    "df.shape"
   ]
  },
  {
   "cell_type": "code",
   "execution_count": 10,
   "metadata": {},
   "outputs": [
    {
     "data": {
      "text/plain": [
       "Index(['comments', 'description', 'duration', 'event', 'film_date',\n",
       "       'languages', 'main_speaker', 'name', 'num_speaker', 'published_date',\n",
       "       'ratings', 'related_talks', 'speaker_occupation', 'tags', 'title',\n",
       "       'url', 'views'],\n",
       "      dtype='object')"
      ]
     },
     "execution_count": 10,
     "metadata": {},
     "output_type": "execute_result"
    }
   ],
   "source": [
    "#review columns to consider features and prediction questions\n",
    "df.columns"
   ]
  },
  {
   "cell_type": "code",
   "execution_count": 11,
   "metadata": {},
   "outputs": [
    {
     "name": "stdout",
     "output_type": "stream",
     "text": [
      "<class 'pandas.core.frame.DataFrame'>\n",
      "RangeIndex: 2550 entries, 0 to 2549\n",
      "Data columns (total 17 columns):\n",
      "comments              2550 non-null int64\n",
      "description           2550 non-null object\n",
      "duration              2550 non-null int64\n",
      "event                 2550 non-null object\n",
      "film_date             2550 non-null int64\n",
      "languages             2550 non-null int64\n",
      "main_speaker          2550 non-null object\n",
      "name                  2550 non-null object\n",
      "num_speaker           2550 non-null int64\n",
      "published_date        2550 non-null int64\n",
      "ratings               2550 non-null object\n",
      "related_talks         2550 non-null object\n",
      "speaker_occupation    2544 non-null object\n",
      "tags                  2550 non-null object\n",
      "title                 2550 non-null object\n",
      "url                   2550 non-null object\n",
      "views                 2550 non-null int64\n",
      "dtypes: int64(7), object(10)\n",
      "memory usage: 338.8+ KB\n"
     ]
    }
   ],
   "source": [
    "#undserand basic info on dataset\n",
    "df.info()"
   ]
  },
  {
   "cell_type": "code",
   "execution_count": 12,
   "metadata": {},
   "outputs": [
    {
     "data": {
      "text/html": [
       "<div>\n",
       "<style>\n",
       "    .dataframe thead tr:only-child th {\n",
       "        text-align: right;\n",
       "    }\n",
       "\n",
       "    .dataframe thead th {\n",
       "        text-align: left;\n",
       "    }\n",
       "\n",
       "    .dataframe tbody tr th {\n",
       "        vertical-align: top;\n",
       "    }\n",
       "</style>\n",
       "<table border=\"1\" class=\"dataframe\">\n",
       "  <thead>\n",
       "    <tr style=\"text-align: right;\">\n",
       "      <th></th>\n",
       "      <th>comments</th>\n",
       "      <th>duration</th>\n",
       "      <th>film_date</th>\n",
       "      <th>languages</th>\n",
       "      <th>num_speaker</th>\n",
       "      <th>published_date</th>\n",
       "      <th>views</th>\n",
       "    </tr>\n",
       "  </thead>\n",
       "  <tbody>\n",
       "    <tr>\n",
       "      <th>count</th>\n",
       "      <td>2550.000000</td>\n",
       "      <td>2550.000000</td>\n",
       "      <td>2.550000e+03</td>\n",
       "      <td>2550.000000</td>\n",
       "      <td>2550.000000</td>\n",
       "      <td>2.550000e+03</td>\n",
       "      <td>2.550000e+03</td>\n",
       "    </tr>\n",
       "    <tr>\n",
       "      <th>mean</th>\n",
       "      <td>191.562353</td>\n",
       "      <td>826.510196</td>\n",
       "      <td>1.321928e+09</td>\n",
       "      <td>27.326275</td>\n",
       "      <td>1.028235</td>\n",
       "      <td>1.343525e+09</td>\n",
       "      <td>1.698297e+06</td>\n",
       "    </tr>\n",
       "    <tr>\n",
       "      <th>std</th>\n",
       "      <td>282.315223</td>\n",
       "      <td>374.009138</td>\n",
       "      <td>1.197391e+08</td>\n",
       "      <td>9.563452</td>\n",
       "      <td>0.207705</td>\n",
       "      <td>9.464009e+07</td>\n",
       "      <td>2.498479e+06</td>\n",
       "    </tr>\n",
       "    <tr>\n",
       "      <th>min</th>\n",
       "      <td>2.000000</td>\n",
       "      <td>135.000000</td>\n",
       "      <td>7.464960e+07</td>\n",
       "      <td>0.000000</td>\n",
       "      <td>1.000000</td>\n",
       "      <td>1.151367e+09</td>\n",
       "      <td>5.044300e+04</td>\n",
       "    </tr>\n",
       "    <tr>\n",
       "      <th>25%</th>\n",
       "      <td>63.000000</td>\n",
       "      <td>577.000000</td>\n",
       "      <td>1.257466e+09</td>\n",
       "      <td>23.000000</td>\n",
       "      <td>1.000000</td>\n",
       "      <td>1.268463e+09</td>\n",
       "      <td>7.557928e+05</td>\n",
       "    </tr>\n",
       "    <tr>\n",
       "      <th>50%</th>\n",
       "      <td>118.000000</td>\n",
       "      <td>848.000000</td>\n",
       "      <td>1.333238e+09</td>\n",
       "      <td>28.000000</td>\n",
       "      <td>1.000000</td>\n",
       "      <td>1.340935e+09</td>\n",
       "      <td>1.124524e+06</td>\n",
       "    </tr>\n",
       "    <tr>\n",
       "      <th>75%</th>\n",
       "      <td>221.750000</td>\n",
       "      <td>1046.750000</td>\n",
       "      <td>1.412964e+09</td>\n",
       "      <td>33.000000</td>\n",
       "      <td>1.000000</td>\n",
       "      <td>1.423432e+09</td>\n",
       "      <td>1.700760e+06</td>\n",
       "    </tr>\n",
       "    <tr>\n",
       "      <th>max</th>\n",
       "      <td>6404.000000</td>\n",
       "      <td>5256.000000</td>\n",
       "      <td>1.503792e+09</td>\n",
       "      <td>72.000000</td>\n",
       "      <td>5.000000</td>\n",
       "      <td>1.506092e+09</td>\n",
       "      <td>4.722711e+07</td>\n",
       "    </tr>\n",
       "  </tbody>\n",
       "</table>\n",
       "</div>"
      ],
      "text/plain": [
       "          comments     duration     film_date    languages  num_speaker  \\\n",
       "count  2550.000000  2550.000000  2.550000e+03  2550.000000  2550.000000   \n",
       "mean    191.562353   826.510196  1.321928e+09    27.326275     1.028235   \n",
       "std     282.315223   374.009138  1.197391e+08     9.563452     0.207705   \n",
       "min       2.000000   135.000000  7.464960e+07     0.000000     1.000000   \n",
       "25%      63.000000   577.000000  1.257466e+09    23.000000     1.000000   \n",
       "50%     118.000000   848.000000  1.333238e+09    28.000000     1.000000   \n",
       "75%     221.750000  1046.750000  1.412964e+09    33.000000     1.000000   \n",
       "max    6404.000000  5256.000000  1.503792e+09    72.000000     5.000000   \n",
       "\n",
       "       published_date         views  \n",
       "count    2.550000e+03  2.550000e+03  \n",
       "mean     1.343525e+09  1.698297e+06  \n",
       "std      9.464009e+07  2.498479e+06  \n",
       "min      1.151367e+09  5.044300e+04  \n",
       "25%      1.268463e+09  7.557928e+05  \n",
       "50%      1.340935e+09  1.124524e+06  \n",
       "75%      1.423432e+09  1.700760e+06  \n",
       "max      1.506092e+09  4.722711e+07  "
      ]
     },
     "execution_count": 12,
     "metadata": {},
     "output_type": "execute_result"
    }
   ],
   "source": [
    "#descriptive info on numerical data\n",
    "df.describe()"
   ]
  },
  {
   "cell_type": "code",
   "execution_count": 13,
   "metadata": {},
   "outputs": [
    {
     "data": {
      "text/plain": [
       "comments              0\n",
       "description           0\n",
       "duration              0\n",
       "event                 0\n",
       "film_date             0\n",
       "languages             0\n",
       "main_speaker          0\n",
       "name                  0\n",
       "num_speaker           0\n",
       "published_date        0\n",
       "ratings               0\n",
       "related_talks         0\n",
       "speaker_occupation    6\n",
       "tags                  0\n",
       "title                 0\n",
       "url                   0\n",
       "views                 0\n",
       "dtype: int64"
      ]
     },
     "execution_count": 13,
     "metadata": {},
     "output_type": "execute_result"
    }
   ],
   "source": [
    "#count the number of missing values\n",
    "df.isnull().sum()\n",
    "#there are only 6 missing columns, that is great!"
   ]
  },
  {
   "cell_type": "code",
   "execution_count": 87,
   "metadata": {},
   "outputs": [
    {
     "data": {
      "text/plain": [
       "4330658578"
      ]
     },
     "execution_count": 87,
     "metadata": {},
     "output_type": "execute_result"
    }
   ],
   "source": [
    "#total number of views for ted talks\n",
    "df.views.sum()"
   ]
  },
  {
   "cell_type": "markdown",
   "metadata": {},
   "source": [
    "List of Features:\n",
    "\n",
    "comments              \n",
    "description           \n",
    "duration              \n",
    "event                 \n",
    "film_date             \n",
    "languages             \n",
    "main_speaker          \n",
    "name                  \n",
    "num_speaker           \n",
    "published_date        \n",
    "ratings               \n",
    "related_talks         \n",
    "speaker_occupation    \n",
    "tags                  \n",
    "title                 \n",
    "url                   \n",
    "views       "
   ]
  },
  {
   "cell_type": "markdown",
   "metadata": {},
   "source": [
    "# Main Speaker"
   ]
  },
  {
   "cell_type": "code",
   "execution_count": 15,
   "metadata": {},
   "outputs": [],
   "source": [
    "df_speaker = df.groupby('main_speaker').count().reset_index()[['main_speaker']].count()"
   ]
  },
  {
   "cell_type": "code",
   "execution_count": 16,
   "metadata": {},
   "outputs": [
    {
     "data": {
      "text/plain": [
       "main_speaker    2156\n",
       "dtype: int64"
      ]
     },
     "execution_count": 16,
     "metadata": {},
     "output_type": "execute_result"
    }
   ],
   "source": [
    "df_speaker"
   ]
  },
  {
   "cell_type": "code",
   "execution_count": 17,
   "metadata": {},
   "outputs": [
    {
     "data": {
      "text/html": [
       "<div>\n",
       "<style>\n",
       "    .dataframe thead tr:only-child th {\n",
       "        text-align: right;\n",
       "    }\n",
       "\n",
       "    .dataframe thead th {\n",
       "        text-align: left;\n",
       "    }\n",
       "\n",
       "    .dataframe tbody tr th {\n",
       "        vertical-align: top;\n",
       "    }\n",
       "</style>\n",
       "<table border=\"1\" class=\"dataframe\">\n",
       "  <thead>\n",
       "    <tr style=\"text-align: right;\">\n",
       "      <th></th>\n",
       "      <th>comments</th>\n",
       "      <th>duration</th>\n",
       "      <th>film_date</th>\n",
       "      <th>languages</th>\n",
       "      <th>num_speaker</th>\n",
       "      <th>published_date</th>\n",
       "      <th>views</th>\n",
       "    </tr>\n",
       "  </thead>\n",
       "  <tbody>\n",
       "    <tr>\n",
       "      <th>0</th>\n",
       "      <td>4553</td>\n",
       "      <td>1164</td>\n",
       "      <td>1140825600</td>\n",
       "      <td>60</td>\n",
       "      <td>1</td>\n",
       "      <td>1151367060</td>\n",
       "      <td>47227110</td>\n",
       "    </tr>\n",
       "    <tr>\n",
       "      <th>1</th>\n",
       "      <td>265</td>\n",
       "      <td>977</td>\n",
       "      <td>1140825600</td>\n",
       "      <td>43</td>\n",
       "      <td>1</td>\n",
       "      <td>1151367060</td>\n",
       "      <td>3200520</td>\n",
       "    </tr>\n",
       "    <tr>\n",
       "      <th>2</th>\n",
       "      <td>124</td>\n",
       "      <td>1286</td>\n",
       "      <td>1140739200</td>\n",
       "      <td>26</td>\n",
       "      <td>1</td>\n",
       "      <td>1151367060</td>\n",
       "      <td>1636292</td>\n",
       "    </tr>\n",
       "    <tr>\n",
       "      <th>3</th>\n",
       "      <td>200</td>\n",
       "      <td>1116</td>\n",
       "      <td>1140912000</td>\n",
       "      <td>35</td>\n",
       "      <td>1</td>\n",
       "      <td>1151367060</td>\n",
       "      <td>1697550</td>\n",
       "    </tr>\n",
       "    <tr>\n",
       "      <th>4</th>\n",
       "      <td>593</td>\n",
       "      <td>1190</td>\n",
       "      <td>1140566400</td>\n",
       "      <td>48</td>\n",
       "      <td>1</td>\n",
       "      <td>1151440680</td>\n",
       "      <td>12005869</td>\n",
       "    </tr>\n",
       "  </tbody>\n",
       "</table>\n",
       "</div>"
      ],
      "text/plain": [
       "   comments  duration   film_date  languages  num_speaker  published_date  \\\n",
       "0      4553      1164  1140825600         60            1      1151367060   \n",
       "1       265       977  1140825600         43            1      1151367060   \n",
       "2       124      1286  1140739200         26            1      1151367060   \n",
       "3       200      1116  1140912000         35            1      1151367060   \n",
       "4       593      1190  1140566400         48            1      1151440680   \n",
       "\n",
       "      views  \n",
       "0  47227110  \n",
       "1   3200520  \n",
       "2   1636292  \n",
       "3   1697550  \n",
       "4  12005869  "
      ]
     },
     "execution_count": 17,
     "metadata": {},
     "output_type": "execute_result"
    }
   ],
   "source": [
    "df.head()\n",
    "df.drop([\"description\", \"event\", \"main_speaker\", \"name\", \"ratings\", \"related_talks\", \"speaker_occupation\", \"tags\", \"title\", \"url\"], axis = 1).head()"
   ]
  },
  {
   "cell_type": "code",
   "execution_count": null,
   "metadata": {
    "collapsed": true
   },
   "outputs": [],
   "source": []
  },
  {
   "cell_type": "markdown",
   "metadata": {},
   "source": [
    "# Occupation"
   ]
  },
  {
   "cell_type": "code",
   "execution_count": 18,
   "metadata": {},
   "outputs": [
    {
     "data": {
      "text/plain": [
       "<bound method IndexOpsMixin.nunique of 0                                   Author/educator\n",
       "1                                  Climate advocate\n",
       "2                              Technology columnist\n",
       "3                Activist for environmental justice\n",
       "4              Global health expert; data visionary\n",
       "5       Life coach; expert in leadership psychology\n",
       "6                       Actor, comedian, playwright\n",
       "7                                         Architect\n",
       "8                  Philosopher, cognitive scientist\n",
       "9                                    Pastor, author\n",
       "10            Co-founder, Architecture for Humanity\n",
       "11                                        Filmmaker\n",
       "12                   Epidemiologist, philanthropist\n",
       "13                Human-computer interface designer\n",
       "14                                   Tech visionary\n",
       "15                                        Violinist\n",
       "16                                Pianist, composer\n",
       "17                               inventor, engineer\n",
       "18                              Industrial designer\n",
       "19                             Founder of Wikipedia\n",
       "20                              Education visionary\n",
       "21                             Humorist, web artist\n",
       "22                    Blogger; cofounder, Six Apart\n",
       "23                   Anthropologist, expert on love\n",
       "24                             Playwright, activist\n",
       "25                                Quantum physicist\n",
       "26                           Evolutionary biologist\n",
       "27                                        Economist\n",
       "28                                           Writer\n",
       "29                   Psychologist; happiness expert\n",
       "                           ...                     \n",
       "2520                     Futurist, social scientist\n",
       "2521                             Chemical biologist\n",
       "2522             Artist, musician, lawyer, activist\n",
       "2523                                   Entrepreneur\n",
       "2524                              Filmmaker, writer\n",
       "2525     Child protection leader, activist, author \n",
       "2526                                      AI expert\n",
       "2527         Surveillance and cybersecurity counsel\n",
       "2528                          Digital archaeologist\n",
       "2529             Sociologist, human rights activist\n",
       "2530                                         Artist\n",
       "2531                              Policy researcher\n",
       "2532                               Hedge fund chair\n",
       "2533                                         Artist\n",
       "2534                                         Author\n",
       "2535                               Writer, activist\n",
       "2536                               Marketing leader\n",
       "2537                                         Author\n",
       "2538                                      Economist\n",
       "2539                                           Chef\n",
       "2540                              Border specialist\n",
       "2541                                      Physicist\n",
       "2542                                         Artist\n",
       "2543                            Genomics researcher\n",
       "2544                         Historian, philosopher\n",
       "2545                                     Journalist\n",
       "2546                                 Astrobiologist\n",
       "2547                              Robotics engineer\n",
       "2548                            Public intellectual\n",
       "2549                                  Game designer\n",
       "Name: speaker_occupation, Length: 2550, dtype: object>"
      ]
     },
     "execution_count": 18,
     "metadata": {},
     "output_type": "execute_result"
    }
   ],
   "source": [
    "df.speaker_occupation.nunique"
   ]
  },
  {
   "cell_type": "code",
   "execution_count": 88,
   "metadata": {
    "collapsed": true
   },
   "outputs": [],
   "source": [
    "### Linear Models for All Features"
   ]
  },
  {
   "cell_type": "code",
   "execution_count": 89,
   "metadata": {},
   "outputs": [
    {
     "ename": "NameError",
     "evalue": "name 'X_test' is not defined",
     "output_type": "error",
     "traceback": [
      "\u001b[0;31m---------------------------------------------------------------------------\u001b[0m",
      "\u001b[0;31mNameError\u001b[0m                                 Traceback (most recent call last)",
      "\u001b[0;32m<ipython-input-89-b1605c0bc06f>\u001b[0m in \u001b[0;36m<module>\u001b[0;34m()\u001b[0m\n\u001b[1;32m      5\u001b[0m \u001b[0mmodel\u001b[0m \u001b[0;34m=\u001b[0m \u001b[0mLinearRegression\u001b[0m\u001b[0;34m(\u001b[0m\u001b[0;34m)\u001b[0m\u001b[0;34m\u001b[0m\u001b[0m\n\u001b[1;32m      6\u001b[0m \u001b[0;31m# model.fix(X,y)\u001b[0m\u001b[0;34m\u001b[0m\u001b[0;34m\u001b[0m\u001b[0m\n\u001b[0;32m----> 7\u001b[0;31m \u001b[0mX_test\u001b[0m\u001b[0;34m\u001b[0m\u001b[0m\n\u001b[0m\u001b[1;32m      8\u001b[0m \u001b[0;34m\u001b[0m\u001b[0m\n\u001b[1;32m      9\u001b[0m \u001b[0;34m\u001b[0m\u001b[0m\n",
      "\u001b[0;31mNameError\u001b[0m: name 'X_test' is not defined"
     ]
    }
   ],
   "source": [
    "X = df.num_speaker#df.drop([\"views\"], axis = 1)\n",
    "y = df.views\n",
    "\n",
    "\n",
    "model = LinearRegression()\n",
    "# model.fix(X,y)\n",
    "X_test \n",
    "\n",
    "\n",
    "plt.figure()\n",
    "plt.plot(X,y)\n",
    "plt.show()"
   ]
  },
  {
   "cell_type": "markdown",
   "metadata": {},
   "source": [
    "### Speakers"
   ]
  },
  {
   "cell_type": "code",
   "execution_count": 22,
   "metadata": {},
   "outputs": [
    {
     "data": {
      "text/plain": [
       "array(['Author/educator', 'Climate advocate', 'Technology columnist', ...,\n",
       "       'Historian, philosopher', 'Astrobiologist', ' Robotics engineer'],\n",
       "      dtype=object)"
      ]
     },
     "execution_count": 22,
     "metadata": {},
     "output_type": "execute_result"
    }
   ],
   "source": [
    "df['speaker_occupation'].unique()"
   ]
  },
  {
   "cell_type": "code",
   "execution_count": 23,
   "metadata": {},
   "outputs": [
    {
     "data": {
      "text/plain": [
       "Writer                                  45\n",
       "Artist                                  34\n",
       "Designer                                34\n",
       "Journalist                              33\n",
       "Entrepreneur                            31\n",
       "Architect                               30\n",
       "Inventor                                27\n",
       "Psychologist                            26\n",
       "Photographer                            25\n",
       "Filmmaker                               21\n",
       "Author                                  20\n",
       "Educator                                20\n",
       "Neuroscientist                          20\n",
       "Economist                               20\n",
       "Philosopher                             16\n",
       "Roboticist                              16\n",
       "Biologist                               15\n",
       "Physicist                               14\n",
       "Musician                                11\n",
       "Marine biologist                        11\n",
       "Global health expert; data visionary    10\n",
       "Activist                                10\n",
       "Technologist                            10\n",
       "Singer/songwriter                        9\n",
       "Astronomer                               9\n",
       "Poet                                     9\n",
       "Behavioral economist                     9\n",
       "Oceanographer                            9\n",
       "Historian                                9\n",
       "Philanthropist                           9\n",
       "Name: speaker_occupation, dtype: int64"
      ]
     },
     "execution_count": 23,
     "metadata": {},
     "output_type": "execute_result"
    }
   ],
   "source": [
    "df['speaker_occupation'].value_counts().head(30)\n",
    "#there are some speaker occupations that are only listed once\n",
    "#and they could be categorized with the other option\n",
    "#example: bee expert, could be Biologist"
   ]
  },
  {
   "cell_type": "code",
   "execution_count": 24,
   "metadata": {},
   "outputs": [],
   "source": [
    "top_speakers = df['speaker_occupation'].value_counts().head(10)\n"
   ]
  },
  {
   "cell_type": "code",
   "execution_count": 25,
   "metadata": {},
   "outputs": [],
   "source": [
    "top_occupation = top_speakers.iloc[::-1] #reverse order to make easer to view on graph\n",
    "\n",
    "# df = df.iloc[::-1]"
   ]
  },
  {
   "cell_type": "code",
   "execution_count": 26,
   "metadata": {},
   "outputs": [
    {
     "data": {
      "text/plain": [
       "<matplotlib.axes._subplots.AxesSubplot at 0x11baa1dd8>"
      ]
     },
     "execution_count": 26,
     "metadata": {},
     "output_type": "execute_result"
    },
    {
     "data": {
      "image/png": "[encoded data removed]",
      "text/plain": [
       "<matplotlib.figure.Figure at 0x11baa1a90>"
      ]
     },
     "metadata": {},
     "output_type": "display_data"
    }
   ],
   "source": [
    "top_occupation.plot(kind='barh', fontsize = 15, grid=False, title=\"Top 10 Speaker Occupations\", color='DarkCyan', figsize = (8,8))\n",
    "\n",
    "# df.languages.plot(kind = 'hist', bins = 5, figsize = (8,8), grid=False, fontsize = 15, title=\"Number of Languages in which the Talk is Available\", color='DarkCyan')"
   ]
  },
  {
   "cell_type": "code",
   "execution_count": 27,
   "metadata": {
    "collapsed": true
   },
   "outputs": [],
   "source": [
    "# df['month'] = df['film_date'].apply(lambda x: month_order[int(x.split('-')[1]) - 1])\n",
    "\n",
    "# month_df = pd.DataFrame(df['month'].value_counts()).reset_index()\n",
    "# month_df.columns = ['month', 'name']"
   ]
  },
  {
   "cell_type": "code",
   "execution_count": 28,
   "metadata": {
    "collapsed": true
   },
   "outputs": [],
   "source": [
    "# df['speakers'].value_counts()\n",
    "# I dont think these are as pertitent since TEDx decides how many speakers"
   ]
  },
  {
   "cell_type": "code",
   "execution_count": 29,
   "metadata": {
    "collapsed": true
   },
   "outputs": [],
   "source": [
    "# df['related_talks']\n",
    "#looks interesting not sure I know how or have the time to do this now"
   ]
  },
  {
   "cell_type": "code",
   "execution_count": 30,
   "metadata": {
    "collapsed": true
   },
   "outputs": [],
   "source": [
    "#potential predictions:\n",
    " #views\n",
    " #features:\n",
    " #tags, duration, event, languages, num_speakers, related talks, speaker_occupation, ratings (maybe)"
   ]
  },
  {
   "cell_type": "code",
   "execution_count": 31,
   "metadata": {},
   "outputs": [
    {
     "data": {
      "text/plain": [
       "0     [{'id': 7, 'name': 'Funny', 'count': 19645}, {...\n",
       "1     [{'id': 7, 'name': 'Funny', 'count': 544}, {'i...\n",
       "2     [{'id': 7, 'name': 'Funny', 'count': 964}, {'i...\n",
       "3     [{'id': 3, 'name': 'Courageous', 'count': 760}...\n",
       "4     [{'id': 9, 'name': 'Ingenious', 'count': 3202}...\n",
       "5     [{'id': 7, 'name': 'Funny', 'count': 1102}, {'...\n",
       "6     [{'id': 3, 'name': 'Courageous', 'count': 477}...\n",
       "7     [{'id': 9, 'name': 'Ingenious', 'count': 195},...\n",
       "8     [{'id': 3, 'name': 'Courageous', 'count': 562}...\n",
       "9     [{'id': 21, 'name': 'Unconvincing', 'count': 8...\n",
       "10    [{'id': 3, 'name': 'Courageous', 'count': 169}...\n",
       "11    [{'id': 1, 'name': 'Beautiful', 'count': 70}, ...\n",
       "12    [{'id': 8, 'name': 'Informative', 'count': 188...\n",
       "13    [{'id': 9, 'name': 'Ingenious', 'count': 1014}...\n",
       "14    [{'id': 3, 'name': 'Courageous', 'count': 83},...\n",
       "Name: ratings, dtype: object"
      ]
     },
     "execution_count": 31,
     "metadata": {},
     "output_type": "execute_result"
    }
   ],
   "source": [
    "df.ratings.head(15)"
   ]
  },
  {
   "cell_type": "markdown",
   "metadata": {},
   "source": [
    "# Analysis of Each Feature"
   ]
  },
  {
   "cell_type": "markdown",
   "metadata": {},
   "source": [
    "### Features:\n",
    "\n",
    "film_date: The Unix timestamp of the filming.\n",
    "published_date: The Unix timestamp for the publication of the talk on TED.com\n",
    "ratings: A stringified dictionary of the various ratings given to the talk (inspiring, fascinating, jaw dropping, etc.)\n",
    "\n",
    "\n",
    "tags: The themes associated with the talk. #count vectorizer \n",
    "views: The number of views on the talk.\n",
    "comments: The number of first level comments made on the talk.\n",
    "languages: The number of languages in which the talk is available.\n",
    "duration: The duration of the talk in seconds.\n",
    "num_speaker: The number of speakers in the talk.\n",
    "event: The TED/TEDx event where the talk took place.\n",
    "\n",
    "\n",
    "Features not using:\n",
    "url: The URL of the talk.\n",
    "name: The official name of the TED Talk. Includes the title and the speaker.\n",
    "title: The title of the talk\n",
    "description: A blurb of what the talk is about.\n",
    "main_speaker: The first named speaker of the talk.\n",
    "speaker_occupation: The occupation of the main speaker.\n",
    "\n",
    "maybe: related_talks: A list of dictionaries of recommended talks to watch next."
   ]
  },
  {
   "cell_type": "markdown",
   "metadata": {},
   "source": [
    "### Film Date"
   ]
  },
  {
   "cell_type": "code",
   "execution_count": 32,
   "metadata": {
    "scrolled": true
   },
   "outputs": [
    {
     "data": {
      "text/plain": [
       "0    1140825600\n",
       "1    1140825600\n",
       "2    1140739200\n",
       "3    1140912000\n",
       "4    1140566400\n",
       "Name: film_date, dtype: int64"
      ]
     },
     "execution_count": 32,
     "metadata": {},
     "output_type": "execute_result"
    }
   ],
   "source": [
    "df.film_date.head()"
   ]
  },
  {
   "cell_type": "code",
   "execution_count": 33,
   "metadata": {},
   "outputs": [],
   "source": [
    "import datetime\n",
    "df['film_date'] = df['film_date'].apply(lambda x: datetime.datetime.fromtimestamp( int(x)).strftime('%d-%m-%Y'))\n",
    "df['published_date'] = df['published_date'].apply(lambda x: datetime.datetime.fromtimestamp( int(x)).strftime('%d-%m-%Y'))"
   ]
  },
  {
   "cell_type": "code",
   "execution_count": 34,
   "metadata": {
    "collapsed": true
   },
   "outputs": [],
   "source": [
    "# df.plot(kind = \"bar\", x = \"published_date\", y = \"views\", figsize = (8,8))"
   ]
  },
  {
   "cell_type": "code",
   "execution_count": null,
   "metadata": {
    "collapsed": true
   },
   "outputs": [],
   "source": []
  },
  {
   "cell_type": "markdown",
   "metadata": {},
   "source": [
    "### Tags\n"
   ]
  },
  {
   "cell_type": "markdown",
   "metadata": {},
   "source": [
    "tags: The themes associated with the talk. #count vectorizer "
   ]
  },
  {
   "cell_type": "code",
   "execution_count": 35,
   "metadata": {},
   "outputs": [
    {
     "data": {
      "text/plain": [
       "0    ['children', 'creativity', 'culture', 'dance',...\n",
       "1    ['alternative energy', 'cars', 'climate change...\n",
       "2    ['computers', 'entertainment', 'interface desi...\n",
       "3    ['MacArthur grant', 'activism', 'business', 'c...\n",
       "4    ['Africa', 'Asia', 'Google', 'demo', 'economic...\n",
       "5    ['business', 'culture', 'entertainment', 'goal...\n",
       "6    ['Christianity', 'God', 'atheism', 'comedy', '...\n",
       "7    ['architecture', 'collaboration', 'culture', '...\n",
       "8    ['God', 'TED Brain Trust', 'atheism', 'brain',...\n",
       "9    ['Christianity', 'God', 'culture', 'happiness'...\n",
       "Name: tags, dtype: object"
      ]
     },
     "execution_count": 35,
     "metadata": {},
     "output_type": "execute_result"
    }
   ],
   "source": [
    "df.tags.head(10)"
   ]
  },
  {
   "cell_type": "code",
   "execution_count": 36,
   "metadata": {},
   "outputs": [
    {
     "ename": "NameError",
     "evalue": "name 'CountVectorizer' is not defined",
     "output_type": "error",
     "traceback": [
      "\u001b[0;31m---------------------------------------------------------------------------\u001b[0m",
      "\u001b[0;31mNameError\u001b[0m                                 Traceback (most recent call last)",
      "\u001b[0;32m<ipython-input-36-b0aa0a5c4be4>\u001b[0m in \u001b[0;36m<module>\u001b[0;34m()\u001b[0m\n\u001b[1;32m      1\u001b[0m \u001b[0mtags\u001b[0m \u001b[0;34m=\u001b[0m \u001b[0mdf\u001b[0m\u001b[0;34m.\u001b[0m\u001b[0mtags\u001b[0m\u001b[0;34m\u001b[0m\u001b[0m\n\u001b[1;32m      2\u001b[0m \u001b[0;34m\u001b[0m\u001b[0m\n\u001b[0;32m----> 3\u001b[0;31m \u001b[0mcountv\u001b[0m \u001b[0;34m=\u001b[0m \u001b[0mCountVectorizer\u001b[0m\u001b[0;34m(\u001b[0m\u001b[0mmax_features\u001b[0m\u001b[0;34m=\u001b[0m\u001b[0;36m100\u001b[0m\u001b[0;34m)\u001b[0m\u001b[0;34m\u001b[0m\u001b[0m\n\u001b[0m\u001b[1;32m      4\u001b[0m \u001b[0;34m\u001b[0m\u001b[0m\n\u001b[1;32m      5\u001b[0m \u001b[0mtag_dtm\u001b[0m \u001b[0;34m=\u001b[0m \u001b[0mcountv\u001b[0m\u001b[0;34m.\u001b[0m\u001b[0mfit_transform\u001b[0m\u001b[0;34m(\u001b[0m\u001b[0mtags\u001b[0m\u001b[0;34m)\u001b[0m\u001b[0;34m\u001b[0m\u001b[0m\n",
      "\u001b[0;31mNameError\u001b[0m: name 'CountVectorizer' is not defined"
     ]
    }
   ],
   "source": [
    "tags = df.tags\n",
    "\n",
    "countv = CountVectorizer(max_features=100)\n",
    "\n",
    "tag_dtm = countv.fit_transform(tags)"
   ]
  },
  {
   "cell_type": "code",
   "execution_count": 37,
   "metadata": {},
   "outputs": [
    {
     "ename": "NameError",
     "evalue": "name 'tag_dtm' is not defined",
     "output_type": "error",
     "traceback": [
      "\u001b[0;31m---------------------------------------------------------------------------\u001b[0m",
      "\u001b[0;31mNameError\u001b[0m                                 Traceback (most recent call last)",
      "\u001b[0;32m<ipython-input-37-748b8bebbb3e>\u001b[0m in \u001b[0;36m<module>\u001b[0;34m()\u001b[0m\n\u001b[0;32m----> 1\u001b[0;31m \u001b[0mtag_df\u001b[0m \u001b[0;34m=\u001b[0m \u001b[0mpd\u001b[0m\u001b[0;34m.\u001b[0m\u001b[0mDataFrame\u001b[0m\u001b[0;34m(\u001b[0m\u001b[0mtag_dtm\u001b[0m\u001b[0;34m.\u001b[0m\u001b[0mtoarray\u001b[0m\u001b[0;34m(\u001b[0m\u001b[0;34m)\u001b[0m\u001b[0;34m,\u001b[0m \u001b[0mcolumns\u001b[0m\u001b[0;34m=\u001b[0m\u001b[0mcountv\u001b[0m\u001b[0;34m.\u001b[0m\u001b[0mget_feature_names\u001b[0m\u001b[0;34m(\u001b[0m\u001b[0;34m)\u001b[0m\u001b[0;34m)\u001b[0m\u001b[0;34m\u001b[0m\u001b[0m\n\u001b[0m\u001b[1;32m      2\u001b[0m \u001b[0mtag_df\u001b[0m\u001b[0;34m.\u001b[0m\u001b[0mhead\u001b[0m\u001b[0;34m(\u001b[0m\u001b[0;34m)\u001b[0m\u001b[0;34m\u001b[0m\u001b[0m\n",
      "\u001b[0;31mNameError\u001b[0m: name 'tag_dtm' is not defined"
     ]
    }
   ],
   "source": [
    "tag_df = pd.DataFrame(tag_dtm.toarray(), columns=countv.get_feature_names())\n",
    "tag_df.head()"
   ]
  },
  {
   "cell_type": "code",
   "execution_count": 38,
   "metadata": {},
   "outputs": [
    {
     "ename": "NameError",
     "evalue": "name 'tag_df' is not defined",
     "output_type": "error",
     "traceback": [
      "\u001b[0;31m---------------------------------------------------------------------------\u001b[0m",
      "\u001b[0;31mNameError\u001b[0m                                 Traceback (most recent call last)",
      "\u001b[0;32m<ipython-input-38-ddfa7c52109c>\u001b[0m in \u001b[0;36m<module>\u001b[0;34m()\u001b[0m\n\u001b[0;32m----> 1\u001b[0;31m \u001b[0mtag_df\u001b[0m\u001b[0;34m.\u001b[0m\u001b[0mshape\u001b[0m\u001b[0;34m\u001b[0m\u001b[0m\n\u001b[0m",
      "\u001b[0;31mNameError\u001b[0m: name 'tag_df' is not defined"
     ]
    }
   ],
   "source": [
    "tag_df.shape"
   ]
  },
  {
   "cell_type": "markdown",
   "metadata": {},
   "source": [
    "### Views\n",
    "Looking at views independently and also in relation to other features\n",
    "\n",
    "Views: The number of views on the talk."
   ]
  },
  {
   "cell_type": "code",
   "execution_count": 39,
   "metadata": {
    "collapsed": true
   },
   "outputs": [],
   "source": [
    "# df.views"
   ]
  },
  {
   "cell_type": "code",
   "execution_count": 40,
   "metadata": {},
   "outputs": [
    {
     "data": {
      "text/plain": [
       "count    2.550000e+03\n",
       "mean     1.698297e+06\n",
       "std      2.498479e+06\n",
       "min      5.044300e+04\n",
       "25%      7.557928e+05\n",
       "50%      1.124524e+06\n",
       "75%      1.700760e+06\n",
       "max      4.722711e+07\n",
       "Name: views, dtype: float64"
      ]
     },
     "execution_count": 40,
     "metadata": {},
     "output_type": "execute_result"
    }
   ],
   "source": [
    "df.views.describe()"
   ]
  },
  {
   "cell_type": "code",
   "execution_count": 41,
   "metadata": {},
   "outputs": [
    {
     "data": {
      "text/plain": [
       "<matplotlib.axes._subplots.AxesSubplot at 0x11bc68978>"
      ]
     },
     "execution_count": 41,
     "metadata": {},
     "output_type": "execute_result"
    },
    {
     "data": {
      "image/png": "[encoded data removed]",
      "text/plain": [
       "<matplotlib.figure.Figure at 0x11bc4e278>"
      ]
     },
     "metadata": {},
     "output_type": "display_data"
    }
   ],
   "source": [
    "sns.boxplot(df.views)"
   ]
  },
  {
   "cell_type": "code",
   "execution_count": 42,
   "metadata": {},
   "outputs": [
    {
     "data": {
      "text/plain": [
       "<matplotlib.axes._subplots.AxesSubplot at 0x11bd4a208>"
      ]
     },
     "execution_count": 42,
     "metadata": {},
     "output_type": "execute_result"
    },
    {
     "data": {
      "image/png": "[encoded data removed]",
      "text/plain": [
       "<matplotlib.figure.Figure at 0x11bd6da20>"
      ]
     },
     "metadata": {},
     "output_type": "display_data"
    }
   ],
   "source": [
    "df.views.plot(kind = 'hist', bins = 5, figsize = (8,8))"
   ]
  },
  {
   "cell_type": "code",
   "execution_count": 43,
   "metadata": {},
   "outputs": [
    {
     "name": "stderr",
     "output_type": "stream",
     "text": [
      "/anaconda/lib/python3.6/site-packages/scipy/integrate/quadpack.py:364: IntegrationWarning: The integral is probably divergent, or slowly convergent.\n",
      "  warnings.warn(msg, IntegrationWarning)\n"
     ]
    },
    {
     "data": {
      "text/plain": [
       "<matplotlib.axes._subplots.AxesSubplot at 0x10fd20fd0>"
      ]
     },
     "execution_count": 43,
     "metadata": {},
     "output_type": "execute_result"
    },
    {
     "data": {
      "image/png": "[encoded data removed]",
      "text/plain": [
       "<matplotlib.figure.Figure at 0x11be1aa90>"
      ]
     },
     "metadata": {},
     "output_type": "display_data"
    }
   ],
   "source": [
    "sns.kdeplot(df.views, cumulative = True)"
   ]
  },
  {
   "cell_type": "markdown",
   "metadata": {},
   "source": [
    "### Observations"
   ]
  },
  {
   "cell_type": "markdown",
   "metadata": {},
   "source": [
    "The views tell us \n"
   ]
  },
  {
   "cell_type": "markdown",
   "metadata": {},
   "source": [
    "### Comments\n",
    "Looking at comments independently and also in relation to other features\n",
    "\n",
    "Comments: The number of first level comments made on the talk."
   ]
  },
  {
   "cell_type": "code",
   "execution_count": 44,
   "metadata": {},
   "outputs": [
    {
     "data": {
      "text/plain": [
       "0    4553\n",
       "1     265\n",
       "2     124\n",
       "3     200\n",
       "4     593\n",
       "Name: comments, dtype: int64"
      ]
     },
     "execution_count": 44,
     "metadata": {},
     "output_type": "execute_result"
    }
   ],
   "source": [
    "df.comments.head()"
   ]
  },
  {
   "cell_type": "code",
   "execution_count": 45,
   "metadata": {},
   "outputs": [
    {
     "data": {
      "text/plain": [
       "<matplotlib.axes._subplots.AxesSubplot at 0x11c3709e8>"
      ]
     },
     "execution_count": 45,
     "metadata": {},
     "output_type": "execute_result"
    },
    {
     "data": {
      "image/png": "[encoded data removed]",
      "text/plain": [
       "<matplotlib.figure.Figure at 0x10fd4d940>"
      ]
     },
     "metadata": {},
     "output_type": "display_data"
    }
   ],
   "source": [
    "sns.kdeplot(df.duration, cumulative = True)"
   ]
  },
  {
   "cell_type": "code",
   "execution_count": 46,
   "metadata": {},
   "outputs": [
    {
     "data": {
      "text/plain": [
       "count    2550.000000\n",
       "mean      191.562353\n",
       "std       282.315223\n",
       "min         2.000000\n",
       "25%        63.000000\n",
       "50%       118.000000\n",
       "75%       221.750000\n",
       "max      6404.000000\n",
       "Name: comments, dtype: float64"
      ]
     },
     "execution_count": 46,
     "metadata": {},
     "output_type": "execute_result"
    }
   ],
   "source": [
    "df.comments.describe()"
   ]
  },
  {
   "cell_type": "code",
   "execution_count": 47,
   "metadata": {},
   "outputs": [
    {
     "data": {
      "text/plain": [
       "<matplotlib.axes._subplots.AxesSubplot at 0x11c561be0>"
      ]
     },
     "execution_count": 47,
     "metadata": {},
     "output_type": "execute_result"
    },
    {
     "data": {
      "image/png": "[encoded data removed]",
      "text/plain": [
       "<matplotlib.figure.Figure at 0x10fd4db00>"
      ]
     },
     "metadata": {},
     "output_type": "display_data"
    }
   ],
   "source": [
    "df.comments.plot()"
   ]
  },
  {
   "cell_type": "code",
   "execution_count": 48,
   "metadata": {},
   "outputs": [
    {
     "data": {
      "text/plain": [
       "<matplotlib.axes._subplots.AxesSubplot at 0x11c7119e8>"
      ]
     },
     "execution_count": 48,
     "metadata": {},
     "output_type": "execute_result"
    },
    {
     "data": {
      "image/png": "[encoded data removed]",
      "text/plain": [
       "<matplotlib.figure.Figure at 0x11c5660b8>"
      ]
     },
     "metadata": {},
     "output_type": "display_data"
    }
   ],
   "source": [
    "sns.boxplot(df.comments)"
   ]
  },
  {
   "cell_type": "code",
   "execution_count": 49,
   "metadata": {},
   "outputs": [
    {
     "data": {
      "text/plain": [
       "<matplotlib.axes._subplots.AxesSubplot at 0x11c5b1e48>"
      ]
     },
     "execution_count": 49,
     "metadata": {},
     "output_type": "execute_result"
    },
    {
     "data": {
      "image/png": "[encoded data removed]",
      "text/plain": [
       "<matplotlib.figure.Figure at 0x11c7d1b70>"
      ]
     },
     "metadata": {},
     "output_type": "display_data"
    }
   ],
   "source": [
    "df.comments.plot(kind = 'box', figsize = (8,8))"
   ]
  },
  {
   "cell_type": "markdown",
   "metadata": {},
   "source": [
    "### Observations"
   ]
  },
  {
   "cell_type": "markdown",
   "metadata": {},
   "source": [
    "We can see that"
   ]
  },
  {
   "cell_type": "markdown",
   "metadata": {},
   "source": [
    "### Language\n",
    "Looking at comments independently and also in relation to other features\n",
    "\n",
    "Languages: The number of languages in which the talk is available."
   ]
  },
  {
   "cell_type": "code",
   "execution_count": 50,
   "metadata": {},
   "outputs": [
    {
     "data": {
      "text/plain": [
       "0    60\n",
       "1    43\n",
       "2    26\n",
       "3    35\n",
       "4    48\n",
       "Name: languages, dtype: int64"
      ]
     },
     "execution_count": 50,
     "metadata": {},
     "output_type": "execute_result"
    }
   ],
   "source": [
    "df.languages.head()"
   ]
  },
  {
   "cell_type": "code",
   "execution_count": 51,
   "metadata": {},
   "outputs": [
    {
     "data": {
      "text/plain": [
       "count    2550.000000\n",
       "mean       27.326275\n",
       "std         9.563452\n",
       "min         0.000000\n",
       "25%        23.000000\n",
       "50%        28.000000\n",
       "75%        33.000000\n",
       "max        72.000000\n",
       "Name: languages, dtype: float64"
      ]
     },
     "execution_count": 51,
     "metadata": {},
     "output_type": "execute_result"
    }
   ],
   "source": [
    "df.languages.describe()"
   ]
  },
  {
   "cell_type": "code",
   "execution_count": 52,
   "metadata": {},
   "outputs": [
    {
     "data": {
      "text/plain": [
       "<matplotlib.axes._subplots.AxesSubplot at 0x11c7df5c0>"
      ]
     },
     "execution_count": 52,
     "metadata": {},
     "output_type": "execute_result"
    },
    {
     "data": {
      "image/png": "[encoded data removed]",
      "text/plain": [
       "<matplotlib.figure.Figure at 0x11c893da0>"
      ]
     },
     "metadata": {},
     "output_type": "display_data"
    }
   ],
   "source": [
    "sns.boxplot(df.languages)"
   ]
  },
  {
   "cell_type": "code",
   "execution_count": 53,
   "metadata": {},
   "outputs": [
    {
     "data": {
      "text/plain": [
       "<matplotlib.axes._subplots.AxesSubplot at 0x11cadf0b8>"
      ]
     },
     "execution_count": 53,
     "metadata": {},
     "output_type": "execute_result"
    },
    {
     "data": {
      "image/png": "[encoded data removed]",
      "text/plain": [
       "<matplotlib.figure.Figure at 0x11caea128>"
      ]
     },
     "metadata": {},
     "output_type": "display_data"
    }
   ],
   "source": [
    "df.languages.plot()"
   ]
  },
  {
   "cell_type": "code",
   "execution_count": 54,
   "metadata": {
    "collapsed": true
   },
   "outputs": [],
   "source": [
    "import pylab as pl\n",
    "from pandas import *\n"
   ]
  },
  {
   "cell_type": "code",
   "execution_count": 55,
   "metadata": {},
   "outputs": [
    {
     "data": {
      "text/plain": [
       "<matplotlib.axes._subplots.AxesSubplot at 0x11cb982e8>"
      ]
     },
     "execution_count": 55,
     "metadata": {},
     "output_type": "execute_result"
    },
    {
     "data": {
      "image/png": "[encoded data removed]",
      "text/plain": [
       "<matplotlib.figure.Figure at 0x11c55b6a0>"
      ]
     },
     "metadata": {},
     "output_type": "display_data"
    }
   ],
   "source": [
    "df.languages.plot(kind = 'hist', \\\n",
    "                  bins = 5, \\\n",
    "                  figsize = (8,8), \\\n",
    "                  grid=False, \\\n",
    "                  fontsize = 15, \\\n",
    "                  title=\"Number of Languages in which the Talk is Available\", \\\n",
    "                  color='DarkCyan')"
   ]
  },
  {
   "cell_type": "code",
   "execution_count": null,
   "metadata": {
    "collapsed": true
   },
   "outputs": [],
   "source": []
  },
  {
   "cell_type": "code",
   "execution_count": null,
   "metadata": {
    "collapsed": true
   },
   "outputs": [],
   "source": []
  },
  {
   "cell_type": "code",
   "execution_count": 56,
   "metadata": {},
   "outputs": [
    {
     "data": {
      "text/plain": [
       "<matplotlib.axes._subplots.AxesSubplot at 0x11ce70f60>"
      ]
     },
     "execution_count": 56,
     "metadata": {},
     "output_type": "execute_result"
    },
    {
     "data": {
      "image/png": "[encoded data removed]",
      "text/plain": [
       "<matplotlib.figure.Figure at 0x11cc6cda0>"
      ]
     },
     "metadata": {},
     "output_type": "display_data"
    }
   ],
   "source": [
    "df.comments.plot(kind = 'hist', \\\n",
    "                  bins = 5, \\\n",
    "                  figsize = (8,8), \\\n",
    "                  grid=False, \\\n",
    "                  fontsize = 15, \\\n",
    "                  title=\"Number of Comments\", \\\n",
    "                  color='DarkCyan')"
   ]
  },
  {
   "cell_type": "code",
   "execution_count": 57,
   "metadata": {
    "collapsed": true
   },
   "outputs": [],
   "source": [
    "### Observations"
   ]
  },
  {
   "cell_type": "code",
   "execution_count": 58,
   "metadata": {},
   "outputs": [
    {
     "ename": "SyntaxError",
     "evalue": "invalid syntax (<ipython-input-58-e0898253320d>, line 1)",
     "output_type": "error",
     "traceback": [
      "\u001b[0;36m  File \u001b[0;32m\"<ipython-input-58-e0898253320d>\"\u001b[0;36m, line \u001b[0;32m1\u001b[0m\n\u001b[0;31m    We can see that\u001b[0m\n\u001b[0m         ^\u001b[0m\n\u001b[0;31mSyntaxError\u001b[0m\u001b[0;31m:\u001b[0m invalid syntax\n"
     ]
    }
   ],
   "source": [
    "We can see that"
   ]
  },
  {
   "cell_type": "markdown",
   "metadata": {},
   "source": [
    "\n",
    "### Duration\n",
    "Looking at comments independently and also in relation to other features\n",
    "\n",
    "Duration: The duration of the talk in seconds."
   ]
  },
  {
   "cell_type": "code",
   "execution_count": 59,
   "metadata": {},
   "outputs": [
    {
     "data": {
      "text/plain": [
       "count    2550.000000\n",
       "mean      826.510196\n",
       "std       374.009138\n",
       "min       135.000000\n",
       "25%       577.000000\n",
       "50%       848.000000\n",
       "75%      1046.750000\n",
       "max      5256.000000\n",
       "Name: duration, dtype: float64"
      ]
     },
     "execution_count": 59,
     "metadata": {},
     "output_type": "execute_result"
    }
   ],
   "source": [
    "df.duration.describe() "
   ]
  },
  {
   "cell_type": "code",
   "execution_count": 60,
   "metadata": {},
   "outputs": [
    {
     "data": {
      "text/plain": [
       "<matplotlib.axes._subplots.AxesSubplot at 0x11c997438>"
      ]
     },
     "execution_count": 60,
     "metadata": {},
     "output_type": "execute_result"
    },
    {
     "data": {
      "image/png": "[encoded data removed]",
      "text/plain": [
       "<matplotlib.figure.Figure at 0x11c95d128>"
      ]
     },
     "metadata": {},
     "output_type": "display_data"
    }
   ],
   "source": [
    "df.duration.plot()"
   ]
  },
  {
   "cell_type": "code",
   "execution_count": 61,
   "metadata": {},
   "outputs": [
    {
     "data": {
      "text/plain": [
       "<matplotlib.axes._subplots.AxesSubplot at 0x11cffca90>"
      ]
     },
     "execution_count": 61,
     "metadata": {},
     "output_type": "execute_result"
    },
    {
     "data": {
      "image/png": "[encoded data removed]",
      "text/plain": [
       "<matplotlib.figure.Figure at 0x11d1b1710>"
      ]
     },
     "metadata": {},
     "output_type": "display_data"
    }
   ],
   "source": [
    "df.duration.plot( kind = 'hist')"
   ]
  },
  {
   "cell_type": "code",
   "execution_count": 62,
   "metadata": {},
   "outputs": [
    {
     "data": {
      "text/plain": [
       "<matplotlib.axes._subplots.AxesSubplot at 0x11d1d49b0>"
      ]
     },
     "execution_count": 62,
     "metadata": {},
     "output_type": "execute_result"
    },
    {
     "data": {
      "image/png": "[encoded data removed]",
      "text/plain": [
       "<matplotlib.figure.Figure at 0x11d440518>"
      ]
     },
     "metadata": {},
     "output_type": "display_data"
    }
   ],
   "source": [
    "sns.boxplot(df.duration)"
   ]
  },
  {
   "cell_type": "markdown",
   "metadata": {},
   "source": [
    "### Observations"
   ]
  },
  {
   "cell_type": "code",
   "execution_count": 63,
   "metadata": {},
   "outputs": [
    {
     "ename": "SyntaxError",
     "evalue": "invalid syntax (<ipython-input-63-e0898253320d>, line 1)",
     "output_type": "error",
     "traceback": [
      "\u001b[0;36m  File \u001b[0;32m\"<ipython-input-63-e0898253320d>\"\u001b[0;36m, line \u001b[0;32m1\u001b[0m\n\u001b[0;31m    We can see that\u001b[0m\n\u001b[0m         ^\u001b[0m\n\u001b[0;31mSyntaxError\u001b[0m\u001b[0;31m:\u001b[0m invalid syntax\n"
     ]
    }
   ],
   "source": [
    "We can see that"
   ]
  },
  {
   "cell_type": "markdown",
   "metadata": {},
   "source": [
    "### Number of Speakers\n",
    "\n",
    "num_speaker: The number of speakers in the talk."
   ]
  },
  {
   "cell_type": "code",
   "execution_count": 64,
   "metadata": {},
   "outputs": [
    {
     "data": {
      "text/plain": [
       "count    2550.000000\n",
       "mean        1.028235\n",
       "std         0.207705\n",
       "min         1.000000\n",
       "25%         1.000000\n",
       "50%         1.000000\n",
       "75%         1.000000\n",
       "max         5.000000\n",
       "Name: num_speaker, dtype: float64"
      ]
     },
     "execution_count": 64,
     "metadata": {},
     "output_type": "execute_result"
    }
   ],
   "source": [
    "df.num_speaker.describe()"
   ]
  },
  {
   "cell_type": "code",
   "execution_count": 65,
   "metadata": {
    "collapsed": true
   },
   "outputs": [],
   "source": [
    "df_speaker_count = df.num_speaker.value_counts()"
   ]
  },
  {
   "cell_type": "code",
   "execution_count": 66,
   "metadata": {},
   "outputs": [
    {
     "data": {
      "text/plain": [
       "1    2492\n",
       "2      49\n",
       "3       5\n",
       "4       3\n",
       "5       1\n",
       "Name: num_speaker, dtype: int64"
      ]
     },
     "execution_count": 66,
     "metadata": {},
     "output_type": "execute_result"
    }
   ],
   "source": [
    "df_speaker_count"
   ]
  },
  {
   "cell_type": "code",
   "execution_count": 67,
   "metadata": {},
   "outputs": [
    {
     "data": {
      "image/png": "[encoded data removed]",
      "text/plain": [
       "<matplotlib.figure.Figure at 0x11c7c7978>"
      ]
     },
     "metadata": {},
     "output_type": "display_data"
    }
   ],
   "source": [
    "ax = df_speaker_count.plot(kind = 'bar', title = \"Number of Speakers in Talk\", grid=False, fontsize = 15, color = 'DarkCyan', figsize = (8,8))\n",
    "\n",
    "for p in ax.patches:\n",
    "    ax.annotate(str(p.get_height()), (p.get_x() * 1.005, p.get_height() * 1.005))"
   ]
  },
  {
   "cell_type": "code",
   "execution_count": 68,
   "metadata": {},
   "outputs": [
    {
     "data": {
      "text/plain": [
       "<matplotlib.axes._subplots.AxesSubplot at 0x11d56d710>"
      ]
     },
     "execution_count": 68,
     "metadata": {},
     "output_type": "execute_result"
    },
    {
     "data": {
      "image/png": "[encoded data removed]",
      "text/plain": [
       "<matplotlib.figure.Figure at 0x11d6350f0>"
      ]
     },
     "metadata": {},
     "output_type": "display_data"
    }
   ],
   "source": [
    "df.num_speaker.plot( kind = 'hist')"
   ]
  },
  {
   "cell_type": "markdown",
   "metadata": {},
   "source": [
    "### Observations"
   ]
  },
  {
   "cell_type": "markdown",
   "metadata": {},
   "source": [
    "We can see that"
   ]
  },
  {
   "cell_type": "markdown",
   "metadata": {},
   "source": [
    "### Event\n",
    "Event: The TED/TEDx event where the talk took place."
   ]
  },
  {
   "cell_type": "code",
   "execution_count": 69,
   "metadata": {},
   "outputs": [
    {
     "data": {
      "text/plain": [
       "355"
      ]
     },
     "execution_count": 69,
     "metadata": {},
     "output_type": "execute_result"
    }
   ],
   "source": [
    "df.groupby(\"event\").size().count() #355"
   ]
  },
  {
   "cell_type": "code",
   "execution_count": 70,
   "metadata": {},
   "outputs": [
    {
     "data": {
      "text/plain": [
       "TED2014                    84\n",
       "TED2009                    83\n",
       "TED2013                    77\n",
       "TED2016                    77\n",
       "TED2015                    75\n",
       "TEDGlobal 2012             70\n",
       "TED2011                    70\n",
       "TEDGlobal 2011             68\n",
       "TED2010                    68\n",
       "TED2007                    68\n",
       "TED2017                    67\n",
       "TEDGlobal 2013             66\n",
       "TEDGlobal 2009             65\n",
       "TED2012                    65\n",
       "TED2008                    57\n",
       "TEDGlobal 2010             55\n",
       "TEDGlobal 2014             51\n",
       "TED2006                    45\n",
       "TED2005                    37\n",
       "TEDIndia 2009              35\n",
       "TEDSummit                  34\n",
       "TEDWomen 2010              34\n",
       "TED2003                    34\n",
       "TED2004                    31\n",
       "TED2002                    28\n",
       "TEDWomen 2015              28\n",
       "TEDGlobal 2007             27\n",
       "TEDGlobal 2005             26\n",
       "TEDWomen 2016              25\n",
       "TEDxBeaconStreet           22\n",
       "                           ..\n",
       "TEDxPittsburgh              1\n",
       "TED1994                     1\n",
       "TEDxJaffa 2012              1\n",
       "TEDxWinnipeg                1\n",
       "TEDxBoston 2010             1\n",
       "TEDxColumbusWomen           1\n",
       "TEDxPuget Sound             1\n",
       "Skoll World Forum 2007      1\n",
       "TED@Johannesburg            1\n",
       "TEDxLeuvenSalon             1\n",
       "World Science Festival      1\n",
       "TEDxVictoria                1\n",
       "TEDxZurich                  1\n",
       "TEDxSouthBank               1\n",
       "TEDxDirigo                  1\n",
       "TEDxImperialCollege         1\n",
       "TEDxConcorde                1\n",
       "TEDxGoodenoughCollege       1\n",
       "New York State Senate       1\n",
       "TEDxJaffa 2013              1\n",
       "TEDxFulbrightDublin         1\n",
       "TEDxSanQuentin              1\n",
       "TEDxGroningen               1\n",
       "TEDActive 2015              1\n",
       "TEDxUCL                     1\n",
       "TEDxPennsylvaniaAvenue      1\n",
       "TEDxEQChCh                  1\n",
       "TEDxGoldenGatePark 2012     1\n",
       "TEDxGeorgetown              1\n",
       "TEDxSiliconValley           1\n",
       "Name: event, Length: 355, dtype: int64"
      ]
     },
     "execution_count": 70,
     "metadata": {},
     "output_type": "execute_result"
    }
   ],
   "source": [
    "df.event.value_counts()"
   ]
  },
  {
   "cell_type": "code",
   "execution_count": 71,
   "metadata": {},
   "outputs": [
    {
     "data": {
      "text/plain": [
       "count        2550\n",
       "unique        355\n",
       "top       TED2014\n",
       "freq           84\n",
       "Name: event, dtype: object"
      ]
     },
     "execution_count": 71,
     "metadata": {},
     "output_type": "execute_result"
    }
   ],
   "source": [
    "df.event.describe()"
   ]
  },
  {
   "cell_type": "code",
   "execution_count": 72,
   "metadata": {},
   "outputs": [
    {
     "data": {
      "text/plain": [
       "0    [{'id': 865, 'hero': 'https://pe.tedcdn.com/im...\n",
       "1    [{'id': 243, 'hero': 'https://pe.tedcdn.com/im...\n",
       "2    [{'id': 1725, 'hero': 'https://pe.tedcdn.com/i...\n",
       "3    [{'id': 1041, 'hero': 'https://pe.tedcdn.com/i...\n",
       "4    [{'id': 2056, 'hero': 'https://pe.tedcdn.com/i...\n",
       "Name: related_talks, dtype: object"
      ]
     },
     "execution_count": 72,
     "metadata": {},
     "output_type": "execute_result"
    }
   ],
   "source": [
    "df.related_talks.head()"
   ]
  },
  {
   "cell_type": "code",
   "execution_count": 73,
   "metadata": {},
   "outputs": [
    {
     "data": {
      "text/plain": [
       "0    ['children', 'creativity', 'culture', 'dance',...\n",
       "1    ['alternative energy', 'cars', 'climate change...\n",
       "2    ['computers', 'entertainment', 'interface desi...\n",
       "3    ['MacArthur grant', 'activism', 'business', 'c...\n",
       "4    ['Africa', 'Asia', 'Google', 'demo', 'economic...\n",
       "Name: tags, dtype: object"
      ]
     },
     "execution_count": 73,
     "metadata": {},
     "output_type": "execute_result"
    }
   ],
   "source": [
    "df.tags.head()"
   ]
  },
  {
   "cell_type": "code",
   "execution_count": 74,
   "metadata": {
    "scrolled": true
   },
   "outputs": [
    {
     "data": {
      "text/html": [
       "<div>\n",
       "<style>\n",
       "    .dataframe thead tr:only-child th {\n",
       "        text-align: right;\n",
       "    }\n",
       "\n",
       "    .dataframe thead th {\n",
       "        text-align: left;\n",
       "    }\n",
       "\n",
       "    .dataframe tbody tr th {\n",
       "        vertical-align: top;\n",
       "    }\n",
       "</style>\n",
       "<table border=\"1\" class=\"dataframe\">\n",
       "  <thead>\n",
       "    <tr style=\"text-align: right;\">\n",
       "      <th></th>\n",
       "      <th>title</th>\n",
       "      <th>views</th>\n",
       "      <th>film_date</th>\n",
       "      <th>duration</th>\n",
       "      <th>comments</th>\n",
       "      <th>num_speaker</th>\n",
       "    </tr>\n",
       "  </thead>\n",
       "  <tbody>\n",
       "    <tr>\n",
       "      <th>0</th>\n",
       "      <td>Do schools kill creativity?</td>\n",
       "      <td>47227110</td>\n",
       "      <td>24-02-2006</td>\n",
       "      <td>1164</td>\n",
       "      <td>4553</td>\n",
       "      <td>1</td>\n",
       "    </tr>\n",
       "    <tr>\n",
       "      <th>1346</th>\n",
       "      <td>Your body language may shape who you are</td>\n",
       "      <td>43155405</td>\n",
       "      <td>25-06-2012</td>\n",
       "      <td>1262</td>\n",
       "      <td>2290</td>\n",
       "      <td>1</td>\n",
       "    </tr>\n",
       "    <tr>\n",
       "      <th>677</th>\n",
       "      <td>How great leaders inspire action</td>\n",
       "      <td>34309432</td>\n",
       "      <td>16-09-2009</td>\n",
       "      <td>1084</td>\n",
       "      <td>1930</td>\n",
       "      <td>1</td>\n",
       "    </tr>\n",
       "    <tr>\n",
       "      <th>837</th>\n",
       "      <td>The power of vulnerability</td>\n",
       "      <td>31168150</td>\n",
       "      <td>05-06-2010</td>\n",
       "      <td>1219</td>\n",
       "      <td>1927</td>\n",
       "      <td>1</td>\n",
       "    </tr>\n",
       "    <tr>\n",
       "      <th>452</th>\n",
       "      <td>10 things you didn't know about orgasm</td>\n",
       "      <td>22270883</td>\n",
       "      <td>05-02-2009</td>\n",
       "      <td>1003</td>\n",
       "      <td>354</td>\n",
       "      <td>1</td>\n",
       "    </tr>\n",
       "    <tr>\n",
       "      <th>1776</th>\n",
       "      <td>How to speak so that people want to listen</td>\n",
       "      <td>21594632</td>\n",
       "      <td>09-06-2013</td>\n",
       "      <td>598</td>\n",
       "      <td>297</td>\n",
       "      <td>1</td>\n",
       "    </tr>\n",
       "    <tr>\n",
       "      <th>201</th>\n",
       "      <td>My stroke of insight</td>\n",
       "      <td>21190883</td>\n",
       "      <td>26-02-2008</td>\n",
       "      <td>1099</td>\n",
       "      <td>2877</td>\n",
       "      <td>1</td>\n",
       "    </tr>\n",
       "    <tr>\n",
       "      <th>5</th>\n",
       "      <td>Why we do what we do</td>\n",
       "      <td>20685401</td>\n",
       "      <td>01-02-2006</td>\n",
       "      <td>1305</td>\n",
       "      <td>672</td>\n",
       "      <td>1</td>\n",
       "    </tr>\n",
       "    <tr>\n",
       "      <th>2114</th>\n",
       "      <td>This is what happens when you reply to spam email</td>\n",
       "      <td>20475972</td>\n",
       "      <td>07-12-2015</td>\n",
       "      <td>588</td>\n",
       "      <td>150</td>\n",
       "      <td>1</td>\n",
       "    </tr>\n",
       "    <tr>\n",
       "      <th>1416</th>\n",
       "      <td>Looks aren't everything. Believe me, I'm a model.</td>\n",
       "      <td>19787465</td>\n",
       "      <td>26-10-2012</td>\n",
       "      <td>577</td>\n",
       "      <td>846</td>\n",
       "      <td>1</td>\n",
       "    </tr>\n",
       "    <tr>\n",
       "      <th>500</th>\n",
       "      <td>The puzzle of motivation</td>\n",
       "      <td>18830983</td>\n",
       "      <td>23-07-2009</td>\n",
       "      <td>1116</td>\n",
       "      <td>1094</td>\n",
       "      <td>1</td>\n",
       "    </tr>\n",
       "    <tr>\n",
       "      <th>1163</th>\n",
       "      <td>The power of introverts</td>\n",
       "      <td>17629275</td>\n",
       "      <td>27-02-2012</td>\n",
       "      <td>1144</td>\n",
       "      <td>1155</td>\n",
       "      <td>1</td>\n",
       "    </tr>\n",
       "    <tr>\n",
       "      <th>1036</th>\n",
       "      <td>How to spot a liar</td>\n",
       "      <td>16861578</td>\n",
       "      <td>12-07-2011</td>\n",
       "      <td>1130</td>\n",
       "      <td>561</td>\n",
       "      <td>1</td>\n",
       "    </tr>\n",
       "    <tr>\n",
       "      <th>2109</th>\n",
       "      <td>What makes a good life? Lessons from the longe...</td>\n",
       "      <td>16601927</td>\n",
       "      <td>13-11-2015</td>\n",
       "      <td>766</td>\n",
       "      <td>527</td>\n",
       "      <td>1</td>\n",
       "    </tr>\n",
       "    <tr>\n",
       "      <th>1129</th>\n",
       "      <td>The happy secret to better work</td>\n",
       "      <td>16209727</td>\n",
       "      <td>10-05-2011</td>\n",
       "      <td>740</td>\n",
       "      <td>754</td>\n",
       "      <td>1</td>\n",
       "    </tr>\n",
       "    <tr>\n",
       "      <th>553</th>\n",
       "      <td>The thrilling potential of SixthSense technology</td>\n",
       "      <td>16097077</td>\n",
       "      <td>04-11-2009</td>\n",
       "      <td>830</td>\n",
       "      <td>1329</td>\n",
       "      <td>1</td>\n",
       "    </tr>\n",
       "    <tr>\n",
       "      <th>596</th>\n",
       "      <td>How I held my breath for 17 minutes</td>\n",
       "      <td>15601385</td>\n",
       "      <td>26-10-2009</td>\n",
       "      <td>1219</td>\n",
       "      <td>296</td>\n",
       "      <td>1</td>\n",
       "    </tr>\n",
       "    <tr>\n",
       "      <th>1579</th>\n",
       "      <td>The art of misdirection</td>\n",
       "      <td>15283242</td>\n",
       "      <td>11-06-2013</td>\n",
       "      <td>527</td>\n",
       "      <td>285</td>\n",
       "      <td>1</td>\n",
       "    </tr>\n",
       "    <tr>\n",
       "      <th>2161</th>\n",
       "      <td>Inside the mind of a master procrastinator</td>\n",
       "      <td>14745406</td>\n",
       "      <td>15-02-2016</td>\n",
       "      <td>843</td>\n",
       "      <td>310</td>\n",
       "      <td>1</td>\n",
       "    </tr>\n",
       "    <tr>\n",
       "      <th>29</th>\n",
       "      <td>The surprising science of happiness</td>\n",
       "      <td>14689301</td>\n",
       "      <td>01-02-2004</td>\n",
       "      <td>1276</td>\n",
       "      <td>970</td>\n",
       "      <td>1</td>\n",
       "    </tr>\n",
       "    <tr>\n",
       "      <th>1572</th>\n",
       "      <td>How to make stress your friend</td>\n",
       "      <td>14566463</td>\n",
       "      <td>10-06-2013</td>\n",
       "      <td>868</td>\n",
       "      <td>693</td>\n",
       "      <td>1</td>\n",
       "    </tr>\n",
       "    <tr>\n",
       "      <th>176</th>\n",
       "      <td>Underwater astonishments</td>\n",
       "      <td>13926113</td>\n",
       "      <td>02-03-2007</td>\n",
       "      <td>327</td>\n",
       "      <td>554</td>\n",
       "      <td>1</td>\n",
       "    </tr>\n",
       "    <tr>\n",
       "      <th>262</th>\n",
       "      <td>Brain magic</td>\n",
       "      <td>13327101</td>\n",
       "      <td>01-02-2004</td>\n",
       "      <td>1189</td>\n",
       "      <td>669</td>\n",
       "      <td>1</td>\n",
       "    </tr>\n",
       "    <tr>\n",
       "      <th>530</th>\n",
       "      <td>The danger of a single story</td>\n",
       "      <td>13298341</td>\n",
       "      <td>22-07-2009</td>\n",
       "      <td>1129</td>\n",
       "      <td>1155</td>\n",
       "      <td>1</td>\n",
       "    </tr>\n",
       "    <tr>\n",
       "      <th>381</th>\n",
       "      <td>Your elusive creative genius</td>\n",
       "      <td>13155478</td>\n",
       "      <td>04-02-2009</td>\n",
       "      <td>1149</td>\n",
       "      <td>1604</td>\n",
       "      <td>1</td>\n",
       "    </tr>\n",
       "    <tr>\n",
       "      <th>1501</th>\n",
       "      <td>Grit: The power of passion and perseverance</td>\n",
       "      <td>12039978</td>\n",
       "      <td>03-04-2013</td>\n",
       "      <td>372</td>\n",
       "      <td>659</td>\n",
       "      <td>1</td>\n",
       "    </tr>\n",
       "    <tr>\n",
       "      <th>4</th>\n",
       "      <td>The best stats you've ever seen</td>\n",
       "      <td>12005869</td>\n",
       "      <td>21-02-2006</td>\n",
       "      <td>1190</td>\n",
       "      <td>593</td>\n",
       "      <td>1</td>\n",
       "    </tr>\n",
       "    <tr>\n",
       "      <th>1940</th>\n",
       "      <td>The price of shame</td>\n",
       "      <td>11443190</td>\n",
       "      <td>18-03-2015</td>\n",
       "      <td>1346</td>\n",
       "      <td>1355</td>\n",
       "      <td>1</td>\n",
       "    </tr>\n",
       "    <tr>\n",
       "      <th>47</th>\n",
       "      <td>8 secrets of success</td>\n",
       "      <td>10841210</td>\n",
       "      <td>22-02-2005</td>\n",
       "      <td>210</td>\n",
       "      <td>578</td>\n",
       "      <td>1</td>\n",
       "    </tr>\n",
       "    <tr>\n",
       "      <th>892</th>\n",
       "      <td>If I should have a daughter ...</td>\n",
       "      <td>10529854</td>\n",
       "      <td>02-03-2011</td>\n",
       "      <td>1105</td>\n",
       "      <td>645</td>\n",
       "      <td>1</td>\n",
       "    </tr>\n",
       "    <tr>\n",
       "      <th>...</th>\n",
       "      <td>...</td>\n",
       "      <td>...</td>\n",
       "      <td>...</td>\n",
       "      <td>...</td>\n",
       "      <td>...</td>\n",
       "      <td>...</td>\n",
       "    </tr>\n",
       "    <tr>\n",
       "      <th>1486</th>\n",
       "      <td>How much does a video weigh?</td>\n",
       "      <td>195899</td>\n",
       "      <td>27-02-2013</td>\n",
       "      <td>441</td>\n",
       "      <td>126</td>\n",
       "      <td>1</td>\n",
       "    </tr>\n",
       "    <tr>\n",
       "      <th>1093</th>\n",
       "      <td>My subversive (garden) plot</td>\n",
       "      <td>191555</td>\n",
       "      <td>09-09-2011</td>\n",
       "      <td>1129</td>\n",
       "      <td>130</td>\n",
       "      <td>1</td>\n",
       "    </tr>\n",
       "    <tr>\n",
       "      <th>1198</th>\n",
       "      <td>\"Put the financial aid in the bag\"</td>\n",
       "      <td>186308</td>\n",
       "      <td>10-11-2011</td>\n",
       "      <td>305</td>\n",
       "      <td>175</td>\n",
       "      <td>1</td>\n",
       "    </tr>\n",
       "    <tr>\n",
       "      <th>292</th>\n",
       "      <td>The camel's hump</td>\n",
       "      <td>185275</td>\n",
       "      <td>01-02-2002</td>\n",
       "      <td>966</td>\n",
       "      <td>12</td>\n",
       "      <td>1</td>\n",
       "    </tr>\n",
       "    <tr>\n",
       "      <th>2507</th>\n",
       "      <td>A dance to honor Mother Earth</td>\n",
       "      <td>182975</td>\n",
       "      <td>23-04-2017</td>\n",
       "      <td>575</td>\n",
       "      <td>6</td>\n",
       "      <td>5</td>\n",
       "    </tr>\n",
       "    <tr>\n",
       "      <th>1192</th>\n",
       "      <td>I am a pirate</td>\n",
       "      <td>181010</td>\n",
       "      <td>10-03-2012</td>\n",
       "      <td>1097</td>\n",
       "      <td>122</td>\n",
       "      <td>1</td>\n",
       "    </tr>\n",
       "    <tr>\n",
       "      <th>649</th>\n",
       "      <td>Why I do theater</td>\n",
       "      <td>176995</td>\n",
       "      <td>08-10-2008</td>\n",
       "      <td>407</td>\n",
       "      <td>74</td>\n",
       "      <td>1</td>\n",
       "    </tr>\n",
       "    <tr>\n",
       "      <th>323</th>\n",
       "      <td>The balancing act of compassion</td>\n",
       "      <td>176245</td>\n",
       "      <td>30-09-2009</td>\n",
       "      <td>946</td>\n",
       "      <td>76</td>\n",
       "      <td>1</td>\n",
       "    </tr>\n",
       "    <tr>\n",
       "      <th>1149</th>\n",
       "      <td>Look up for a change</td>\n",
       "      <td>175395</td>\n",
       "      <td>10-11-2011</td>\n",
       "      <td>669</td>\n",
       "      <td>80</td>\n",
       "      <td>1</td>\n",
       "    </tr>\n",
       "    <tr>\n",
       "      <th>1250</th>\n",
       "      <td>A new way to stop identity theft</td>\n",
       "      <td>174326</td>\n",
       "      <td>26-04-2012</td>\n",
       "      <td>1023</td>\n",
       "      <td>208</td>\n",
       "      <td>1</td>\n",
       "    </tr>\n",
       "    <tr>\n",
       "      <th>1223</th>\n",
       "      <td>From stigma to supermodel</td>\n",
       "      <td>166959</td>\n",
       "      <td>10-11-2011</td>\n",
       "      <td>1084</td>\n",
       "      <td>59</td>\n",
       "      <td>1</td>\n",
       "    </tr>\n",
       "    <tr>\n",
       "      <th>1237</th>\n",
       "      <td>The sea we've hardly seen</td>\n",
       "      <td>166835</td>\n",
       "      <td>17-04-2012</td>\n",
       "      <td>697</td>\n",
       "      <td>67</td>\n",
       "      <td>1</td>\n",
       "    </tr>\n",
       "    <tr>\n",
       "      <th>1105</th>\n",
       "      <td>Can astronomers help doctors?</td>\n",
       "      <td>161462</td>\n",
       "      <td>27-06-2011</td>\n",
       "      <td>581</td>\n",
       "      <td>41</td>\n",
       "      <td>1</td>\n",
       "    </tr>\n",
       "    <tr>\n",
       "      <th>1119</th>\n",
       "      <td>Plant fuels that could power a jet</td>\n",
       "      <td>155895</td>\n",
       "      <td>16-08-2011</td>\n",
       "      <td>869</td>\n",
       "      <td>76</td>\n",
       "      <td>1</td>\n",
       "    </tr>\n",
       "    <tr>\n",
       "      <th>581</th>\n",
       "      <td>Engineering a better life for all</td>\n",
       "      <td>154698</td>\n",
       "      <td>06-10-2009</td>\n",
       "      <td>889</td>\n",
       "      <td>105</td>\n",
       "      <td>1</td>\n",
       "    </tr>\n",
       "    <tr>\n",
       "      <th>590</th>\n",
       "      <td>What Bernie Madoff couldn't steal from me</td>\n",
       "      <td>149818</td>\n",
       "      <td>14-03-2009</td>\n",
       "      <td>510</td>\n",
       "      <td>87</td>\n",
       "      <td>1</td>\n",
       "    </tr>\n",
       "    <tr>\n",
       "      <th>1053</th>\n",
       "      <td>How mobile phones helped solve two murders</td>\n",
       "      <td>148971</td>\n",
       "      <td>01-04-2011</td>\n",
       "      <td>1013</td>\n",
       "      <td>46</td>\n",
       "      <td>1</td>\n",
       "    </tr>\n",
       "    <tr>\n",
       "      <th>1301</th>\n",
       "      <td>When a reporter becomes the story</td>\n",
       "      <td>144044</td>\n",
       "      <td>09-03-2012</td>\n",
       "      <td>711</td>\n",
       "      <td>43</td>\n",
       "      <td>1</td>\n",
       "    </tr>\n",
       "    <tr>\n",
       "      <th>1179</th>\n",
       "      <td>Victims of the city</td>\n",
       "      <td>142164</td>\n",
       "      <td>10-11-2011</td>\n",
       "      <td>1191</td>\n",
       "      <td>99</td>\n",
       "      <td>1</td>\n",
       "    </tr>\n",
       "    <tr>\n",
       "      <th>1061</th>\n",
       "      <td>Open science now!</td>\n",
       "      <td>138812</td>\n",
       "      <td>02-03-2011</td>\n",
       "      <td>982</td>\n",
       "      <td>118</td>\n",
       "      <td>1</td>\n",
       "    </tr>\n",
       "    <tr>\n",
       "      <th>1178</th>\n",
       "      <td>Beautiful artificial limbs</td>\n",
       "      <td>132199</td>\n",
       "      <td>18-11-2011</td>\n",
       "      <td>663</td>\n",
       "      <td>84</td>\n",
       "      <td>1</td>\n",
       "    </tr>\n",
       "    <tr>\n",
       "      <th>1104</th>\n",
       "      <td>Change our culture, change our world</td>\n",
       "      <td>125050</td>\n",
       "      <td>12-10-2010</td>\n",
       "      <td>632</td>\n",
       "      <td>70</td>\n",
       "      <td>1</td>\n",
       "    </tr>\n",
       "    <tr>\n",
       "      <th>1079</th>\n",
       "      <td>Don't misrepresent Africa</td>\n",
       "      <td>121186</td>\n",
       "      <td>23-09-2011</td>\n",
       "      <td>686</td>\n",
       "      <td>84</td>\n",
       "      <td>1</td>\n",
       "    </tr>\n",
       "    <tr>\n",
       "      <th>1141</th>\n",
       "      <td>Deaf in the military</td>\n",
       "      <td>120274</td>\n",
       "      <td>22-04-2011</td>\n",
       "      <td>1118</td>\n",
       "      <td>70</td>\n",
       "      <td>1</td>\n",
       "    </tr>\n",
       "    <tr>\n",
       "      <th>1229</th>\n",
       "      <td>Beethoven the businessman</td>\n",
       "      <td>117756</td>\n",
       "      <td>02-12-2011</td>\n",
       "      <td>769</td>\n",
       "      <td>73</td>\n",
       "      <td>1</td>\n",
       "    </tr>\n",
       "    <tr>\n",
       "      <th>1133</th>\n",
       "      <td>Let's bridge the digital divide!</td>\n",
       "      <td>115346</td>\n",
       "      <td>05-08-2011</td>\n",
       "      <td>594</td>\n",
       "      <td>80</td>\n",
       "      <td>1</td>\n",
       "    </tr>\n",
       "    <tr>\n",
       "      <th>776</th>\n",
       "      <td>The early birdwatchers</td>\n",
       "      <td>112321</td>\n",
       "      <td>17-09-2009</td>\n",
       "      <td>1690</td>\n",
       "      <td>40</td>\n",
       "      <td>1</td>\n",
       "    </tr>\n",
       "    <tr>\n",
       "      <th>237</th>\n",
       "      <td>\"Kounandi\"</td>\n",
       "      <td>82488</td>\n",
       "      <td>05-06-2007</td>\n",
       "      <td>386</td>\n",
       "      <td>43</td>\n",
       "      <td>1</td>\n",
       "    </tr>\n",
       "    <tr>\n",
       "      <th>1112</th>\n",
       "      <td>The debut of the British Paraorchestra</td>\n",
       "      <td>66668</td>\n",
       "      <td>21-11-2011</td>\n",
       "      <td>816</td>\n",
       "      <td>43</td>\n",
       "      <td>2</td>\n",
       "    </tr>\n",
       "    <tr>\n",
       "      <th>594</th>\n",
       "      <td>Stories of Haiti</td>\n",
       "      <td>50443</td>\n",
       "      <td>12-10-2004</td>\n",
       "      <td>3573</td>\n",
       "      <td>20</td>\n",
       "      <td>1</td>\n",
       "    </tr>\n",
       "  </tbody>\n",
       "</table>\n",
       "<p>2550 rows × 6 columns</p>\n",
       "</div>"
      ],
      "text/plain": [
       "                                                  title     views   film_date  \\\n",
       "0                           Do schools kill creativity?  47227110  24-02-2006   \n",
       "1346           Your body language may shape who you are  43155405  25-06-2012   \n",
       "677                    How great leaders inspire action  34309432  16-09-2009   \n",
       "837                          The power of vulnerability  31168150  05-06-2010   \n",
       "452              10 things you didn't know about orgasm  22270883  05-02-2009   \n",
       "1776         How to speak so that people want to listen  21594632  09-06-2013   \n",
       "201                                My stroke of insight  21190883  26-02-2008   \n",
       "5                                  Why we do what we do  20685401  01-02-2006   \n",
       "2114  This is what happens when you reply to spam email  20475972  07-12-2015   \n",
       "1416  Looks aren't everything. Believe me, I'm a model.  19787465  26-10-2012   \n",
       "500                            The puzzle of motivation  18830983  23-07-2009   \n",
       "1163                            The power of introverts  17629275  27-02-2012   \n",
       "1036                                 How to spot a liar  16861578  12-07-2011   \n",
       "2109  What makes a good life? Lessons from the longe...  16601927  13-11-2015   \n",
       "1129                    The happy secret to better work  16209727  10-05-2011   \n",
       "553    The thrilling potential of SixthSense technology  16097077  04-11-2009   \n",
       "596                 How I held my breath for 17 minutes  15601385  26-10-2009   \n",
       "1579                            The art of misdirection  15283242  11-06-2013   \n",
       "2161         Inside the mind of a master procrastinator  14745406  15-02-2016   \n",
       "29                  The surprising science of happiness  14689301  01-02-2004   \n",
       "1572                     How to make stress your friend  14566463  10-06-2013   \n",
       "176                            Underwater astonishments  13926113  02-03-2007   \n",
       "262                                         Brain magic  13327101  01-02-2004   \n",
       "530                        The danger of a single story  13298341  22-07-2009   \n",
       "381                        Your elusive creative genius  13155478  04-02-2009   \n",
       "1501        Grit: The power of passion and perseverance  12039978  03-04-2013   \n",
       "4                       The best stats you've ever seen  12005869  21-02-2006   \n",
       "1940                                 The price of shame  11443190  18-03-2015   \n",
       "47                                 8 secrets of success  10841210  22-02-2005   \n",
       "892                     If I should have a daughter ...  10529854  02-03-2011   \n",
       "...                                                 ...       ...         ...   \n",
       "1486                       How much does a video weigh?    195899  27-02-2013   \n",
       "1093                        My subversive (garden) plot    191555  09-09-2011   \n",
       "1198                 \"Put the financial aid in the bag\"    186308  10-11-2011   \n",
       "292                                    The camel's hump    185275  01-02-2002   \n",
       "2507                      A dance to honor Mother Earth    182975  23-04-2017   \n",
       "1192                                      I am a pirate    181010  10-03-2012   \n",
       "649                                    Why I do theater    176995  08-10-2008   \n",
       "323                     The balancing act of compassion    176245  30-09-2009   \n",
       "1149                               Look up for a change    175395  10-11-2011   \n",
       "1250                   A new way to stop identity theft    174326  26-04-2012   \n",
       "1223                          From stigma to supermodel    166959  10-11-2011   \n",
       "1237                          The sea we've hardly seen    166835  17-04-2012   \n",
       "1105                      Can astronomers help doctors?    161462  27-06-2011   \n",
       "1119                 Plant fuels that could power a jet    155895  16-08-2011   \n",
       "581                   Engineering a better life for all    154698  06-10-2009   \n",
       "590           What Bernie Madoff couldn't steal from me    149818  14-03-2009   \n",
       "1053         How mobile phones helped solve two murders    148971  01-04-2011   \n",
       "1301                  When a reporter becomes the story    144044  09-03-2012   \n",
       "1179                                Victims of the city    142164  10-11-2011   \n",
       "1061                                  Open science now!    138812  02-03-2011   \n",
       "1178                         Beautiful artificial limbs    132199  18-11-2011   \n",
       "1104               Change our culture, change our world    125050  12-10-2010   \n",
       "1079                          Don't misrepresent Africa    121186  23-09-2011   \n",
       "1141                               Deaf in the military    120274  22-04-2011   \n",
       "1229                          Beethoven the businessman    117756  02-12-2011   \n",
       "1133                   Let's bridge the digital divide!    115346  05-08-2011   \n",
       "776                              The early birdwatchers    112321  17-09-2009   \n",
       "237                                          \"Kounandi\"     82488  05-06-2007   \n",
       "1112             The debut of the British Paraorchestra     66668  21-11-2011   \n",
       "594                                    Stories of Haiti     50443  12-10-2004   \n",
       "\n",
       "      duration  comments  num_speaker  \n",
       "0         1164      4553            1  \n",
       "1346      1262      2290            1  \n",
       "677       1084      1930            1  \n",
       "837       1219      1927            1  \n",
       "452       1003       354            1  \n",
       "1776       598       297            1  \n",
       "201       1099      2877            1  \n",
       "5         1305       672            1  \n",
       "2114       588       150            1  \n",
       "1416       577       846            1  \n",
       "500       1116      1094            1  \n",
       "1163      1144      1155            1  \n",
       "1036      1130       561            1  \n",
       "2109       766       527            1  \n",
       "1129       740       754            1  \n",
       "553        830      1329            1  \n",
       "596       1219       296            1  \n",
       "1579       527       285            1  \n",
       "2161       843       310            1  \n",
       "29        1276       970            1  \n",
       "1572       868       693            1  \n",
       "176        327       554            1  \n",
       "262       1189       669            1  \n",
       "530       1129      1155            1  \n",
       "381       1149      1604            1  \n",
       "1501       372       659            1  \n",
       "4         1190       593            1  \n",
       "1940      1346      1355            1  \n",
       "47         210       578            1  \n",
       "892       1105       645            1  \n",
       "...        ...       ...          ...  \n",
       "1486       441       126            1  \n",
       "1093      1129       130            1  \n",
       "1198       305       175            1  \n",
       "292        966        12            1  \n",
       "2507       575         6            5  \n",
       "1192      1097       122            1  \n",
       "649        407        74            1  \n",
       "323        946        76            1  \n",
       "1149       669        80            1  \n",
       "1250      1023       208            1  \n",
       "1223      1084        59            1  \n",
       "1237       697        67            1  \n",
       "1105       581        41            1  \n",
       "1119       869        76            1  \n",
       "581        889       105            1  \n",
       "590        510        87            1  \n",
       "1053      1013        46            1  \n",
       "1301       711        43            1  \n",
       "1179      1191        99            1  \n",
       "1061       982       118            1  \n",
       "1178       663        84            1  \n",
       "1104       632        70            1  \n",
       "1079       686        84            1  \n",
       "1141      1118        70            1  \n",
       "1229       769        73            1  \n",
       "1133       594        80            1  \n",
       "776       1690        40            1  \n",
       "237        386        43            1  \n",
       "1112       816        43            2  \n",
       "594       3573        20            1  \n",
       "\n",
       "[2550 rows x 6 columns]"
      ]
     },
     "execution_count": 74,
     "metadata": {},
     "output_type": "execute_result"
    }
   ],
   "source": [
    "top_talks = df[[\"title\",\"views\", \"film_date\", \"duration\", \"comments\", \"num_speaker\"]].sort_values('views', ascending=False)\n",
    "top_talks"
   ]
  },
  {
   "cell_type": "code",
   "execution_count": 75,
   "metadata": {
    "collapsed": true
   },
   "outputs": [],
   "source": [
    "df_test = top_talks.copy()"
   ]
  },
  {
   "cell_type": "code",
   "execution_count": 76,
   "metadata": {},
   "outputs": [
    {
     "data": {
      "text/plain": [
       "Int64Index([   0, 1346,  677,  837,  452, 1776,  201,    5, 2114, 1416,\n",
       "            ...\n",
       "            1178, 1104, 1079, 1141, 1229, 1133,  776,  237, 1112,  594],\n",
       "           dtype='int64', length=2550)"
      ]
     },
     "execution_count": 76,
     "metadata": {},
     "output_type": "execute_result"
    }
   ],
   "source": [
    "df_test.index"
   ]
  },
  {
   "cell_type": "code",
   "execution_count": 77,
   "metadata": {},
   "outputs": [
    {
     "data": {
      "text/html": [
       "<div>\n",
       "<style>\n",
       "    .dataframe thead tr:only-child th {\n",
       "        text-align: right;\n",
       "    }\n",
       "\n",
       "    .dataframe thead th {\n",
       "        text-align: left;\n",
       "    }\n",
       "\n",
       "    .dataframe tbody tr th {\n",
       "        vertical-align: top;\n",
       "    }\n",
       "</style>\n",
       "<table border=\"1\" class=\"dataframe\">\n",
       "  <thead>\n",
       "    <tr style=\"text-align: right;\">\n",
       "      <th></th>\n",
       "      <th>comments</th>\n",
       "      <th>description</th>\n",
       "      <th>duration</th>\n",
       "      <th>event</th>\n",
       "      <th>film_date</th>\n",
       "      <th>languages</th>\n",
       "      <th>main_speaker</th>\n",
       "      <th>name</th>\n",
       "      <th>num_speaker</th>\n",
       "      <th>published_date</th>\n",
       "      <th>ratings</th>\n",
       "      <th>related_talks</th>\n",
       "      <th>speaker_occupation</th>\n",
       "      <th>tags</th>\n",
       "      <th>title</th>\n",
       "      <th>url</th>\n",
       "      <th>views</th>\n",
       "    </tr>\n",
       "  </thead>\n",
       "  <tbody>\n",
       "    <tr>\n",
       "      <th>0</th>\n",
       "      <td>4553</td>\n",
       "      <td>Sir Ken Robinson makes an entertaining and pro...</td>\n",
       "      <td>1164</td>\n",
       "      <td>TED2006</td>\n",
       "      <td>24-02-2006</td>\n",
       "      <td>60</td>\n",
       "      <td>Ken Robinson</td>\n",
       "      <td>Ken Robinson: Do schools kill creativity?</td>\n",
       "      <td>1</td>\n",
       "      <td>26-06-2006</td>\n",
       "      <td>[{'id': 7, 'name': 'Funny', 'count': 19645}, {...</td>\n",
       "      <td>[{'id': 865, 'hero': 'https://pe.tedcdn.com/im...</td>\n",
       "      <td>Author/educator</td>\n",
       "      <td>['children', 'creativity', 'culture', 'dance',...</td>\n",
       "      <td>Do schools kill creativity?</td>\n",
       "      <td>https://www.ted.com/talks/ken_robinson_says_sc...</td>\n",
       "      <td>47227110</td>\n",
       "    </tr>\n",
       "    <tr>\n",
       "      <th>1</th>\n",
       "      <td>265</td>\n",
       "      <td>With the same humor and humanity he exuded in ...</td>\n",
       "      <td>977</td>\n",
       "      <td>TED2006</td>\n",
       "      <td>24-02-2006</td>\n",
       "      <td>43</td>\n",
       "      <td>Al Gore</td>\n",
       "      <td>Al Gore: Averting the climate crisis</td>\n",
       "      <td>1</td>\n",
       "      <td>26-06-2006</td>\n",
       "      <td>[{'id': 7, 'name': 'Funny', 'count': 544}, {'i...</td>\n",
       "      <td>[{'id': 243, 'hero': 'https://pe.tedcdn.com/im...</td>\n",
       "      <td>Climate advocate</td>\n",
       "      <td>['alternative energy', 'cars', 'climate change...</td>\n",
       "      <td>Averting the climate crisis</td>\n",
       "      <td>https://www.ted.com/talks/al_gore_on_averting_...</td>\n",
       "      <td>3200520</td>\n",
       "    </tr>\n",
       "    <tr>\n",
       "      <th>2</th>\n",
       "      <td>124</td>\n",
       "      <td>New York Times columnist David Pogue takes aim...</td>\n",
       "      <td>1286</td>\n",
       "      <td>TED2006</td>\n",
       "      <td>23-02-2006</td>\n",
       "      <td>26</td>\n",
       "      <td>David Pogue</td>\n",
       "      <td>David Pogue: Simplicity sells</td>\n",
       "      <td>1</td>\n",
       "      <td>26-06-2006</td>\n",
       "      <td>[{'id': 7, 'name': 'Funny', 'count': 964}, {'i...</td>\n",
       "      <td>[{'id': 1725, 'hero': 'https://pe.tedcdn.com/i...</td>\n",
       "      <td>Technology columnist</td>\n",
       "      <td>['computers', 'entertainment', 'interface desi...</td>\n",
       "      <td>Simplicity sells</td>\n",
       "      <td>https://www.ted.com/talks/david_pogue_says_sim...</td>\n",
       "      <td>1636292</td>\n",
       "    </tr>\n",
       "    <tr>\n",
       "      <th>3</th>\n",
       "      <td>200</td>\n",
       "      <td>In an emotionally charged talk, MacArthur-winn...</td>\n",
       "      <td>1116</td>\n",
       "      <td>TED2006</td>\n",
       "      <td>25-02-2006</td>\n",
       "      <td>35</td>\n",
       "      <td>Majora Carter</td>\n",
       "      <td>Majora Carter: Greening the ghetto</td>\n",
       "      <td>1</td>\n",
       "      <td>26-06-2006</td>\n",
       "      <td>[{'id': 3, 'name': 'Courageous', 'count': 760}...</td>\n",
       "      <td>[{'id': 1041, 'hero': 'https://pe.tedcdn.com/i...</td>\n",
       "      <td>Activist for environmental justice</td>\n",
       "      <td>['MacArthur grant', 'activism', 'business', 'c...</td>\n",
       "      <td>Greening the ghetto</td>\n",
       "      <td>https://www.ted.com/talks/majora_carter_s_tale...</td>\n",
       "      <td>1697550</td>\n",
       "    </tr>\n",
       "    <tr>\n",
       "      <th>4</th>\n",
       "      <td>593</td>\n",
       "      <td>You've never seen data presented like this. Wi...</td>\n",
       "      <td>1190</td>\n",
       "      <td>TED2006</td>\n",
       "      <td>21-02-2006</td>\n",
       "      <td>48</td>\n",
       "      <td>Hans Rosling</td>\n",
       "      <td>Hans Rosling: The best stats you've ever seen</td>\n",
       "      <td>1</td>\n",
       "      <td>27-06-2006</td>\n",
       "      <td>[{'id': 9, 'name': 'Ingenious', 'count': 3202}...</td>\n",
       "      <td>[{'id': 2056, 'hero': 'https://pe.tedcdn.com/i...</td>\n",
       "      <td>Global health expert; data visionary</td>\n",
       "      <td>['Africa', 'Asia', 'Google', 'demo', 'economic...</td>\n",
       "      <td>The best stats you've ever seen</td>\n",
       "      <td>https://www.ted.com/talks/hans_rosling_shows_t...</td>\n",
       "      <td>12005869</td>\n",
       "    </tr>\n",
       "    <tr>\n",
       "      <th>5</th>\n",
       "      <td>672</td>\n",
       "      <td>Tony Robbins discusses the \"invisible forces\" ...</td>\n",
       "      <td>1305</td>\n",
       "      <td>TED2006</td>\n",
       "      <td>01-02-2006</td>\n",
       "      <td>36</td>\n",
       "      <td>Tony Robbins</td>\n",
       "      <td>Tony Robbins: Why we do what we do</td>\n",
       "      <td>1</td>\n",
       "      <td>27-06-2006</td>\n",
       "      <td>[{'id': 7, 'name': 'Funny', 'count': 1102}, {'...</td>\n",
       "      <td>[{'id': 229, 'hero': 'https://pe.tedcdn.com/im...</td>\n",
       "      <td>Life coach; expert in leadership psychology</td>\n",
       "      <td>['business', 'culture', 'entertainment', 'goal...</td>\n",
       "      <td>Why we do what we do</td>\n",
       "      <td>https://www.ted.com/talks/tony_robbins_asks_wh...</td>\n",
       "      <td>20685401</td>\n",
       "    </tr>\n",
       "    <tr>\n",
       "      <th>6</th>\n",
       "      <td>919</td>\n",
       "      <td>When two young Mormon missionaries knock on Ju...</td>\n",
       "      <td>992</td>\n",
       "      <td>TED2006</td>\n",
       "      <td>23-02-2006</td>\n",
       "      <td>31</td>\n",
       "      <td>Julia Sweeney</td>\n",
       "      <td>Julia Sweeney: Letting go of God</td>\n",
       "      <td>1</td>\n",
       "      <td>09-07-2006</td>\n",
       "      <td>[{'id': 3, 'name': 'Courageous', 'count': 477}...</td>\n",
       "      <td>[{'id': 22, 'hero': 'https://pe.tedcdn.com/ima...</td>\n",
       "      <td>Actor, comedian, playwright</td>\n",
       "      <td>['Christianity', 'God', 'atheism', 'comedy', '...</td>\n",
       "      <td>Letting go of God</td>\n",
       "      <td>https://www.ted.com/talks/julia_sweeney_on_let...</td>\n",
       "      <td>3769987</td>\n",
       "    </tr>\n",
       "    <tr>\n",
       "      <th>7</th>\n",
       "      <td>46</td>\n",
       "      <td>Architect Joshua Prince-Ramus takes the audien...</td>\n",
       "      <td>1198</td>\n",
       "      <td>TED2006</td>\n",
       "      <td>22-02-2006</td>\n",
       "      <td>19</td>\n",
       "      <td>Joshua Prince-Ramus</td>\n",
       "      <td>Joshua Prince-Ramus: Behind the design of Seat...</td>\n",
       "      <td>1</td>\n",
       "      <td>09-07-2006</td>\n",
       "      <td>[{'id': 9, 'name': 'Ingenious', 'count': 195},...</td>\n",
       "      <td>[{'id': 750, 'hero': 'https://pe.tedcdn.com/im...</td>\n",
       "      <td>Architect</td>\n",
       "      <td>['architecture', 'collaboration', 'culture', '...</td>\n",
       "      <td>Behind the design of Seattle's library</td>\n",
       "      <td>https://www.ted.com/talks/joshua_prince_ramus_...</td>\n",
       "      <td>967741</td>\n",
       "    </tr>\n",
       "    <tr>\n",
       "      <th>8</th>\n",
       "      <td>852</td>\n",
       "      <td>Philosopher Dan Dennett calls for religion -- ...</td>\n",
       "      <td>1485</td>\n",
       "      <td>TED2006</td>\n",
       "      <td>01-02-2006</td>\n",
       "      <td>32</td>\n",
       "      <td>Dan Dennett</td>\n",
       "      <td>Dan Dennett: Let's teach religion -- all relig...</td>\n",
       "      <td>1</td>\n",
       "      <td>17-07-2006</td>\n",
       "      <td>[{'id': 3, 'name': 'Courageous', 'count': 562}...</td>\n",
       "      <td>[{'id': 71, 'hero': 'https://pe.tedcdn.com/ima...</td>\n",
       "      <td>Philosopher, cognitive scientist</td>\n",
       "      <td>['God', 'TED Brain Trust', 'atheism', 'brain',...</td>\n",
       "      <td>Let's teach religion -- all religion -- in sch...</td>\n",
       "      <td>https://www.ted.com/talks/dan_dennett_s_respon...</td>\n",
       "      <td>2567958</td>\n",
       "    </tr>\n",
       "    <tr>\n",
       "      <th>9</th>\n",
       "      <td>900</td>\n",
       "      <td>Pastor Rick Warren, author of \"The Purpose-Dri...</td>\n",
       "      <td>1262</td>\n",
       "      <td>TED2006</td>\n",
       "      <td>24-02-2006</td>\n",
       "      <td>31</td>\n",
       "      <td>Rick Warren</td>\n",
       "      <td>Rick Warren: A life of purpose</td>\n",
       "      <td>1</td>\n",
       "      <td>17-07-2006</td>\n",
       "      <td>[{'id': 21, 'name': 'Unconvincing', 'count': 8...</td>\n",
       "      <td>[{'id': 94, 'hero': 'https://pe.tedcdn.com/ima...</td>\n",
       "      <td>Pastor, author</td>\n",
       "      <td>['Christianity', 'God', 'culture', 'happiness'...</td>\n",
       "      <td>A life of purpose</td>\n",
       "      <td>https://www.ted.com/talks/rick_warren_on_a_lif...</td>\n",
       "      <td>3095993</td>\n",
       "    </tr>\n",
       "    <tr>\n",
       "      <th>10</th>\n",
       "      <td>79</td>\n",
       "      <td>Accepting his 2006 TED Prize, Cameron Sinclair...</td>\n",
       "      <td>1414</td>\n",
       "      <td>TED2006</td>\n",
       "      <td>25-02-2006</td>\n",
       "      <td>27</td>\n",
       "      <td>Cameron Sinclair</td>\n",
       "      <td>Cameron Sinclair: My wish: A call for open-sou...</td>\n",
       "      <td>1</td>\n",
       "      <td>24-07-2006</td>\n",
       "      <td>[{'id': 3, 'name': 'Courageous', 'count': 169}...</td>\n",
       "      <td>[{'id': 1749, 'hero': 'https://pe.tedcdn.com/i...</td>\n",
       "      <td>Co-founder, Architecture for Humanity</td>\n",
       "      <td>['activism', 'architecture', 'collaboration', ...</td>\n",
       "      <td>My wish: A call for open-source architecture</td>\n",
       "      <td>https://www.ted.com/talks/cameron_sinclair_on_...</td>\n",
       "      <td>1211416</td>\n",
       "    </tr>\n",
       "    <tr>\n",
       "      <th>11</th>\n",
       "      <td>55</td>\n",
       "      <td>Jehane Noujaim unveils her 2006 TED Prize wish...</td>\n",
       "      <td>1538</td>\n",
       "      <td>TED2006</td>\n",
       "      <td>25-02-2006</td>\n",
       "      <td>20</td>\n",
       "      <td>Jehane Noujaim</td>\n",
       "      <td>Jehane Noujaim: My wish: A global day of film</td>\n",
       "      <td>1</td>\n",
       "      <td>24-07-2006</td>\n",
       "      <td>[{'id': 1, 'name': 'Beautiful', 'count': 70}, ...</td>\n",
       "      <td>[{'id': 2228, 'hero': 'https://pe.tedcdn.com/i...</td>\n",
       "      <td>Filmmaker</td>\n",
       "      <td>['TED Prize', 'art', 'culture', 'entertainment...</td>\n",
       "      <td>My wish: A global day of film</td>\n",
       "      <td>https://www.ted.com/talks/jehane_noujaim_inspi...</td>\n",
       "      <td>387877</td>\n",
       "    </tr>\n",
       "    <tr>\n",
       "      <th>12</th>\n",
       "      <td>71</td>\n",
       "      <td>Accepting the 2006 TED Prize, Dr. Larry Brilli...</td>\n",
       "      <td>1550</td>\n",
       "      <td>TED2006</td>\n",
       "      <td>22-02-2006</td>\n",
       "      <td>24</td>\n",
       "      <td>Larry Brilliant</td>\n",
       "      <td>Larry Brilliant: My wish: Help me stop pandemics</td>\n",
       "      <td>1</td>\n",
       "      <td>24-07-2006</td>\n",
       "      <td>[{'id': 8, 'name': 'Informative', 'count': 188...</td>\n",
       "      <td>[{'id': 1153, 'hero': 'https://pe.tedcdn.com/i...</td>\n",
       "      <td>Epidemiologist, philanthropist</td>\n",
       "      <td>['TED Prize', 'collaboration', 'disease', 'ebo...</td>\n",
       "      <td>My wish: Help me stop pandemics</td>\n",
       "      <td>https://www.ted.com/talks/larry_brilliant_want...</td>\n",
       "      <td>693341</td>\n",
       "    </tr>\n",
       "    <tr>\n",
       "      <th>13</th>\n",
       "      <td>242</td>\n",
       "      <td>Jeff Han shows off a cheap, scalable multi-tou...</td>\n",
       "      <td>527</td>\n",
       "      <td>TED2006</td>\n",
       "      <td>05-02-2006</td>\n",
       "      <td>27</td>\n",
       "      <td>Jeff Han</td>\n",
       "      <td>Jeff Han: The radical promise of the multi-tou...</td>\n",
       "      <td>1</td>\n",
       "      <td>31-07-2006</td>\n",
       "      <td>[{'id': 9, 'name': 'Ingenious', 'count': 1014}...</td>\n",
       "      <td>[{'id': 685, 'hero': 'https://pe.tedcdn.com/im...</td>\n",
       "      <td>Human-computer interface designer</td>\n",
       "      <td>['demo', 'design', 'interface design', 'techno...</td>\n",
       "      <td>The radical promise of the multi-touch interface</td>\n",
       "      <td>https://www.ted.com/talks/jeff_han_demos_his_b...</td>\n",
       "      <td>4531020</td>\n",
       "    </tr>\n",
       "    <tr>\n",
       "      <th>14</th>\n",
       "      <td>99</td>\n",
       "      <td>Nicholas Negroponte, founder of the MIT Media ...</td>\n",
       "      <td>1057</td>\n",
       "      <td>TED2006</td>\n",
       "      <td>22-02-2006</td>\n",
       "      <td>25</td>\n",
       "      <td>Nicholas Negroponte</td>\n",
       "      <td>Nicholas Negroponte: One Laptop per Child</td>\n",
       "      <td>1</td>\n",
       "      <td>31-07-2006</td>\n",
       "      <td>[{'id': 3, 'name': 'Courageous', 'count': 83},...</td>\n",
       "      <td>[{'id': 2043, 'hero': 'https://pe.tedcdn.com/i...</td>\n",
       "      <td>Tech visionary</td>\n",
       "      <td>['children', 'design', 'education', 'entrepren...</td>\n",
       "      <td>One Laptop per Child</td>\n",
       "      <td>https://www.ted.com/talks/nicholas_negroponte_...</td>\n",
       "      <td>358304</td>\n",
       "    </tr>\n",
       "    <tr>\n",
       "      <th>15</th>\n",
       "      <td>325</td>\n",
       "      <td>Violinist Sirena Huang gives a technically bri...</td>\n",
       "      <td>1481</td>\n",
       "      <td>TED2006</td>\n",
       "      <td>22-02-2006</td>\n",
       "      <td>31</td>\n",
       "      <td>Sirena Huang</td>\n",
       "      <td>Sirena Huang: An 11-year-old's magical violin</td>\n",
       "      <td>1</td>\n",
       "      <td>07-08-2006</td>\n",
       "      <td>[{'id': 1, 'name': 'Beautiful', 'count': 1671}...</td>\n",
       "      <td>[{'id': 2273, 'hero': 'https://pe.tedcdn.com/i...</td>\n",
       "      <td>Violinist</td>\n",
       "      <td>['entertainment', 'music', 'performance', 'vio...</td>\n",
       "      <td>An 11-year-old's magical violin</td>\n",
       "      <td>https://www.ted.com/talks/sirena_huang_dazzles...</td>\n",
       "      <td>2702470</td>\n",
       "    </tr>\n",
       "    <tr>\n",
       "      <th>16</th>\n",
       "      <td>305</td>\n",
       "      <td>Pianist and composer Jennifer Lin gives a magi...</td>\n",
       "      <td>1445</td>\n",
       "      <td>TED2004</td>\n",
       "      <td>25-02-2004</td>\n",
       "      <td>32</td>\n",
       "      <td>Jennifer Lin</td>\n",
       "      <td>Jennifer Lin: Improvising on piano, aged 14</td>\n",
       "      <td>1</td>\n",
       "      <td>07-08-2006</td>\n",
       "      <td>[{'id': 1, 'name': 'Beautiful', 'count': 1107}...</td>\n",
       "      <td>[{'id': 2273, 'hero': 'https://pe.tedcdn.com/i...</td>\n",
       "      <td>Pianist, composer</td>\n",
       "      <td>['creativity', 'entertainment', 'music', 'perf...</td>\n",
       "      <td>Improvising on piano, aged 14</td>\n",
       "      <td>https://www.ted.com/talks/jennifer_lin_improvs...</td>\n",
       "      <td>1628912</td>\n",
       "    </tr>\n",
       "    <tr>\n",
       "      <th>17</th>\n",
       "      <td>88</td>\n",
       "      <td>Fumes from indoor cooking fires kill more than...</td>\n",
       "      <td>906</td>\n",
       "      <td>TED2006</td>\n",
       "      <td>23-02-2006</td>\n",
       "      <td>27</td>\n",
       "      <td>Amy Smith</td>\n",
       "      <td>Amy Smith: Simple designs to save a life</td>\n",
       "      <td>1</td>\n",
       "      <td>14-08-2006</td>\n",
       "      <td>[{'id': 9, 'name': 'Ingenious', 'count': 321},...</td>\n",
       "      <td>[{'id': 1561, 'hero': 'https://pe.tedcdn.com/i...</td>\n",
       "      <td>inventor, engineer</td>\n",
       "      <td>['MacArthur grant', 'alternative energy', 'des...</td>\n",
       "      <td>Simple designs to save a life</td>\n",
       "      <td>https://www.ted.com/talks/amy_smith_shares_sim...</td>\n",
       "      <td>1415724</td>\n",
       "    </tr>\n",
       "    <tr>\n",
       "      <th>18</th>\n",
       "      <td>163</td>\n",
       "      <td>Designer Ross Lovegrove expounds his philosoph...</td>\n",
       "      <td>1170</td>\n",
       "      <td>TED2005</td>\n",
       "      <td>24-02-2005</td>\n",
       "      <td>22</td>\n",
       "      <td>Ross Lovegrove</td>\n",
       "      <td>Ross Lovegrove: Organic design, inspired by na...</td>\n",
       "      <td>1</td>\n",
       "      <td>14-08-2006</td>\n",
       "      <td>[{'id': 1, 'name': 'Beautiful', 'count': 259},...</td>\n",
       "      <td>[{'id': 2251, 'hero': 'https://pe.tedcdn.com/i...</td>\n",
       "      <td>Industrial designer</td>\n",
       "      <td>['DNA', 'biology', 'creativity', 'design', 'in...</td>\n",
       "      <td>Organic design, inspired by nature</td>\n",
       "      <td>https://www.ted.com/talks/ross_lovegrove_share...</td>\n",
       "      <td>1074081</td>\n",
       "    </tr>\n",
       "    <tr>\n",
       "      <th>19</th>\n",
       "      <td>84</td>\n",
       "      <td>Jimmy Wales recalls how he assembled \"a ragtag...</td>\n",
       "      <td>1201</td>\n",
       "      <td>TEDGlobal 2005</td>\n",
       "      <td>13-07-2005</td>\n",
       "      <td>32</td>\n",
       "      <td>Jimmy Wales</td>\n",
       "      <td>Jimmy Wales: The birth of Wikipedia</td>\n",
       "      <td>1</td>\n",
       "      <td>20-08-2006</td>\n",
       "      <td>[{'id': 1, 'name': 'Beautiful', 'count': 104},...</td>\n",
       "      <td>[{'id': 640, 'hero': 'https://pe.tedcdn.com/im...</td>\n",
       "      <td>Founder of Wikipedia</td>\n",
       "      <td>['business', 'collaboration', 'culture', 'inve...</td>\n",
       "      <td>The birth of Wikipedia</td>\n",
       "      <td>https://www.ted.com/talks/jimmy_wales_on_the_b...</td>\n",
       "      <td>1106561</td>\n",
       "    </tr>\n",
       "    <tr>\n",
       "      <th>20</th>\n",
       "      <td>108</td>\n",
       "      <td>In 2006, open-learning visionary Richard Baran...</td>\n",
       "      <td>1114</td>\n",
       "      <td>TED2006</td>\n",
       "      <td>22-02-2006</td>\n",
       "      <td>27</td>\n",
       "      <td>Richard Baraniuk</td>\n",
       "      <td>Richard Baraniuk: The birth of the open-source...</td>\n",
       "      <td>1</td>\n",
       "      <td>20-08-2006</td>\n",
       "      <td>[{'id': 9, 'name': 'Ingenious', 'count': 117},...</td>\n",
       "      <td>[{'id': 1913, 'hero': 'https://pe.tedcdn.com/i...</td>\n",
       "      <td>Education visionary</td>\n",
       "      <td>['business', 'collaboration', 'culture', 'glob...</td>\n",
       "      <td>The birth of the open-source learning revolution</td>\n",
       "      <td>https://www.ted.com/talks/richard_baraniuk_on_...</td>\n",
       "      <td>966439</td>\n",
       "    </tr>\n",
       "    <tr>\n",
       "      <th>21</th>\n",
       "      <td>185</td>\n",
       "      <td>Performer and web toymaker Ze Frank delivers a...</td>\n",
       "      <td>1136</td>\n",
       "      <td>TED2004</td>\n",
       "      <td>23-02-2004</td>\n",
       "      <td>26</td>\n",
       "      <td>Ze Frank</td>\n",
       "      <td>Ze Frank: Nerdcore comedy</td>\n",
       "      <td>1</td>\n",
       "      <td>24-08-2006</td>\n",
       "      <td>[{'id': 7, 'name': 'Funny', 'count': 2799}, {'...</td>\n",
       "      <td>[{'id': 148, 'hero': 'https://pe.tedcdn.com/im...</td>\n",
       "      <td>Humorist, web artist</td>\n",
       "      <td>['collaboration', 'comedy', 'community', 'cult...</td>\n",
       "      <td>Nerdcore comedy</td>\n",
       "      <td>https://www.ted.com/talks/ze_frank_s_nerdcore_...</td>\n",
       "      <td>6141440</td>\n",
       "    </tr>\n",
       "    <tr>\n",
       "      <th>22</th>\n",
       "      <td>50</td>\n",
       "      <td>The founding mother of the blog revolution, Mo...</td>\n",
       "      <td>1006</td>\n",
       "      <td>TED2006</td>\n",
       "      <td>22-02-2006</td>\n",
       "      <td>20</td>\n",
       "      <td>Mena Trott</td>\n",
       "      <td>Mena Trott: Meet the founder of the blog revol...</td>\n",
       "      <td>1</td>\n",
       "      <td>24-08-2006</td>\n",
       "      <td>[{'id': 8, 'name': 'Informative', 'count': 82}...</td>\n",
       "      <td>[{'id': 144, 'hero': 'https://pe.tedcdn.com/im...</td>\n",
       "      <td>Blogger; cofounder, Six Apart</td>\n",
       "      <td>['business', 'communication', 'community', 'cu...</td>\n",
       "      <td>Meet the founder of the blog revolution</td>\n",
       "      <td>https://www.ted.com/talks/mena_trott_tours_her...</td>\n",
       "      <td>518624</td>\n",
       "    </tr>\n",
       "    <tr>\n",
       "      <th>23</th>\n",
       "      <td>556</td>\n",
       "      <td>Anthropologist Helen Fisher takes on a tricky ...</td>\n",
       "      <td>1407</td>\n",
       "      <td>TED2006</td>\n",
       "      <td>23-02-2006</td>\n",
       "      <td>33</td>\n",
       "      <td>Helen Fisher</td>\n",
       "      <td>Helen Fisher: Why we love, why we cheat</td>\n",
       "      <td>1</td>\n",
       "      <td>05-09-2006</td>\n",
       "      <td>[{'id': 7, 'name': 'Funny', 'count': 780}, {'i...</td>\n",
       "      <td>[{'id': 307, 'hero': 'https://pe.tedcdn.com/im...</td>\n",
       "      <td>Anthropologist, expert on love</td>\n",
       "      <td>['cognitive science', 'culture', 'evolution', ...</td>\n",
       "      <td>Why we love, why we cheat</td>\n",
       "      <td>https://www.ted.com/talks/helen_fisher_tells_u...</td>\n",
       "      <td>9260764</td>\n",
       "    </tr>\n",
       "    <tr>\n",
       "      <th>24</th>\n",
       "      <td>117</td>\n",
       "      <td>Eve Ensler, creator of \"The Vagina Monologues,...</td>\n",
       "      <td>1225</td>\n",
       "      <td>TED2004</td>\n",
       "      <td>03-02-2004</td>\n",
       "      <td>23</td>\n",
       "      <td>Eve Ensler</td>\n",
       "      <td>Eve Ensler: Happiness in body and soul</td>\n",
       "      <td>1</td>\n",
       "      <td>05-09-2006</td>\n",
       "      <td>[{'id': 3, 'name': 'Courageous', 'count': 654}...</td>\n",
       "      <td>[{'id': 217, 'hero': 'https://pe.tedcdn.com/im...</td>\n",
       "      <td>Playwright, activist</td>\n",
       "      <td>['culture', 'entertainment', 'gender', 'global...</td>\n",
       "      <td>Happiness in body and soul</td>\n",
       "      <td>https://www.ted.com/talks/eve_ensler_on_happin...</td>\n",
       "      <td>1131864</td>\n",
       "    </tr>\n",
       "    <tr>\n",
       "      <th>25</th>\n",
       "      <td>184</td>\n",
       "      <td>Legendary scientist David Deutsch puts theoret...</td>\n",
       "      <td>1140</td>\n",
       "      <td>TEDGlobal 2005</td>\n",
       "      <td>13-07-2005</td>\n",
       "      <td>29</td>\n",
       "      <td>David Deutsch</td>\n",
       "      <td>David Deutsch: Chemical scum that dream of dis...</td>\n",
       "      <td>1</td>\n",
       "      <td>11-09-2006</td>\n",
       "      <td>[{'id': 9, 'name': 'Ingenious', 'count': 269},...</td>\n",
       "      <td>[{'id': 2237, 'hero': 'https://pe.tedcdn.com/i...</td>\n",
       "      <td>Quantum physicist</td>\n",
       "      <td>['climate change', 'cosmos', 'culture', 'envir...</td>\n",
       "      <td>Chemical scum that dream of distant quasars</td>\n",
       "      <td>https://www.ted.com/talks/david_deutsch_on_our...</td>\n",
       "      <td>1096862</td>\n",
       "    </tr>\n",
       "    <tr>\n",
       "      <th>26</th>\n",
       "      <td>507</td>\n",
       "      <td>Biologist Richard Dawkins makes a case for \"th...</td>\n",
       "      <td>1316</td>\n",
       "      <td>TEDGlobal 2005</td>\n",
       "      <td>06-07-2005</td>\n",
       "      <td>36</td>\n",
       "      <td>Richard Dawkins</td>\n",
       "      <td>Richard Dawkins: Why the universe seems so str...</td>\n",
       "      <td>1</td>\n",
       "      <td>11-09-2006</td>\n",
       "      <td>[{'id': 1, 'name': 'Beautiful', 'count': 333},...</td>\n",
       "      <td>[{'id': 1276, 'hero': 'https://pe.tedcdn.com/i...</td>\n",
       "      <td>Evolutionary biologist</td>\n",
       "      <td>['astronomy', 'biology', 'cognitive science', ...</td>\n",
       "      <td>Why the universe seems so strange</td>\n",
       "      <td>https://www.ted.com/talks/richard_dawkins_on_o...</td>\n",
       "      <td>2885999</td>\n",
       "    </tr>\n",
       "    <tr>\n",
       "      <th>27</th>\n",
       "      <td>95</td>\n",
       "      <td>\"Freakonomics\" author Steven Levitt presents n...</td>\n",
       "      <td>1275</td>\n",
       "      <td>TED2004</td>\n",
       "      <td>26-02-2004</td>\n",
       "      <td>25</td>\n",
       "      <td>Steven Levitt</td>\n",
       "      <td>Steven Levitt: The freakonomics of crack dealing</td>\n",
       "      <td>1</td>\n",
       "      <td>18-09-2006</td>\n",
       "      <td>[{'id': 7, 'name': 'Funny', 'count': 485}, {'i...</td>\n",
       "      <td>[{'id': 20, 'hero': 'https://pe.tedcdn.com/ima...</td>\n",
       "      <td>Economist</td>\n",
       "      <td>['business', 'cities', 'culture', 'economics',...</td>\n",
       "      <td>The freakonomics of crack dealing</td>\n",
       "      <td>https://www.ted.com/talks/steven_levitt_analyz...</td>\n",
       "      <td>2863214</td>\n",
       "    </tr>\n",
       "    <tr>\n",
       "      <th>28</th>\n",
       "      <td>355</td>\n",
       "      <td>\"Tipping Point\" author Malcolm Gladwell gets i...</td>\n",
       "      <td>1050</td>\n",
       "      <td>TED2004</td>\n",
       "      <td>25-02-2004</td>\n",
       "      <td>37</td>\n",
       "      <td>Malcolm Gladwell</td>\n",
       "      <td>Malcolm Gladwell: Choice, happiness and spaghe...</td>\n",
       "      <td>1</td>\n",
       "      <td>18-09-2006</td>\n",
       "      <td>[{'id': 7, 'name': 'Funny', 'count': 1668}, {'...</td>\n",
       "      <td>[{'id': 93, 'hero': 'https://pe.tedcdn.com/ima...</td>\n",
       "      <td>Writer</td>\n",
       "      <td>['business', 'choice', 'consumerism', 'culture...</td>\n",
       "      <td>Choice, happiness and spaghetti sauce</td>\n",
       "      <td>https://www.ted.com/talks/malcolm_gladwell_on_...</td>\n",
       "      <td>7023562</td>\n",
       "    </tr>\n",
       "    <tr>\n",
       "      <th>29</th>\n",
       "      <td>970</td>\n",
       "      <td>Dan Gilbert, author of \"Stumbling on Happiness...</td>\n",
       "      <td>1276</td>\n",
       "      <td>TED2004</td>\n",
       "      <td>01-02-2004</td>\n",
       "      <td>43</td>\n",
       "      <td>Dan Gilbert</td>\n",
       "      <td>Dan Gilbert: The surprising science of happiness</td>\n",
       "      <td>1</td>\n",
       "      <td>25-09-2006</td>\n",
       "      <td>[{'id': 7, 'name': 'Funny', 'count': 1728}, {'...</td>\n",
       "      <td>[{'id': 944, 'hero': 'https://pe.tedcdn.com/im...</td>\n",
       "      <td>Psychologist; happiness expert</td>\n",
       "      <td>['TED Brain Trust', 'brain', 'choice', 'cultur...</td>\n",
       "      <td>The surprising science of happiness</td>\n",
       "      <td>https://www.ted.com/talks/dan_gilbert_asks_why...</td>\n",
       "      <td>14689301</td>\n",
       "    </tr>\n",
       "    <tr>\n",
       "      <th>...</th>\n",
       "      <td>...</td>\n",
       "      <td>...</td>\n",
       "      <td>...</td>\n",
       "      <td>...</td>\n",
       "      <td>...</td>\n",
       "      <td>...</td>\n",
       "      <td>...</td>\n",
       "      <td>...</td>\n",
       "      <td>...</td>\n",
       "      <td>...</td>\n",
       "      <td>...</td>\n",
       "      <td>...</td>\n",
       "      <td>...</td>\n",
       "      <td>...</td>\n",
       "      <td>...</td>\n",
       "      <td>...</td>\n",
       "      <td>...</td>\n",
       "    </tr>\n",
       "    <tr>\n",
       "      <th>2520</th>\n",
       "      <td>81</td>\n",
       "      <td>Meet the \"ems\" -- machines that emulate human ...</td>\n",
       "      <td>736</td>\n",
       "      <td>TED2017</td>\n",
       "      <td>23-04-2017</td>\n",
       "      <td>2</td>\n",
       "      <td>Robin Hanson</td>\n",
       "      <td>Robin Hanson: What would happen if we upload o...</td>\n",
       "      <td>1</td>\n",
       "      <td>24-08-2017</td>\n",
       "      <td>[{'id': 23, 'name': 'Jaw-dropping', 'count': 2...</td>\n",
       "      <td>[{'id': 2592, 'hero': 'https://pe.tedcdn.com/i...</td>\n",
       "      <td>Futurist, social scientist</td>\n",
       "      <td>['AI', 'computers', 'economics', 'future', 'hu...</td>\n",
       "      <td>What would happen if we upload our brains to c...</td>\n",
       "      <td>https://www.ted.com/talks/robin_hanson_what_wo...</td>\n",
       "      <td>840855</td>\n",
       "    </tr>\n",
       "    <tr>\n",
       "      <th>2521</th>\n",
       "      <td>13</td>\n",
       "      <td>Your cells are coated with sugars that store i...</td>\n",
       "      <td>685</td>\n",
       "      <td>TEDxStanford</td>\n",
       "      <td>23-04-2016</td>\n",
       "      <td>7</td>\n",
       "      <td>Carolyn Bertozzi</td>\n",
       "      <td>Carolyn Bertozzi: What the sugar coating on yo...</td>\n",
       "      <td>1</td>\n",
       "      <td>24-08-2017</td>\n",
       "      <td>[{'id': 8, 'name': 'Informative', 'count': 146...</td>\n",
       "      <td>[{'id': 2504, 'hero': 'https://pe.tedcdn.com/i...</td>\n",
       "      <td>Chemical biologist</td>\n",
       "      <td>['biology', 'biomechanics', 'cancer', 'chemist...</td>\n",
       "      <td>What the sugar coating on your cells is trying...</td>\n",
       "      <td>https://www.ted.com/talks/carolyn_bertozzi_wha...</td>\n",
       "      <td>727807</td>\n",
       "    </tr>\n",
       "    <tr>\n",
       "      <th>2522</th>\n",
       "      <td>12</td>\n",
       "      <td>Every artist has a name, and every artist has ...</td>\n",
       "      <td>530</td>\n",
       "      <td>TED2017</td>\n",
       "      <td>23-04-2017</td>\n",
       "      <td>5</td>\n",
       "      <td>Laolu Senbanjo</td>\n",
       "      <td>Laolu Senbanjo: \"The Sacred Art of the Ori\"</td>\n",
       "      <td>1</td>\n",
       "      <td>25-08-2017</td>\n",
       "      <td>[{'id': 1, 'name': 'Beautiful', 'count': 85}, ...</td>\n",
       "      <td>[{'id': 2826, 'hero': 'https://pe.tedcdn.com/i...</td>\n",
       "      <td>Artist, musician, lawyer, activist</td>\n",
       "      <td>['Africa', 'art', 'beauty', 'creativity', 'per...</td>\n",
       "      <td>\"The Sacred Art of the Ori\"</td>\n",
       "      <td>https://www.ted.com/talks/laolu_senbanjo_the_s...</td>\n",
       "      <td>636463</td>\n",
       "    </tr>\n",
       "    <tr>\n",
       "      <th>2523</th>\n",
       "      <td>20</td>\n",
       "      <td>Another economic reality is possible -- one th...</td>\n",
       "      <td>747</td>\n",
       "      <td>TEDxCrenshaw</td>\n",
       "      <td>07-10-2016</td>\n",
       "      <td>3</td>\n",
       "      <td>Niki Okuk</td>\n",
       "      <td>Niki Okuk: When workers own companies, the eco...</td>\n",
       "      <td>1</td>\n",
       "      <td>28-08-2017</td>\n",
       "      <td>[{'id': 3, 'name': 'Courageous', 'count': 46},...</td>\n",
       "      <td>[{'id': 1041, 'hero': 'https://pe.tedcdn.com/i...</td>\n",
       "      <td>Entrepreneur</td>\n",
       "      <td>['TEDx', 'business', 'capitalism', 'community'...</td>\n",
       "      <td>When workers own companies, the economy is mor...</td>\n",
       "      <td>https://www.ted.com/talks/niki_okuk_when_worke...</td>\n",
       "      <td>744793</td>\n",
       "    </tr>\n",
       "    <tr>\n",
       "      <th>2524</th>\n",
       "      <td>9</td>\n",
       "      <td>We're so used to narratives out of Africa bein...</td>\n",
       "      <td>310</td>\n",
       "      <td>TED2017</td>\n",
       "      <td>23-04-2017</td>\n",
       "      <td>12</td>\n",
       "      <td>Wanuri Kahiu</td>\n",
       "      <td>Wanuri Kahiu: Fun, fierce and fantastical Afri...</td>\n",
       "      <td>1</td>\n",
       "      <td>29-08-2017</td>\n",
       "      <td>[{'id': 24, 'name': 'Persuasive', 'count': 19}...</td>\n",
       "      <td>[{'id': 652, 'hero': 'https://pe.tedcdn.com/im...</td>\n",
       "      <td>Filmmaker, writer</td>\n",
       "      <td>['Africa', 'TED Fellows', 'art', 'creativity',...</td>\n",
       "      <td>Fun, fierce and fantastical African art</td>\n",
       "      <td>https://www.ted.com/talks/wanuri_kahiu_fun_fie...</td>\n",
       "      <td>522917</td>\n",
       "    </tr>\n",
       "    <tr>\n",
       "      <th>2525</th>\n",
       "      <td>18</td>\n",
       "      <td>Could it be wrong to help children in need by ...</td>\n",
       "      <td>791</td>\n",
       "      <td>TEDxSydney</td>\n",
       "      <td>23-05-2016</td>\n",
       "      <td>5</td>\n",
       "      <td>Tara Winkler</td>\n",
       "      <td>Tara Winkler: Why we need to end the era of or...</td>\n",
       "      <td>1</td>\n",
       "      <td>29-08-2017</td>\n",
       "      <td>[{'id': 10, 'name': 'Inspiring', 'count': 119}...</td>\n",
       "      <td>[{'id': 1596, 'hero': 'https://pe.tedcdn.com/i...</td>\n",
       "      <td>Child protection leader, activist, author</td>\n",
       "      <td>['TEDx', 'activism', 'children', 'family', 'po...</td>\n",
       "      <td>Why we need to end the era of orphanages</td>\n",
       "      <td>https://www.ted.com/talks/tara_winkler_why_we_...</td>\n",
       "      <td>656113</td>\n",
       "    </tr>\n",
       "    <tr>\n",
       "      <th>2526</th>\n",
       "      <td>39</td>\n",
       "      <td>Meet Todai Robot, an AI project that performed...</td>\n",
       "      <td>817</td>\n",
       "      <td>TED2017</td>\n",
       "      <td>23-04-2017</td>\n",
       "      <td>6</td>\n",
       "      <td>Noriko Arai</td>\n",
       "      <td>Noriko Arai: Can a robot pass a university ent...</td>\n",
       "      <td>1</td>\n",
       "      <td>30-08-2017</td>\n",
       "      <td>[{'id': 22, 'name': 'Fascinating', 'count': 11...</td>\n",
       "      <td>[{'id': 2606, 'hero': 'https://pe.tedcdn.com/i...</td>\n",
       "      <td>AI expert</td>\n",
       "      <td>['AI', 'education', 'intelligence', 'robots', ...</td>\n",
       "      <td>Can a robot pass a university entrance exam?</td>\n",
       "      <td>https://www.ted.com/talks/noriko_arai_can_a_ro...</td>\n",
       "      <td>773317</td>\n",
       "    </tr>\n",
       "    <tr>\n",
       "      <th>2527</th>\n",
       "      <td>17</td>\n",
       "      <td>What's stopping the American government from r...</td>\n",
       "      <td>865</td>\n",
       "      <td>TEDxStanford</td>\n",
       "      <td>22-04-2017</td>\n",
       "      <td>3</td>\n",
       "      <td>Jennifer Granick</td>\n",
       "      <td>Jennifer Granick: How the US government spies ...</td>\n",
       "      <td>1</td>\n",
       "      <td>31-08-2017</td>\n",
       "      <td>[{'id': 3, 'name': 'Courageous', 'count': 63},...</td>\n",
       "      <td>[{'id': 2567, 'hero': 'https://pe.tedcdn.com/i...</td>\n",
       "      <td>Surveillance and cybersecurity counsel</td>\n",
       "      <td>['TEDx', 'United States', 'activism', 'democra...</td>\n",
       "      <td>How the US government spies on people who prot...</td>\n",
       "      <td>https://www.ted.com/talks/jennifer_granick_how...</td>\n",
       "      <td>766721</td>\n",
       "    </tr>\n",
       "    <tr>\n",
       "      <th>2528</th>\n",
       "      <td>3</td>\n",
       "      <td>Digital archaeologist Chance Coughenour is usi...</td>\n",
       "      <td>717</td>\n",
       "      <td>TEDxHamburg</td>\n",
       "      <td>07-06-2016</td>\n",
       "      <td>5</td>\n",
       "      <td>Chance Coughenour</td>\n",
       "      <td>Chance Coughenour: How your pictures can help ...</td>\n",
       "      <td>1</td>\n",
       "      <td>31-08-2017</td>\n",
       "      <td>[{'id': 9, 'name': 'Ingenious', 'count': 16}, ...</td>\n",
       "      <td>[{'id': 2673, 'hero': 'https://pe.tedcdn.com/i...</td>\n",
       "      <td>Digital archaeologist</td>\n",
       "      <td>['TEDx', 'ancient world', 'archaeology', 'cons...</td>\n",
       "      <td>How your pictures can help reclaim lost history</td>\n",
       "      <td>https://www.ted.com/talks/chance_coughenour_ho...</td>\n",
       "      <td>539207</td>\n",
       "    </tr>\n",
       "    <tr>\n",
       "      <th>2529</th>\n",
       "      <td>45</td>\n",
       "      <td>We all have origin stories and identity myths,...</td>\n",
       "      <td>1156</td>\n",
       "      <td>TEDxExeter</td>\n",
       "      <td>23-04-2015</td>\n",
       "      <td>1</td>\n",
       "      <td>Chetan Bhatt</td>\n",
       "      <td>Chetan Bhatt: Dare to refuse the origin myths ...</td>\n",
       "      <td>1</td>\n",
       "      <td>01-09-2017</td>\n",
       "      <td>[{'id': 9, 'name': 'Ingenious', 'count': 24}, ...</td>\n",
       "      <td>[{'id': 2811, 'hero': 'https://pe.tedcdn.com/i...</td>\n",
       "      <td>Sociologist, human rights activist</td>\n",
       "      <td>['TEDx', 'community', 'humanity', 'identity', ...</td>\n",
       "      <td>Dare to refuse the origin myths that claim who...</td>\n",
       "      <td>https://www.ted.com/talks/chetan_bhatt_dare_to...</td>\n",
       "      <td>857850</td>\n",
       "    </tr>\n",
       "    <tr>\n",
       "      <th>2530</th>\n",
       "      <td>12</td>\n",
       "      <td>Daan Roosegaarde uses technology and creative ...</td>\n",
       "      <td>738</td>\n",
       "      <td>TED2017</td>\n",
       "      <td>23-04-2017</td>\n",
       "      <td>3</td>\n",
       "      <td>Daan Roosegaarde</td>\n",
       "      <td>Daan Roosegaarde: A smog vacuum cleaner and ot...</td>\n",
       "      <td>1</td>\n",
       "      <td>05-09-2017</td>\n",
       "      <td>[{'id': 2, 'name': 'Confusing', 'count': 2}, {...</td>\n",
       "      <td>[{'id': 2774, 'hero': 'https://pe.tedcdn.com/i...</td>\n",
       "      <td>Artist</td>\n",
       "      <td>['architecture', 'art', 'cities', 'creativity'...</td>\n",
       "      <td>A smog vacuum cleaner and other magical city d...</td>\n",
       "      <td>https://www.ted.com/talks/daan_roosegaarde_a_s...</td>\n",
       "      <td>591131</td>\n",
       "    </tr>\n",
       "    <tr>\n",
       "      <th>2531</th>\n",
       "      <td>18</td>\n",
       "      <td>Terrorists and extremists aren't all naturally...</td>\n",
       "      <td>698</td>\n",
       "      <td>TEDxGhent</td>\n",
       "      <td>17-06-2016</td>\n",
       "      <td>1</td>\n",
       "      <td>Erin Marie Saltman</td>\n",
       "      <td>Erin Marie Saltman: How young people join viol...</td>\n",
       "      <td>1</td>\n",
       "      <td>05-09-2017</td>\n",
       "      <td>[{'id': 8, 'name': 'Informative', 'count': 64}...</td>\n",
       "      <td>[{'id': 2309, 'hero': 'https://pe.tedcdn.com/i...</td>\n",
       "      <td>Policy researcher</td>\n",
       "      <td>['TEDx', 'security', 'social media', 'terroris...</td>\n",
       "      <td>How young people join violent extremist groups...</td>\n",
       "      <td>https://www.ted.com/talks/erin_marie_saltman_h...</td>\n",
       "      <td>665328</td>\n",
       "    </tr>\n",
       "    <tr>\n",
       "      <th>2532</th>\n",
       "      <td>25</td>\n",
       "      <td>What if you knew what your coworkers really th...</td>\n",
       "      <td>993</td>\n",
       "      <td>TED2017</td>\n",
       "      <td>23-04-2017</td>\n",
       "      <td>2</td>\n",
       "      <td>Ray Dalio</td>\n",
       "      <td>Ray Dalio: How to build a company where the be...</td>\n",
       "      <td>1</td>\n",
       "      <td>06-09-2017</td>\n",
       "      <td>[{'id': 25, 'name': 'OK', 'count': 26}, {'id':...</td>\n",
       "      <td>[{'id': 2474, 'hero': 'https://pe.tedcdn.com/i...</td>\n",
       "      <td>Hedge fund chair</td>\n",
       "      <td>['algorithm', 'business', 'collaboration', 'co...</td>\n",
       "      <td>How to build a company where the best ideas win</td>\n",
       "      <td>https://www.ted.com/talks/ray_dalio_how_to_bui...</td>\n",
       "      <td>1070238</td>\n",
       "    </tr>\n",
       "    <tr>\n",
       "      <th>2533</th>\n",
       "      <td>9</td>\n",
       "      <td>In a mind-bending talk that blurs the line bet...</td>\n",
       "      <td>663</td>\n",
       "      <td>TED2017</td>\n",
       "      <td>23-04-2017</td>\n",
       "      <td>2</td>\n",
       "      <td>Tomás Saraceno</td>\n",
       "      <td>Tomás Saraceno: Would you live in a floating ...</td>\n",
       "      <td>1</td>\n",
       "      <td>07-09-2017</td>\n",
       "      <td>[{'id': 1, 'name': 'Beautiful', 'count': 29}, ...</td>\n",
       "      <td>[{'id': 1085, 'hero': 'https://pe.tedcdn.com/i...</td>\n",
       "      <td>Artist</td>\n",
       "      <td>['TED en Español', 'art', 'creativity', 'desig...</td>\n",
       "      <td>Would you live in a floating city in the sky?</td>\n",
       "      <td>https://www.ted.com/talks/tomas_saraceno_would...</td>\n",
       "      <td>248411</td>\n",
       "    </tr>\n",
       "    <tr>\n",
       "      <th>2534</th>\n",
       "      <td>2</td>\n",
       "      <td>What the astronauts felt when they saw Earth f...</td>\n",
       "      <td>725</td>\n",
       "      <td>TEDxSkoll</td>\n",
       "      <td>06-04-2017</td>\n",
       "      <td>1</td>\n",
       "      <td>Benjamin Grant</td>\n",
       "      <td>Benjamin Grant: What it feels like to see Eart...</td>\n",
       "      <td>1</td>\n",
       "      <td>07-09-2017</td>\n",
       "      <td>[{'id': 10, 'name': 'Inspiring', 'count': 46},...</td>\n",
       "      <td>[{'id': 2511, 'hero': 'https://pe.tedcdn.com/i...</td>\n",
       "      <td>Author</td>\n",
       "      <td>['TEDx', 'art', 'climate change', 'environment...</td>\n",
       "      <td>What it feels like to see Earth from space</td>\n",
       "      <td>https://www.ted.com/talks/benjamin_grant_what_...</td>\n",
       "      <td>646174</td>\n",
       "    </tr>\n",
       "    <tr>\n",
       "      <th>2535</th>\n",
       "      <td>8</td>\n",
       "      <td>Underneath every shiny new megacity, there's o...</td>\n",
       "      <td>723</td>\n",
       "      <td>TEDGlobal 2017</td>\n",
       "      <td>26-08-2017</td>\n",
       "      <td>4</td>\n",
       "      <td>OluTimehin Adegbeye</td>\n",
       "      <td>OluTimehin Adegbeye: Who belongs in a city?</td>\n",
       "      <td>1</td>\n",
       "      <td>08-09-2017</td>\n",
       "      <td>[{'id': 3, 'name': 'Courageous', 'count': 77},...</td>\n",
       "      <td>[{'id': 2880, 'hero': 'https://pe.tedcdn.com/i...</td>\n",
       "      <td>Writer, activist</td>\n",
       "      <td>['Africa', 'activism', 'cities', 'government',...</td>\n",
       "      <td>Who belongs in a city?</td>\n",
       "      <td>https://www.ted.com/talks/olutimehin_adegbeye_...</td>\n",
       "      <td>707788</td>\n",
       "    </tr>\n",
       "    <tr>\n",
       "      <th>2536</th>\n",
       "      <td>21</td>\n",
       "      <td>Can you still be friends with someone who does...</td>\n",
       "      <td>865</td>\n",
       "      <td>TEDxMileHigh</td>\n",
       "      <td>07-07-2017</td>\n",
       "      <td>5</td>\n",
       "      <td>Caitlin Quattromani and Lauran Arledge</td>\n",
       "      <td>Caitlin Quattromani and Lauran Arledge: How ou...</td>\n",
       "      <td>2</td>\n",
       "      <td>11-09-2017</td>\n",
       "      <td>[{'id': 3, 'name': 'Courageous', 'count': 45},...</td>\n",
       "      <td>[{'id': 2625, 'hero': 'https://pe.tedcdn.com/i...</td>\n",
       "      <td>Marketing leader</td>\n",
       "      <td>['TEDx', 'communication', 'friendship', 'polit...</td>\n",
       "      <td>How our friendship survives our opposing politics</td>\n",
       "      <td>https://www.ted.com/talks/caitlin_quattromani_...</td>\n",
       "      <td>566101</td>\n",
       "    </tr>\n",
       "    <tr>\n",
       "      <th>2537</th>\n",
       "      <td>39</td>\n",
       "      <td>Our culture is obsessed with happiness, but wh...</td>\n",
       "      <td>738</td>\n",
       "      <td>TED2017</td>\n",
       "      <td>23-04-2017</td>\n",
       "      <td>2</td>\n",
       "      <td>Emily Esfahani Smith</td>\n",
       "      <td>Emily Esfahani Smith: There's more to life tha...</td>\n",
       "      <td>1</td>\n",
       "      <td>12-09-2017</td>\n",
       "      <td>[{'id': 1, 'name': 'Beautiful', 'count': 484},...</td>\n",
       "      <td>[{'id': 2399, 'hero': 'https://pe.tedcdn.com/i...</td>\n",
       "      <td>Author</td>\n",
       "      <td>['happiness', 'humanity', 'personal growth', '...</td>\n",
       "      <td>There's more to life than being happy</td>\n",
       "      <td>https://www.ted.com/talks/emily_esfahani_smith...</td>\n",
       "      <td>1009069</td>\n",
       "    </tr>\n",
       "    <tr>\n",
       "      <th>2538</th>\n",
       "      <td>7</td>\n",
       "      <td>Each year, one in seven large corporations com...</td>\n",
       "      <td>808</td>\n",
       "      <td>TEDxZurich</td>\n",
       "      <td>10-11-2016</td>\n",
       "      <td>1</td>\n",
       "      <td>Alexander Wagner</td>\n",
       "      <td>Alexander Wagner: What really motivates people...</td>\n",
       "      <td>1</td>\n",
       "      <td>12-09-2017</td>\n",
       "      <td>[{'id': 10, 'name': 'Inspiring', 'count': 50},...</td>\n",
       "      <td>[{'id': 1246, 'hero': 'https://pe.tedcdn.com/i...</td>\n",
       "      <td>Economist</td>\n",
       "      <td>['TEDx', 'business', 'corruption', 'economics'...</td>\n",
       "      <td>What really motivates people to be honest in b...</td>\n",
       "      <td>https://www.ted.com/talks/alexander_wagner_wha...</td>\n",
       "      <td>621431</td>\n",
       "    </tr>\n",
       "    <tr>\n",
       "      <th>2539</th>\n",
       "      <td>10</td>\n",
       "      <td>Forget quinoa. Meet fonio, an ancient \"miracle...</td>\n",
       "      <td>934</td>\n",
       "      <td>TED2017</td>\n",
       "      <td>26-08-2017</td>\n",
       "      <td>2</td>\n",
       "      <td>Pierre Thiam</td>\n",
       "      <td>Pierre Thiam: A forgotten ancient grain that c...</td>\n",
       "      <td>1</td>\n",
       "      <td>13-09-2017</td>\n",
       "      <td>[{'id': 10, 'name': 'Inspiring', 'count': 73},...</td>\n",
       "      <td>[{'id': 2873, 'hero': 'https://pe.tedcdn.com/i...</td>\n",
       "      <td>Chef</td>\n",
       "      <td>['Africa', 'agriculture', 'farming', 'food', '...</td>\n",
       "      <td>A forgotten ancient grain that could help Afri...</td>\n",
       "      <td>https://www.ted.com/talks/pierre_thiam_a_forgo...</td>\n",
       "      <td>527314</td>\n",
       "    </tr>\n",
       "    <tr>\n",
       "      <th>2540</th>\n",
       "      <td>33</td>\n",
       "      <td>We've heard a lot of rhetoric lately suggestin...</td>\n",
       "      <td>722</td>\n",
       "      <td>TED@UPS</td>\n",
       "      <td>19-07-2017</td>\n",
       "      <td>4</td>\n",
       "      <td>Augie Picado</td>\n",
       "      <td>Augie Picado: The real reason manufacturing jo...</td>\n",
       "      <td>1</td>\n",
       "      <td>14-09-2017</td>\n",
       "      <td>[{'id': 1, 'name': 'Beautiful', 'count': 15}, ...</td>\n",
       "      <td>[{'id': 2655, 'hero': 'https://pe.tedcdn.com/i...</td>\n",
       "      <td>Border specialist</td>\n",
       "      <td>['business', 'capitalism', 'collaboration', 'e...</td>\n",
       "      <td>The real reason manufacturing jobs are disappe...</td>\n",
       "      <td>https://www.ted.com/talks/augie_picado_the_rea...</td>\n",
       "      <td>613915</td>\n",
       "    </tr>\n",
       "    <tr>\n",
       "      <th>2541</th>\n",
       "      <td>12</td>\n",
       "      <td>Physics doesn't just happen in a fancy lab -- ...</td>\n",
       "      <td>957</td>\n",
       "      <td>TEDxManchester</td>\n",
       "      <td>18-02-2017</td>\n",
       "      <td>2</td>\n",
       "      <td>Helen Czerski</td>\n",
       "      <td>Helen Czerski: The fascinating physics of ever...</td>\n",
       "      <td>1</td>\n",
       "      <td>14-09-2017</td>\n",
       "      <td>[{'id': 11, 'name': 'Longwinded', 'count': 29}...</td>\n",
       "      <td>[{'id': 2491, 'hero': 'https://pe.tedcdn.com/i...</td>\n",
       "      <td>Physicist</td>\n",
       "      <td>['TEDx', 'physics', 'play', 'science']</td>\n",
       "      <td>The fascinating physics of everyday life</td>\n",
       "      <td>https://www.ted.com/talks/helen_czerski_fun_ho...</td>\n",
       "      <td>656791</td>\n",
       "    </tr>\n",
       "    <tr>\n",
       "      <th>2542</th>\n",
       "      <td>3</td>\n",
       "      <td>In the century-old statues that occupy Cape To...</td>\n",
       "      <td>795</td>\n",
       "      <td>TEDGlobal 2017</td>\n",
       "      <td>26-08-2017</td>\n",
       "      <td>1</td>\n",
       "      <td>Sethembile Msezane</td>\n",
       "      <td>Sethembile Msezane: Living sculptures that sta...</td>\n",
       "      <td>1</td>\n",
       "      <td>15-09-2017</td>\n",
       "      <td>[{'id': 1, 'name': 'Beautiful', 'count': 41}, ...</td>\n",
       "      <td>[{'id': 2873, 'hero': 'https://pe.tedcdn.com/i...</td>\n",
       "      <td>Artist</td>\n",
       "      <td>['Africa', 'activism', 'art', 'community', 'hi...</td>\n",
       "      <td>Living sculptures that stand for history's truths</td>\n",
       "      <td>https://www.ted.com/talks/sethembile_msezane_l...</td>\n",
       "      <td>542088</td>\n",
       "    </tr>\n",
       "    <tr>\n",
       "      <th>2543</th>\n",
       "      <td>7</td>\n",
       "      <td>What if you could know exactly how food or med...</td>\n",
       "      <td>894</td>\n",
       "      <td>TED2017</td>\n",
       "      <td>23-04-2017</td>\n",
       "      <td>1</td>\n",
       "      <td>Jun Wang</td>\n",
       "      <td>Jun Wang: How digital DNA could help you make ...</td>\n",
       "      <td>1</td>\n",
       "      <td>18-09-2017</td>\n",
       "      <td>[{'id': 1, 'name': 'Beautiful', 'count': 13}, ...</td>\n",
       "      <td>[{'id': 2490, 'hero': 'https://pe.tedcdn.com/i...</td>\n",
       "      <td>Genomics researcher</td>\n",
       "      <td>['DNA', 'Human body', 'biology', 'data', 'entr...</td>\n",
       "      <td>How digital DNA could help you make better hea...</td>\n",
       "      <td>https://www.ted.com/talks/jun_wang_how_digital...</td>\n",
       "      <td>534824</td>\n",
       "    </tr>\n",
       "    <tr>\n",
       "      <th>2544</th>\n",
       "      <td>10</td>\n",
       "      <td>How can Africa, the home to some of the larges...</td>\n",
       "      <td>810</td>\n",
       "      <td>TEDGlobal 2017</td>\n",
       "      <td>26-08-2017</td>\n",
       "      <td>1</td>\n",
       "      <td>Olúfẹ́mi Táíwò</td>\n",
       "      <td>Olúfẹ́mi Táíwò: Why Africa must become a ...</td>\n",
       "      <td>1</td>\n",
       "      <td>19-09-2017</td>\n",
       "      <td>[{'id': 1, 'name': 'Beautiful', 'count': 9}, {...</td>\n",
       "      <td>[{'id': 2873, 'hero': 'https://pe.tedcdn.com/i...</td>\n",
       "      <td>Historian, philosopher</td>\n",
       "      <td>['Africa', 'agriculture', 'history', 'leadersh...</td>\n",
       "      <td>Why Africa must become a center of knowledge a...</td>\n",
       "      <td>https://www.ted.com/talks/oluf_mi_taiwo_why_af...</td>\n",
       "      <td>418368</td>\n",
       "    </tr>\n",
       "    <tr>\n",
       "      <th>2545</th>\n",
       "      <td>17</td>\n",
       "      <td>Between 2008 and 2016, the United States depor...</td>\n",
       "      <td>476</td>\n",
       "      <td>TED2017</td>\n",
       "      <td>05-06-2017</td>\n",
       "      <td>4</td>\n",
       "      <td>Duarte Geraldino</td>\n",
       "      <td>Duarte Geraldino: What we're missing in the de...</td>\n",
       "      <td>1</td>\n",
       "      <td>19-09-2017</td>\n",
       "      <td>[{'id': 3, 'name': 'Courageous', 'count': 24},...</td>\n",
       "      <td>[{'id': 2596, 'hero': 'https://pe.tedcdn.com/i...</td>\n",
       "      <td>Journalist</td>\n",
       "      <td>['TED Residency', 'United States', 'community'...</td>\n",
       "      <td>What we're missing in the debate about immigra...</td>\n",
       "      <td>https://www.ted.com/talks/duarte_geraldino_wha...</td>\n",
       "      <td>450430</td>\n",
       "    </tr>\n",
       "    <tr>\n",
       "      <th>2546</th>\n",
       "      <td>6</td>\n",
       "      <td>How can you study Mars without a spaceship? He...</td>\n",
       "      <td>290</td>\n",
       "      <td>TED2017</td>\n",
       "      <td>23-04-2017</td>\n",
       "      <td>3</td>\n",
       "      <td>Armando Azua-Bustos</td>\n",
       "      <td>Armando Azua-Bustos: The most Martian place on...</td>\n",
       "      <td>1</td>\n",
       "      <td>20-09-2017</td>\n",
       "      <td>[{'id': 22, 'name': 'Fascinating', 'count': 32...</td>\n",
       "      <td>[{'id': 2491, 'hero': 'https://pe.tedcdn.com/i...</td>\n",
       "      <td>Astrobiologist</td>\n",
       "      <td>['Mars', 'South America', 'TED Fellows', 'astr...</td>\n",
       "      <td>The most Martian place on Earth</td>\n",
       "      <td>https://www.ted.com/talks/armando_azua_bustos_...</td>\n",
       "      <td>417470</td>\n",
       "    </tr>\n",
       "    <tr>\n",
       "      <th>2547</th>\n",
       "      <td>10</td>\n",
       "      <td>Science fiction visions of the future show us ...</td>\n",
       "      <td>651</td>\n",
       "      <td>TED2017</td>\n",
       "      <td>23-04-2017</td>\n",
       "      <td>1</td>\n",
       "      <td>Radhika Nagpal</td>\n",
       "      <td>Radhika Nagpal: What intelligent machines can ...</td>\n",
       "      <td>1</td>\n",
       "      <td>21-09-2017</td>\n",
       "      <td>[{'id': 1, 'name': 'Beautiful', 'count': 14}, ...</td>\n",
       "      <td>[{'id': 2346, 'hero': 'https://pe.tedcdn.com/i...</td>\n",
       "      <td>Robotics engineer</td>\n",
       "      <td>['AI', 'ants', 'fish', 'future', 'innovation',...</td>\n",
       "      <td>What intelligent machines can learn from a sch...</td>\n",
       "      <td>https://www.ted.com/talks/radhika_nagpal_what_...</td>\n",
       "      <td>375647</td>\n",
       "    </tr>\n",
       "    <tr>\n",
       "      <th>2548</th>\n",
       "      <td>32</td>\n",
       "      <td>In an unmissable talk about race and politics ...</td>\n",
       "      <td>1100</td>\n",
       "      <td>TEDxMileHigh</td>\n",
       "      <td>07-07-2017</td>\n",
       "      <td>1</td>\n",
       "      <td>Theo E.J. Wilson</td>\n",
       "      <td>Theo E.J. Wilson: A black man goes undercover ...</td>\n",
       "      <td>1</td>\n",
       "      <td>21-09-2017</td>\n",
       "      <td>[{'id': 11, 'name': 'Longwinded', 'count': 3},...</td>\n",
       "      <td>[{'id': 2512, 'hero': 'https://pe.tedcdn.com/i...</td>\n",
       "      <td>Public intellectual</td>\n",
       "      <td>['Internet', 'TEDx', 'United States', 'communi...</td>\n",
       "      <td>A black man goes undercover in the alt-right</td>\n",
       "      <td>https://www.ted.com/talks/theo_e_j_wilson_a_bl...</td>\n",
       "      <td>419309</td>\n",
       "    </tr>\n",
       "    <tr>\n",
       "      <th>2549</th>\n",
       "      <td>8</td>\n",
       "      <td>With more than half of the world population li...</td>\n",
       "      <td>519</td>\n",
       "      <td>TED2017</td>\n",
       "      <td>23-04-2017</td>\n",
       "      <td>1</td>\n",
       "      <td>Karoliina Korppoo</td>\n",
       "      <td>Karoliina Korppoo: How a video game might help...</td>\n",
       "      <td>1</td>\n",
       "      <td>22-09-2017</td>\n",
       "      <td>[{'id': 21, 'name': 'Unconvincing', 'count': 2...</td>\n",
       "      <td>[{'id': 2682, 'hero': 'https://pe.tedcdn.com/i...</td>\n",
       "      <td>Game designer</td>\n",
       "      <td>['cities', 'design', 'future', 'infrastructure...</td>\n",
       "      <td>How a video game might help us build better ci...</td>\n",
       "      <td>https://www.ted.com/talks/karoliina_korppoo_ho...</td>\n",
       "      <td>391721</td>\n",
       "    </tr>\n",
       "  </tbody>\n",
       "</table>\n",
       "<p>2550 rows × 17 columns</p>\n",
       "</div>"
      ],
      "text/plain": [
       "      comments                                        description  duration  \\\n",
       "0         4553  Sir Ken Robinson makes an entertaining and pro...      1164   \n",
       "1          265  With the same humor and humanity he exuded in ...       977   \n",
       "2          124  New York Times columnist David Pogue takes aim...      1286   \n",
       "3          200  In an emotionally charged talk, MacArthur-winn...      1116   \n",
       "4          593  You've never seen data presented like this. Wi...      1190   \n",
       "5          672  Tony Robbins discusses the \"invisible forces\" ...      1305   \n",
       "6          919  When two young Mormon missionaries knock on Ju...       992   \n",
       "7           46  Architect Joshua Prince-Ramus takes the audien...      1198   \n",
       "8          852  Philosopher Dan Dennett calls for religion -- ...      1485   \n",
       "9          900  Pastor Rick Warren, author of \"The Purpose-Dri...      1262   \n",
       "10          79  Accepting his 2006 TED Prize, Cameron Sinclair...      1414   \n",
       "11          55  Jehane Noujaim unveils her 2006 TED Prize wish...      1538   \n",
       "12          71  Accepting the 2006 TED Prize, Dr. Larry Brilli...      1550   \n",
       "13         242  Jeff Han shows off a cheap, scalable multi-tou...       527   \n",
       "14          99  Nicholas Negroponte, founder of the MIT Media ...      1057   \n",
       "15         325  Violinist Sirena Huang gives a technically bri...      1481   \n",
       "16         305  Pianist and composer Jennifer Lin gives a magi...      1445   \n",
       "17          88  Fumes from indoor cooking fires kill more than...       906   \n",
       "18         163  Designer Ross Lovegrove expounds his philosoph...      1170   \n",
       "19          84  Jimmy Wales recalls how he assembled \"a ragtag...      1201   \n",
       "20         108  In 2006, open-learning visionary Richard Baran...      1114   \n",
       "21         185  Performer and web toymaker Ze Frank delivers a...      1136   \n",
       "22          50  The founding mother of the blog revolution, Mo...      1006   \n",
       "23         556  Anthropologist Helen Fisher takes on a tricky ...      1407   \n",
       "24         117  Eve Ensler, creator of \"The Vagina Monologues,...      1225   \n",
       "25         184  Legendary scientist David Deutsch puts theoret...      1140   \n",
       "26         507  Biologist Richard Dawkins makes a case for \"th...      1316   \n",
       "27          95  \"Freakonomics\" author Steven Levitt presents n...      1275   \n",
       "28         355  \"Tipping Point\" author Malcolm Gladwell gets i...      1050   \n",
       "29         970  Dan Gilbert, author of \"Stumbling on Happiness...      1276   \n",
       "...        ...                                                ...       ...   \n",
       "2520        81  Meet the \"ems\" -- machines that emulate human ...       736   \n",
       "2521        13  Your cells are coated with sugars that store i...       685   \n",
       "2522        12  Every artist has a name, and every artist has ...       530   \n",
       "2523        20  Another economic reality is possible -- one th...       747   \n",
       "2524         9  We're so used to narratives out of Africa bein...       310   \n",
       "2525        18  Could it be wrong to help children in need by ...       791   \n",
       "2526        39  Meet Todai Robot, an AI project that performed...       817   \n",
       "2527        17  What's stopping the American government from r...       865   \n",
       "2528         3  Digital archaeologist Chance Coughenour is usi...       717   \n",
       "2529        45  We all have origin stories and identity myths,...      1156   \n",
       "2530        12  Daan Roosegaarde uses technology and creative ...       738   \n",
       "2531        18  Terrorists and extremists aren't all naturally...       698   \n",
       "2532        25  What if you knew what your coworkers really th...       993   \n",
       "2533         9  In a mind-bending talk that blurs the line bet...       663   \n",
       "2534         2  What the astronauts felt when they saw Earth f...       725   \n",
       "2535         8  Underneath every shiny new megacity, there's o...       723   \n",
       "2536        21  Can you still be friends with someone who does...       865   \n",
       "2537        39  Our culture is obsessed with happiness, but wh...       738   \n",
       "2538         7  Each year, one in seven large corporations com...       808   \n",
       "2539        10  Forget quinoa. Meet fonio, an ancient \"miracle...       934   \n",
       "2540        33  We've heard a lot of rhetoric lately suggestin...       722   \n",
       "2541        12  Physics doesn't just happen in a fancy lab -- ...       957   \n",
       "2542         3  In the century-old statues that occupy Cape To...       795   \n",
       "2543         7  What if you could know exactly how food or med...       894   \n",
       "2544        10  How can Africa, the home to some of the larges...       810   \n",
       "2545        17  Between 2008 and 2016, the United States depor...       476   \n",
       "2546         6  How can you study Mars without a spaceship? He...       290   \n",
       "2547        10  Science fiction visions of the future show us ...       651   \n",
       "2548        32  In an unmissable talk about race and politics ...      1100   \n",
       "2549         8  With more than half of the world population li...       519   \n",
       "\n",
       "               event   film_date  languages  \\\n",
       "0            TED2006  24-02-2006         60   \n",
       "1            TED2006  24-02-2006         43   \n",
       "2            TED2006  23-02-2006         26   \n",
       "3            TED2006  25-02-2006         35   \n",
       "4            TED2006  21-02-2006         48   \n",
       "5            TED2006  01-02-2006         36   \n",
       "6            TED2006  23-02-2006         31   \n",
       "7            TED2006  22-02-2006         19   \n",
       "8            TED2006  01-02-2006         32   \n",
       "9            TED2006  24-02-2006         31   \n",
       "10           TED2006  25-02-2006         27   \n",
       "11           TED2006  25-02-2006         20   \n",
       "12           TED2006  22-02-2006         24   \n",
       "13           TED2006  05-02-2006         27   \n",
       "14           TED2006  22-02-2006         25   \n",
       "15           TED2006  22-02-2006         31   \n",
       "16           TED2004  25-02-2004         32   \n",
       "17           TED2006  23-02-2006         27   \n",
       "18           TED2005  24-02-2005         22   \n",
       "19    TEDGlobal 2005  13-07-2005         32   \n",
       "20           TED2006  22-02-2006         27   \n",
       "21           TED2004  23-02-2004         26   \n",
       "22           TED2006  22-02-2006         20   \n",
       "23           TED2006  23-02-2006         33   \n",
       "24           TED2004  03-02-2004         23   \n",
       "25    TEDGlobal 2005  13-07-2005         29   \n",
       "26    TEDGlobal 2005  06-07-2005         36   \n",
       "27           TED2004  26-02-2004         25   \n",
       "28           TED2004  25-02-2004         37   \n",
       "29           TED2004  01-02-2004         43   \n",
       "...              ...         ...        ...   \n",
       "2520         TED2017  23-04-2017          2   \n",
       "2521    TEDxStanford  23-04-2016          7   \n",
       "2522         TED2017  23-04-2017          5   \n",
       "2523    TEDxCrenshaw  07-10-2016          3   \n",
       "2524         TED2017  23-04-2017         12   \n",
       "2525      TEDxSydney  23-05-2016          5   \n",
       "2526         TED2017  23-04-2017          6   \n",
       "2527    TEDxStanford  22-04-2017          3   \n",
       "2528     TEDxHamburg  07-06-2016          5   \n",
       "2529      TEDxExeter  23-04-2015          1   \n",
       "2530         TED2017  23-04-2017          3   \n",
       "2531       TEDxGhent  17-06-2016          1   \n",
       "2532         TED2017  23-04-2017          2   \n",
       "2533         TED2017  23-04-2017          2   \n",
       "2534       TEDxSkoll  06-04-2017          1   \n",
       "2535  TEDGlobal 2017  26-08-2017          4   \n",
       "2536    TEDxMileHigh  07-07-2017          5   \n",
       "2537         TED2017  23-04-2017          2   \n",
       "2538      TEDxZurich  10-11-2016          1   \n",
       "2539         TED2017  26-08-2017          2   \n",
       "2540         TED@UPS  19-07-2017          4   \n",
       "2541  TEDxManchester  18-02-2017          2   \n",
       "2542  TEDGlobal 2017  26-08-2017          1   \n",
       "2543         TED2017  23-04-2017          1   \n",
       "2544  TEDGlobal 2017  26-08-2017          1   \n",
       "2545         TED2017  05-06-2017          4   \n",
       "2546         TED2017  23-04-2017          3   \n",
       "2547         TED2017  23-04-2017          1   \n",
       "2548    TEDxMileHigh  07-07-2017          1   \n",
       "2549         TED2017  23-04-2017          1   \n",
       "\n",
       "                                main_speaker  \\\n",
       "0                               Ken Robinson   \n",
       "1                                    Al Gore   \n",
       "2                                David Pogue   \n",
       "3                              Majora Carter   \n",
       "4                               Hans Rosling   \n",
       "5                               Tony Robbins   \n",
       "6                              Julia Sweeney   \n",
       "7                        Joshua Prince-Ramus   \n",
       "8                                Dan Dennett   \n",
       "9                                Rick Warren   \n",
       "10                          Cameron Sinclair   \n",
       "11                            Jehane Noujaim   \n",
       "12                           Larry Brilliant   \n",
       "13                                  Jeff Han   \n",
       "14                       Nicholas Negroponte   \n",
       "15                              Sirena Huang   \n",
       "16                              Jennifer Lin   \n",
       "17                                 Amy Smith   \n",
       "18                            Ross Lovegrove   \n",
       "19                               Jimmy Wales   \n",
       "20                          Richard Baraniuk   \n",
       "21                                  Ze Frank   \n",
       "22                                Mena Trott   \n",
       "23                              Helen Fisher   \n",
       "24                                Eve Ensler   \n",
       "25                             David Deutsch   \n",
       "26                           Richard Dawkins   \n",
       "27                             Steven Levitt   \n",
       "28                          Malcolm Gladwell   \n",
       "29                               Dan Gilbert   \n",
       "...                                      ...   \n",
       "2520                            Robin Hanson   \n",
       "2521                        Carolyn Bertozzi   \n",
       "2522                          Laolu Senbanjo   \n",
       "2523                               Niki Okuk   \n",
       "2524                            Wanuri Kahiu   \n",
       "2525                            Tara Winkler   \n",
       "2526                             Noriko Arai   \n",
       "2527                        Jennifer Granick   \n",
       "2528                       Chance Coughenour   \n",
       "2529                            Chetan Bhatt   \n",
       "2530                        Daan Roosegaarde   \n",
       "2531                      Erin Marie Saltman   \n",
       "2532                               Ray Dalio   \n",
       "2533                         Tomás Saraceno   \n",
       "2534                          Benjamin Grant   \n",
       "2535                     OluTimehin Adegbeye   \n",
       "2536  Caitlin Quattromani and Lauran Arledge   \n",
       "2537                    Emily Esfahani Smith   \n",
       "2538                        Alexander Wagner   \n",
       "2539                            Pierre Thiam   \n",
       "2540                            Augie Picado   \n",
       "2541                           Helen Czerski   \n",
       "2542                      Sethembile Msezane   \n",
       "2543                                Jun Wang   \n",
       "2544                     Olúfẹ́mi Táíwò   \n",
       "2545                        Duarte Geraldino   \n",
       "2546                     Armando Azua-Bustos   \n",
       "2547                          Radhika Nagpal   \n",
       "2548                        Theo E.J. Wilson   \n",
       "2549                       Karoliina Korppoo   \n",
       "\n",
       "                                                   name  num_speaker  \\\n",
       "0             Ken Robinson: Do schools kill creativity?            1   \n",
       "1                  Al Gore: Averting the climate crisis            1   \n",
       "2                         David Pogue: Simplicity sells            1   \n",
       "3                    Majora Carter: Greening the ghetto            1   \n",
       "4         Hans Rosling: The best stats you've ever seen            1   \n",
       "5                    Tony Robbins: Why we do what we do            1   \n",
       "6                      Julia Sweeney: Letting go of God            1   \n",
       "7     Joshua Prince-Ramus: Behind the design of Seat...            1   \n",
       "8     Dan Dennett: Let's teach religion -- all relig...            1   \n",
       "9                        Rick Warren: A life of purpose            1   \n",
       "10    Cameron Sinclair: My wish: A call for open-sou...            1   \n",
       "11        Jehane Noujaim: My wish: A global day of film            1   \n",
       "12     Larry Brilliant: My wish: Help me stop pandemics            1   \n",
       "13    Jeff Han: The radical promise of the multi-tou...            1   \n",
       "14            Nicholas Negroponte: One Laptop per Child            1   \n",
       "15        Sirena Huang: An 11-year-old's magical violin            1   \n",
       "16          Jennifer Lin: Improvising on piano, aged 14            1   \n",
       "17             Amy Smith: Simple designs to save a life            1   \n",
       "18    Ross Lovegrove: Organic design, inspired by na...            1   \n",
       "19                  Jimmy Wales: The birth of Wikipedia            1   \n",
       "20    Richard Baraniuk: The birth of the open-source...            1   \n",
       "21                            Ze Frank: Nerdcore comedy            1   \n",
       "22    Mena Trott: Meet the founder of the blog revol...            1   \n",
       "23              Helen Fisher: Why we love, why we cheat            1   \n",
       "24               Eve Ensler: Happiness in body and soul            1   \n",
       "25    David Deutsch: Chemical scum that dream of dis...            1   \n",
       "26    Richard Dawkins: Why the universe seems so str...            1   \n",
       "27     Steven Levitt: The freakonomics of crack dealing            1   \n",
       "28    Malcolm Gladwell: Choice, happiness and spaghe...            1   \n",
       "29     Dan Gilbert: The surprising science of happiness            1   \n",
       "...                                                 ...          ...   \n",
       "2520  Robin Hanson: What would happen if we upload o...            1   \n",
       "2521  Carolyn Bertozzi: What the sugar coating on yo...            1   \n",
       "2522        Laolu Senbanjo: \"The Sacred Art of the Ori\"            1   \n",
       "2523  Niki Okuk: When workers own companies, the eco...            1   \n",
       "2524  Wanuri Kahiu: Fun, fierce and fantastical Afri...            1   \n",
       "2525  Tara Winkler: Why we need to end the era of or...            1   \n",
       "2526  Noriko Arai: Can a robot pass a university ent...            1   \n",
       "2527  Jennifer Granick: How the US government spies ...            1   \n",
       "2528  Chance Coughenour: How your pictures can help ...            1   \n",
       "2529  Chetan Bhatt: Dare to refuse the origin myths ...            1   \n",
       "2530  Daan Roosegaarde: A smog vacuum cleaner and ot...            1   \n",
       "2531  Erin Marie Saltman: How young people join viol...            1   \n",
       "2532  Ray Dalio: How to build a company where the be...            1   \n",
       "2533  Tomás Saraceno: Would you live in a floating ...            1   \n",
       "2534  Benjamin Grant: What it feels like to see Eart...            1   \n",
       "2535        OluTimehin Adegbeye: Who belongs in a city?            1   \n",
       "2536  Caitlin Quattromani and Lauran Arledge: How ou...            2   \n",
       "2537  Emily Esfahani Smith: There's more to life tha...            1   \n",
       "2538  Alexander Wagner: What really motivates people...            1   \n",
       "2539  Pierre Thiam: A forgotten ancient grain that c...            1   \n",
       "2540  Augie Picado: The real reason manufacturing jo...            1   \n",
       "2541  Helen Czerski: The fascinating physics of ever...            1   \n",
       "2542  Sethembile Msezane: Living sculptures that sta...            1   \n",
       "2543  Jun Wang: How digital DNA could help you make ...            1   \n",
       "2544  Olúfẹ́mi Táíwò: Why Africa must become a ...            1   \n",
       "2545  Duarte Geraldino: What we're missing in the de...            1   \n",
       "2546  Armando Azua-Bustos: The most Martian place on...            1   \n",
       "2547  Radhika Nagpal: What intelligent machines can ...            1   \n",
       "2548  Theo E.J. Wilson: A black man goes undercover ...            1   \n",
       "2549  Karoliina Korppoo: How a video game might help...            1   \n",
       "\n",
       "     published_date                                            ratings  \\\n",
       "0        26-06-2006  [{'id': 7, 'name': 'Funny', 'count': 19645}, {...   \n",
       "1        26-06-2006  [{'id': 7, 'name': 'Funny', 'count': 544}, {'i...   \n",
       "2        26-06-2006  [{'id': 7, 'name': 'Funny', 'count': 964}, {'i...   \n",
       "3        26-06-2006  [{'id': 3, 'name': 'Courageous', 'count': 760}...   \n",
       "4        27-06-2006  [{'id': 9, 'name': 'Ingenious', 'count': 3202}...   \n",
       "5        27-06-2006  [{'id': 7, 'name': 'Funny', 'count': 1102}, {'...   \n",
       "6        09-07-2006  [{'id': 3, 'name': 'Courageous', 'count': 477}...   \n",
       "7        09-07-2006  [{'id': 9, 'name': 'Ingenious', 'count': 195},...   \n",
       "8        17-07-2006  [{'id': 3, 'name': 'Courageous', 'count': 562}...   \n",
       "9        17-07-2006  [{'id': 21, 'name': 'Unconvincing', 'count': 8...   \n",
       "10       24-07-2006  [{'id': 3, 'name': 'Courageous', 'count': 169}...   \n",
       "11       24-07-2006  [{'id': 1, 'name': 'Beautiful', 'count': 70}, ...   \n",
       "12       24-07-2006  [{'id': 8, 'name': 'Informative', 'count': 188...   \n",
       "13       31-07-2006  [{'id': 9, 'name': 'Ingenious', 'count': 1014}...   \n",
       "14       31-07-2006  [{'id': 3, 'name': 'Courageous', 'count': 83},...   \n",
       "15       07-08-2006  [{'id': 1, 'name': 'Beautiful', 'count': 1671}...   \n",
       "16       07-08-2006  [{'id': 1, 'name': 'Beautiful', 'count': 1107}...   \n",
       "17       14-08-2006  [{'id': 9, 'name': 'Ingenious', 'count': 321},...   \n",
       "18       14-08-2006  [{'id': 1, 'name': 'Beautiful', 'count': 259},...   \n",
       "19       20-08-2006  [{'id': 1, 'name': 'Beautiful', 'count': 104},...   \n",
       "20       20-08-2006  [{'id': 9, 'name': 'Ingenious', 'count': 117},...   \n",
       "21       24-08-2006  [{'id': 7, 'name': 'Funny', 'count': 2799}, {'...   \n",
       "22       24-08-2006  [{'id': 8, 'name': 'Informative', 'count': 82}...   \n",
       "23       05-09-2006  [{'id': 7, 'name': 'Funny', 'count': 780}, {'i...   \n",
       "24       05-09-2006  [{'id': 3, 'name': 'Courageous', 'count': 654}...   \n",
       "25       11-09-2006  [{'id': 9, 'name': 'Ingenious', 'count': 269},...   \n",
       "26       11-09-2006  [{'id': 1, 'name': 'Beautiful', 'count': 333},...   \n",
       "27       18-09-2006  [{'id': 7, 'name': 'Funny', 'count': 485}, {'i...   \n",
       "28       18-09-2006  [{'id': 7, 'name': 'Funny', 'count': 1668}, {'...   \n",
       "29       25-09-2006  [{'id': 7, 'name': 'Funny', 'count': 1728}, {'...   \n",
       "...             ...                                                ...   \n",
       "2520     24-08-2017  [{'id': 23, 'name': 'Jaw-dropping', 'count': 2...   \n",
       "2521     24-08-2017  [{'id': 8, 'name': 'Informative', 'count': 146...   \n",
       "2522     25-08-2017  [{'id': 1, 'name': 'Beautiful', 'count': 85}, ...   \n",
       "2523     28-08-2017  [{'id': 3, 'name': 'Courageous', 'count': 46},...   \n",
       "2524     29-08-2017  [{'id': 24, 'name': 'Persuasive', 'count': 19}...   \n",
       "2525     29-08-2017  [{'id': 10, 'name': 'Inspiring', 'count': 119}...   \n",
       "2526     30-08-2017  [{'id': 22, 'name': 'Fascinating', 'count': 11...   \n",
       "2527     31-08-2017  [{'id': 3, 'name': 'Courageous', 'count': 63},...   \n",
       "2528     31-08-2017  [{'id': 9, 'name': 'Ingenious', 'count': 16}, ...   \n",
       "2529     01-09-2017  [{'id': 9, 'name': 'Ingenious', 'count': 24}, ...   \n",
       "2530     05-09-2017  [{'id': 2, 'name': 'Confusing', 'count': 2}, {...   \n",
       "2531     05-09-2017  [{'id': 8, 'name': 'Informative', 'count': 64}...   \n",
       "2532     06-09-2017  [{'id': 25, 'name': 'OK', 'count': 26}, {'id':...   \n",
       "2533     07-09-2017  [{'id': 1, 'name': 'Beautiful', 'count': 29}, ...   \n",
       "2534     07-09-2017  [{'id': 10, 'name': 'Inspiring', 'count': 46},...   \n",
       "2535     08-09-2017  [{'id': 3, 'name': 'Courageous', 'count': 77},...   \n",
       "2536     11-09-2017  [{'id': 3, 'name': 'Courageous', 'count': 45},...   \n",
       "2537     12-09-2017  [{'id': 1, 'name': 'Beautiful', 'count': 484},...   \n",
       "2538     12-09-2017  [{'id': 10, 'name': 'Inspiring', 'count': 50},...   \n",
       "2539     13-09-2017  [{'id': 10, 'name': 'Inspiring', 'count': 73},...   \n",
       "2540     14-09-2017  [{'id': 1, 'name': 'Beautiful', 'count': 15}, ...   \n",
       "2541     14-09-2017  [{'id': 11, 'name': 'Longwinded', 'count': 29}...   \n",
       "2542     15-09-2017  [{'id': 1, 'name': 'Beautiful', 'count': 41}, ...   \n",
       "2543     18-09-2017  [{'id': 1, 'name': 'Beautiful', 'count': 13}, ...   \n",
       "2544     19-09-2017  [{'id': 1, 'name': 'Beautiful', 'count': 9}, {...   \n",
       "2545     19-09-2017  [{'id': 3, 'name': 'Courageous', 'count': 24},...   \n",
       "2546     20-09-2017  [{'id': 22, 'name': 'Fascinating', 'count': 32...   \n",
       "2547     21-09-2017  [{'id': 1, 'name': 'Beautiful', 'count': 14}, ...   \n",
       "2548     21-09-2017  [{'id': 11, 'name': 'Longwinded', 'count': 3},...   \n",
       "2549     22-09-2017  [{'id': 21, 'name': 'Unconvincing', 'count': 2...   \n",
       "\n",
       "                                          related_talks  \\\n",
       "0     [{'id': 865, 'hero': 'https://pe.tedcdn.com/im...   \n",
       "1     [{'id': 243, 'hero': 'https://pe.tedcdn.com/im...   \n",
       "2     [{'id': 1725, 'hero': 'https://pe.tedcdn.com/i...   \n",
       "3     [{'id': 1041, 'hero': 'https://pe.tedcdn.com/i...   \n",
       "4     [{'id': 2056, 'hero': 'https://pe.tedcdn.com/i...   \n",
       "5     [{'id': 229, 'hero': 'https://pe.tedcdn.com/im...   \n",
       "6     [{'id': 22, 'hero': 'https://pe.tedcdn.com/ima...   \n",
       "7     [{'id': 750, 'hero': 'https://pe.tedcdn.com/im...   \n",
       "8     [{'id': 71, 'hero': 'https://pe.tedcdn.com/ima...   \n",
       "9     [{'id': 94, 'hero': 'https://pe.tedcdn.com/ima...   \n",
       "10    [{'id': 1749, 'hero': 'https://pe.tedcdn.com/i...   \n",
       "11    [{'id': 2228, 'hero': 'https://pe.tedcdn.com/i...   \n",
       "12    [{'id': 1153, 'hero': 'https://pe.tedcdn.com/i...   \n",
       "13    [{'id': 685, 'hero': 'https://pe.tedcdn.com/im...   \n",
       "14    [{'id': 2043, 'hero': 'https://pe.tedcdn.com/i...   \n",
       "15    [{'id': 2273, 'hero': 'https://pe.tedcdn.com/i...   \n",
       "16    [{'id': 2273, 'hero': 'https://pe.tedcdn.com/i...   \n",
       "17    [{'id': 1561, 'hero': 'https://pe.tedcdn.com/i...   \n",
       "18    [{'id': 2251, 'hero': 'https://pe.tedcdn.com/i...   \n",
       "19    [{'id': 640, 'hero': 'https://pe.tedcdn.com/im...   \n",
       "20    [{'id': 1913, 'hero': 'https://pe.tedcdn.com/i...   \n",
       "21    [{'id': 148, 'hero': 'https://pe.tedcdn.com/im...   \n",
       "22    [{'id': 144, 'hero': 'https://pe.tedcdn.com/im...   \n",
       "23    [{'id': 307, 'hero': 'https://pe.tedcdn.com/im...   \n",
       "24    [{'id': 217, 'hero': 'https://pe.tedcdn.com/im...   \n",
       "25    [{'id': 2237, 'hero': 'https://pe.tedcdn.com/i...   \n",
       "26    [{'id': 1276, 'hero': 'https://pe.tedcdn.com/i...   \n",
       "27    [{'id': 20, 'hero': 'https://pe.tedcdn.com/ima...   \n",
       "28    [{'id': 93, 'hero': 'https://pe.tedcdn.com/ima...   \n",
       "29    [{'id': 944, 'hero': 'https://pe.tedcdn.com/im...   \n",
       "...                                                 ...   \n",
       "2520  [{'id': 2592, 'hero': 'https://pe.tedcdn.com/i...   \n",
       "2521  [{'id': 2504, 'hero': 'https://pe.tedcdn.com/i...   \n",
       "2522  [{'id': 2826, 'hero': 'https://pe.tedcdn.com/i...   \n",
       "2523  [{'id': 1041, 'hero': 'https://pe.tedcdn.com/i...   \n",
       "2524  [{'id': 652, 'hero': 'https://pe.tedcdn.com/im...   \n",
       "2525  [{'id': 1596, 'hero': 'https://pe.tedcdn.com/i...   \n",
       "2526  [{'id': 2606, 'hero': 'https://pe.tedcdn.com/i...   \n",
       "2527  [{'id': 2567, 'hero': 'https://pe.tedcdn.com/i...   \n",
       "2528  [{'id': 2673, 'hero': 'https://pe.tedcdn.com/i...   \n",
       "2529  [{'id': 2811, 'hero': 'https://pe.tedcdn.com/i...   \n",
       "2530  [{'id': 2774, 'hero': 'https://pe.tedcdn.com/i...   \n",
       "2531  [{'id': 2309, 'hero': 'https://pe.tedcdn.com/i...   \n",
       "2532  [{'id': 2474, 'hero': 'https://pe.tedcdn.com/i...   \n",
       "2533  [{'id': 1085, 'hero': 'https://pe.tedcdn.com/i...   \n",
       "2534  [{'id': 2511, 'hero': 'https://pe.tedcdn.com/i...   \n",
       "2535  [{'id': 2880, 'hero': 'https://pe.tedcdn.com/i...   \n",
       "2536  [{'id': 2625, 'hero': 'https://pe.tedcdn.com/i...   \n",
       "2537  [{'id': 2399, 'hero': 'https://pe.tedcdn.com/i...   \n",
       "2538  [{'id': 1246, 'hero': 'https://pe.tedcdn.com/i...   \n",
       "2539  [{'id': 2873, 'hero': 'https://pe.tedcdn.com/i...   \n",
       "2540  [{'id': 2655, 'hero': 'https://pe.tedcdn.com/i...   \n",
       "2541  [{'id': 2491, 'hero': 'https://pe.tedcdn.com/i...   \n",
       "2542  [{'id': 2873, 'hero': 'https://pe.tedcdn.com/i...   \n",
       "2543  [{'id': 2490, 'hero': 'https://pe.tedcdn.com/i...   \n",
       "2544  [{'id': 2873, 'hero': 'https://pe.tedcdn.com/i...   \n",
       "2545  [{'id': 2596, 'hero': 'https://pe.tedcdn.com/i...   \n",
       "2546  [{'id': 2491, 'hero': 'https://pe.tedcdn.com/i...   \n",
       "2547  [{'id': 2346, 'hero': 'https://pe.tedcdn.com/i...   \n",
       "2548  [{'id': 2512, 'hero': 'https://pe.tedcdn.com/i...   \n",
       "2549  [{'id': 2682, 'hero': 'https://pe.tedcdn.com/i...   \n",
       "\n",
       "                               speaker_occupation  \\\n",
       "0                                 Author/educator   \n",
       "1                                Climate advocate   \n",
       "2                            Technology columnist   \n",
       "3              Activist for environmental justice   \n",
       "4            Global health expert; data visionary   \n",
       "5     Life coach; expert in leadership psychology   \n",
       "6                     Actor, comedian, playwright   \n",
       "7                                       Architect   \n",
       "8                Philosopher, cognitive scientist   \n",
       "9                                  Pastor, author   \n",
       "10          Co-founder, Architecture for Humanity   \n",
       "11                                      Filmmaker   \n",
       "12                 Epidemiologist, philanthropist   \n",
       "13              Human-computer interface designer   \n",
       "14                                 Tech visionary   \n",
       "15                                      Violinist   \n",
       "16                              Pianist, composer   \n",
       "17                             inventor, engineer   \n",
       "18                            Industrial designer   \n",
       "19                           Founder of Wikipedia   \n",
       "20                            Education visionary   \n",
       "21                           Humorist, web artist   \n",
       "22                  Blogger; cofounder, Six Apart   \n",
       "23                 Anthropologist, expert on love   \n",
       "24                           Playwright, activist   \n",
       "25                              Quantum physicist   \n",
       "26                         Evolutionary biologist   \n",
       "27                                      Economist   \n",
       "28                                         Writer   \n",
       "29                 Psychologist; happiness expert   \n",
       "...                                           ...   \n",
       "2520                   Futurist, social scientist   \n",
       "2521                           Chemical biologist   \n",
       "2522           Artist, musician, lawyer, activist   \n",
       "2523                                 Entrepreneur   \n",
       "2524                            Filmmaker, writer   \n",
       "2525   Child protection leader, activist, author    \n",
       "2526                                    AI expert   \n",
       "2527       Surveillance and cybersecurity counsel   \n",
       "2528                        Digital archaeologist   \n",
       "2529           Sociologist, human rights activist   \n",
       "2530                                       Artist   \n",
       "2531                            Policy researcher   \n",
       "2532                             Hedge fund chair   \n",
       "2533                                       Artist   \n",
       "2534                                       Author   \n",
       "2535                             Writer, activist   \n",
       "2536                             Marketing leader   \n",
       "2537                                       Author   \n",
       "2538                                    Economist   \n",
       "2539                                         Chef   \n",
       "2540                            Border specialist   \n",
       "2541                                    Physicist   \n",
       "2542                                       Artist   \n",
       "2543                          Genomics researcher   \n",
       "2544                       Historian, philosopher   \n",
       "2545                                   Journalist   \n",
       "2546                               Astrobiologist   \n",
       "2547                            Robotics engineer   \n",
       "2548                          Public intellectual   \n",
       "2549                                Game designer   \n",
       "\n",
       "                                                   tags  \\\n",
       "0     ['children', 'creativity', 'culture', 'dance',...   \n",
       "1     ['alternative energy', 'cars', 'climate change...   \n",
       "2     ['computers', 'entertainment', 'interface desi...   \n",
       "3     ['MacArthur grant', 'activism', 'business', 'c...   \n",
       "4     ['Africa', 'Asia', 'Google', 'demo', 'economic...   \n",
       "5     ['business', 'culture', 'entertainment', 'goal...   \n",
       "6     ['Christianity', 'God', 'atheism', 'comedy', '...   \n",
       "7     ['architecture', 'collaboration', 'culture', '...   \n",
       "8     ['God', 'TED Brain Trust', 'atheism', 'brain',...   \n",
       "9     ['Christianity', 'God', 'culture', 'happiness'...   \n",
       "10    ['activism', 'architecture', 'collaboration', ...   \n",
       "11    ['TED Prize', 'art', 'culture', 'entertainment...   \n",
       "12    ['TED Prize', 'collaboration', 'disease', 'ebo...   \n",
       "13    ['demo', 'design', 'interface design', 'techno...   \n",
       "14    ['children', 'design', 'education', 'entrepren...   \n",
       "15    ['entertainment', 'music', 'performance', 'vio...   \n",
       "16    ['creativity', 'entertainment', 'music', 'perf...   \n",
       "17    ['MacArthur grant', 'alternative energy', 'des...   \n",
       "18    ['DNA', 'biology', 'creativity', 'design', 'in...   \n",
       "19    ['business', 'collaboration', 'culture', 'inve...   \n",
       "20    ['business', 'collaboration', 'culture', 'glob...   \n",
       "21    ['collaboration', 'comedy', 'community', 'cult...   \n",
       "22    ['business', 'communication', 'community', 'cu...   \n",
       "23    ['cognitive science', 'culture', 'evolution', ...   \n",
       "24    ['culture', 'entertainment', 'gender', 'global...   \n",
       "25    ['climate change', 'cosmos', 'culture', 'envir...   \n",
       "26    ['astronomy', 'biology', 'cognitive science', ...   \n",
       "27    ['business', 'cities', 'culture', 'economics',...   \n",
       "28    ['business', 'choice', 'consumerism', 'culture...   \n",
       "29    ['TED Brain Trust', 'brain', 'choice', 'cultur...   \n",
       "...                                                 ...   \n",
       "2520  ['AI', 'computers', 'economics', 'future', 'hu...   \n",
       "2521  ['biology', 'biomechanics', 'cancer', 'chemist...   \n",
       "2522  ['Africa', 'art', 'beauty', 'creativity', 'per...   \n",
       "2523  ['TEDx', 'business', 'capitalism', 'community'...   \n",
       "2524  ['Africa', 'TED Fellows', 'art', 'creativity',...   \n",
       "2525  ['TEDx', 'activism', 'children', 'family', 'po...   \n",
       "2526  ['AI', 'education', 'intelligence', 'robots', ...   \n",
       "2527  ['TEDx', 'United States', 'activism', 'democra...   \n",
       "2528  ['TEDx', 'ancient world', 'archaeology', 'cons...   \n",
       "2529  ['TEDx', 'community', 'humanity', 'identity', ...   \n",
       "2530  ['architecture', 'art', 'cities', 'creativity'...   \n",
       "2531  ['TEDx', 'security', 'social media', 'terroris...   \n",
       "2532  ['algorithm', 'business', 'collaboration', 'co...   \n",
       "2533  ['TED en Español', 'art', 'creativity', 'desig...   \n",
       "2534  ['TEDx', 'art', 'climate change', 'environment...   \n",
       "2535  ['Africa', 'activism', 'cities', 'government',...   \n",
       "2536  ['TEDx', 'communication', 'friendship', 'polit...   \n",
       "2537  ['happiness', 'humanity', 'personal growth', '...   \n",
       "2538  ['TEDx', 'business', 'corruption', 'economics'...   \n",
       "2539  ['Africa', 'agriculture', 'farming', 'food', '...   \n",
       "2540  ['business', 'capitalism', 'collaboration', 'e...   \n",
       "2541             ['TEDx', 'physics', 'play', 'science']   \n",
       "2542  ['Africa', 'activism', 'art', 'community', 'hi...   \n",
       "2543  ['DNA', 'Human body', 'biology', 'data', 'entr...   \n",
       "2544  ['Africa', 'agriculture', 'history', 'leadersh...   \n",
       "2545  ['TED Residency', 'United States', 'community'...   \n",
       "2546  ['Mars', 'South America', 'TED Fellows', 'astr...   \n",
       "2547  ['AI', 'ants', 'fish', 'future', 'innovation',...   \n",
       "2548  ['Internet', 'TEDx', 'United States', 'communi...   \n",
       "2549  ['cities', 'design', 'future', 'infrastructure...   \n",
       "\n",
       "                                                  title  \\\n",
       "0                           Do schools kill creativity?   \n",
       "1                           Averting the climate crisis   \n",
       "2                                      Simplicity sells   \n",
       "3                                   Greening the ghetto   \n",
       "4                       The best stats you've ever seen   \n",
       "5                                  Why we do what we do   \n",
       "6                                     Letting go of God   \n",
       "7                Behind the design of Seattle's library   \n",
       "8     Let's teach religion -- all religion -- in sch...   \n",
       "9                                     A life of purpose   \n",
       "10         My wish: A call for open-source architecture   \n",
       "11                        My wish: A global day of film   \n",
       "12                      My wish: Help me stop pandemics   \n",
       "13     The radical promise of the multi-touch interface   \n",
       "14                                 One Laptop per Child   \n",
       "15                      An 11-year-old's magical violin   \n",
       "16                        Improvising on piano, aged 14   \n",
       "17                        Simple designs to save a life   \n",
       "18                   Organic design, inspired by nature   \n",
       "19                               The birth of Wikipedia   \n",
       "20     The birth of the open-source learning revolution   \n",
       "21                                      Nerdcore comedy   \n",
       "22              Meet the founder of the blog revolution   \n",
       "23                            Why we love, why we cheat   \n",
       "24                           Happiness in body and soul   \n",
       "25          Chemical scum that dream of distant quasars   \n",
       "26                    Why the universe seems so strange   \n",
       "27                    The freakonomics of crack dealing   \n",
       "28                Choice, happiness and spaghetti sauce   \n",
       "29                  The surprising science of happiness   \n",
       "...                                                 ...   \n",
       "2520  What would happen if we upload our brains to c...   \n",
       "2521  What the sugar coating on your cells is trying...   \n",
       "2522                        \"The Sacred Art of the Ori\"   \n",
       "2523  When workers own companies, the economy is mor...   \n",
       "2524            Fun, fierce and fantastical African art   \n",
       "2525           Why we need to end the era of orphanages   \n",
       "2526       Can a robot pass a university entrance exam?   \n",
       "2527  How the US government spies on people who prot...   \n",
       "2528    How your pictures can help reclaim lost history   \n",
       "2529  Dare to refuse the origin myths that claim who...   \n",
       "2530  A smog vacuum cleaner and other magical city d...   \n",
       "2531  How young people join violent extremist groups...   \n",
       "2532    How to build a company where the best ideas win   \n",
       "2533      Would you live in a floating city in the sky?   \n",
       "2534         What it feels like to see Earth from space   \n",
       "2535                             Who belongs in a city?   \n",
       "2536  How our friendship survives our opposing politics   \n",
       "2537              There's more to life than being happy   \n",
       "2538  What really motivates people to be honest in b...   \n",
       "2539  A forgotten ancient grain that could help Afri...   \n",
       "2540  The real reason manufacturing jobs are disappe...   \n",
       "2541           The fascinating physics of everyday life   \n",
       "2542  Living sculptures that stand for history's truths   \n",
       "2543  How digital DNA could help you make better hea...   \n",
       "2544  Why Africa must become a center of knowledge a...   \n",
       "2545  What we're missing in the debate about immigra...   \n",
       "2546                    The most Martian place on Earth   \n",
       "2547  What intelligent machines can learn from a sch...   \n",
       "2548       A black man goes undercover in the alt-right   \n",
       "2549  How a video game might help us build better ci...   \n",
       "\n",
       "                                                    url     views  \n",
       "0     https://www.ted.com/talks/ken_robinson_says_sc...  47227110  \n",
       "1     https://www.ted.com/talks/al_gore_on_averting_...   3200520  \n",
       "2     https://www.ted.com/talks/david_pogue_says_sim...   1636292  \n",
       "3     https://www.ted.com/talks/majora_carter_s_tale...   1697550  \n",
       "4     https://www.ted.com/talks/hans_rosling_shows_t...  12005869  \n",
       "5     https://www.ted.com/talks/tony_robbins_asks_wh...  20685401  \n",
       "6     https://www.ted.com/talks/julia_sweeney_on_let...   3769987  \n",
       "7     https://www.ted.com/talks/joshua_prince_ramus_...    967741  \n",
       "8     https://www.ted.com/talks/dan_dennett_s_respon...   2567958  \n",
       "9     https://www.ted.com/talks/rick_warren_on_a_lif...   3095993  \n",
       "10    https://www.ted.com/talks/cameron_sinclair_on_...   1211416  \n",
       "11    https://www.ted.com/talks/jehane_noujaim_inspi...    387877  \n",
       "12    https://www.ted.com/talks/larry_brilliant_want...    693341  \n",
       "13    https://www.ted.com/talks/jeff_han_demos_his_b...   4531020  \n",
       "14    https://www.ted.com/talks/nicholas_negroponte_...    358304  \n",
       "15    https://www.ted.com/talks/sirena_huang_dazzles...   2702470  \n",
       "16    https://www.ted.com/talks/jennifer_lin_improvs...   1628912  \n",
       "17    https://www.ted.com/talks/amy_smith_shares_sim...   1415724  \n",
       "18    https://www.ted.com/talks/ross_lovegrove_share...   1074081  \n",
       "19    https://www.ted.com/talks/jimmy_wales_on_the_b...   1106561  \n",
       "20    https://www.ted.com/talks/richard_baraniuk_on_...    966439  \n",
       "21    https://www.ted.com/talks/ze_frank_s_nerdcore_...   6141440  \n",
       "22    https://www.ted.com/talks/mena_trott_tours_her...    518624  \n",
       "23    https://www.ted.com/talks/helen_fisher_tells_u...   9260764  \n",
       "24    https://www.ted.com/talks/eve_ensler_on_happin...   1131864  \n",
       "25    https://www.ted.com/talks/david_deutsch_on_our...   1096862  \n",
       "26    https://www.ted.com/talks/richard_dawkins_on_o...   2885999  \n",
       "27    https://www.ted.com/talks/steven_levitt_analyz...   2863214  \n",
       "28    https://www.ted.com/talks/malcolm_gladwell_on_...   7023562  \n",
       "29    https://www.ted.com/talks/dan_gilbert_asks_why...  14689301  \n",
       "...                                                 ...       ...  \n",
       "2520  https://www.ted.com/talks/robin_hanson_what_wo...    840855  \n",
       "2521  https://www.ted.com/talks/carolyn_bertozzi_wha...    727807  \n",
       "2522  https://www.ted.com/talks/laolu_senbanjo_the_s...    636463  \n",
       "2523  https://www.ted.com/talks/niki_okuk_when_worke...    744793  \n",
       "2524  https://www.ted.com/talks/wanuri_kahiu_fun_fie...    522917  \n",
       "2525  https://www.ted.com/talks/tara_winkler_why_we_...    656113  \n",
       "2526  https://www.ted.com/talks/noriko_arai_can_a_ro...    773317  \n",
       "2527  https://www.ted.com/talks/jennifer_granick_how...    766721  \n",
       "2528  https://www.ted.com/talks/chance_coughenour_ho...    539207  \n",
       "2529  https://www.ted.com/talks/chetan_bhatt_dare_to...    857850  \n",
       "2530  https://www.ted.com/talks/daan_roosegaarde_a_s...    591131  \n",
       "2531  https://www.ted.com/talks/erin_marie_saltman_h...    665328  \n",
       "2532  https://www.ted.com/talks/ray_dalio_how_to_bui...   1070238  \n",
       "2533  https://www.ted.com/talks/tomas_saraceno_would...    248411  \n",
       "2534  https://www.ted.com/talks/benjamin_grant_what_...    646174  \n",
       "2535  https://www.ted.com/talks/olutimehin_adegbeye_...    707788  \n",
       "2536  https://www.ted.com/talks/caitlin_quattromani_...    566101  \n",
       "2537  https://www.ted.com/talks/emily_esfahani_smith...   1009069  \n",
       "2538  https://www.ted.com/talks/alexander_wagner_wha...    621431  \n",
       "2539  https://www.ted.com/talks/pierre_thiam_a_forgo...    527314  \n",
       "2540  https://www.ted.com/talks/augie_picado_the_rea...    613915  \n",
       "2541  https://www.ted.com/talks/helen_czerski_fun_ho...    656791  \n",
       "2542  https://www.ted.com/talks/sethembile_msezane_l...    542088  \n",
       "2543  https://www.ted.com/talks/jun_wang_how_digital...    534824  \n",
       "2544  https://www.ted.com/talks/oluf_mi_taiwo_why_af...    418368  \n",
       "2545  https://www.ted.com/talks/duarte_geraldino_wha...    450430  \n",
       "2546  https://www.ted.com/talks/armando_azua_bustos_...    417470  \n",
       "2547  https://www.ted.com/talks/radhika_nagpal_what_...    375647  \n",
       "2548  https://www.ted.com/talks/theo_e_j_wilson_a_bl...    419309  \n",
       "2549  https://www.ted.com/talks/karoliina_korppoo_ho...    391721  \n",
       "\n",
       "[2550 rows x 17 columns]"
      ]
     },
     "execution_count": 77,
     "metadata": {},
     "output_type": "execute_result"
    }
   ],
   "source": [
    "df.set_index(np.arange(len(df.index)))"
   ]
  },
  {
   "cell_type": "code",
   "execution_count": 78,
   "metadata": {
    "collapsed": true
   },
   "outputs": [],
   "source": [
    "# df_test.set_index()"
   ]
  },
  {
   "cell_type": "code",
   "execution_count": 79,
   "metadata": {
    "scrolled": true
   },
   "outputs": [
    {
     "name": "stdout",
     "output_type": "stream",
     "text": [
      "         0\n",
      "0        0\n",
      "1346     1\n",
      "677      2\n",
      "837      3\n",
      "452      4\n",
      "1776     5\n",
      "201      6\n",
      "5        7\n",
      "2114     8\n",
      "1416     9\n",
      "500     10\n",
      "1163    11\n",
      "1036    12\n",
      "2109    13\n",
      "1129    14\n",
      "553     15\n",
      "596     16\n",
      "1579    17\n",
      "2161    18\n",
      "29      19\n",
      "1572    20\n",
      "176     21\n",
      "262     22\n",
      "530     23\n",
      "381     24\n",
      "1501    25\n",
      "4       26\n",
      "1940    27\n",
      "47      28\n",
      "892     29\n",
      "...    ...\n",
      "1486  2520\n",
      "1093  2521\n",
      "1198  2522\n",
      "292   2523\n",
      "2507  2524\n",
      "1192  2525\n",
      "649   2526\n",
      "323   2527\n",
      "1149  2528\n",
      "1250  2529\n",
      "1223  2530\n",
      "1237  2531\n",
      "1105  2532\n",
      "1119  2533\n",
      "581   2534\n",
      "590   2535\n",
      "1053  2536\n",
      "1301  2537\n",
      "1179  2538\n",
      "1061  2539\n",
      "1178  2540\n",
      "1104  2541\n",
      "1079  2542\n",
      "1141  2543\n",
      "1229  2544\n",
      "1133  2545\n",
      "776   2546\n",
      "237   2547\n",
      "1112  2548\n",
      "594   2549\n",
      "\n",
      "[2550 rows x 1 columns]\n"
     ]
    }
   ],
   "source": [
    "from pandas import *\n",
    "idx = Int64Index(df_test.index)\n",
    "df_test2 = DataFrame(index = idx, data =(np.arange(len(df_test.index))))\n",
    "print(df_test2)"
   ]
  },
  {
   "cell_type": "code",
   "execution_count": 80,
   "metadata": {
    "collapsed": true
   },
   "outputs": [],
   "source": [
    "df2 = df_test2\n",
    "df2.rename(index=str, columns={0: \"rank\"}, inplace=True )\n",
    "# df2"
   ]
  },
  {
   "cell_type": "code",
   "execution_count": 81,
   "metadata": {
    "collapsed": true
   },
   "outputs": [],
   "source": [
    "df.reset_index(drop=True, inplace=True)\n",
    "df2.reset_index(drop=True, inplace=True)\n",
    "\n",
    "df3 = pd.concat([df, df2], axis=1 )"
   ]
  },
  {
   "cell_type": "code",
   "execution_count": 82,
   "metadata": {},
   "outputs": [
    {
     "ename": "ValueError",
     "evalue": "labels ['Auction_Rank' 'view_Rank'] not contained in axis",
     "output_type": "error",
     "traceback": [
      "\u001b[0;31m---------------------------------------------------------------------------\u001b[0m",
      "\u001b[0;31mValueError\u001b[0m                                Traceback (most recent call last)",
      "\u001b[0;32m<ipython-input-82-d54ffeb31a68>\u001b[0m in \u001b[0;36m<module>\u001b[0;34m()\u001b[0m\n\u001b[0;32m----> 1\u001b[0;31m \u001b[0mdf4\u001b[0m \u001b[0;34m=\u001b[0m \u001b[0mdf3\u001b[0m\u001b[0;34m.\u001b[0m\u001b[0mdrop\u001b[0m\u001b[0;34m(\u001b[0m\u001b[0;34m[\u001b[0m\u001b[0;34m\"Auction_Rank\"\u001b[0m\u001b[0;34m,\u001b[0m\u001b[0;34m\"view_Rank\"\u001b[0m\u001b[0;34m]\u001b[0m\u001b[0;34m,\u001b[0m \u001b[0maxis\u001b[0m\u001b[0;34m=\u001b[0m\u001b[0;36m1\u001b[0m\u001b[0;34m)\u001b[0m\u001b[0;34m\u001b[0m\u001b[0m\n\u001b[0m",
      "\u001b[0;32m/anaconda/lib/python3.6/site-packages/pandas/core/generic.py\u001b[0m in \u001b[0;36mdrop\u001b[0;34m(self, labels, axis, level, inplace, errors)\u001b[0m\n\u001b[1;32m   2048\u001b[0m                 \u001b[0mnew_axis\u001b[0m \u001b[0;34m=\u001b[0m \u001b[0maxis\u001b[0m\u001b[0;34m.\u001b[0m\u001b[0mdrop\u001b[0m\u001b[0;34m(\u001b[0m\u001b[0mlabels\u001b[0m\u001b[0;34m,\u001b[0m \u001b[0mlevel\u001b[0m\u001b[0;34m=\u001b[0m\u001b[0mlevel\u001b[0m\u001b[0;34m,\u001b[0m \u001b[0merrors\u001b[0m\u001b[0;34m=\u001b[0m\u001b[0merrors\u001b[0m\u001b[0;34m)\u001b[0m\u001b[0;34m\u001b[0m\u001b[0m\n\u001b[1;32m   2049\u001b[0m             \u001b[0;32melse\u001b[0m\u001b[0;34m:\u001b[0m\u001b[0;34m\u001b[0m\u001b[0m\n\u001b[0;32m-> 2050\u001b[0;31m                 \u001b[0mnew_axis\u001b[0m \u001b[0;34m=\u001b[0m \u001b[0maxis\u001b[0m\u001b[0;34m.\u001b[0m\u001b[0mdrop\u001b[0m\u001b[0;34m(\u001b[0m\u001b[0mlabels\u001b[0m\u001b[0;34m,\u001b[0m \u001b[0merrors\u001b[0m\u001b[0;34m=\u001b[0m\u001b[0merrors\u001b[0m\u001b[0;34m)\u001b[0m\u001b[0;34m\u001b[0m\u001b[0m\n\u001b[0m\u001b[1;32m   2051\u001b[0m             \u001b[0mdropped\u001b[0m \u001b[0;34m=\u001b[0m \u001b[0mself\u001b[0m\u001b[0;34m.\u001b[0m\u001b[0mreindex\u001b[0m\u001b[0;34m(\u001b[0m\u001b[0;34m**\u001b[0m\u001b[0;34m{\u001b[0m\u001b[0maxis_name\u001b[0m\u001b[0;34m:\u001b[0m \u001b[0mnew_axis\u001b[0m\u001b[0;34m}\u001b[0m\u001b[0;34m)\u001b[0m\u001b[0;34m\u001b[0m\u001b[0m\n\u001b[1;32m   2052\u001b[0m             \u001b[0;32mtry\u001b[0m\u001b[0;34m:\u001b[0m\u001b[0;34m\u001b[0m\u001b[0m\n",
      "\u001b[0;32m/anaconda/lib/python3.6/site-packages/pandas/core/indexes/base.py\u001b[0m in \u001b[0;36mdrop\u001b[0;34m(self, labels, errors)\u001b[0m\n\u001b[1;32m   3573\u001b[0m             \u001b[0;32mif\u001b[0m \u001b[0merrors\u001b[0m \u001b[0;34m!=\u001b[0m \u001b[0;34m'ignore'\u001b[0m\u001b[0;34m:\u001b[0m\u001b[0;34m\u001b[0m\u001b[0m\n\u001b[1;32m   3574\u001b[0m                 raise ValueError('labels %s not contained in axis' %\n\u001b[0;32m-> 3575\u001b[0;31m                                  labels[mask])\n\u001b[0m\u001b[1;32m   3576\u001b[0m             \u001b[0mindexer\u001b[0m \u001b[0;34m=\u001b[0m \u001b[0mindexer\u001b[0m\u001b[0;34m[\u001b[0m\u001b[0;34m~\u001b[0m\u001b[0mmask\u001b[0m\u001b[0;34m]\u001b[0m\u001b[0;34m\u001b[0m\u001b[0m\n\u001b[1;32m   3577\u001b[0m         \u001b[0;32mreturn\u001b[0m \u001b[0mself\u001b[0m\u001b[0;34m.\u001b[0m\u001b[0mdelete\u001b[0m\u001b[0;34m(\u001b[0m\u001b[0mindexer\u001b[0m\u001b[0;34m)\u001b[0m\u001b[0;34m\u001b[0m\u001b[0m\n",
      "\u001b[0;31mValueError\u001b[0m: labels ['Auction_Rank' 'view_Rank'] not contained in axis"
     ]
    }
   ],
   "source": [
    "df4 = df3.drop([\"Auction_Rank\",\"view_Rank\"], axis=1)"
   ]
  },
  {
   "cell_type": "code",
   "execution_count": 83,
   "metadata": {},
   "outputs": [
    {
     "ename": "NameError",
     "evalue": "name 'df4' is not defined",
     "output_type": "error",
     "traceback": [
      "\u001b[0;31m---------------------------------------------------------------------------\u001b[0m",
      "\u001b[0;31mNameError\u001b[0m                                 Traceback (most recent call last)",
      "\u001b[0;32m<ipython-input-83-877683f90420>\u001b[0m in \u001b[0;36m<module>\u001b[0;34m()\u001b[0m\n\u001b[0;32m----> 1\u001b[0;31m \u001b[0mdf4\u001b[0m\u001b[0;34m.\u001b[0m\u001b[0mtail\u001b[0m\u001b[0;34m(\u001b[0m\u001b[0;34m)\u001b[0m\u001b[0;34m\u001b[0m\u001b[0m\n\u001b[0m",
      "\u001b[0;31mNameError\u001b[0m: name 'df4' is not defined"
     ]
    }
   ],
   "source": [
    "df4.tail()"
   ]
  },
  {
   "cell_type": "code",
   "execution_count": 84,
   "metadata": {},
   "outputs": [
    {
     "ename": "NameError",
     "evalue": "name 'df4' is not defined",
     "output_type": "error",
     "traceback": [
      "\u001b[0;31m---------------------------------------------------------------------------\u001b[0m",
      "\u001b[0;31mNameError\u001b[0m                                 Traceback (most recent call last)",
      "\u001b[0;32m<ipython-input-84-635e547346cc>\u001b[0m in \u001b[0;36m<module>\u001b[0;34m()\u001b[0m\n\u001b[0;32m----> 1\u001b[0;31m \u001b[0mdf4\u001b[0m\u001b[0;34m.\u001b[0m\u001b[0mcolumns\u001b[0m\u001b[0;34m\u001b[0m\u001b[0m\n\u001b[0m",
      "\u001b[0;31mNameError\u001b[0m: name 'df4' is not defined"
     ]
    }
   ],
   "source": [
    "df4.columns"
   ]
  },
  {
   "cell_type": "code",
   "execution_count": 85,
   "metadata": {
    "scrolled": true
   },
   "outputs": [
    {
     "data": {
      "text/plain": [
       "<matplotlib.axes._subplots.AxesSubplot at 0x11d84d8d0>"
      ]
     },
     "execution_count": 85,
     "metadata": {},
     "output_type": "execute_result"
    },
    {
     "data": {
      "image/png": "[encoded data removed]",
      "text/plain": [
       "<matplotlib.figure.Figure at 0x11caf7dd8>"
      ]
     },
     "metadata": {},
     "output_type": "display_data"
    }
   ],
   "source": [
    "df.plot(kind = 'scatter', x = 'views', y = 'comments', s = 50, figsize = (8,8))"
   ]
  },
  {
   "cell_type": "code",
   "execution_count": null,
   "metadata": {
    "collapsed": true
   },
   "outputs": [],
   "source": [
    "df.plot(kind = 'scatter', x = 'views', y = 'languages', figsize = (8,8))"
   ]
  },
  {
   "cell_type": "code",
   "execution_count": null,
   "metadata": {
    "collapsed": true
   },
   "outputs": [],
   "source": [
    "df.plot(kind = 'scatter', x = 'duration', y ='views')\n",
    "\n",
    "#lm plot with seaborn and doing a regression line"
   ]
  },
  {
   "cell_type": "code",
   "execution_count": null,
   "metadata": {
    "collapsed": true
   },
   "outputs": [],
   "source": [
    "sns.pairplot(df[['views', 'duration']])"
   ]
  },
  {
   "cell_type": "code",
   "execution_count": null,
   "metadata": {
    "collapsed": true
   },
   "outputs": [],
   "source": [
    "df.views.plot(kind = 'hist', figsize = (8, 8))"
   ]
  },
  {
   "cell_type": "code",
   "execution_count": null,
   "metadata": {
    "collapsed": true
   },
   "outputs": [],
   "source": [
    "# df.views"
   ]
  },
  {
   "cell_type": "markdown",
   "metadata": {},
   "source": [
    "# Features: Analysis"
   ]
  },
  {
   "cell_type": "markdown",
   "metadata": {},
   "source": [
    "List of Columns: 'comments', 'description', 'duration', 'event', 'film_date','languages', 'main_speaker', 'name', 'num_speaker', 'published_date','ratings', 'related_talks', 'speaker_occupation', 'tags', 'title', 'url', 'views'    "
   ]
  },
  {
   "cell_type": "markdown",
   "metadata": {},
   "source": [
    "Ted Talks: Comments"
   ]
  },
  {
   "cell_type": "code",
   "execution_count": null,
   "metadata": {
    "collapsed": true
   },
   "outputs": [],
   "source": [
    "# df.comments\n",
    "#number of comments for each video"
   ]
  },
  {
   "cell_type": "code",
   "execution_count": null,
   "metadata": {
    "collapsed": true
   },
   "outputs": [],
   "source": [
    "df.comments.plot(kind = 'hist', figsize = (8,8))\n",
    "#df.Beds.plot(kind = 'hist', figsize = (8, 8))"
   ]
  },
  {
   "cell_type": "code",
   "execution_count": null,
   "metadata": {
    "collapsed": true
   },
   "outputs": [],
   "source": []
  }
 ],
 "metadata": {
  "kernelspec": {
   "display_name": "Python 3",
   "language": "python",
   "name": "python3"
  },
  "language_info": {
   "codemirror_mode": {
    "name": "ipython",
    "version": 3
   },
   "file_extension": ".py",
   "mimetype": "text/x-python",
   "name": "python",
   "nbconvert_exporter": "python",
   "pygments_lexer": "ipython3",
   "version": "3.6.1"
  }
 },
 "nbformat": 4,
 "nbformat_minor": 2
}
