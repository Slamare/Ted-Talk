{
 "cells": [
  {
   "cell_type": "markdown",
   "metadata": {},
   "source": [
    "# Ted Talks | Exploratory Data Analysis "
   ]
  },
  {
   "cell_type": "code",
   "execution_count": 1,
   "metadata": {
    "collapsed": true
   },
   "outputs": [],
   "source": [
    "#imports\n",
    "import pandas as pd\n",
    "import numpy as np\n",
    "import seaborn as sns\n",
    "import matplotlib.pyplot as plt\n",
    "import seaborn as sns\n",
    "import matplotlib as mpl\n",
    "%matplotlib inline\n",
    "plt.style.use('ggplot')\n",
    "from sklearn.linear_model import LinearRegression"
   ]
  },
  {
   "cell_type": "code",
   "execution_count": 2,
   "metadata": {
    "collapsed": true
   },
   "outputs": [],
   "source": [
    "#load data and make into datafame\n",
    "df = pd.read_csv(\"../ga_tedtalks/ted_main.csv\")"
   ]
  },
  {
   "cell_type": "code",
   "execution_count": 3,
   "metadata": {},
   "outputs": [
    {
     "data": {
      "text/html": [
       "<div>\n",
       "<style>\n",
       "    .dataframe thead tr:only-child th {\n",
       "        text-align: right;\n",
       "    }\n",
       "\n",
       "    .dataframe thead th {\n",
       "        text-align: left;\n",
       "    }\n",
       "\n",
       "    .dataframe tbody tr th {\n",
       "        vertical-align: top;\n",
       "    }\n",
       "</style>\n",
       "<table border=\"1\" class=\"dataframe\">\n",
       "  <thead>\n",
       "    <tr style=\"text-align: right;\">\n",
       "      <th></th>\n",
       "      <th>comments</th>\n",
       "      <th>description</th>\n",
       "      <th>duration</th>\n",
       "      <th>event</th>\n",
       "      <th>film_date</th>\n",
       "      <th>languages</th>\n",
       "      <th>main_speaker</th>\n",
       "      <th>name</th>\n",
       "      <th>num_speaker</th>\n",
       "      <th>published_date</th>\n",
       "      <th>ratings</th>\n",
       "      <th>related_talks</th>\n",
       "      <th>speaker_occupation</th>\n",
       "      <th>tags</th>\n",
       "      <th>title</th>\n",
       "      <th>url</th>\n",
       "      <th>views</th>\n",
       "    </tr>\n",
       "  </thead>\n",
       "  <tbody>\n",
       "    <tr>\n",
       "      <th>0</th>\n",
       "      <td>4553</td>\n",
       "      <td>Sir Ken Robinson makes an entertaining and pro...</td>\n",
       "      <td>1164</td>\n",
       "      <td>TED2006</td>\n",
       "      <td>1140825600</td>\n",
       "      <td>60</td>\n",
       "      <td>Ken Robinson</td>\n",
       "      <td>Ken Robinson: Do schools kill creativity?</td>\n",
       "      <td>1</td>\n",
       "      <td>1151367060</td>\n",
       "      <td>[{'id': 7, 'name': 'Funny', 'count': 19645}, {...</td>\n",
       "      <td>[{'id': 865, 'hero': 'https://pe.tedcdn.com/im...</td>\n",
       "      <td>Author/educator</td>\n",
       "      <td>['children', 'creativity', 'culture', 'dance',...</td>\n",
       "      <td>Do schools kill creativity?</td>\n",
       "      <td>https://www.ted.com/talks/ken_robinson_says_sc...</td>\n",
       "      <td>47227110</td>\n",
       "    </tr>\n",
       "    <tr>\n",
       "      <th>1</th>\n",
       "      <td>265</td>\n",
       "      <td>With the same humor and humanity he exuded in ...</td>\n",
       "      <td>977</td>\n",
       "      <td>TED2006</td>\n",
       "      <td>1140825600</td>\n",
       "      <td>43</td>\n",
       "      <td>Al Gore</td>\n",
       "      <td>Al Gore: Averting the climate crisis</td>\n",
       "      <td>1</td>\n",
       "      <td>1151367060</td>\n",
       "      <td>[{'id': 7, 'name': 'Funny', 'count': 544}, {'i...</td>\n",
       "      <td>[{'id': 243, 'hero': 'https://pe.tedcdn.com/im...</td>\n",
       "      <td>Climate advocate</td>\n",
       "      <td>['alternative energy', 'cars', 'climate change...</td>\n",
       "      <td>Averting the climate crisis</td>\n",
       "      <td>https://www.ted.com/talks/al_gore_on_averting_...</td>\n",
       "      <td>3200520</td>\n",
       "    </tr>\n",
       "    <tr>\n",
       "      <th>2</th>\n",
       "      <td>124</td>\n",
       "      <td>New York Times columnist David Pogue takes aim...</td>\n",
       "      <td>1286</td>\n",
       "      <td>TED2006</td>\n",
       "      <td>1140739200</td>\n",
       "      <td>26</td>\n",
       "      <td>David Pogue</td>\n",
       "      <td>David Pogue: Simplicity sells</td>\n",
       "      <td>1</td>\n",
       "      <td>1151367060</td>\n",
       "      <td>[{'id': 7, 'name': 'Funny', 'count': 964}, {'i...</td>\n",
       "      <td>[{'id': 1725, 'hero': 'https://pe.tedcdn.com/i...</td>\n",
       "      <td>Technology columnist</td>\n",
       "      <td>['computers', 'entertainment', 'interface desi...</td>\n",
       "      <td>Simplicity sells</td>\n",
       "      <td>https://www.ted.com/talks/david_pogue_says_sim...</td>\n",
       "      <td>1636292</td>\n",
       "    </tr>\n",
       "    <tr>\n",
       "      <th>3</th>\n",
       "      <td>200</td>\n",
       "      <td>In an emotionally charged talk, MacArthur-winn...</td>\n",
       "      <td>1116</td>\n",
       "      <td>TED2006</td>\n",
       "      <td>1140912000</td>\n",
       "      <td>35</td>\n",
       "      <td>Majora Carter</td>\n",
       "      <td>Majora Carter: Greening the ghetto</td>\n",
       "      <td>1</td>\n",
       "      <td>1151367060</td>\n",
       "      <td>[{'id': 3, 'name': 'Courageous', 'count': 760}...</td>\n",
       "      <td>[{'id': 1041, 'hero': 'https://pe.tedcdn.com/i...</td>\n",
       "      <td>Activist for environmental justice</td>\n",
       "      <td>['MacArthur grant', 'activism', 'business', 'c...</td>\n",
       "      <td>Greening the ghetto</td>\n",
       "      <td>https://www.ted.com/talks/majora_carter_s_tale...</td>\n",
       "      <td>1697550</td>\n",
       "    </tr>\n",
       "    <tr>\n",
       "      <th>4</th>\n",
       "      <td>593</td>\n",
       "      <td>You've never seen data presented like this. Wi...</td>\n",
       "      <td>1190</td>\n",
       "      <td>TED2006</td>\n",
       "      <td>1140566400</td>\n",
       "      <td>48</td>\n",
       "      <td>Hans Rosling</td>\n",
       "      <td>Hans Rosling: The best stats you've ever seen</td>\n",
       "      <td>1</td>\n",
       "      <td>1151440680</td>\n",
       "      <td>[{'id': 9, 'name': 'Ingenious', 'count': 3202}...</td>\n",
       "      <td>[{'id': 2056, 'hero': 'https://pe.tedcdn.com/i...</td>\n",
       "      <td>Global health expert; data visionary</td>\n",
       "      <td>['Africa', 'Asia', 'Google', 'demo', 'economic...</td>\n",
       "      <td>The best stats you've ever seen</td>\n",
       "      <td>https://www.ted.com/talks/hans_rosling_shows_t...</td>\n",
       "      <td>12005869</td>\n",
       "    </tr>\n",
       "    <tr>\n",
       "      <th>5</th>\n",
       "      <td>672</td>\n",
       "      <td>Tony Robbins discusses the \"invisible forces\" ...</td>\n",
       "      <td>1305</td>\n",
       "      <td>TED2006</td>\n",
       "      <td>1138838400</td>\n",
       "      <td>36</td>\n",
       "      <td>Tony Robbins</td>\n",
       "      <td>Tony Robbins: Why we do what we do</td>\n",
       "      <td>1</td>\n",
       "      <td>1151440680</td>\n",
       "      <td>[{'id': 7, 'name': 'Funny', 'count': 1102}, {'...</td>\n",
       "      <td>[{'id': 229, 'hero': 'https://pe.tedcdn.com/im...</td>\n",
       "      <td>Life coach; expert in leadership psychology</td>\n",
       "      <td>['business', 'culture', 'entertainment', 'goal...</td>\n",
       "      <td>Why we do what we do</td>\n",
       "      <td>https://www.ted.com/talks/tony_robbins_asks_wh...</td>\n",
       "      <td>20685401</td>\n",
       "    </tr>\n",
       "    <tr>\n",
       "      <th>6</th>\n",
       "      <td>919</td>\n",
       "      <td>When two young Mormon missionaries knock on Ju...</td>\n",
       "      <td>992</td>\n",
       "      <td>TED2006</td>\n",
       "      <td>1140739200</td>\n",
       "      <td>31</td>\n",
       "      <td>Julia Sweeney</td>\n",
       "      <td>Julia Sweeney: Letting go of God</td>\n",
       "      <td>1</td>\n",
       "      <td>1152490260</td>\n",
       "      <td>[{'id': 3, 'name': 'Courageous', 'count': 477}...</td>\n",
       "      <td>[{'id': 22, 'hero': 'https://pe.tedcdn.com/ima...</td>\n",
       "      <td>Actor, comedian, playwright</td>\n",
       "      <td>['Christianity', 'God', 'atheism', 'comedy', '...</td>\n",
       "      <td>Letting go of God</td>\n",
       "      <td>https://www.ted.com/talks/julia_sweeney_on_let...</td>\n",
       "      <td>3769987</td>\n",
       "    </tr>\n",
       "    <tr>\n",
       "      <th>7</th>\n",
       "      <td>46</td>\n",
       "      <td>Architect Joshua Prince-Ramus takes the audien...</td>\n",
       "      <td>1198</td>\n",
       "      <td>TED2006</td>\n",
       "      <td>1140652800</td>\n",
       "      <td>19</td>\n",
       "      <td>Joshua Prince-Ramus</td>\n",
       "      <td>Joshua Prince-Ramus: Behind the design of Seat...</td>\n",
       "      <td>1</td>\n",
       "      <td>1152490260</td>\n",
       "      <td>[{'id': 9, 'name': 'Ingenious', 'count': 195},...</td>\n",
       "      <td>[{'id': 750, 'hero': 'https://pe.tedcdn.com/im...</td>\n",
       "      <td>Architect</td>\n",
       "      <td>['architecture', 'collaboration', 'culture', '...</td>\n",
       "      <td>Behind the design of Seattle's library</td>\n",
       "      <td>https://www.ted.com/talks/joshua_prince_ramus_...</td>\n",
       "      <td>967741</td>\n",
       "    </tr>\n",
       "    <tr>\n",
       "      <th>8</th>\n",
       "      <td>852</td>\n",
       "      <td>Philosopher Dan Dennett calls for religion -- ...</td>\n",
       "      <td>1485</td>\n",
       "      <td>TED2006</td>\n",
       "      <td>1138838400</td>\n",
       "      <td>32</td>\n",
       "      <td>Dan Dennett</td>\n",
       "      <td>Dan Dennett: Let's teach religion -- all relig...</td>\n",
       "      <td>1</td>\n",
       "      <td>1153181460</td>\n",
       "      <td>[{'id': 3, 'name': 'Courageous', 'count': 562}...</td>\n",
       "      <td>[{'id': 71, 'hero': 'https://pe.tedcdn.com/ima...</td>\n",
       "      <td>Philosopher, cognitive scientist</td>\n",
       "      <td>['God', 'TED Brain Trust', 'atheism', 'brain',...</td>\n",
       "      <td>Let's teach religion -- all religion -- in sch...</td>\n",
       "      <td>https://www.ted.com/talks/dan_dennett_s_respon...</td>\n",
       "      <td>2567958</td>\n",
       "    </tr>\n",
       "    <tr>\n",
       "      <th>9</th>\n",
       "      <td>900</td>\n",
       "      <td>Pastor Rick Warren, author of \"The Purpose-Dri...</td>\n",
       "      <td>1262</td>\n",
       "      <td>TED2006</td>\n",
       "      <td>1140825600</td>\n",
       "      <td>31</td>\n",
       "      <td>Rick Warren</td>\n",
       "      <td>Rick Warren: A life of purpose</td>\n",
       "      <td>1</td>\n",
       "      <td>1153181460</td>\n",
       "      <td>[{'id': 21, 'name': 'Unconvincing', 'count': 8...</td>\n",
       "      <td>[{'id': 94, 'hero': 'https://pe.tedcdn.com/ima...</td>\n",
       "      <td>Pastor, author</td>\n",
       "      <td>['Christianity', 'God', 'culture', 'happiness'...</td>\n",
       "      <td>A life of purpose</td>\n",
       "      <td>https://www.ted.com/talks/rick_warren_on_a_lif...</td>\n",
       "      <td>3095993</td>\n",
       "    </tr>\n",
       "    <tr>\n",
       "      <th>10</th>\n",
       "      <td>79</td>\n",
       "      <td>Accepting his 2006 TED Prize, Cameron Sinclair...</td>\n",
       "      <td>1414</td>\n",
       "      <td>TED2006</td>\n",
       "      <td>1140912000</td>\n",
       "      <td>27</td>\n",
       "      <td>Cameron Sinclair</td>\n",
       "      <td>Cameron Sinclair: My wish: A call for open-sou...</td>\n",
       "      <td>1</td>\n",
       "      <td>1153786260</td>\n",
       "      <td>[{'id': 3, 'name': 'Courageous', 'count': 169}...</td>\n",
       "      <td>[{'id': 1749, 'hero': 'https://pe.tedcdn.com/i...</td>\n",
       "      <td>Co-founder, Architecture for Humanity</td>\n",
       "      <td>['activism', 'architecture', 'collaboration', ...</td>\n",
       "      <td>My wish: A call for open-source architecture</td>\n",
       "      <td>https://www.ted.com/talks/cameron_sinclair_on_...</td>\n",
       "      <td>1211416</td>\n",
       "    </tr>\n",
       "    <tr>\n",
       "      <th>11</th>\n",
       "      <td>55</td>\n",
       "      <td>Jehane Noujaim unveils her 2006 TED Prize wish...</td>\n",
       "      <td>1538</td>\n",
       "      <td>TED2006</td>\n",
       "      <td>1140912000</td>\n",
       "      <td>20</td>\n",
       "      <td>Jehane Noujaim</td>\n",
       "      <td>Jehane Noujaim: My wish: A global day of film</td>\n",
       "      <td>1</td>\n",
       "      <td>1153786260</td>\n",
       "      <td>[{'id': 1, 'name': 'Beautiful', 'count': 70}, ...</td>\n",
       "      <td>[{'id': 2228, 'hero': 'https://pe.tedcdn.com/i...</td>\n",
       "      <td>Filmmaker</td>\n",
       "      <td>['TED Prize', 'art', 'culture', 'entertainment...</td>\n",
       "      <td>My wish: A global day of film</td>\n",
       "      <td>https://www.ted.com/talks/jehane_noujaim_inspi...</td>\n",
       "      <td>387877</td>\n",
       "    </tr>\n",
       "    <tr>\n",
       "      <th>12</th>\n",
       "      <td>71</td>\n",
       "      <td>Accepting the 2006 TED Prize, Dr. Larry Brilli...</td>\n",
       "      <td>1550</td>\n",
       "      <td>TED2006</td>\n",
       "      <td>1140652800</td>\n",
       "      <td>24</td>\n",
       "      <td>Larry Brilliant</td>\n",
       "      <td>Larry Brilliant: My wish: Help me stop pandemics</td>\n",
       "      <td>1</td>\n",
       "      <td>1153786260</td>\n",
       "      <td>[{'id': 8, 'name': 'Informative', 'count': 188...</td>\n",
       "      <td>[{'id': 1153, 'hero': 'https://pe.tedcdn.com/i...</td>\n",
       "      <td>Epidemiologist, philanthropist</td>\n",
       "      <td>['TED Prize', 'collaboration', 'disease', 'ebo...</td>\n",
       "      <td>My wish: Help me stop pandemics</td>\n",
       "      <td>https://www.ted.com/talks/larry_brilliant_want...</td>\n",
       "      <td>693341</td>\n",
       "    </tr>\n",
       "    <tr>\n",
       "      <th>13</th>\n",
       "      <td>242</td>\n",
       "      <td>Jeff Han shows off a cheap, scalable multi-tou...</td>\n",
       "      <td>527</td>\n",
       "      <td>TED2006</td>\n",
       "      <td>1139184000</td>\n",
       "      <td>27</td>\n",
       "      <td>Jeff Han</td>\n",
       "      <td>Jeff Han: The radical promise of the multi-tou...</td>\n",
       "      <td>1</td>\n",
       "      <td>1154391060</td>\n",
       "      <td>[{'id': 9, 'name': 'Ingenious', 'count': 1014}...</td>\n",
       "      <td>[{'id': 685, 'hero': 'https://pe.tedcdn.com/im...</td>\n",
       "      <td>Human-computer interface designer</td>\n",
       "      <td>['demo', 'design', 'interface design', 'techno...</td>\n",
       "      <td>The radical promise of the multi-touch interface</td>\n",
       "      <td>https://www.ted.com/talks/jeff_han_demos_his_b...</td>\n",
       "      <td>4531020</td>\n",
       "    </tr>\n",
       "    <tr>\n",
       "      <th>14</th>\n",
       "      <td>99</td>\n",
       "      <td>Nicholas Negroponte, founder of the MIT Media ...</td>\n",
       "      <td>1057</td>\n",
       "      <td>TED2006</td>\n",
       "      <td>1140652800</td>\n",
       "      <td>25</td>\n",
       "      <td>Nicholas Negroponte</td>\n",
       "      <td>Nicholas Negroponte: One Laptop per Child</td>\n",
       "      <td>1</td>\n",
       "      <td>1154391060</td>\n",
       "      <td>[{'id': 3, 'name': 'Courageous', 'count': 83},...</td>\n",
       "      <td>[{'id': 2043, 'hero': 'https://pe.tedcdn.com/i...</td>\n",
       "      <td>Tech visionary</td>\n",
       "      <td>['children', 'design', 'education', 'entrepren...</td>\n",
       "      <td>One Laptop per Child</td>\n",
       "      <td>https://www.ted.com/talks/nicholas_negroponte_...</td>\n",
       "      <td>358304</td>\n",
       "    </tr>\n",
       "    <tr>\n",
       "      <th>15</th>\n",
       "      <td>325</td>\n",
       "      <td>Violinist Sirena Huang gives a technically bri...</td>\n",
       "      <td>1481</td>\n",
       "      <td>TED2006</td>\n",
       "      <td>1140652800</td>\n",
       "      <td>31</td>\n",
       "      <td>Sirena Huang</td>\n",
       "      <td>Sirena Huang: An 11-year-old's magical violin</td>\n",
       "      <td>1</td>\n",
       "      <td>1154995860</td>\n",
       "      <td>[{'id': 1, 'name': 'Beautiful', 'count': 1671}...</td>\n",
       "      <td>[{'id': 2273, 'hero': 'https://pe.tedcdn.com/i...</td>\n",
       "      <td>Violinist</td>\n",
       "      <td>['entertainment', 'music', 'performance', 'vio...</td>\n",
       "      <td>An 11-year-old's magical violin</td>\n",
       "      <td>https://www.ted.com/talks/sirena_huang_dazzles...</td>\n",
       "      <td>2702470</td>\n",
       "    </tr>\n",
       "    <tr>\n",
       "      <th>16</th>\n",
       "      <td>305</td>\n",
       "      <td>Pianist and composer Jennifer Lin gives a magi...</td>\n",
       "      <td>1445</td>\n",
       "      <td>TED2004</td>\n",
       "      <td>1077753600</td>\n",
       "      <td>32</td>\n",
       "      <td>Jennifer Lin</td>\n",
       "      <td>Jennifer Lin: Improvising on piano, aged 14</td>\n",
       "      <td>1</td>\n",
       "      <td>1154995860</td>\n",
       "      <td>[{'id': 1, 'name': 'Beautiful', 'count': 1107}...</td>\n",
       "      <td>[{'id': 2273, 'hero': 'https://pe.tedcdn.com/i...</td>\n",
       "      <td>Pianist, composer</td>\n",
       "      <td>['creativity', 'entertainment', 'music', 'perf...</td>\n",
       "      <td>Improvising on piano, aged 14</td>\n",
       "      <td>https://www.ted.com/talks/jennifer_lin_improvs...</td>\n",
       "      <td>1628912</td>\n",
       "    </tr>\n",
       "    <tr>\n",
       "      <th>17</th>\n",
       "      <td>88</td>\n",
       "      <td>Fumes from indoor cooking fires kill more than...</td>\n",
       "      <td>906</td>\n",
       "      <td>TED2006</td>\n",
       "      <td>1140739200</td>\n",
       "      <td>27</td>\n",
       "      <td>Amy Smith</td>\n",
       "      <td>Amy Smith: Simple designs to save a life</td>\n",
       "      <td>1</td>\n",
       "      <td>1155600660</td>\n",
       "      <td>[{'id': 9, 'name': 'Ingenious', 'count': 321},...</td>\n",
       "      <td>[{'id': 1561, 'hero': 'https://pe.tedcdn.com/i...</td>\n",
       "      <td>inventor, engineer</td>\n",
       "      <td>['MacArthur grant', 'alternative energy', 'des...</td>\n",
       "      <td>Simple designs to save a life</td>\n",
       "      <td>https://www.ted.com/talks/amy_smith_shares_sim...</td>\n",
       "      <td>1415724</td>\n",
       "    </tr>\n",
       "    <tr>\n",
       "      <th>18</th>\n",
       "      <td>163</td>\n",
       "      <td>Designer Ross Lovegrove expounds his philosoph...</td>\n",
       "      <td>1170</td>\n",
       "      <td>TED2005</td>\n",
       "      <td>1109289600</td>\n",
       "      <td>22</td>\n",
       "      <td>Ross Lovegrove</td>\n",
       "      <td>Ross Lovegrove: Organic design, inspired by na...</td>\n",
       "      <td>1</td>\n",
       "      <td>1155600660</td>\n",
       "      <td>[{'id': 1, 'name': 'Beautiful', 'count': 259},...</td>\n",
       "      <td>[{'id': 2251, 'hero': 'https://pe.tedcdn.com/i...</td>\n",
       "      <td>Industrial designer</td>\n",
       "      <td>['DNA', 'biology', 'creativity', 'design', 'in...</td>\n",
       "      <td>Organic design, inspired by nature</td>\n",
       "      <td>https://www.ted.com/talks/ross_lovegrove_share...</td>\n",
       "      <td>1074081</td>\n",
       "    </tr>\n",
       "    <tr>\n",
       "      <th>19</th>\n",
       "      <td>84</td>\n",
       "      <td>Jimmy Wales recalls how he assembled \"a ragtag...</td>\n",
       "      <td>1201</td>\n",
       "      <td>TEDGlobal 2005</td>\n",
       "      <td>1121299200</td>\n",
       "      <td>32</td>\n",
       "      <td>Jimmy Wales</td>\n",
       "      <td>Jimmy Wales: The birth of Wikipedia</td>\n",
       "      <td>1</td>\n",
       "      <td>1156119060</td>\n",
       "      <td>[{'id': 1, 'name': 'Beautiful', 'count': 104},...</td>\n",
       "      <td>[{'id': 640, 'hero': 'https://pe.tedcdn.com/im...</td>\n",
       "      <td>Founder of Wikipedia</td>\n",
       "      <td>['business', 'collaboration', 'culture', 'inve...</td>\n",
       "      <td>The birth of Wikipedia</td>\n",
       "      <td>https://www.ted.com/talks/jimmy_wales_on_the_b...</td>\n",
       "      <td>1106561</td>\n",
       "    </tr>\n",
       "    <tr>\n",
       "      <th>20</th>\n",
       "      <td>108</td>\n",
       "      <td>In 2006, open-learning visionary Richard Baran...</td>\n",
       "      <td>1114</td>\n",
       "      <td>TED2006</td>\n",
       "      <td>1140652800</td>\n",
       "      <td>27</td>\n",
       "      <td>Richard Baraniuk</td>\n",
       "      <td>Richard Baraniuk: The birth of the open-source...</td>\n",
       "      <td>1</td>\n",
       "      <td>1156119060</td>\n",
       "      <td>[{'id': 9, 'name': 'Ingenious', 'count': 117},...</td>\n",
       "      <td>[{'id': 1913, 'hero': 'https://pe.tedcdn.com/i...</td>\n",
       "      <td>Education visionary</td>\n",
       "      <td>['business', 'collaboration', 'culture', 'glob...</td>\n",
       "      <td>The birth of the open-source learning revolution</td>\n",
       "      <td>https://www.ted.com/talks/richard_baraniuk_on_...</td>\n",
       "      <td>966439</td>\n",
       "    </tr>\n",
       "    <tr>\n",
       "      <th>21</th>\n",
       "      <td>185</td>\n",
       "      <td>Performer and web toymaker Ze Frank delivers a...</td>\n",
       "      <td>1136</td>\n",
       "      <td>TED2004</td>\n",
       "      <td>1077580800</td>\n",
       "      <td>26</td>\n",
       "      <td>Ze Frank</td>\n",
       "      <td>Ze Frank: Nerdcore comedy</td>\n",
       "      <td>1</td>\n",
       "      <td>1156464660</td>\n",
       "      <td>[{'id': 7, 'name': 'Funny', 'count': 2799}, {'...</td>\n",
       "      <td>[{'id': 148, 'hero': 'https://pe.tedcdn.com/im...</td>\n",
       "      <td>Humorist, web artist</td>\n",
       "      <td>['collaboration', 'comedy', 'community', 'cult...</td>\n",
       "      <td>Nerdcore comedy</td>\n",
       "      <td>https://www.ted.com/talks/ze_frank_s_nerdcore_...</td>\n",
       "      <td>6141440</td>\n",
       "    </tr>\n",
       "    <tr>\n",
       "      <th>22</th>\n",
       "      <td>50</td>\n",
       "      <td>The founding mother of the blog revolution, Mo...</td>\n",
       "      <td>1006</td>\n",
       "      <td>TED2006</td>\n",
       "      <td>1140652800</td>\n",
       "      <td>20</td>\n",
       "      <td>Mena Trott</td>\n",
       "      <td>Mena Trott: Meet the founder of the blog revol...</td>\n",
       "      <td>1</td>\n",
       "      <td>1156464660</td>\n",
       "      <td>[{'id': 8, 'name': 'Informative', 'count': 82}...</td>\n",
       "      <td>[{'id': 144, 'hero': 'https://pe.tedcdn.com/im...</td>\n",
       "      <td>Blogger; cofounder, Six Apart</td>\n",
       "      <td>['business', 'communication', 'community', 'cu...</td>\n",
       "      <td>Meet the founder of the blog revolution</td>\n",
       "      <td>https://www.ted.com/talks/mena_trott_tours_her...</td>\n",
       "      <td>518624</td>\n",
       "    </tr>\n",
       "    <tr>\n",
       "      <th>23</th>\n",
       "      <td>556</td>\n",
       "      <td>Anthropologist Helen Fisher takes on a tricky ...</td>\n",
       "      <td>1407</td>\n",
       "      <td>TED2006</td>\n",
       "      <td>1140739200</td>\n",
       "      <td>33</td>\n",
       "      <td>Helen Fisher</td>\n",
       "      <td>Helen Fisher: Why we love, why we cheat</td>\n",
       "      <td>1</td>\n",
       "      <td>1157501460</td>\n",
       "      <td>[{'id': 7, 'name': 'Funny', 'count': 780}, {'i...</td>\n",
       "      <td>[{'id': 307, 'hero': 'https://pe.tedcdn.com/im...</td>\n",
       "      <td>Anthropologist, expert on love</td>\n",
       "      <td>['cognitive science', 'culture', 'evolution', ...</td>\n",
       "      <td>Why we love, why we cheat</td>\n",
       "      <td>https://www.ted.com/talks/helen_fisher_tells_u...</td>\n",
       "      <td>9260764</td>\n",
       "    </tr>\n",
       "    <tr>\n",
       "      <th>24</th>\n",
       "      <td>117</td>\n",
       "      <td>Eve Ensler, creator of \"The Vagina Monologues,...</td>\n",
       "      <td>1225</td>\n",
       "      <td>TED2004</td>\n",
       "      <td>1075852800</td>\n",
       "      <td>23</td>\n",
       "      <td>Eve Ensler</td>\n",
       "      <td>Eve Ensler: Happiness in body and soul</td>\n",
       "      <td>1</td>\n",
       "      <td>1157501460</td>\n",
       "      <td>[{'id': 3, 'name': 'Courageous', 'count': 654}...</td>\n",
       "      <td>[{'id': 217, 'hero': 'https://pe.tedcdn.com/im...</td>\n",
       "      <td>Playwright, activist</td>\n",
       "      <td>['culture', 'entertainment', 'gender', 'global...</td>\n",
       "      <td>Happiness in body and soul</td>\n",
       "      <td>https://www.ted.com/talks/eve_ensler_on_happin...</td>\n",
       "      <td>1131864</td>\n",
       "    </tr>\n",
       "    <tr>\n",
       "      <th>25</th>\n",
       "      <td>184</td>\n",
       "      <td>Legendary scientist David Deutsch puts theoret...</td>\n",
       "      <td>1140</td>\n",
       "      <td>TEDGlobal 2005</td>\n",
       "      <td>1121299200</td>\n",
       "      <td>29</td>\n",
       "      <td>David Deutsch</td>\n",
       "      <td>David Deutsch: Chemical scum that dream of dis...</td>\n",
       "      <td>1</td>\n",
       "      <td>1158019860</td>\n",
       "      <td>[{'id': 9, 'name': 'Ingenious', 'count': 269},...</td>\n",
       "      <td>[{'id': 2237, 'hero': 'https://pe.tedcdn.com/i...</td>\n",
       "      <td>Quantum physicist</td>\n",
       "      <td>['climate change', 'cosmos', 'culture', 'envir...</td>\n",
       "      <td>Chemical scum that dream of distant quasars</td>\n",
       "      <td>https://www.ted.com/talks/david_deutsch_on_our...</td>\n",
       "      <td>1096862</td>\n",
       "    </tr>\n",
       "    <tr>\n",
       "      <th>26</th>\n",
       "      <td>507</td>\n",
       "      <td>Biologist Richard Dawkins makes a case for \"th...</td>\n",
       "      <td>1316</td>\n",
       "      <td>TEDGlobal 2005</td>\n",
       "      <td>1120694400</td>\n",
       "      <td>36</td>\n",
       "      <td>Richard Dawkins</td>\n",
       "      <td>Richard Dawkins: Why the universe seems so str...</td>\n",
       "      <td>1</td>\n",
       "      <td>1158019860</td>\n",
       "      <td>[{'id': 1, 'name': 'Beautiful', 'count': 333},...</td>\n",
       "      <td>[{'id': 1276, 'hero': 'https://pe.tedcdn.com/i...</td>\n",
       "      <td>Evolutionary biologist</td>\n",
       "      <td>['astronomy', 'biology', 'cognitive science', ...</td>\n",
       "      <td>Why the universe seems so strange</td>\n",
       "      <td>https://www.ted.com/talks/richard_dawkins_on_o...</td>\n",
       "      <td>2885999</td>\n",
       "    </tr>\n",
       "    <tr>\n",
       "      <th>27</th>\n",
       "      <td>95</td>\n",
       "      <td>\"Freakonomics\" author Steven Levitt presents n...</td>\n",
       "      <td>1275</td>\n",
       "      <td>TED2004</td>\n",
       "      <td>1077840000</td>\n",
       "      <td>25</td>\n",
       "      <td>Steven Levitt</td>\n",
       "      <td>Steven Levitt: The freakonomics of crack dealing</td>\n",
       "      <td>1</td>\n",
       "      <td>1158624660</td>\n",
       "      <td>[{'id': 7, 'name': 'Funny', 'count': 485}, {'i...</td>\n",
       "      <td>[{'id': 20, 'hero': 'https://pe.tedcdn.com/ima...</td>\n",
       "      <td>Economist</td>\n",
       "      <td>['business', 'cities', 'culture', 'economics',...</td>\n",
       "      <td>The freakonomics of crack dealing</td>\n",
       "      <td>https://www.ted.com/talks/steven_levitt_analyz...</td>\n",
       "      <td>2863214</td>\n",
       "    </tr>\n",
       "    <tr>\n",
       "      <th>28</th>\n",
       "      <td>355</td>\n",
       "      <td>\"Tipping Point\" author Malcolm Gladwell gets i...</td>\n",
       "      <td>1050</td>\n",
       "      <td>TED2004</td>\n",
       "      <td>1077753600</td>\n",
       "      <td>37</td>\n",
       "      <td>Malcolm Gladwell</td>\n",
       "      <td>Malcolm Gladwell: Choice, happiness and spaghe...</td>\n",
       "      <td>1</td>\n",
       "      <td>1158624660</td>\n",
       "      <td>[{'id': 7, 'name': 'Funny', 'count': 1668}, {'...</td>\n",
       "      <td>[{'id': 93, 'hero': 'https://pe.tedcdn.com/ima...</td>\n",
       "      <td>Writer</td>\n",
       "      <td>['business', 'choice', 'consumerism', 'culture...</td>\n",
       "      <td>Choice, happiness and spaghetti sauce</td>\n",
       "      <td>https://www.ted.com/talks/malcolm_gladwell_on_...</td>\n",
       "      <td>7023562</td>\n",
       "    </tr>\n",
       "    <tr>\n",
       "      <th>29</th>\n",
       "      <td>970</td>\n",
       "      <td>Dan Gilbert, author of \"Stumbling on Happiness...</td>\n",
       "      <td>1276</td>\n",
       "      <td>TED2004</td>\n",
       "      <td>1075680000</td>\n",
       "      <td>43</td>\n",
       "      <td>Dan Gilbert</td>\n",
       "      <td>Dan Gilbert: The surprising science of happiness</td>\n",
       "      <td>1</td>\n",
       "      <td>1159229460</td>\n",
       "      <td>[{'id': 7, 'name': 'Funny', 'count': 1728}, {'...</td>\n",
       "      <td>[{'id': 944, 'hero': 'https://pe.tedcdn.com/im...</td>\n",
       "      <td>Psychologist; happiness expert</td>\n",
       "      <td>['TED Brain Trust', 'brain', 'choice', 'cultur...</td>\n",
       "      <td>The surprising science of happiness</td>\n",
       "      <td>https://www.ted.com/talks/dan_gilbert_asks_why...</td>\n",
       "      <td>14689301</td>\n",
       "    </tr>\n",
       "    <tr>\n",
       "      <th>...</th>\n",
       "      <td>...</td>\n",
       "      <td>...</td>\n",
       "      <td>...</td>\n",
       "      <td>...</td>\n",
       "      <td>...</td>\n",
       "      <td>...</td>\n",
       "      <td>...</td>\n",
       "      <td>...</td>\n",
       "      <td>...</td>\n",
       "      <td>...</td>\n",
       "      <td>...</td>\n",
       "      <td>...</td>\n",
       "      <td>...</td>\n",
       "      <td>...</td>\n",
       "      <td>...</td>\n",
       "      <td>...</td>\n",
       "      <td>...</td>\n",
       "    </tr>\n",
       "    <tr>\n",
       "      <th>2520</th>\n",
       "      <td>81</td>\n",
       "      <td>Meet the \"ems\" -- machines that emulate human ...</td>\n",
       "      <td>736</td>\n",
       "      <td>TED2017</td>\n",
       "      <td>1492992000</td>\n",
       "      <td>2</td>\n",
       "      <td>Robin Hanson</td>\n",
       "      <td>Robin Hanson: What would happen if we upload o...</td>\n",
       "      <td>1</td>\n",
       "      <td>1503586288</td>\n",
       "      <td>[{'id': 23, 'name': 'Jaw-dropping', 'count': 2...</td>\n",
       "      <td>[{'id': 2592, 'hero': 'https://pe.tedcdn.com/i...</td>\n",
       "      <td>Futurist, social scientist</td>\n",
       "      <td>['AI', 'computers', 'economics', 'future', 'hu...</td>\n",
       "      <td>What would happen if we upload our brains to c...</td>\n",
       "      <td>https://www.ted.com/talks/robin_hanson_what_wo...</td>\n",
       "      <td>840855</td>\n",
       "    </tr>\n",
       "    <tr>\n",
       "      <th>2521</th>\n",
       "      <td>13</td>\n",
       "      <td>Your cells are coated with sugars that store i...</td>\n",
       "      <td>685</td>\n",
       "      <td>TEDxStanford</td>\n",
       "      <td>1461456000</td>\n",
       "      <td>7</td>\n",
       "      <td>Carolyn Bertozzi</td>\n",
       "      <td>Carolyn Bertozzi: What the sugar coating on yo...</td>\n",
       "      <td>1</td>\n",
       "      <td>1503604806</td>\n",
       "      <td>[{'id': 8, 'name': 'Informative', 'count': 146...</td>\n",
       "      <td>[{'id': 2504, 'hero': 'https://pe.tedcdn.com/i...</td>\n",
       "      <td>Chemical biologist</td>\n",
       "      <td>['biology', 'biomechanics', 'cancer', 'chemist...</td>\n",
       "      <td>What the sugar coating on your cells is trying...</td>\n",
       "      <td>https://www.ted.com/talks/carolyn_bertozzi_wha...</td>\n",
       "      <td>727807</td>\n",
       "    </tr>\n",
       "    <tr>\n",
       "      <th>2522</th>\n",
       "      <td>12</td>\n",
       "      <td>Every artist has a name, and every artist has ...</td>\n",
       "      <td>530</td>\n",
       "      <td>TED2017</td>\n",
       "      <td>1492992000</td>\n",
       "      <td>5</td>\n",
       "      <td>Laolu Senbanjo</td>\n",
       "      <td>Laolu Senbanjo: \"The Sacred Art of the Ori\"</td>\n",
       "      <td>1</td>\n",
       "      <td>1503673077</td>\n",
       "      <td>[{'id': 1, 'name': 'Beautiful', 'count': 85}, ...</td>\n",
       "      <td>[{'id': 2826, 'hero': 'https://pe.tedcdn.com/i...</td>\n",
       "      <td>Artist, musician, lawyer, activist</td>\n",
       "      <td>['Africa', 'art', 'beauty', 'creativity', 'per...</td>\n",
       "      <td>\"The Sacred Art of the Ori\"</td>\n",
       "      <td>https://www.ted.com/talks/laolu_senbanjo_the_s...</td>\n",
       "      <td>636463</td>\n",
       "    </tr>\n",
       "    <tr>\n",
       "      <th>2523</th>\n",
       "      <td>20</td>\n",
       "      <td>Another economic reality is possible -- one th...</td>\n",
       "      <td>747</td>\n",
       "      <td>TEDxCrenshaw</td>\n",
       "      <td>1475884800</td>\n",
       "      <td>3</td>\n",
       "      <td>Niki Okuk</td>\n",
       "      <td>Niki Okuk: When workers own companies, the eco...</td>\n",
       "      <td>1</td>\n",
       "      <td>1503932075</td>\n",
       "      <td>[{'id': 3, 'name': 'Courageous', 'count': 46},...</td>\n",
       "      <td>[{'id': 1041, 'hero': 'https://pe.tedcdn.com/i...</td>\n",
       "      <td>Entrepreneur</td>\n",
       "      <td>['TEDx', 'business', 'capitalism', 'community'...</td>\n",
       "      <td>When workers own companies, the economy is mor...</td>\n",
       "      <td>https://www.ted.com/talks/niki_okuk_when_worke...</td>\n",
       "      <td>744793</td>\n",
       "    </tr>\n",
       "    <tr>\n",
       "      <th>2524</th>\n",
       "      <td>9</td>\n",
       "      <td>We're so used to narratives out of Africa bein...</td>\n",
       "      <td>310</td>\n",
       "      <td>TED2017</td>\n",
       "      <td>1492992000</td>\n",
       "      <td>12</td>\n",
       "      <td>Wanuri Kahiu</td>\n",
       "      <td>Wanuri Kahiu: Fun, fierce and fantastical Afri...</td>\n",
       "      <td>1</td>\n",
       "      <td>1504017396</td>\n",
       "      <td>[{'id': 24, 'name': 'Persuasive', 'count': 19}...</td>\n",
       "      <td>[{'id': 652, 'hero': 'https://pe.tedcdn.com/im...</td>\n",
       "      <td>Filmmaker, writer</td>\n",
       "      <td>['Africa', 'TED Fellows', 'art', 'creativity',...</td>\n",
       "      <td>Fun, fierce and fantastical African art</td>\n",
       "      <td>https://www.ted.com/talks/wanuri_kahiu_fun_fie...</td>\n",
       "      <td>522917</td>\n",
       "    </tr>\n",
       "    <tr>\n",
       "      <th>2525</th>\n",
       "      <td>18</td>\n",
       "      <td>Could it be wrong to help children in need by ...</td>\n",
       "      <td>791</td>\n",
       "      <td>TEDxSydney</td>\n",
       "      <td>1464048000</td>\n",
       "      <td>5</td>\n",
       "      <td>Tara Winkler</td>\n",
       "      <td>Tara Winkler: Why we need to end the era of or...</td>\n",
       "      <td>1</td>\n",
       "      <td>1504036846</td>\n",
       "      <td>[{'id': 10, 'name': 'Inspiring', 'count': 119}...</td>\n",
       "      <td>[{'id': 1596, 'hero': 'https://pe.tedcdn.com/i...</td>\n",
       "      <td>Child protection leader, activist, author</td>\n",
       "      <td>['TEDx', 'activism', 'children', 'family', 'po...</td>\n",
       "      <td>Why we need to end the era of orphanages</td>\n",
       "      <td>https://www.ted.com/talks/tara_winkler_why_we_...</td>\n",
       "      <td>656113</td>\n",
       "    </tr>\n",
       "    <tr>\n",
       "      <th>2526</th>\n",
       "      <td>39</td>\n",
       "      <td>Meet Todai Robot, an AI project that performed...</td>\n",
       "      <td>817</td>\n",
       "      <td>TED2017</td>\n",
       "      <td>1492992000</td>\n",
       "      <td>6</td>\n",
       "      <td>Noriko Arai</td>\n",
       "      <td>Noriko Arai: Can a robot pass a university ent...</td>\n",
       "      <td>1</td>\n",
       "      <td>1504105251</td>\n",
       "      <td>[{'id': 22, 'name': 'Fascinating', 'count': 11...</td>\n",
       "      <td>[{'id': 2606, 'hero': 'https://pe.tedcdn.com/i...</td>\n",
       "      <td>AI expert</td>\n",
       "      <td>['AI', 'education', 'intelligence', 'robots', ...</td>\n",
       "      <td>Can a robot pass a university entrance exam?</td>\n",
       "      <td>https://www.ted.com/talks/noriko_arai_can_a_ro...</td>\n",
       "      <td>773317</td>\n",
       "    </tr>\n",
       "    <tr>\n",
       "      <th>2527</th>\n",
       "      <td>17</td>\n",
       "      <td>What's stopping the American government from r...</td>\n",
       "      <td>865</td>\n",
       "      <td>TEDxStanford</td>\n",
       "      <td>1492905600</td>\n",
       "      <td>3</td>\n",
       "      <td>Jennifer Granick</td>\n",
       "      <td>Jennifer Granick: How the US government spies ...</td>\n",
       "      <td>1</td>\n",
       "      <td>1504190944</td>\n",
       "      <td>[{'id': 3, 'name': 'Courageous', 'count': 63},...</td>\n",
       "      <td>[{'id': 2567, 'hero': 'https://pe.tedcdn.com/i...</td>\n",
       "      <td>Surveillance and cybersecurity counsel</td>\n",
       "      <td>['TEDx', 'United States', 'activism', 'democra...</td>\n",
       "      <td>How the US government spies on people who prot...</td>\n",
       "      <td>https://www.ted.com/talks/jennifer_granick_how...</td>\n",
       "      <td>766721</td>\n",
       "    </tr>\n",
       "    <tr>\n",
       "      <th>2528</th>\n",
       "      <td>3</td>\n",
       "      <td>Digital archaeologist Chance Coughenour is usi...</td>\n",
       "      <td>717</td>\n",
       "      <td>TEDxHamburg</td>\n",
       "      <td>1465344000</td>\n",
       "      <td>5</td>\n",
       "      <td>Chance Coughenour</td>\n",
       "      <td>Chance Coughenour: How your pictures can help ...</td>\n",
       "      <td>1</td>\n",
       "      <td>1504209631</td>\n",
       "      <td>[{'id': 9, 'name': 'Ingenious', 'count': 16}, ...</td>\n",
       "      <td>[{'id': 2673, 'hero': 'https://pe.tedcdn.com/i...</td>\n",
       "      <td>Digital archaeologist</td>\n",
       "      <td>['TEDx', 'ancient world', 'archaeology', 'cons...</td>\n",
       "      <td>How your pictures can help reclaim lost history</td>\n",
       "      <td>https://www.ted.com/talks/chance_coughenour_ho...</td>\n",
       "      <td>539207</td>\n",
       "    </tr>\n",
       "    <tr>\n",
       "      <th>2529</th>\n",
       "      <td>45</td>\n",
       "      <td>We all have origin stories and identity myths,...</td>\n",
       "      <td>1156</td>\n",
       "      <td>TEDxExeter</td>\n",
       "      <td>1429833600</td>\n",
       "      <td>1</td>\n",
       "      <td>Chetan Bhatt</td>\n",
       "      <td>Chetan Bhatt: Dare to refuse the origin myths ...</td>\n",
       "      <td>1</td>\n",
       "      <td>1504276143</td>\n",
       "      <td>[{'id': 9, 'name': 'Ingenious', 'count': 24}, ...</td>\n",
       "      <td>[{'id': 2811, 'hero': 'https://pe.tedcdn.com/i...</td>\n",
       "      <td>Sociologist, human rights activist</td>\n",
       "      <td>['TEDx', 'community', 'humanity', 'identity', ...</td>\n",
       "      <td>Dare to refuse the origin myths that claim who...</td>\n",
       "      <td>https://www.ted.com/talks/chetan_bhatt_dare_to...</td>\n",
       "      <td>857850</td>\n",
       "    </tr>\n",
       "    <tr>\n",
       "      <th>2530</th>\n",
       "      <td>12</td>\n",
       "      <td>Daan Roosegaarde uses technology and creative ...</td>\n",
       "      <td>738</td>\n",
       "      <td>TED2017</td>\n",
       "      <td>1492992000</td>\n",
       "      <td>3</td>\n",
       "      <td>Daan Roosegaarde</td>\n",
       "      <td>Daan Roosegaarde: A smog vacuum cleaner and ot...</td>\n",
       "      <td>1</td>\n",
       "      <td>1504623555</td>\n",
       "      <td>[{'id': 2, 'name': 'Confusing', 'count': 2}, {...</td>\n",
       "      <td>[{'id': 2774, 'hero': 'https://pe.tedcdn.com/i...</td>\n",
       "      <td>Artist</td>\n",
       "      <td>['architecture', 'art', 'cities', 'creativity'...</td>\n",
       "      <td>A smog vacuum cleaner and other magical city d...</td>\n",
       "      <td>https://www.ted.com/talks/daan_roosegaarde_a_s...</td>\n",
       "      <td>591131</td>\n",
       "    </tr>\n",
       "    <tr>\n",
       "      <th>2531</th>\n",
       "      <td>18</td>\n",
       "      <td>Terrorists and extremists aren't all naturally...</td>\n",
       "      <td>698</td>\n",
       "      <td>TEDxGhent</td>\n",
       "      <td>1466208000</td>\n",
       "      <td>1</td>\n",
       "      <td>Erin Marie Saltman</td>\n",
       "      <td>Erin Marie Saltman: How young people join viol...</td>\n",
       "      <td>1</td>\n",
       "      <td>1504641624</td>\n",
       "      <td>[{'id': 8, 'name': 'Informative', 'count': 64}...</td>\n",
       "      <td>[{'id': 2309, 'hero': 'https://pe.tedcdn.com/i...</td>\n",
       "      <td>Policy researcher</td>\n",
       "      <td>['TEDx', 'security', 'social media', 'terroris...</td>\n",
       "      <td>How young people join violent extremist groups...</td>\n",
       "      <td>https://www.ted.com/talks/erin_marie_saltman_h...</td>\n",
       "      <td>665328</td>\n",
       "    </tr>\n",
       "    <tr>\n",
       "      <th>2532</th>\n",
       "      <td>25</td>\n",
       "      <td>What if you knew what your coworkers really th...</td>\n",
       "      <td>993</td>\n",
       "      <td>TED2017</td>\n",
       "      <td>1492992000</td>\n",
       "      <td>2</td>\n",
       "      <td>Ray Dalio</td>\n",
       "      <td>Ray Dalio: How to build a company where the be...</td>\n",
       "      <td>1</td>\n",
       "      <td>1504709317</td>\n",
       "      <td>[{'id': 25, 'name': 'OK', 'count': 26}, {'id':...</td>\n",
       "      <td>[{'id': 2474, 'hero': 'https://pe.tedcdn.com/i...</td>\n",
       "      <td>Hedge fund chair</td>\n",
       "      <td>['algorithm', 'business', 'collaboration', 'co...</td>\n",
       "      <td>How to build a company where the best ideas win</td>\n",
       "      <td>https://www.ted.com/talks/ray_dalio_how_to_bui...</td>\n",
       "      <td>1070238</td>\n",
       "    </tr>\n",
       "    <tr>\n",
       "      <th>2533</th>\n",
       "      <td>9</td>\n",
       "      <td>In a mind-bending talk that blurs the line bet...</td>\n",
       "      <td>663</td>\n",
       "      <td>TED2017</td>\n",
       "      <td>1492992000</td>\n",
       "      <td>2</td>\n",
       "      <td>Tomás Saraceno</td>\n",
       "      <td>Tomás Saraceno: Would you live in a floating ...</td>\n",
       "      <td>1</td>\n",
       "      <td>1504796048</td>\n",
       "      <td>[{'id': 1, 'name': 'Beautiful', 'count': 29}, ...</td>\n",
       "      <td>[{'id': 1085, 'hero': 'https://pe.tedcdn.com/i...</td>\n",
       "      <td>Artist</td>\n",
       "      <td>['TED en Español', 'art', 'creativity', 'desig...</td>\n",
       "      <td>Would you live in a floating city in the sky?</td>\n",
       "      <td>https://www.ted.com/talks/tomas_saraceno_would...</td>\n",
       "      <td>248411</td>\n",
       "    </tr>\n",
       "    <tr>\n",
       "      <th>2534</th>\n",
       "      <td>2</td>\n",
       "      <td>What the astronauts felt when they saw Earth f...</td>\n",
       "      <td>725</td>\n",
       "      <td>TEDxSkoll</td>\n",
       "      <td>1491523200</td>\n",
       "      <td>1</td>\n",
       "      <td>Benjamin Grant</td>\n",
       "      <td>Benjamin Grant: What it feels like to see Eart...</td>\n",
       "      <td>1</td>\n",
       "      <td>1504814438</td>\n",
       "      <td>[{'id': 10, 'name': 'Inspiring', 'count': 46},...</td>\n",
       "      <td>[{'id': 2511, 'hero': 'https://pe.tedcdn.com/i...</td>\n",
       "      <td>Author</td>\n",
       "      <td>['TEDx', 'art', 'climate change', 'environment...</td>\n",
       "      <td>What it feels like to see Earth from space</td>\n",
       "      <td>https://www.ted.com/talks/benjamin_grant_what_...</td>\n",
       "      <td>646174</td>\n",
       "    </tr>\n",
       "    <tr>\n",
       "      <th>2535</th>\n",
       "      <td>8</td>\n",
       "      <td>Underneath every shiny new megacity, there's o...</td>\n",
       "      <td>723</td>\n",
       "      <td>TEDGlobal 2017</td>\n",
       "      <td>1503792000</td>\n",
       "      <td>4</td>\n",
       "      <td>OluTimehin Adegbeye</td>\n",
       "      <td>OluTimehin Adegbeye: Who belongs in a city?</td>\n",
       "      <td>1</td>\n",
       "      <td>1504882266</td>\n",
       "      <td>[{'id': 3, 'name': 'Courageous', 'count': 77},...</td>\n",
       "      <td>[{'id': 2880, 'hero': 'https://pe.tedcdn.com/i...</td>\n",
       "      <td>Writer, activist</td>\n",
       "      <td>['Africa', 'activism', 'cities', 'government',...</td>\n",
       "      <td>Who belongs in a city?</td>\n",
       "      <td>https://www.ted.com/talks/olutimehin_adegbeye_...</td>\n",
       "      <td>707788</td>\n",
       "    </tr>\n",
       "    <tr>\n",
       "      <th>2536</th>\n",
       "      <td>21</td>\n",
       "      <td>Can you still be friends with someone who does...</td>\n",
       "      <td>865</td>\n",
       "      <td>TEDxMileHigh</td>\n",
       "      <td>1499472000</td>\n",
       "      <td>5</td>\n",
       "      <td>Caitlin Quattromani and Lauran Arledge</td>\n",
       "      <td>Caitlin Quattromani and Lauran Arledge: How ou...</td>\n",
       "      <td>2</td>\n",
       "      <td>1505142060</td>\n",
       "      <td>[{'id': 3, 'name': 'Courageous', 'count': 45},...</td>\n",
       "      <td>[{'id': 2625, 'hero': 'https://pe.tedcdn.com/i...</td>\n",
       "      <td>Marketing leader</td>\n",
       "      <td>['TEDx', 'communication', 'friendship', 'polit...</td>\n",
       "      <td>How our friendship survives our opposing politics</td>\n",
       "      <td>https://www.ted.com/talks/caitlin_quattromani_...</td>\n",
       "      <td>566101</td>\n",
       "    </tr>\n",
       "    <tr>\n",
       "      <th>2537</th>\n",
       "      <td>39</td>\n",
       "      <td>Our culture is obsessed with happiness, but wh...</td>\n",
       "      <td>738</td>\n",
       "      <td>TED2017</td>\n",
       "      <td>1492992000</td>\n",
       "      <td>2</td>\n",
       "      <td>Emily Esfahani Smith</td>\n",
       "      <td>Emily Esfahani Smith: There's more to life tha...</td>\n",
       "      <td>1</td>\n",
       "      <td>1505227376</td>\n",
       "      <td>[{'id': 1, 'name': 'Beautiful', 'count': 484},...</td>\n",
       "      <td>[{'id': 2399, 'hero': 'https://pe.tedcdn.com/i...</td>\n",
       "      <td>Author</td>\n",
       "      <td>['happiness', 'humanity', 'personal growth', '...</td>\n",
       "      <td>There's more to life than being happy</td>\n",
       "      <td>https://www.ted.com/talks/emily_esfahani_smith...</td>\n",
       "      <td>1009069</td>\n",
       "    </tr>\n",
       "    <tr>\n",
       "      <th>2538</th>\n",
       "      <td>7</td>\n",
       "      <td>Each year, one in seven large corporations com...</td>\n",
       "      <td>808</td>\n",
       "      <td>TEDxZurich</td>\n",
       "      <td>1478822400</td>\n",
       "      <td>1</td>\n",
       "      <td>Alexander Wagner</td>\n",
       "      <td>Alexander Wagner: What really motivates people...</td>\n",
       "      <td>1</td>\n",
       "      <td>1505246451</td>\n",
       "      <td>[{'id': 10, 'name': 'Inspiring', 'count': 50},...</td>\n",
       "      <td>[{'id': 1246, 'hero': 'https://pe.tedcdn.com/i...</td>\n",
       "      <td>Economist</td>\n",
       "      <td>['TEDx', 'business', 'corruption', 'economics'...</td>\n",
       "      <td>What really motivates people to be honest in b...</td>\n",
       "      <td>https://www.ted.com/talks/alexander_wagner_wha...</td>\n",
       "      <td>621431</td>\n",
       "    </tr>\n",
       "    <tr>\n",
       "      <th>2539</th>\n",
       "      <td>10</td>\n",
       "      <td>Forget quinoa. Meet fonio, an ancient \"miracle...</td>\n",
       "      <td>934</td>\n",
       "      <td>TED2017</td>\n",
       "      <td>1503792000</td>\n",
       "      <td>2</td>\n",
       "      <td>Pierre Thiam</td>\n",
       "      <td>Pierre Thiam: A forgotten ancient grain that c...</td>\n",
       "      <td>1</td>\n",
       "      <td>1505313942</td>\n",
       "      <td>[{'id': 10, 'name': 'Inspiring', 'count': 73},...</td>\n",
       "      <td>[{'id': 2873, 'hero': 'https://pe.tedcdn.com/i...</td>\n",
       "      <td>Chef</td>\n",
       "      <td>['Africa', 'agriculture', 'farming', 'food', '...</td>\n",
       "      <td>A forgotten ancient grain that could help Afri...</td>\n",
       "      <td>https://www.ted.com/talks/pierre_thiam_a_forgo...</td>\n",
       "      <td>527314</td>\n",
       "    </tr>\n",
       "    <tr>\n",
       "      <th>2540</th>\n",
       "      <td>33</td>\n",
       "      <td>We've heard a lot of rhetoric lately suggestin...</td>\n",
       "      <td>722</td>\n",
       "      <td>TED@UPS</td>\n",
       "      <td>1500508800</td>\n",
       "      <td>4</td>\n",
       "      <td>Augie Picado</td>\n",
       "      <td>Augie Picado: The real reason manufacturing jo...</td>\n",
       "      <td>1</td>\n",
       "      <td>1505400604</td>\n",
       "      <td>[{'id': 1, 'name': 'Beautiful', 'count': 15}, ...</td>\n",
       "      <td>[{'id': 2655, 'hero': 'https://pe.tedcdn.com/i...</td>\n",
       "      <td>Border specialist</td>\n",
       "      <td>['business', 'capitalism', 'collaboration', 'e...</td>\n",
       "      <td>The real reason manufacturing jobs are disappe...</td>\n",
       "      <td>https://www.ted.com/talks/augie_picado_the_rea...</td>\n",
       "      <td>613915</td>\n",
       "    </tr>\n",
       "    <tr>\n",
       "      <th>2541</th>\n",
       "      <td>12</td>\n",
       "      <td>Physics doesn't just happen in a fancy lab -- ...</td>\n",
       "      <td>957</td>\n",
       "      <td>TEDxManchester</td>\n",
       "      <td>1487462400</td>\n",
       "      <td>2</td>\n",
       "      <td>Helen Czerski</td>\n",
       "      <td>Helen Czerski: The fascinating physics of ever...</td>\n",
       "      <td>1</td>\n",
       "      <td>1505419202</td>\n",
       "      <td>[{'id': 11, 'name': 'Longwinded', 'count': 29}...</td>\n",
       "      <td>[{'id': 2491, 'hero': 'https://pe.tedcdn.com/i...</td>\n",
       "      <td>Physicist</td>\n",
       "      <td>['TEDx', 'physics', 'play', 'science']</td>\n",
       "      <td>The fascinating physics of everyday life</td>\n",
       "      <td>https://www.ted.com/talks/helen_czerski_fun_ho...</td>\n",
       "      <td>656791</td>\n",
       "    </tr>\n",
       "    <tr>\n",
       "      <th>2542</th>\n",
       "      <td>3</td>\n",
       "      <td>In the century-old statues that occupy Cape To...</td>\n",
       "      <td>795</td>\n",
       "      <td>TEDGlobal 2017</td>\n",
       "      <td>1503792000</td>\n",
       "      <td>1</td>\n",
       "      <td>Sethembile Msezane</td>\n",
       "      <td>Sethembile Msezane: Living sculptures that sta...</td>\n",
       "      <td>1</td>\n",
       "      <td>1505488093</td>\n",
       "      <td>[{'id': 1, 'name': 'Beautiful', 'count': 41}, ...</td>\n",
       "      <td>[{'id': 2873, 'hero': 'https://pe.tedcdn.com/i...</td>\n",
       "      <td>Artist</td>\n",
       "      <td>['Africa', 'activism', 'art', 'community', 'hi...</td>\n",
       "      <td>Living sculptures that stand for history's truths</td>\n",
       "      <td>https://www.ted.com/talks/sethembile_msezane_l...</td>\n",
       "      <td>542088</td>\n",
       "    </tr>\n",
       "    <tr>\n",
       "      <th>2543</th>\n",
       "      <td>7</td>\n",
       "      <td>What if you could know exactly how food or med...</td>\n",
       "      <td>894</td>\n",
       "      <td>TED2017</td>\n",
       "      <td>1492992000</td>\n",
       "      <td>1</td>\n",
       "      <td>Jun Wang</td>\n",
       "      <td>Jun Wang: How digital DNA could help you make ...</td>\n",
       "      <td>1</td>\n",
       "      <td>1505747687</td>\n",
       "      <td>[{'id': 1, 'name': 'Beautiful', 'count': 13}, ...</td>\n",
       "      <td>[{'id': 2490, 'hero': 'https://pe.tedcdn.com/i...</td>\n",
       "      <td>Genomics researcher</td>\n",
       "      <td>['DNA', 'Human body', 'biology', 'data', 'entr...</td>\n",
       "      <td>How digital DNA could help you make better hea...</td>\n",
       "      <td>https://www.ted.com/talks/jun_wang_how_digital...</td>\n",
       "      <td>534824</td>\n",
       "    </tr>\n",
       "    <tr>\n",
       "      <th>2544</th>\n",
       "      <td>10</td>\n",
       "      <td>How can Africa, the home to some of the larges...</td>\n",
       "      <td>810</td>\n",
       "      <td>TEDGlobal 2017</td>\n",
       "      <td>1503792000</td>\n",
       "      <td>1</td>\n",
       "      <td>Olúfẹ́mi Táíwò</td>\n",
       "      <td>Olúfẹ́mi Táíwò: Why Africa must become a ...</td>\n",
       "      <td>1</td>\n",
       "      <td>1505833613</td>\n",
       "      <td>[{'id': 1, 'name': 'Beautiful', 'count': 9}, {...</td>\n",
       "      <td>[{'id': 2873, 'hero': 'https://pe.tedcdn.com/i...</td>\n",
       "      <td>Historian, philosopher</td>\n",
       "      <td>['Africa', 'agriculture', 'history', 'leadersh...</td>\n",
       "      <td>Why Africa must become a center of knowledge a...</td>\n",
       "      <td>https://www.ted.com/talks/oluf_mi_taiwo_why_af...</td>\n",
       "      <td>418368</td>\n",
       "    </tr>\n",
       "    <tr>\n",
       "      <th>2545</th>\n",
       "      <td>17</td>\n",
       "      <td>Between 2008 and 2016, the United States depor...</td>\n",
       "      <td>476</td>\n",
       "      <td>TED2017</td>\n",
       "      <td>1496707200</td>\n",
       "      <td>4</td>\n",
       "      <td>Duarte Geraldino</td>\n",
       "      <td>Duarte Geraldino: What we're missing in the de...</td>\n",
       "      <td>1</td>\n",
       "      <td>1505851216</td>\n",
       "      <td>[{'id': 3, 'name': 'Courageous', 'count': 24},...</td>\n",
       "      <td>[{'id': 2596, 'hero': 'https://pe.tedcdn.com/i...</td>\n",
       "      <td>Journalist</td>\n",
       "      <td>['TED Residency', 'United States', 'community'...</td>\n",
       "      <td>What we're missing in the debate about immigra...</td>\n",
       "      <td>https://www.ted.com/talks/duarte_geraldino_wha...</td>\n",
       "      <td>450430</td>\n",
       "    </tr>\n",
       "    <tr>\n",
       "      <th>2546</th>\n",
       "      <td>6</td>\n",
       "      <td>How can you study Mars without a spaceship? He...</td>\n",
       "      <td>290</td>\n",
       "      <td>TED2017</td>\n",
       "      <td>1492992000</td>\n",
       "      <td>3</td>\n",
       "      <td>Armando Azua-Bustos</td>\n",
       "      <td>Armando Azua-Bustos: The most Martian place on...</td>\n",
       "      <td>1</td>\n",
       "      <td>1505919737</td>\n",
       "      <td>[{'id': 22, 'name': 'Fascinating', 'count': 32...</td>\n",
       "      <td>[{'id': 2491, 'hero': 'https://pe.tedcdn.com/i...</td>\n",
       "      <td>Astrobiologist</td>\n",
       "      <td>['Mars', 'South America', 'TED Fellows', 'astr...</td>\n",
       "      <td>The most Martian place on Earth</td>\n",
       "      <td>https://www.ted.com/talks/armando_azua_bustos_...</td>\n",
       "      <td>417470</td>\n",
       "    </tr>\n",
       "    <tr>\n",
       "      <th>2547</th>\n",
       "      <td>10</td>\n",
       "      <td>Science fiction visions of the future show us ...</td>\n",
       "      <td>651</td>\n",
       "      <td>TED2017</td>\n",
       "      <td>1492992000</td>\n",
       "      <td>1</td>\n",
       "      <td>Radhika Nagpal</td>\n",
       "      <td>Radhika Nagpal: What intelligent machines can ...</td>\n",
       "      <td>1</td>\n",
       "      <td>1506006095</td>\n",
       "      <td>[{'id': 1, 'name': 'Beautiful', 'count': 14}, ...</td>\n",
       "      <td>[{'id': 2346, 'hero': 'https://pe.tedcdn.com/i...</td>\n",
       "      <td>Robotics engineer</td>\n",
       "      <td>['AI', 'ants', 'fish', 'future', 'innovation',...</td>\n",
       "      <td>What intelligent machines can learn from a sch...</td>\n",
       "      <td>https://www.ted.com/talks/radhika_nagpal_what_...</td>\n",
       "      <td>375647</td>\n",
       "    </tr>\n",
       "    <tr>\n",
       "      <th>2548</th>\n",
       "      <td>32</td>\n",
       "      <td>In an unmissable talk about race and politics ...</td>\n",
       "      <td>1100</td>\n",
       "      <td>TEDxMileHigh</td>\n",
       "      <td>1499472000</td>\n",
       "      <td>1</td>\n",
       "      <td>Theo E.J. Wilson</td>\n",
       "      <td>Theo E.J. Wilson: A black man goes undercover ...</td>\n",
       "      <td>1</td>\n",
       "      <td>1506024042</td>\n",
       "      <td>[{'id': 11, 'name': 'Longwinded', 'count': 3},...</td>\n",
       "      <td>[{'id': 2512, 'hero': 'https://pe.tedcdn.com/i...</td>\n",
       "      <td>Public intellectual</td>\n",
       "      <td>['Internet', 'TEDx', 'United States', 'communi...</td>\n",
       "      <td>A black man goes undercover in the alt-right</td>\n",
       "      <td>https://www.ted.com/talks/theo_e_j_wilson_a_bl...</td>\n",
       "      <td>419309</td>\n",
       "    </tr>\n",
       "    <tr>\n",
       "      <th>2549</th>\n",
       "      <td>8</td>\n",
       "      <td>With more than half of the world population li...</td>\n",
       "      <td>519</td>\n",
       "      <td>TED2017</td>\n",
       "      <td>1492992000</td>\n",
       "      <td>1</td>\n",
       "      <td>Karoliina Korppoo</td>\n",
       "      <td>Karoliina Korppoo: How a video game might help...</td>\n",
       "      <td>1</td>\n",
       "      <td>1506092422</td>\n",
       "      <td>[{'id': 21, 'name': 'Unconvincing', 'count': 2...</td>\n",
       "      <td>[{'id': 2682, 'hero': 'https://pe.tedcdn.com/i...</td>\n",
       "      <td>Game designer</td>\n",
       "      <td>['cities', 'design', 'future', 'infrastructure...</td>\n",
       "      <td>How a video game might help us build better ci...</td>\n",
       "      <td>https://www.ted.com/talks/karoliina_korppoo_ho...</td>\n",
       "      <td>391721</td>\n",
       "    </tr>\n",
       "  </tbody>\n",
       "</table>\n",
       "<p>2550 rows × 17 columns</p>\n",
       "</div>"
      ],
      "text/plain": [
       "      comments                                        description  duration  \\\n",
       "0         4553  Sir Ken Robinson makes an entertaining and pro...      1164   \n",
       "1          265  With the same humor and humanity he exuded in ...       977   \n",
       "2          124  New York Times columnist David Pogue takes aim...      1286   \n",
       "3          200  In an emotionally charged talk, MacArthur-winn...      1116   \n",
       "4          593  You've never seen data presented like this. Wi...      1190   \n",
       "5          672  Tony Robbins discusses the \"invisible forces\" ...      1305   \n",
       "6          919  When two young Mormon missionaries knock on Ju...       992   \n",
       "7           46  Architect Joshua Prince-Ramus takes the audien...      1198   \n",
       "8          852  Philosopher Dan Dennett calls for religion -- ...      1485   \n",
       "9          900  Pastor Rick Warren, author of \"The Purpose-Dri...      1262   \n",
       "10          79  Accepting his 2006 TED Prize, Cameron Sinclair...      1414   \n",
       "11          55  Jehane Noujaim unveils her 2006 TED Prize wish...      1538   \n",
       "12          71  Accepting the 2006 TED Prize, Dr. Larry Brilli...      1550   \n",
       "13         242  Jeff Han shows off a cheap, scalable multi-tou...       527   \n",
       "14          99  Nicholas Negroponte, founder of the MIT Media ...      1057   \n",
       "15         325  Violinist Sirena Huang gives a technically bri...      1481   \n",
       "16         305  Pianist and composer Jennifer Lin gives a magi...      1445   \n",
       "17          88  Fumes from indoor cooking fires kill more than...       906   \n",
       "18         163  Designer Ross Lovegrove expounds his philosoph...      1170   \n",
       "19          84  Jimmy Wales recalls how he assembled \"a ragtag...      1201   \n",
       "20         108  In 2006, open-learning visionary Richard Baran...      1114   \n",
       "21         185  Performer and web toymaker Ze Frank delivers a...      1136   \n",
       "22          50  The founding mother of the blog revolution, Mo...      1006   \n",
       "23         556  Anthropologist Helen Fisher takes on a tricky ...      1407   \n",
       "24         117  Eve Ensler, creator of \"The Vagina Monologues,...      1225   \n",
       "25         184  Legendary scientist David Deutsch puts theoret...      1140   \n",
       "26         507  Biologist Richard Dawkins makes a case for \"th...      1316   \n",
       "27          95  \"Freakonomics\" author Steven Levitt presents n...      1275   \n",
       "28         355  \"Tipping Point\" author Malcolm Gladwell gets i...      1050   \n",
       "29         970  Dan Gilbert, author of \"Stumbling on Happiness...      1276   \n",
       "...        ...                                                ...       ...   \n",
       "2520        81  Meet the \"ems\" -- machines that emulate human ...       736   \n",
       "2521        13  Your cells are coated with sugars that store i...       685   \n",
       "2522        12  Every artist has a name, and every artist has ...       530   \n",
       "2523        20  Another economic reality is possible -- one th...       747   \n",
       "2524         9  We're so used to narratives out of Africa bein...       310   \n",
       "2525        18  Could it be wrong to help children in need by ...       791   \n",
       "2526        39  Meet Todai Robot, an AI project that performed...       817   \n",
       "2527        17  What's stopping the American government from r...       865   \n",
       "2528         3  Digital archaeologist Chance Coughenour is usi...       717   \n",
       "2529        45  We all have origin stories and identity myths,...      1156   \n",
       "2530        12  Daan Roosegaarde uses technology and creative ...       738   \n",
       "2531        18  Terrorists and extremists aren't all naturally...       698   \n",
       "2532        25  What if you knew what your coworkers really th...       993   \n",
       "2533         9  In a mind-bending talk that blurs the line bet...       663   \n",
       "2534         2  What the astronauts felt when they saw Earth f...       725   \n",
       "2535         8  Underneath every shiny new megacity, there's o...       723   \n",
       "2536        21  Can you still be friends with someone who does...       865   \n",
       "2537        39  Our culture is obsessed with happiness, but wh...       738   \n",
       "2538         7  Each year, one in seven large corporations com...       808   \n",
       "2539        10  Forget quinoa. Meet fonio, an ancient \"miracle...       934   \n",
       "2540        33  We've heard a lot of rhetoric lately suggestin...       722   \n",
       "2541        12  Physics doesn't just happen in a fancy lab -- ...       957   \n",
       "2542         3  In the century-old statues that occupy Cape To...       795   \n",
       "2543         7  What if you could know exactly how food or med...       894   \n",
       "2544        10  How can Africa, the home to some of the larges...       810   \n",
       "2545        17  Between 2008 and 2016, the United States depor...       476   \n",
       "2546         6  How can you study Mars without a spaceship? He...       290   \n",
       "2547        10  Science fiction visions of the future show us ...       651   \n",
       "2548        32  In an unmissable talk about race and politics ...      1100   \n",
       "2549         8  With more than half of the world population li...       519   \n",
       "\n",
       "               event   film_date  languages  \\\n",
       "0            TED2006  1140825600         60   \n",
       "1            TED2006  1140825600         43   \n",
       "2            TED2006  1140739200         26   \n",
       "3            TED2006  1140912000         35   \n",
       "4            TED2006  1140566400         48   \n",
       "5            TED2006  1138838400         36   \n",
       "6            TED2006  1140739200         31   \n",
       "7            TED2006  1140652800         19   \n",
       "8            TED2006  1138838400         32   \n",
       "9            TED2006  1140825600         31   \n",
       "10           TED2006  1140912000         27   \n",
       "11           TED2006  1140912000         20   \n",
       "12           TED2006  1140652800         24   \n",
       "13           TED2006  1139184000         27   \n",
       "14           TED2006  1140652800         25   \n",
       "15           TED2006  1140652800         31   \n",
       "16           TED2004  1077753600         32   \n",
       "17           TED2006  1140739200         27   \n",
       "18           TED2005  1109289600         22   \n",
       "19    TEDGlobal 2005  1121299200         32   \n",
       "20           TED2006  1140652800         27   \n",
       "21           TED2004  1077580800         26   \n",
       "22           TED2006  1140652800         20   \n",
       "23           TED2006  1140739200         33   \n",
       "24           TED2004  1075852800         23   \n",
       "25    TEDGlobal 2005  1121299200         29   \n",
       "26    TEDGlobal 2005  1120694400         36   \n",
       "27           TED2004  1077840000         25   \n",
       "28           TED2004  1077753600         37   \n",
       "29           TED2004  1075680000         43   \n",
       "...              ...         ...        ...   \n",
       "2520         TED2017  1492992000          2   \n",
       "2521    TEDxStanford  1461456000          7   \n",
       "2522         TED2017  1492992000          5   \n",
       "2523    TEDxCrenshaw  1475884800          3   \n",
       "2524         TED2017  1492992000         12   \n",
       "2525      TEDxSydney  1464048000          5   \n",
       "2526         TED2017  1492992000          6   \n",
       "2527    TEDxStanford  1492905600          3   \n",
       "2528     TEDxHamburg  1465344000          5   \n",
       "2529      TEDxExeter  1429833600          1   \n",
       "2530         TED2017  1492992000          3   \n",
       "2531       TEDxGhent  1466208000          1   \n",
       "2532         TED2017  1492992000          2   \n",
       "2533         TED2017  1492992000          2   \n",
       "2534       TEDxSkoll  1491523200          1   \n",
       "2535  TEDGlobal 2017  1503792000          4   \n",
       "2536    TEDxMileHigh  1499472000          5   \n",
       "2537         TED2017  1492992000          2   \n",
       "2538      TEDxZurich  1478822400          1   \n",
       "2539         TED2017  1503792000          2   \n",
       "2540         TED@UPS  1500508800          4   \n",
       "2541  TEDxManchester  1487462400          2   \n",
       "2542  TEDGlobal 2017  1503792000          1   \n",
       "2543         TED2017  1492992000          1   \n",
       "2544  TEDGlobal 2017  1503792000          1   \n",
       "2545         TED2017  1496707200          4   \n",
       "2546         TED2017  1492992000          3   \n",
       "2547         TED2017  1492992000          1   \n",
       "2548    TEDxMileHigh  1499472000          1   \n",
       "2549         TED2017  1492992000          1   \n",
       "\n",
       "                                main_speaker  \\\n",
       "0                               Ken Robinson   \n",
       "1                                    Al Gore   \n",
       "2                                David Pogue   \n",
       "3                              Majora Carter   \n",
       "4                               Hans Rosling   \n",
       "5                               Tony Robbins   \n",
       "6                              Julia Sweeney   \n",
       "7                        Joshua Prince-Ramus   \n",
       "8                                Dan Dennett   \n",
       "9                                Rick Warren   \n",
       "10                          Cameron Sinclair   \n",
       "11                            Jehane Noujaim   \n",
       "12                           Larry Brilliant   \n",
       "13                                  Jeff Han   \n",
       "14                       Nicholas Negroponte   \n",
       "15                              Sirena Huang   \n",
       "16                              Jennifer Lin   \n",
       "17                                 Amy Smith   \n",
       "18                            Ross Lovegrove   \n",
       "19                               Jimmy Wales   \n",
       "20                          Richard Baraniuk   \n",
       "21                                  Ze Frank   \n",
       "22                                Mena Trott   \n",
       "23                              Helen Fisher   \n",
       "24                                Eve Ensler   \n",
       "25                             David Deutsch   \n",
       "26                           Richard Dawkins   \n",
       "27                             Steven Levitt   \n",
       "28                          Malcolm Gladwell   \n",
       "29                               Dan Gilbert   \n",
       "...                                      ...   \n",
       "2520                            Robin Hanson   \n",
       "2521                        Carolyn Bertozzi   \n",
       "2522                          Laolu Senbanjo   \n",
       "2523                               Niki Okuk   \n",
       "2524                            Wanuri Kahiu   \n",
       "2525                            Tara Winkler   \n",
       "2526                             Noriko Arai   \n",
       "2527                        Jennifer Granick   \n",
       "2528                       Chance Coughenour   \n",
       "2529                            Chetan Bhatt   \n",
       "2530                        Daan Roosegaarde   \n",
       "2531                      Erin Marie Saltman   \n",
       "2532                               Ray Dalio   \n",
       "2533                         Tomás Saraceno   \n",
       "2534                          Benjamin Grant   \n",
       "2535                     OluTimehin Adegbeye   \n",
       "2536  Caitlin Quattromani and Lauran Arledge   \n",
       "2537                    Emily Esfahani Smith   \n",
       "2538                        Alexander Wagner   \n",
       "2539                            Pierre Thiam   \n",
       "2540                            Augie Picado   \n",
       "2541                           Helen Czerski   \n",
       "2542                      Sethembile Msezane   \n",
       "2543                                Jun Wang   \n",
       "2544                     Olúfẹ́mi Táíwò   \n",
       "2545                        Duarte Geraldino   \n",
       "2546                     Armando Azua-Bustos   \n",
       "2547                          Radhika Nagpal   \n",
       "2548                        Theo E.J. Wilson   \n",
       "2549                       Karoliina Korppoo   \n",
       "\n",
       "                                                   name  num_speaker  \\\n",
       "0             Ken Robinson: Do schools kill creativity?            1   \n",
       "1                  Al Gore: Averting the climate crisis            1   \n",
       "2                         David Pogue: Simplicity sells            1   \n",
       "3                    Majora Carter: Greening the ghetto            1   \n",
       "4         Hans Rosling: The best stats you've ever seen            1   \n",
       "5                    Tony Robbins: Why we do what we do            1   \n",
       "6                      Julia Sweeney: Letting go of God            1   \n",
       "7     Joshua Prince-Ramus: Behind the design of Seat...            1   \n",
       "8     Dan Dennett: Let's teach religion -- all relig...            1   \n",
       "9                        Rick Warren: A life of purpose            1   \n",
       "10    Cameron Sinclair: My wish: A call for open-sou...            1   \n",
       "11        Jehane Noujaim: My wish: A global day of film            1   \n",
       "12     Larry Brilliant: My wish: Help me stop pandemics            1   \n",
       "13    Jeff Han: The radical promise of the multi-tou...            1   \n",
       "14            Nicholas Negroponte: One Laptop per Child            1   \n",
       "15        Sirena Huang: An 11-year-old's magical violin            1   \n",
       "16          Jennifer Lin: Improvising on piano, aged 14            1   \n",
       "17             Amy Smith: Simple designs to save a life            1   \n",
       "18    Ross Lovegrove: Organic design, inspired by na...            1   \n",
       "19                  Jimmy Wales: The birth of Wikipedia            1   \n",
       "20    Richard Baraniuk: The birth of the open-source...            1   \n",
       "21                            Ze Frank: Nerdcore comedy            1   \n",
       "22    Mena Trott: Meet the founder of the blog revol...            1   \n",
       "23              Helen Fisher: Why we love, why we cheat            1   \n",
       "24               Eve Ensler: Happiness in body and soul            1   \n",
       "25    David Deutsch: Chemical scum that dream of dis...            1   \n",
       "26    Richard Dawkins: Why the universe seems so str...            1   \n",
       "27     Steven Levitt: The freakonomics of crack dealing            1   \n",
       "28    Malcolm Gladwell: Choice, happiness and spaghe...            1   \n",
       "29     Dan Gilbert: The surprising science of happiness            1   \n",
       "...                                                 ...          ...   \n",
       "2520  Robin Hanson: What would happen if we upload o...            1   \n",
       "2521  Carolyn Bertozzi: What the sugar coating on yo...            1   \n",
       "2522        Laolu Senbanjo: \"The Sacred Art of the Ori\"            1   \n",
       "2523  Niki Okuk: When workers own companies, the eco...            1   \n",
       "2524  Wanuri Kahiu: Fun, fierce and fantastical Afri...            1   \n",
       "2525  Tara Winkler: Why we need to end the era of or...            1   \n",
       "2526  Noriko Arai: Can a robot pass a university ent...            1   \n",
       "2527  Jennifer Granick: How the US government spies ...            1   \n",
       "2528  Chance Coughenour: How your pictures can help ...            1   \n",
       "2529  Chetan Bhatt: Dare to refuse the origin myths ...            1   \n",
       "2530  Daan Roosegaarde: A smog vacuum cleaner and ot...            1   \n",
       "2531  Erin Marie Saltman: How young people join viol...            1   \n",
       "2532  Ray Dalio: How to build a company where the be...            1   \n",
       "2533  Tomás Saraceno: Would you live in a floating ...            1   \n",
       "2534  Benjamin Grant: What it feels like to see Eart...            1   \n",
       "2535        OluTimehin Adegbeye: Who belongs in a city?            1   \n",
       "2536  Caitlin Quattromani and Lauran Arledge: How ou...            2   \n",
       "2537  Emily Esfahani Smith: There's more to life tha...            1   \n",
       "2538  Alexander Wagner: What really motivates people...            1   \n",
       "2539  Pierre Thiam: A forgotten ancient grain that c...            1   \n",
       "2540  Augie Picado: The real reason manufacturing jo...            1   \n",
       "2541  Helen Czerski: The fascinating physics of ever...            1   \n",
       "2542  Sethembile Msezane: Living sculptures that sta...            1   \n",
       "2543  Jun Wang: How digital DNA could help you make ...            1   \n",
       "2544  Olúfẹ́mi Táíwò: Why Africa must become a ...            1   \n",
       "2545  Duarte Geraldino: What we're missing in the de...            1   \n",
       "2546  Armando Azua-Bustos: The most Martian place on...            1   \n",
       "2547  Radhika Nagpal: What intelligent machines can ...            1   \n",
       "2548  Theo E.J. Wilson: A black man goes undercover ...            1   \n",
       "2549  Karoliina Korppoo: How a video game might help...            1   \n",
       "\n",
       "      published_date                                            ratings  \\\n",
       "0         1151367060  [{'id': 7, 'name': 'Funny', 'count': 19645}, {...   \n",
       "1         1151367060  [{'id': 7, 'name': 'Funny', 'count': 544}, {'i...   \n",
       "2         1151367060  [{'id': 7, 'name': 'Funny', 'count': 964}, {'i...   \n",
       "3         1151367060  [{'id': 3, 'name': 'Courageous', 'count': 760}...   \n",
       "4         1151440680  [{'id': 9, 'name': 'Ingenious', 'count': 3202}...   \n",
       "5         1151440680  [{'id': 7, 'name': 'Funny', 'count': 1102}, {'...   \n",
       "6         1152490260  [{'id': 3, 'name': 'Courageous', 'count': 477}...   \n",
       "7         1152490260  [{'id': 9, 'name': 'Ingenious', 'count': 195},...   \n",
       "8         1153181460  [{'id': 3, 'name': 'Courageous', 'count': 562}...   \n",
       "9         1153181460  [{'id': 21, 'name': 'Unconvincing', 'count': 8...   \n",
       "10        1153786260  [{'id': 3, 'name': 'Courageous', 'count': 169}...   \n",
       "11        1153786260  [{'id': 1, 'name': 'Beautiful', 'count': 70}, ...   \n",
       "12        1153786260  [{'id': 8, 'name': 'Informative', 'count': 188...   \n",
       "13        1154391060  [{'id': 9, 'name': 'Ingenious', 'count': 1014}...   \n",
       "14        1154391060  [{'id': 3, 'name': 'Courageous', 'count': 83},...   \n",
       "15        1154995860  [{'id': 1, 'name': 'Beautiful', 'count': 1671}...   \n",
       "16        1154995860  [{'id': 1, 'name': 'Beautiful', 'count': 1107}...   \n",
       "17        1155600660  [{'id': 9, 'name': 'Ingenious', 'count': 321},...   \n",
       "18        1155600660  [{'id': 1, 'name': 'Beautiful', 'count': 259},...   \n",
       "19        1156119060  [{'id': 1, 'name': 'Beautiful', 'count': 104},...   \n",
       "20        1156119060  [{'id': 9, 'name': 'Ingenious', 'count': 117},...   \n",
       "21        1156464660  [{'id': 7, 'name': 'Funny', 'count': 2799}, {'...   \n",
       "22        1156464660  [{'id': 8, 'name': 'Informative', 'count': 82}...   \n",
       "23        1157501460  [{'id': 7, 'name': 'Funny', 'count': 780}, {'i...   \n",
       "24        1157501460  [{'id': 3, 'name': 'Courageous', 'count': 654}...   \n",
       "25        1158019860  [{'id': 9, 'name': 'Ingenious', 'count': 269},...   \n",
       "26        1158019860  [{'id': 1, 'name': 'Beautiful', 'count': 333},...   \n",
       "27        1158624660  [{'id': 7, 'name': 'Funny', 'count': 485}, {'i...   \n",
       "28        1158624660  [{'id': 7, 'name': 'Funny', 'count': 1668}, {'...   \n",
       "29        1159229460  [{'id': 7, 'name': 'Funny', 'count': 1728}, {'...   \n",
       "...              ...                                                ...   \n",
       "2520      1503586288  [{'id': 23, 'name': 'Jaw-dropping', 'count': 2...   \n",
       "2521      1503604806  [{'id': 8, 'name': 'Informative', 'count': 146...   \n",
       "2522      1503673077  [{'id': 1, 'name': 'Beautiful', 'count': 85}, ...   \n",
       "2523      1503932075  [{'id': 3, 'name': 'Courageous', 'count': 46},...   \n",
       "2524      1504017396  [{'id': 24, 'name': 'Persuasive', 'count': 19}...   \n",
       "2525      1504036846  [{'id': 10, 'name': 'Inspiring', 'count': 119}...   \n",
       "2526      1504105251  [{'id': 22, 'name': 'Fascinating', 'count': 11...   \n",
       "2527      1504190944  [{'id': 3, 'name': 'Courageous', 'count': 63},...   \n",
       "2528      1504209631  [{'id': 9, 'name': 'Ingenious', 'count': 16}, ...   \n",
       "2529      1504276143  [{'id': 9, 'name': 'Ingenious', 'count': 24}, ...   \n",
       "2530      1504623555  [{'id': 2, 'name': 'Confusing', 'count': 2}, {...   \n",
       "2531      1504641624  [{'id': 8, 'name': 'Informative', 'count': 64}...   \n",
       "2532      1504709317  [{'id': 25, 'name': 'OK', 'count': 26}, {'id':...   \n",
       "2533      1504796048  [{'id': 1, 'name': 'Beautiful', 'count': 29}, ...   \n",
       "2534      1504814438  [{'id': 10, 'name': 'Inspiring', 'count': 46},...   \n",
       "2535      1504882266  [{'id': 3, 'name': 'Courageous', 'count': 77},...   \n",
       "2536      1505142060  [{'id': 3, 'name': 'Courageous', 'count': 45},...   \n",
       "2537      1505227376  [{'id': 1, 'name': 'Beautiful', 'count': 484},...   \n",
       "2538      1505246451  [{'id': 10, 'name': 'Inspiring', 'count': 50},...   \n",
       "2539      1505313942  [{'id': 10, 'name': 'Inspiring', 'count': 73},...   \n",
       "2540      1505400604  [{'id': 1, 'name': 'Beautiful', 'count': 15}, ...   \n",
       "2541      1505419202  [{'id': 11, 'name': 'Longwinded', 'count': 29}...   \n",
       "2542      1505488093  [{'id': 1, 'name': 'Beautiful', 'count': 41}, ...   \n",
       "2543      1505747687  [{'id': 1, 'name': 'Beautiful', 'count': 13}, ...   \n",
       "2544      1505833613  [{'id': 1, 'name': 'Beautiful', 'count': 9}, {...   \n",
       "2545      1505851216  [{'id': 3, 'name': 'Courageous', 'count': 24},...   \n",
       "2546      1505919737  [{'id': 22, 'name': 'Fascinating', 'count': 32...   \n",
       "2547      1506006095  [{'id': 1, 'name': 'Beautiful', 'count': 14}, ...   \n",
       "2548      1506024042  [{'id': 11, 'name': 'Longwinded', 'count': 3},...   \n",
       "2549      1506092422  [{'id': 21, 'name': 'Unconvincing', 'count': 2...   \n",
       "\n",
       "                                          related_talks  \\\n",
       "0     [{'id': 865, 'hero': 'https://pe.tedcdn.com/im...   \n",
       "1     [{'id': 243, 'hero': 'https://pe.tedcdn.com/im...   \n",
       "2     [{'id': 1725, 'hero': 'https://pe.tedcdn.com/i...   \n",
       "3     [{'id': 1041, 'hero': 'https://pe.tedcdn.com/i...   \n",
       "4     [{'id': 2056, 'hero': 'https://pe.tedcdn.com/i...   \n",
       "5     [{'id': 229, 'hero': 'https://pe.tedcdn.com/im...   \n",
       "6     [{'id': 22, 'hero': 'https://pe.tedcdn.com/ima...   \n",
       "7     [{'id': 750, 'hero': 'https://pe.tedcdn.com/im...   \n",
       "8     [{'id': 71, 'hero': 'https://pe.tedcdn.com/ima...   \n",
       "9     [{'id': 94, 'hero': 'https://pe.tedcdn.com/ima...   \n",
       "10    [{'id': 1749, 'hero': 'https://pe.tedcdn.com/i...   \n",
       "11    [{'id': 2228, 'hero': 'https://pe.tedcdn.com/i...   \n",
       "12    [{'id': 1153, 'hero': 'https://pe.tedcdn.com/i...   \n",
       "13    [{'id': 685, 'hero': 'https://pe.tedcdn.com/im...   \n",
       "14    [{'id': 2043, 'hero': 'https://pe.tedcdn.com/i...   \n",
       "15    [{'id': 2273, 'hero': 'https://pe.tedcdn.com/i...   \n",
       "16    [{'id': 2273, 'hero': 'https://pe.tedcdn.com/i...   \n",
       "17    [{'id': 1561, 'hero': 'https://pe.tedcdn.com/i...   \n",
       "18    [{'id': 2251, 'hero': 'https://pe.tedcdn.com/i...   \n",
       "19    [{'id': 640, 'hero': 'https://pe.tedcdn.com/im...   \n",
       "20    [{'id': 1913, 'hero': 'https://pe.tedcdn.com/i...   \n",
       "21    [{'id': 148, 'hero': 'https://pe.tedcdn.com/im...   \n",
       "22    [{'id': 144, 'hero': 'https://pe.tedcdn.com/im...   \n",
       "23    [{'id': 307, 'hero': 'https://pe.tedcdn.com/im...   \n",
       "24    [{'id': 217, 'hero': 'https://pe.tedcdn.com/im...   \n",
       "25    [{'id': 2237, 'hero': 'https://pe.tedcdn.com/i...   \n",
       "26    [{'id': 1276, 'hero': 'https://pe.tedcdn.com/i...   \n",
       "27    [{'id': 20, 'hero': 'https://pe.tedcdn.com/ima...   \n",
       "28    [{'id': 93, 'hero': 'https://pe.tedcdn.com/ima...   \n",
       "29    [{'id': 944, 'hero': 'https://pe.tedcdn.com/im...   \n",
       "...                                                 ...   \n",
       "2520  [{'id': 2592, 'hero': 'https://pe.tedcdn.com/i...   \n",
       "2521  [{'id': 2504, 'hero': 'https://pe.tedcdn.com/i...   \n",
       "2522  [{'id': 2826, 'hero': 'https://pe.tedcdn.com/i...   \n",
       "2523  [{'id': 1041, 'hero': 'https://pe.tedcdn.com/i...   \n",
       "2524  [{'id': 652, 'hero': 'https://pe.tedcdn.com/im...   \n",
       "2525  [{'id': 1596, 'hero': 'https://pe.tedcdn.com/i...   \n",
       "2526  [{'id': 2606, 'hero': 'https://pe.tedcdn.com/i...   \n",
       "2527  [{'id': 2567, 'hero': 'https://pe.tedcdn.com/i...   \n",
       "2528  [{'id': 2673, 'hero': 'https://pe.tedcdn.com/i...   \n",
       "2529  [{'id': 2811, 'hero': 'https://pe.tedcdn.com/i...   \n",
       "2530  [{'id': 2774, 'hero': 'https://pe.tedcdn.com/i...   \n",
       "2531  [{'id': 2309, 'hero': 'https://pe.tedcdn.com/i...   \n",
       "2532  [{'id': 2474, 'hero': 'https://pe.tedcdn.com/i...   \n",
       "2533  [{'id': 1085, 'hero': 'https://pe.tedcdn.com/i...   \n",
       "2534  [{'id': 2511, 'hero': 'https://pe.tedcdn.com/i...   \n",
       "2535  [{'id': 2880, 'hero': 'https://pe.tedcdn.com/i...   \n",
       "2536  [{'id': 2625, 'hero': 'https://pe.tedcdn.com/i...   \n",
       "2537  [{'id': 2399, 'hero': 'https://pe.tedcdn.com/i...   \n",
       "2538  [{'id': 1246, 'hero': 'https://pe.tedcdn.com/i...   \n",
       "2539  [{'id': 2873, 'hero': 'https://pe.tedcdn.com/i...   \n",
       "2540  [{'id': 2655, 'hero': 'https://pe.tedcdn.com/i...   \n",
       "2541  [{'id': 2491, 'hero': 'https://pe.tedcdn.com/i...   \n",
       "2542  [{'id': 2873, 'hero': 'https://pe.tedcdn.com/i...   \n",
       "2543  [{'id': 2490, 'hero': 'https://pe.tedcdn.com/i...   \n",
       "2544  [{'id': 2873, 'hero': 'https://pe.tedcdn.com/i...   \n",
       "2545  [{'id': 2596, 'hero': 'https://pe.tedcdn.com/i...   \n",
       "2546  [{'id': 2491, 'hero': 'https://pe.tedcdn.com/i...   \n",
       "2547  [{'id': 2346, 'hero': 'https://pe.tedcdn.com/i...   \n",
       "2548  [{'id': 2512, 'hero': 'https://pe.tedcdn.com/i...   \n",
       "2549  [{'id': 2682, 'hero': 'https://pe.tedcdn.com/i...   \n",
       "\n",
       "                               speaker_occupation  \\\n",
       "0                                 Author/educator   \n",
       "1                                Climate advocate   \n",
       "2                            Technology columnist   \n",
       "3              Activist for environmental justice   \n",
       "4            Global health expert; data visionary   \n",
       "5     Life coach; expert in leadership psychology   \n",
       "6                     Actor, comedian, playwright   \n",
       "7                                       Architect   \n",
       "8                Philosopher, cognitive scientist   \n",
       "9                                  Pastor, author   \n",
       "10          Co-founder, Architecture for Humanity   \n",
       "11                                      Filmmaker   \n",
       "12                 Epidemiologist, philanthropist   \n",
       "13              Human-computer interface designer   \n",
       "14                                 Tech visionary   \n",
       "15                                      Violinist   \n",
       "16                              Pianist, composer   \n",
       "17                             inventor, engineer   \n",
       "18                            Industrial designer   \n",
       "19                           Founder of Wikipedia   \n",
       "20                            Education visionary   \n",
       "21                           Humorist, web artist   \n",
       "22                  Blogger; cofounder, Six Apart   \n",
       "23                 Anthropologist, expert on love   \n",
       "24                           Playwright, activist   \n",
       "25                              Quantum physicist   \n",
       "26                         Evolutionary biologist   \n",
       "27                                      Economist   \n",
       "28                                         Writer   \n",
       "29                 Psychologist; happiness expert   \n",
       "...                                           ...   \n",
       "2520                   Futurist, social scientist   \n",
       "2521                           Chemical biologist   \n",
       "2522           Artist, musician, lawyer, activist   \n",
       "2523                                 Entrepreneur   \n",
       "2524                            Filmmaker, writer   \n",
       "2525   Child protection leader, activist, author    \n",
       "2526                                    AI expert   \n",
       "2527       Surveillance and cybersecurity counsel   \n",
       "2528                        Digital archaeologist   \n",
       "2529           Sociologist, human rights activist   \n",
       "2530                                       Artist   \n",
       "2531                            Policy researcher   \n",
       "2532                             Hedge fund chair   \n",
       "2533                                       Artist   \n",
       "2534                                       Author   \n",
       "2535                             Writer, activist   \n",
       "2536                             Marketing leader   \n",
       "2537                                       Author   \n",
       "2538                                    Economist   \n",
       "2539                                         Chef   \n",
       "2540                            Border specialist   \n",
       "2541                                    Physicist   \n",
       "2542                                       Artist   \n",
       "2543                          Genomics researcher   \n",
       "2544                       Historian, philosopher   \n",
       "2545                                   Journalist   \n",
       "2546                               Astrobiologist   \n",
       "2547                            Robotics engineer   \n",
       "2548                          Public intellectual   \n",
       "2549                                Game designer   \n",
       "\n",
       "                                                   tags  \\\n",
       "0     ['children', 'creativity', 'culture', 'dance',...   \n",
       "1     ['alternative energy', 'cars', 'climate change...   \n",
       "2     ['computers', 'entertainment', 'interface desi...   \n",
       "3     ['MacArthur grant', 'activism', 'business', 'c...   \n",
       "4     ['Africa', 'Asia', 'Google', 'demo', 'economic...   \n",
       "5     ['business', 'culture', 'entertainment', 'goal...   \n",
       "6     ['Christianity', 'God', 'atheism', 'comedy', '...   \n",
       "7     ['architecture', 'collaboration', 'culture', '...   \n",
       "8     ['God', 'TED Brain Trust', 'atheism', 'brain',...   \n",
       "9     ['Christianity', 'God', 'culture', 'happiness'...   \n",
       "10    ['activism', 'architecture', 'collaboration', ...   \n",
       "11    ['TED Prize', 'art', 'culture', 'entertainment...   \n",
       "12    ['TED Prize', 'collaboration', 'disease', 'ebo...   \n",
       "13    ['demo', 'design', 'interface design', 'techno...   \n",
       "14    ['children', 'design', 'education', 'entrepren...   \n",
       "15    ['entertainment', 'music', 'performance', 'vio...   \n",
       "16    ['creativity', 'entertainment', 'music', 'perf...   \n",
       "17    ['MacArthur grant', 'alternative energy', 'des...   \n",
       "18    ['DNA', 'biology', 'creativity', 'design', 'in...   \n",
       "19    ['business', 'collaboration', 'culture', 'inve...   \n",
       "20    ['business', 'collaboration', 'culture', 'glob...   \n",
       "21    ['collaboration', 'comedy', 'community', 'cult...   \n",
       "22    ['business', 'communication', 'community', 'cu...   \n",
       "23    ['cognitive science', 'culture', 'evolution', ...   \n",
       "24    ['culture', 'entertainment', 'gender', 'global...   \n",
       "25    ['climate change', 'cosmos', 'culture', 'envir...   \n",
       "26    ['astronomy', 'biology', 'cognitive science', ...   \n",
       "27    ['business', 'cities', 'culture', 'economics',...   \n",
       "28    ['business', 'choice', 'consumerism', 'culture...   \n",
       "29    ['TED Brain Trust', 'brain', 'choice', 'cultur...   \n",
       "...                                                 ...   \n",
       "2520  ['AI', 'computers', 'economics', 'future', 'hu...   \n",
       "2521  ['biology', 'biomechanics', 'cancer', 'chemist...   \n",
       "2522  ['Africa', 'art', 'beauty', 'creativity', 'per...   \n",
       "2523  ['TEDx', 'business', 'capitalism', 'community'...   \n",
       "2524  ['Africa', 'TED Fellows', 'art', 'creativity',...   \n",
       "2525  ['TEDx', 'activism', 'children', 'family', 'po...   \n",
       "2526  ['AI', 'education', 'intelligence', 'robots', ...   \n",
       "2527  ['TEDx', 'United States', 'activism', 'democra...   \n",
       "2528  ['TEDx', 'ancient world', 'archaeology', 'cons...   \n",
       "2529  ['TEDx', 'community', 'humanity', 'identity', ...   \n",
       "2530  ['architecture', 'art', 'cities', 'creativity'...   \n",
       "2531  ['TEDx', 'security', 'social media', 'terroris...   \n",
       "2532  ['algorithm', 'business', 'collaboration', 'co...   \n",
       "2533  ['TED en Español', 'art', 'creativity', 'desig...   \n",
       "2534  ['TEDx', 'art', 'climate change', 'environment...   \n",
       "2535  ['Africa', 'activism', 'cities', 'government',...   \n",
       "2536  ['TEDx', 'communication', 'friendship', 'polit...   \n",
       "2537  ['happiness', 'humanity', 'personal growth', '...   \n",
       "2538  ['TEDx', 'business', 'corruption', 'economics'...   \n",
       "2539  ['Africa', 'agriculture', 'farming', 'food', '...   \n",
       "2540  ['business', 'capitalism', 'collaboration', 'e...   \n",
       "2541             ['TEDx', 'physics', 'play', 'science']   \n",
       "2542  ['Africa', 'activism', 'art', 'community', 'hi...   \n",
       "2543  ['DNA', 'Human body', 'biology', 'data', 'entr...   \n",
       "2544  ['Africa', 'agriculture', 'history', 'leadersh...   \n",
       "2545  ['TED Residency', 'United States', 'community'...   \n",
       "2546  ['Mars', 'South America', 'TED Fellows', 'astr...   \n",
       "2547  ['AI', 'ants', 'fish', 'future', 'innovation',...   \n",
       "2548  ['Internet', 'TEDx', 'United States', 'communi...   \n",
       "2549  ['cities', 'design', 'future', 'infrastructure...   \n",
       "\n",
       "                                                  title  \\\n",
       "0                           Do schools kill creativity?   \n",
       "1                           Averting the climate crisis   \n",
       "2                                      Simplicity sells   \n",
       "3                                   Greening the ghetto   \n",
       "4                       The best stats you've ever seen   \n",
       "5                                  Why we do what we do   \n",
       "6                                     Letting go of God   \n",
       "7                Behind the design of Seattle's library   \n",
       "8     Let's teach religion -- all religion -- in sch...   \n",
       "9                                     A life of purpose   \n",
       "10         My wish: A call for open-source architecture   \n",
       "11                        My wish: A global day of film   \n",
       "12                      My wish: Help me stop pandemics   \n",
       "13     The radical promise of the multi-touch interface   \n",
       "14                                 One Laptop per Child   \n",
       "15                      An 11-year-old's magical violin   \n",
       "16                        Improvising on piano, aged 14   \n",
       "17                        Simple designs to save a life   \n",
       "18                   Organic design, inspired by nature   \n",
       "19                               The birth of Wikipedia   \n",
       "20     The birth of the open-source learning revolution   \n",
       "21                                      Nerdcore comedy   \n",
       "22              Meet the founder of the blog revolution   \n",
       "23                            Why we love, why we cheat   \n",
       "24                           Happiness in body and soul   \n",
       "25          Chemical scum that dream of distant quasars   \n",
       "26                    Why the universe seems so strange   \n",
       "27                    The freakonomics of crack dealing   \n",
       "28                Choice, happiness and spaghetti sauce   \n",
       "29                  The surprising science of happiness   \n",
       "...                                                 ...   \n",
       "2520  What would happen if we upload our brains to c...   \n",
       "2521  What the sugar coating on your cells is trying...   \n",
       "2522                        \"The Sacred Art of the Ori\"   \n",
       "2523  When workers own companies, the economy is mor...   \n",
       "2524            Fun, fierce and fantastical African art   \n",
       "2525           Why we need to end the era of orphanages   \n",
       "2526       Can a robot pass a university entrance exam?   \n",
       "2527  How the US government spies on people who prot...   \n",
       "2528    How your pictures can help reclaim lost history   \n",
       "2529  Dare to refuse the origin myths that claim who...   \n",
       "2530  A smog vacuum cleaner and other magical city d...   \n",
       "2531  How young people join violent extremist groups...   \n",
       "2532    How to build a company where the best ideas win   \n",
       "2533      Would you live in a floating city in the sky?   \n",
       "2534         What it feels like to see Earth from space   \n",
       "2535                             Who belongs in a city?   \n",
       "2536  How our friendship survives our opposing politics   \n",
       "2537              There's more to life than being happy   \n",
       "2538  What really motivates people to be honest in b...   \n",
       "2539  A forgotten ancient grain that could help Afri...   \n",
       "2540  The real reason manufacturing jobs are disappe...   \n",
       "2541           The fascinating physics of everyday life   \n",
       "2542  Living sculptures that stand for history's truths   \n",
       "2543  How digital DNA could help you make better hea...   \n",
       "2544  Why Africa must become a center of knowledge a...   \n",
       "2545  What we're missing in the debate about immigra...   \n",
       "2546                    The most Martian place on Earth   \n",
       "2547  What intelligent machines can learn from a sch...   \n",
       "2548       A black man goes undercover in the alt-right   \n",
       "2549  How a video game might help us build better ci...   \n",
       "\n",
       "                                                    url     views  \n",
       "0     https://www.ted.com/talks/ken_robinson_says_sc...  47227110  \n",
       "1     https://www.ted.com/talks/al_gore_on_averting_...   3200520  \n",
       "2     https://www.ted.com/talks/david_pogue_says_sim...   1636292  \n",
       "3     https://www.ted.com/talks/majora_carter_s_tale...   1697550  \n",
       "4     https://www.ted.com/talks/hans_rosling_shows_t...  12005869  \n",
       "5     https://www.ted.com/talks/tony_robbins_asks_wh...  20685401  \n",
       "6     https://www.ted.com/talks/julia_sweeney_on_let...   3769987  \n",
       "7     https://www.ted.com/talks/joshua_prince_ramus_...    967741  \n",
       "8     https://www.ted.com/talks/dan_dennett_s_respon...   2567958  \n",
       "9     https://www.ted.com/talks/rick_warren_on_a_lif...   3095993  \n",
       "10    https://www.ted.com/talks/cameron_sinclair_on_...   1211416  \n",
       "11    https://www.ted.com/talks/jehane_noujaim_inspi...    387877  \n",
       "12    https://www.ted.com/talks/larry_brilliant_want...    693341  \n",
       "13    https://www.ted.com/talks/jeff_han_demos_his_b...   4531020  \n",
       "14    https://www.ted.com/talks/nicholas_negroponte_...    358304  \n",
       "15    https://www.ted.com/talks/sirena_huang_dazzles...   2702470  \n",
       "16    https://www.ted.com/talks/jennifer_lin_improvs...   1628912  \n",
       "17    https://www.ted.com/talks/amy_smith_shares_sim...   1415724  \n",
       "18    https://www.ted.com/talks/ross_lovegrove_share...   1074081  \n",
       "19    https://www.ted.com/talks/jimmy_wales_on_the_b...   1106561  \n",
       "20    https://www.ted.com/talks/richard_baraniuk_on_...    966439  \n",
       "21    https://www.ted.com/talks/ze_frank_s_nerdcore_...   6141440  \n",
       "22    https://www.ted.com/talks/mena_trott_tours_her...    518624  \n",
       "23    https://www.ted.com/talks/helen_fisher_tells_u...   9260764  \n",
       "24    https://www.ted.com/talks/eve_ensler_on_happin...   1131864  \n",
       "25    https://www.ted.com/talks/david_deutsch_on_our...   1096862  \n",
       "26    https://www.ted.com/talks/richard_dawkins_on_o...   2885999  \n",
       "27    https://www.ted.com/talks/steven_levitt_analyz...   2863214  \n",
       "28    https://www.ted.com/talks/malcolm_gladwell_on_...   7023562  \n",
       "29    https://www.ted.com/talks/dan_gilbert_asks_why...  14689301  \n",
       "...                                                 ...       ...  \n",
       "2520  https://www.ted.com/talks/robin_hanson_what_wo...    840855  \n",
       "2521  https://www.ted.com/talks/carolyn_bertozzi_wha...    727807  \n",
       "2522  https://www.ted.com/talks/laolu_senbanjo_the_s...    636463  \n",
       "2523  https://www.ted.com/talks/niki_okuk_when_worke...    744793  \n",
       "2524  https://www.ted.com/talks/wanuri_kahiu_fun_fie...    522917  \n",
       "2525  https://www.ted.com/talks/tara_winkler_why_we_...    656113  \n",
       "2526  https://www.ted.com/talks/noriko_arai_can_a_ro...    773317  \n",
       "2527  https://www.ted.com/talks/jennifer_granick_how...    766721  \n",
       "2528  https://www.ted.com/talks/chance_coughenour_ho...    539207  \n",
       "2529  https://www.ted.com/talks/chetan_bhatt_dare_to...    857850  \n",
       "2530  https://www.ted.com/talks/daan_roosegaarde_a_s...    591131  \n",
       "2531  https://www.ted.com/talks/erin_marie_saltman_h...    665328  \n",
       "2532  https://www.ted.com/talks/ray_dalio_how_to_bui...   1070238  \n",
       "2533  https://www.ted.com/talks/tomas_saraceno_would...    248411  \n",
       "2534  https://www.ted.com/talks/benjamin_grant_what_...    646174  \n",
       "2535  https://www.ted.com/talks/olutimehin_adegbeye_...    707788  \n",
       "2536  https://www.ted.com/talks/caitlin_quattromani_...    566101  \n",
       "2537  https://www.ted.com/talks/emily_esfahani_smith...   1009069  \n",
       "2538  https://www.ted.com/talks/alexander_wagner_wha...    621431  \n",
       "2539  https://www.ted.com/talks/pierre_thiam_a_forgo...    527314  \n",
       "2540  https://www.ted.com/talks/augie_picado_the_rea...    613915  \n",
       "2541  https://www.ted.com/talks/helen_czerski_fun_ho...    656791  \n",
       "2542  https://www.ted.com/talks/sethembile_msezane_l...    542088  \n",
       "2543  https://www.ted.com/talks/jun_wang_how_digital...    534824  \n",
       "2544  https://www.ted.com/talks/oluf_mi_taiwo_why_af...    418368  \n",
       "2545  https://www.ted.com/talks/duarte_geraldino_wha...    450430  \n",
       "2546  https://www.ted.com/talks/armando_azua_bustos_...    417470  \n",
       "2547  https://www.ted.com/talks/radhika_nagpal_what_...    375647  \n",
       "2548  https://www.ted.com/talks/theo_e_j_wilson_a_bl...    419309  \n",
       "2549  https://www.ted.com/talks/karoliina_korppoo_ho...    391721  \n",
       "\n",
       "[2550 rows x 17 columns]"
      ]
     },
     "execution_count": 3,
     "metadata": {},
     "output_type": "execute_result"
    }
   ],
   "source": [
    "#review dataset\n",
    "df"
   ]
  },
  {
   "cell_type": "code",
   "execution_count": 4,
   "metadata": {},
   "outputs": [
    {
     "data": {
      "text/plain": [
       "(2550, 17)"
      ]
     },
     "execution_count": 4,
     "metadata": {},
     "output_type": "execute_result"
    }
   ],
   "source": [
    "#review shape of dataset\n",
    "df.shape"
   ]
  },
  {
   "cell_type": "code",
   "execution_count": 5,
   "metadata": {},
   "outputs": [
    {
     "data": {
      "text/plain": [
       "Index(['comments', 'description', 'duration', 'event', 'film_date',\n",
       "       'languages', 'main_speaker', 'name', 'num_speaker', 'published_date',\n",
       "       'ratings', 'related_talks', 'speaker_occupation', 'tags', 'title',\n",
       "       'url', 'views'],\n",
       "      dtype='object')"
      ]
     },
     "execution_count": 5,
     "metadata": {},
     "output_type": "execute_result"
    }
   ],
   "source": [
    "#review columns to consider features and prediction questions\n",
    "df.columns"
   ]
  },
  {
   "cell_type": "code",
   "execution_count": 6,
   "metadata": {},
   "outputs": [
    {
     "name": "stdout",
     "output_type": "stream",
     "text": [
      "<class 'pandas.core.frame.DataFrame'>\n",
      "RangeIndex: 2550 entries, 0 to 2549\n",
      "Data columns (total 17 columns):\n",
      "comments              2550 non-null int64\n",
      "description           2550 non-null object\n",
      "duration              2550 non-null int64\n",
      "event                 2550 non-null object\n",
      "film_date             2550 non-null int64\n",
      "languages             2550 non-null int64\n",
      "main_speaker          2550 non-null object\n",
      "name                  2550 non-null object\n",
      "num_speaker           2550 non-null int64\n",
      "published_date        2550 non-null int64\n",
      "ratings               2550 non-null object\n",
      "related_talks         2550 non-null object\n",
      "speaker_occupation    2544 non-null object\n",
      "tags                  2550 non-null object\n",
      "title                 2550 non-null object\n",
      "url                   2550 non-null object\n",
      "views                 2550 non-null int64\n",
      "dtypes: int64(7), object(10)\n",
      "memory usage: 338.8+ KB\n"
     ]
    }
   ],
   "source": [
    "# undserand basic info on dataset\n",
    "df.info()"
   ]
  },
  {
   "cell_type": "code",
   "execution_count": 70,
   "metadata": {},
   "outputs": [
    {
     "data": {
      "text/html": [
       "<div>\n",
       "<style>\n",
       "    .dataframe thead tr:only-child th {\n",
       "        text-align: right;\n",
       "    }\n",
       "\n",
       "    .dataframe thead th {\n",
       "        text-align: left;\n",
       "    }\n",
       "\n",
       "    .dataframe tbody tr th {\n",
       "        vertical-align: top;\n",
       "    }\n",
       "</style>\n",
       "<table border=\"1\" class=\"dataframe\">\n",
       "  <thead>\n",
       "    <tr style=\"text-align: right;\">\n",
       "      <th></th>\n",
       "      <th>comments</th>\n",
       "      <th>duration</th>\n",
       "      <th>film_date</th>\n",
       "      <th>languages</th>\n",
       "      <th>num_speaker</th>\n",
       "      <th>published_date</th>\n",
       "      <th>views</th>\n",
       "    </tr>\n",
       "  </thead>\n",
       "  <tbody>\n",
       "    <tr>\n",
       "      <th>count</th>\n",
       "      <td>2550.000000</td>\n",
       "      <td>2550.000000</td>\n",
       "      <td>2.550000e+03</td>\n",
       "      <td>2550.000000</td>\n",
       "      <td>2550.000000</td>\n",
       "      <td>2.550000e+03</td>\n",
       "      <td>2.550000e+03</td>\n",
       "    </tr>\n",
       "    <tr>\n",
       "      <th>mean</th>\n",
       "      <td>191.562353</td>\n",
       "      <td>826.510196</td>\n",
       "      <td>1.321928e+09</td>\n",
       "      <td>27.326275</td>\n",
       "      <td>1.028235</td>\n",
       "      <td>1.343525e+09</td>\n",
       "      <td>1.698297e+06</td>\n",
       "    </tr>\n",
       "    <tr>\n",
       "      <th>std</th>\n",
       "      <td>282.315223</td>\n",
       "      <td>374.009138</td>\n",
       "      <td>1.197391e+08</td>\n",
       "      <td>9.563452</td>\n",
       "      <td>0.207705</td>\n",
       "      <td>9.464009e+07</td>\n",
       "      <td>2.498479e+06</td>\n",
       "    </tr>\n",
       "    <tr>\n",
       "      <th>min</th>\n",
       "      <td>2.000000</td>\n",
       "      <td>135.000000</td>\n",
       "      <td>7.464960e+07</td>\n",
       "      <td>0.000000</td>\n",
       "      <td>1.000000</td>\n",
       "      <td>1.151367e+09</td>\n",
       "      <td>5.044300e+04</td>\n",
       "    </tr>\n",
       "    <tr>\n",
       "      <th>25%</th>\n",
       "      <td>63.000000</td>\n",
       "      <td>577.000000</td>\n",
       "      <td>1.257466e+09</td>\n",
       "      <td>23.000000</td>\n",
       "      <td>1.000000</td>\n",
       "      <td>1.268463e+09</td>\n",
       "      <td>7.557928e+05</td>\n",
       "    </tr>\n",
       "    <tr>\n",
       "      <th>50%</th>\n",
       "      <td>118.000000</td>\n",
       "      <td>848.000000</td>\n",
       "      <td>1.333238e+09</td>\n",
       "      <td>28.000000</td>\n",
       "      <td>1.000000</td>\n",
       "      <td>1.340935e+09</td>\n",
       "      <td>1.124524e+06</td>\n",
       "    </tr>\n",
       "    <tr>\n",
       "      <th>75%</th>\n",
       "      <td>221.750000</td>\n",
       "      <td>1046.750000</td>\n",
       "      <td>1.412964e+09</td>\n",
       "      <td>33.000000</td>\n",
       "      <td>1.000000</td>\n",
       "      <td>1.423432e+09</td>\n",
       "      <td>1.700760e+06</td>\n",
       "    </tr>\n",
       "    <tr>\n",
       "      <th>max</th>\n",
       "      <td>6404.000000</td>\n",
       "      <td>5256.000000</td>\n",
       "      <td>1.503792e+09</td>\n",
       "      <td>72.000000</td>\n",
       "      <td>5.000000</td>\n",
       "      <td>1.506092e+09</td>\n",
       "      <td>4.722711e+07</td>\n",
       "    </tr>\n",
       "  </tbody>\n",
       "</table>\n",
       "</div>"
      ],
      "text/plain": [
       "          comments     duration     film_date    languages  num_speaker  \\\n",
       "count  2550.000000  2550.000000  2.550000e+03  2550.000000  2550.000000   \n",
       "mean    191.562353   826.510196  1.321928e+09    27.326275     1.028235   \n",
       "std     282.315223   374.009138  1.197391e+08     9.563452     0.207705   \n",
       "min       2.000000   135.000000  7.464960e+07     0.000000     1.000000   \n",
       "25%      63.000000   577.000000  1.257466e+09    23.000000     1.000000   \n",
       "50%     118.000000   848.000000  1.333238e+09    28.000000     1.000000   \n",
       "75%     221.750000  1046.750000  1.412964e+09    33.000000     1.000000   \n",
       "max    6404.000000  5256.000000  1.503792e+09    72.000000     5.000000   \n",
       "\n",
       "       published_date         views  \n",
       "count    2.550000e+03  2.550000e+03  \n",
       "mean     1.343525e+09  1.698297e+06  \n",
       "std      9.464009e+07  2.498479e+06  \n",
       "min      1.151367e+09  5.044300e+04  \n",
       "25%      1.268463e+09  7.557928e+05  \n",
       "50%      1.340935e+09  1.124524e+06  \n",
       "75%      1.423432e+09  1.700760e+06  \n",
       "max      1.506092e+09  4.722711e+07  "
      ]
     },
     "execution_count": 70,
     "metadata": {},
     "output_type": "execute_result"
    }
   ],
   "source": [
    "#descriptive info on numerical data\n",
    "df.describe()"
   ]
  },
  {
   "cell_type": "code",
   "execution_count": 8,
   "metadata": {},
   "outputs": [
    {
     "data": {
      "text/plain": [
       "comments              0\n",
       "description           0\n",
       "duration              0\n",
       "event                 0\n",
       "film_date             0\n",
       "languages             0\n",
       "main_speaker          0\n",
       "name                  0\n",
       "num_speaker           0\n",
       "published_date        0\n",
       "ratings               0\n",
       "related_talks         0\n",
       "speaker_occupation    6\n",
       "tags                  0\n",
       "title                 0\n",
       "url                   0\n",
       "views                 0\n",
       "dtype: int64"
      ]
     },
     "execution_count": 8,
     "metadata": {},
     "output_type": "execute_result"
    }
   ],
   "source": [
    "#count the number of missing values\n",
    "df.isnull().sum()\n",
    "#there are only 6 missing columns, that is great!"
   ]
  },
  {
   "cell_type": "code",
   "execution_count": 55,
   "metadata": {},
   "outputs": [
    {
     "data": {
      "text/plain": [
       "4330658578"
      ]
     },
     "execution_count": 55,
     "metadata": {},
     "output_type": "execute_result"
    }
   ],
   "source": [
    "df.views.sum()"
   ]
  },
  {
   "cell_type": "code",
   "execution_count": null,
   "metadata": {
    "collapsed": true
   },
   "outputs": [],
   "source": []
  },
  {
   "cell_type": "code",
   "execution_count": null,
   "metadata": {
    "collapsed": true
   },
   "outputs": [],
   "source": []
  },
  {
   "cell_type": "code",
   "execution_count": null,
   "metadata": {
    "collapsed": true
   },
   "outputs": [],
   "source": []
  },
  {
   "cell_type": "markdown",
   "metadata": {},
   "source": [
    "# Main Speaker"
   ]
  },
  {
   "cell_type": "code",
   "execution_count": 46,
   "metadata": {
    "collapsed": true
   },
   "outputs": [],
   "source": [
    "df_speaker = df.groupby('main_speaker').count().reset_index()[['main_speaker']].count()"
   ]
  },
  {
   "cell_type": "code",
   "execution_count": 47,
   "metadata": {},
   "outputs": [
    {
     "data": {
      "text/plain": [
       "main_speaker    2156\n",
       "dtype: int64"
      ]
     },
     "execution_count": 47,
     "metadata": {},
     "output_type": "execute_result"
    }
   ],
   "source": [
    "df_speaker"
   ]
  },
  {
   "cell_type": "code",
   "execution_count": null,
   "metadata": {},
   "outputs": [
    {
     "data": {
      "text/html": [
       "<div>\n",
       "<style>\n",
       "    .dataframe thead tr:only-child th {\n",
       "        text-align: right;\n",
       "    }\n",
       "\n",
       "    .dataframe thead th {\n",
       "        text-align: left;\n",
       "    }\n",
       "\n",
       "    .dataframe tbody tr th {\n",
       "        vertical-align: top;\n",
       "    }\n",
       "</style>\n",
       "<table border=\"1\" class=\"dataframe\">\n",
       "  <thead>\n",
       "    <tr style=\"text-align: right;\">\n",
       "      <th></th>\n",
       "      <th>comments</th>\n",
       "      <th>duration</th>\n",
       "      <th>film_date</th>\n",
       "      <th>languages</th>\n",
       "      <th>num_speaker</th>\n",
       "      <th>published_date</th>\n",
       "      <th>views</th>\n",
       "    </tr>\n",
       "  </thead>\n",
       "  <tbody>\n",
       "    <tr>\n",
       "      <th>0</th>\n",
       "      <td>4553</td>\n",
       "      <td>1164</td>\n",
       "      <td>1140825600</td>\n",
       "      <td>60</td>\n",
       "      <td>1</td>\n",
       "      <td>1151367060</td>\n",
       "      <td>47227110</td>\n",
       "    </tr>\n",
       "    <tr>\n",
       "      <th>1</th>\n",
       "      <td>265</td>\n",
       "      <td>977</td>\n",
       "      <td>1140825600</td>\n",
       "      <td>43</td>\n",
       "      <td>1</td>\n",
       "      <td>1151367060</td>\n",
       "      <td>3200520</td>\n",
       "    </tr>\n",
       "    <tr>\n",
       "      <th>2</th>\n",
       "      <td>124</td>\n",
       "      <td>1286</td>\n",
       "      <td>1140739200</td>\n",
       "      <td>26</td>\n",
       "      <td>1</td>\n",
       "      <td>1151367060</td>\n",
       "      <td>1636292</td>\n",
       "    </tr>\n",
       "    <tr>\n",
       "      <th>3</th>\n",
       "      <td>200</td>\n",
       "      <td>1116</td>\n",
       "      <td>1140912000</td>\n",
       "      <td>35</td>\n",
       "      <td>1</td>\n",
       "      <td>1151367060</td>\n",
       "      <td>1697550</td>\n",
       "    </tr>\n",
       "    <tr>\n",
       "      <th>4</th>\n",
       "      <td>593</td>\n",
       "      <td>1190</td>\n",
       "      <td>1140566400</td>\n",
       "      <td>48</td>\n",
       "      <td>1</td>\n",
       "      <td>1151440680</td>\n",
       "      <td>12005869</td>\n",
       "    </tr>\n",
       "  </tbody>\n",
       "</table>\n",
       "</div>"
      ],
      "text/plain": [
       "   comments  duration   film_date  languages  num_speaker  published_date  \\\n",
       "0      4553      1164  1140825600         60            1      1151367060   \n",
       "1       265       977  1140825600         43            1      1151367060   \n",
       "2       124      1286  1140739200         26            1      1151367060   \n",
       "3       200      1116  1140912000         35            1      1151367060   \n",
       "4       593      1190  1140566400         48            1      1151440680   \n",
       "\n",
       "      views  \n",
       "0  47227110  \n",
       "1   3200520  \n",
       "2   1636292  \n",
       "3   1697550  \n",
       "4  12005869  "
      ]
     },
     "execution_count": 11,
     "metadata": {},
     "output_type": "execute_result"
    }
   ],
   "source": [
    "df.head()\n",
    "df.drop([\"description\", \"event\", \"main_speaker\", \"name\", \"ratings\", \"related_talks\", \"speaker_occupation\", \"tags\", \"title\", \"url\"], axis = 1).head()"
   ]
  },
  {
   "cell_type": "code",
   "execution_count": null,
   "metadata": {
    "collapsed": true
   },
   "outputs": [],
   "source": []
  },
  {
   "cell_type": "markdown",
   "metadata": {},
   "source": [
    "# Occupation"
   ]
  },
  {
   "cell_type": "code",
   "execution_count": 53,
   "metadata": {},
   "outputs": [
    {
     "data": {
      "text/plain": [
       "<bound method IndexOpsMixin.nunique of 0                                   Author/educator\n",
       "1                                  Climate advocate\n",
       "2                              Technology columnist\n",
       "3                Activist for environmental justice\n",
       "4              Global health expert; data visionary\n",
       "5       Life coach; expert in leadership psychology\n",
       "6                       Actor, comedian, playwright\n",
       "7                                         Architect\n",
       "8                  Philosopher, cognitive scientist\n",
       "9                                    Pastor, author\n",
       "10            Co-founder, Architecture for Humanity\n",
       "11                                        Filmmaker\n",
       "12                   Epidemiologist, philanthropist\n",
       "13                Human-computer interface designer\n",
       "14                                   Tech visionary\n",
       "15                                        Violinist\n",
       "16                                Pianist, composer\n",
       "17                               inventor, engineer\n",
       "18                              Industrial designer\n",
       "19                             Founder of Wikipedia\n",
       "20                              Education visionary\n",
       "21                             Humorist, web artist\n",
       "22                    Blogger; cofounder, Six Apart\n",
       "23                   Anthropologist, expert on love\n",
       "24                             Playwright, activist\n",
       "25                                Quantum physicist\n",
       "26                           Evolutionary biologist\n",
       "27                                        Economist\n",
       "28                                           Writer\n",
       "29                   Psychologist; happiness expert\n",
       "                           ...                     \n",
       "2520                     Futurist, social scientist\n",
       "2521                             Chemical biologist\n",
       "2522             Artist, musician, lawyer, activist\n",
       "2523                                   Entrepreneur\n",
       "2524                              Filmmaker, writer\n",
       "2525     Child protection leader, activist, author \n",
       "2526                                      AI expert\n",
       "2527         Surveillance and cybersecurity counsel\n",
       "2528                          Digital archaeologist\n",
       "2529             Sociologist, human rights activist\n",
       "2530                                         Artist\n",
       "2531                              Policy researcher\n",
       "2532                               Hedge fund chair\n",
       "2533                                         Artist\n",
       "2534                                         Author\n",
       "2535                               Writer, activist\n",
       "2536                               Marketing leader\n",
       "2537                                         Author\n",
       "2538                                      Economist\n",
       "2539                                           Chef\n",
       "2540                              Border specialist\n",
       "2541                                      Physicist\n",
       "2542                                         Artist\n",
       "2543                            Genomics researcher\n",
       "2544                         Historian, philosopher\n",
       "2545                                     Journalist\n",
       "2546                                 Astrobiologist\n",
       "2547                              Robotics engineer\n",
       "2548                            Public intellectual\n",
       "2549                                  Game designer\n",
       "Name: speaker_occupation, Length: 2550, dtype: object>"
      ]
     },
     "execution_count": 53,
     "metadata": {},
     "output_type": "execute_result"
    }
   ],
   "source": [
    "df.speaker_occupation.nunique"
   ]
  },
  {
   "cell_type": "code",
   "execution_count": null,
   "metadata": {
    "collapsed": true
   },
   "outputs": [],
   "source": [
    "# Not helpful categories "
   ]
  },
  {
   "cell_type": "code",
   "execution_count": null,
   "metadata": {
    "collapsed": true
   },
   "outputs": [],
   "source": []
  },
  {
   "cell_type": "code",
   "execution_count": null,
   "metadata": {
    "collapsed": true
   },
   "outputs": [],
   "source": []
  },
  {
   "cell_type": "code",
   "execution_count": null,
   "metadata": {
    "collapsed": true
   },
   "outputs": [],
   "source": []
  },
  {
   "cell_type": "code",
   "execution_count": null,
   "metadata": {
    "collapsed": true
   },
   "outputs": [],
   "source": [
    "### Linear Models for All Features"
   ]
  },
  {
   "cell_type": "code",
   "execution_count": null,
   "metadata": {},
   "outputs": [
    {
     "ename": "AttributeError",
     "evalue": "'LinearRegression' object has no attribute 'fix'",
     "output_type": "error",
     "traceback": [
      "\u001b[0;31m---------------------------------------------------------------------------\u001b[0m",
      "\u001b[0;31mAttributeError\u001b[0m                            Traceback (most recent call last)",
      "\u001b[0;32m<ipython-input-13-984caf68240a>\u001b[0m in \u001b[0;36m<module>\u001b[0;34m()\u001b[0m\n\u001b[1;32m      4\u001b[0m \u001b[0;34m\u001b[0m\u001b[0m\n\u001b[1;32m      5\u001b[0m \u001b[0mmodel\u001b[0m \u001b[0;34m=\u001b[0m \u001b[0mLinearRegression\u001b[0m\u001b[0;34m(\u001b[0m\u001b[0;34m)\u001b[0m\u001b[0;34m\u001b[0m\u001b[0m\n\u001b[0;32m----> 6\u001b[0;31m \u001b[0mmodel\u001b[0m\u001b[0;34m.\u001b[0m\u001b[0mfix\u001b[0m\u001b[0;34m(\u001b[0m\u001b[0mX\u001b[0m\u001b[0;34m,\u001b[0m\u001b[0my\u001b[0m\u001b[0;34m)\u001b[0m\u001b[0;34m\u001b[0m\u001b[0m\n\u001b[0m\u001b[1;32m      7\u001b[0m \u001b[0mX_test\u001b[0m\u001b[0;34m\u001b[0m\u001b[0m\n\u001b[1;32m      8\u001b[0m \u001b[0;34m\u001b[0m\u001b[0m\n",
      "\u001b[0;31mAttributeError\u001b[0m: 'LinearRegression' object has no attribute 'fix'"
     ]
    }
   ],
   "source": [
    "X = df.num_speaker#df.drop([\"views\"], axis = 1)\n",
    "y = df.views\n",
    "\n",
    "\n",
    "model = LinearRegression()\n",
    "model.fix(X,y)\n",
    "X_test \n",
    "\n",
    "\n",
    "plt.figure()\n",
    "plt.plot(X,y)\n",
    "plt.show()"
   ]
  },
  {
   "cell_type": "code",
   "execution_count": null,
   "metadata": {
    "collapsed": true
   },
   "outputs": [],
   "source": [
    "\n"
   ]
  },
  {
   "cell_type": "markdown",
   "metadata": {},
   "source": [
    "### Speakers"
   ]
  },
  {
   "cell_type": "code",
   "execution_count": null,
   "metadata": {
    "collapsed": true
   },
   "outputs": [],
   "source": [
    "df['speaker_occupation'].unique()"
   ]
  },
  {
   "cell_type": "code",
   "execution_count": null,
   "metadata": {
    "collapsed": true
   },
   "outputs": [],
   "source": [
    "df['speaker_occupation'].value_counts().head(30)\n",
    "#there are some speaker occupations that are only listed once\n",
    "#and they could be categorized with the other option\n",
    "#example: bee expert, could be Biologist"
   ]
  },
  {
   "cell_type": "code",
   "execution_count": null,
   "metadata": {
    "collapsed": true
   },
   "outputs": [],
   "source": [
    "top_speakers = df['speaker_occupation'].value_counts().head(10)\n"
   ]
  },
  {
   "cell_type": "code",
   "execution_count": null,
   "metadata": {
    "collapsed": true
   },
   "outputs": [],
   "source": [
    "top_occupation = top_speakers.iloc[::-1] #reverse order to make easer to view on graph\n",
    "\n",
    "# df = df.iloc[::-1]"
   ]
  },
  {
   "cell_type": "code",
   "execution_count": null,
   "metadata": {
    "collapsed": true
   },
   "outputs": [],
   "source": [
    "top_occupation.plot(kind='barh', fontsize = 15, grid=False, title=\"Top 10 Speaker Occupations\", color='DarkCyan', figsize = (8,8))\n",
    "\n",
    "# df.languages.plot(kind = 'hist', bins = 5, figsize = (8,8), grid=False, fontsize = 15, title=\"Number of Languages in which the Talk is Available\", color='DarkCyan')"
   ]
  },
  {
   "cell_type": "code",
   "execution_count": null,
   "metadata": {
    "collapsed": true
   },
   "outputs": [],
   "source": [
    "# df['month'] = df['film_date'].apply(lambda x: month_order[int(x.split('-')[1]) - 1])\n",
    "\n",
    "# month_df = pd.DataFrame(df['month'].value_counts()).reset_index()\n",
    "# month_df.columns = ['month', 'name']"
   ]
  },
  {
   "cell_type": "code",
   "execution_count": null,
   "metadata": {
    "collapsed": true
   },
   "outputs": [],
   "source": [
    "# df['speakers'].value_counts()\n",
    "# I dont think these are as pertitent since TEDx decides how many speakers"
   ]
  },
  {
   "cell_type": "code",
   "execution_count": null,
   "metadata": {
    "collapsed": true
   },
   "outputs": [],
   "source": [
    "# df['related_talks']\n",
    "#looks interesting not sure I know how or have the time to do this now"
   ]
  },
  {
   "cell_type": "code",
   "execution_count": null,
   "metadata": {
    "collapsed": true
   },
   "outputs": [],
   "source": [
    "#potential predictions:\n",
    " #views\n",
    " #features:\n",
    " #tags, duration, event, languages, num_speakers, related talks, speaker_occupation, ratings (maybe)"
   ]
  },
  {
   "cell_type": "code",
   "execution_count": null,
   "metadata": {
    "collapsed": true
   },
   "outputs": [],
   "source": [
    "df.ratings.head(15)"
   ]
  },
  {
   "cell_type": "markdown",
   "metadata": {},
   "source": [
    "# Analysis of Each Feature"
   ]
  },
  {
   "cell_type": "markdown",
   "metadata": {},
   "source": [
    "### Features:\n",
    "\n",
    "film_date: The Unix timestamp of the filming.\n",
    "published_date: The Unix timestamp for the publication of the talk on TED.com\n",
    "ratings: A stringified dictionary of the various ratings given to the talk (inspiring, fascinating, jaw dropping, etc.)\n",
    "\n",
    "\n",
    "tags: The themes associated with the talk. #count vectorizer \n",
    "views: The number of views on the talk.\n",
    "comments: The number of first level comments made on the talk.\n",
    "languages: The number of languages in which the talk is available.\n",
    "duration: The duration of the talk in seconds.\n",
    "num_speaker: The number of speakers in the talk.\n",
    "event: The TED/TEDx event where the talk took place.\n",
    "\n",
    "\n",
    "Features not using:\n",
    "url: The URL of the talk.\n",
    "name: The official name of the TED Talk. Includes the title and the speaker.\n",
    "title: The title of the talk\n",
    "description: A blurb of what the talk is about.\n",
    "main_speaker: The first named speaker of the talk.\n",
    "speaker_occupation: The occupation of the main speaker.\n",
    "\n",
    "maybe: related_talks: A list of dictionaries of recommended talks to watch next."
   ]
  },
  {
   "cell_type": "markdown",
   "metadata": {},
   "source": [
    "### Film Date"
   ]
  },
  {
   "cell_type": "code",
   "execution_count": null,
   "metadata": {
    "collapsed": true,
    "scrolled": true
   },
   "outputs": [],
   "source": [
    "df.film_date.head()"
   ]
  },
  {
   "cell_type": "code",
   "execution_count": null,
   "metadata": {
    "collapsed": true
   },
   "outputs": [],
   "source": [
    "import datetime\n",
    "df['film_date'] = df['film_date'].apply(lambda x: datetime.datetime.fromtimestamp( int(x)).strftime('%d-%m-%Y'))\n",
    "df['published_date'] = df['published_date'].apply(lambda x: datetime.datetime.fromtimestamp( int(x)).strftime('%d-%m-%Y'))"
   ]
  },
  {
   "cell_type": "code",
   "execution_count": null,
   "metadata": {
    "collapsed": true
   },
   "outputs": [],
   "source": [
    "# df.plot(kind = \"bar\", x = \"published_date\", y = \"views\", figsize = (8,8))"
   ]
  },
  {
   "cell_type": "code",
   "execution_count": null,
   "metadata": {
    "collapsed": true
   },
   "outputs": [],
   "source": []
  },
  {
   "cell_type": "markdown",
   "metadata": {},
   "source": [
    "### Tags\n"
   ]
  },
  {
   "cell_type": "markdown",
   "metadata": {},
   "source": [
    "tags: The themes associated with the talk. #count vectorizer "
   ]
  },
  {
   "cell_type": "code",
   "execution_count": null,
   "metadata": {
    "collapsed": true
   },
   "outputs": [],
   "source": [
    "df.tags.head(10)"
   ]
  },
  {
   "cell_type": "code",
   "execution_count": null,
   "metadata": {
    "collapsed": true
   },
   "outputs": [],
   "source": [
    "tags = df.tags\n",
    "\n",
    "countv = CountVectorizer(max_features=100)\n",
    "\n",
    "tag_dtm = countv.fit_transform(tags)"
   ]
  },
  {
   "cell_type": "code",
   "execution_count": null,
   "metadata": {
    "collapsed": true
   },
   "outputs": [],
   "source": [
    "tag_df = pd.DataFrame(tag_dtm.toarray(), columns=countv.get_feature_names())\n",
    "tag_df.head()"
   ]
  },
  {
   "cell_type": "code",
   "execution_count": null,
   "metadata": {
    "collapsed": true
   },
   "outputs": [],
   "source": [
    "tag_df.shape"
   ]
  },
  {
   "cell_type": "markdown",
   "metadata": {},
   "source": [
    "### Views\n",
    "Looking at views independently and also in relation to other features\n",
    "\n",
    "Views: The number of views on the talk."
   ]
  },
  {
   "cell_type": "code",
   "execution_count": null,
   "metadata": {
    "collapsed": true
   },
   "outputs": [],
   "source": [
    "# df.views"
   ]
  },
  {
   "cell_type": "code",
   "execution_count": null,
   "metadata": {
    "collapsed": true
   },
   "outputs": [],
   "source": [
    "df.views.describe()"
   ]
  },
  {
   "cell_type": "code",
   "execution_count": null,
   "metadata": {
    "collapsed": true
   },
   "outputs": [],
   "source": [
    "sns.boxplot(df.views)"
   ]
  },
  {
   "cell_type": "code",
   "execution_count": null,
   "metadata": {
    "collapsed": true
   },
   "outputs": [],
   "source": [
    "df.views.plot(kind = 'hist', bins = 5, figsize = (8,8))"
   ]
  },
  {
   "cell_type": "code",
   "execution_count": null,
   "metadata": {
    "collapsed": true
   },
   "outputs": [],
   "source": [
    "sns.kdeplot(df.views, cumulative = True)"
   ]
  },
  {
   "cell_type": "markdown",
   "metadata": {},
   "source": [
    "### Observations"
   ]
  },
  {
   "cell_type": "markdown",
   "metadata": {},
   "source": [
    "The views tell us \n"
   ]
  },
  {
   "cell_type": "markdown",
   "metadata": {},
   "source": [
    "### Comments\n",
    "Looking at comments independently and also in relation to other features\n",
    "\n",
    "Comments: The number of first level comments made on the talk."
   ]
  },
  {
   "cell_type": "code",
   "execution_count": 66,
   "metadata": {},
   "outputs": [
    {
     "data": {
      "text/plain": [
       "0    4553\n",
       "1     265\n",
       "2     124\n",
       "3     200\n",
       "4     593\n",
       "Name: comments, dtype: int64"
      ]
     },
     "execution_count": 66,
     "metadata": {},
     "output_type": "execute_result"
    }
   ],
   "source": [
    "df.comments.head()"
   ]
  },
  {
   "cell_type": "code",
   "execution_count": 59,
   "metadata": {},
   "outputs": [
    {
     "data": {
      "text/plain": [
       "<matplotlib.axes._subplots.AxesSubplot at 0x11a3cd0b8>"
      ]
     },
     "execution_count": 59,
     "metadata": {},
     "output_type": "execute_result"
    },
    {
     "data": {
      "image/png": "[encoded data removed]",
      "text/plain": [
       "<matplotlib.figure.Figure at 0x11a364da0>"
      ]
     },
     "metadata": {},
     "output_type": "display_data"
    }
   ],
   "source": [
    "sns.kdeplot(df.duration, cumulative = True)"
   ]
  },
  {
   "cell_type": "code",
   "execution_count": 60,
   "metadata": {},
   "outputs": [
    {
     "data": {
      "text/plain": [
       "count    2550.000000\n",
       "mean      191.562353\n",
       "std       282.315223\n",
       "min         2.000000\n",
       "25%        63.000000\n",
       "50%       118.000000\n",
       "75%       221.750000\n",
       "max      6404.000000\n",
       "Name: comments, dtype: float64"
      ]
     },
     "execution_count": 60,
     "metadata": {},
     "output_type": "execute_result"
    }
   ],
   "source": [
    "df.comments.describe()"
   ]
  },
  {
   "cell_type": "code",
   "execution_count": 61,
   "metadata": {},
   "outputs": [
    {
     "data": {
      "text/plain": [
       "<matplotlib.axes._subplots.AxesSubplot at 0x11a4f5860>"
      ]
     },
     "execution_count": 61,
     "metadata": {},
     "output_type": "execute_result"
    },
    {
     "data": {
      "image/png": "[encoded data removed]",
      "text/plain": [
       "<matplotlib.figure.Figure at 0x11a4ac128>"
      ]
     },
     "metadata": {},
     "output_type": "display_data"
    }
   ],
   "source": [
    "df.comments.plot()"
   ]
  },
  {
   "cell_type": "code",
   "execution_count": 62,
   "metadata": {},
   "outputs": [
    {
     "data": {
      "text/plain": [
       "<matplotlib.axes._subplots.AxesSubplot at 0x11a5320f0>"
      ]
     },
     "execution_count": 62,
     "metadata": {},
     "output_type": "execute_result"
    },
    {
     "data": {
      "image/png": "[encoded data removed]",
      "text/plain": [
       "<matplotlib.figure.Figure at 0x10e37cd30>"
      ]
     },
     "metadata": {},
     "output_type": "display_data"
    }
   ],
   "source": [
    "sns.boxplot(df.comments)"
   ]
  },
  {
   "cell_type": "code",
   "execution_count": 68,
   "metadata": {},
   "outputs": [
    {
     "data": {
      "text/plain": [
       "<matplotlib.axes._subplots.AxesSubplot at 0x11adf4fd0>"
      ]
     },
     "execution_count": 68,
     "metadata": {},
     "output_type": "execute_result"
    },
    {
     "data": {
      "image/png": "[encoded data removed]",
      "text/plain": [
       "<matplotlib.figure.Figure at 0x11adde550>"
      ]
     },
     "metadata": {},
     "output_type": "display_data"
    }
   ],
   "source": [
    "df.comments.plot(kind = 'box', figsize = (8,8))"
   ]
  },
  {
   "cell_type": "markdown",
   "metadata": {},
   "source": [
    "### Observations"
   ]
  },
  {
   "cell_type": "markdown",
   "metadata": {},
   "source": [
    "We can see that"
   ]
  },
  {
   "cell_type": "markdown",
   "metadata": {},
   "source": [
    "### Language\n",
    "Looking at comments independently and also in relation to other features\n",
    "\n",
    "Languages: The number of languages in which the talk is available."
   ]
  },
  {
   "cell_type": "code",
   "execution_count": 56,
   "metadata": {},
   "outputs": [
    {
     "data": {
      "text/plain": [
       "0    60\n",
       "1    43\n",
       "2    26\n",
       "3    35\n",
       "4    48\n",
       "Name: languages, dtype: int64"
      ]
     },
     "execution_count": 56,
     "metadata": {},
     "output_type": "execute_result"
    }
   ],
   "source": [
    "df.languages.head()"
   ]
  },
  {
   "cell_type": "code",
   "execution_count": 57,
   "metadata": {},
   "outputs": [
    {
     "data": {
      "text/plain": [
       "count    2550.000000\n",
       "mean       27.326275\n",
       "std         9.563452\n",
       "min         0.000000\n",
       "25%        23.000000\n",
       "50%        28.000000\n",
       "75%        33.000000\n",
       "max        72.000000\n",
       "Name: languages, dtype: float64"
      ]
     },
     "execution_count": 57,
     "metadata": {},
     "output_type": "execute_result"
    }
   ],
   "source": [
    "df.languages.describe()"
   ]
  },
  {
   "cell_type": "code",
   "execution_count": null,
   "metadata": {
    "collapsed": true
   },
   "outputs": [],
   "source": [
    "sns.boxplot(df.languages)"
   ]
  },
  {
   "cell_type": "code",
   "execution_count": null,
   "metadata": {
    "collapsed": true
   },
   "outputs": [],
   "source": [
    "df.languages.plot()"
   ]
  },
  {
   "cell_type": "code",
   "execution_count": null,
   "metadata": {
    "collapsed": true
   },
   "outputs": [],
   "source": [
    "import pylab as pl\n",
    "from pandas import *\n"
   ]
  },
  {
   "cell_type": "code",
   "execution_count": null,
   "metadata": {
    "collapsed": true
   },
   "outputs": [],
   "source": [
    "df.languages.plot(kind = 'hist', \\\n",
    "                  bins = 5, \\\n",
    "                  figsize = (8,8), \\\n",
    "                  grid=False, \\\n",
    "                  fontsize = 15, \\\n",
    "                  title=\"Number of Languages in which the Talk is Available\", \\\n",
    "                  color='DarkCyan')"
   ]
  },
  {
   "cell_type": "code",
   "execution_count": null,
   "metadata": {
    "collapsed": true
   },
   "outputs": [],
   "source": []
  },
  {
   "cell_type": "code",
   "execution_count": null,
   "metadata": {
    "collapsed": true
   },
   "outputs": [],
   "source": []
  },
  {
   "cell_type": "code",
   "execution_count": 65,
   "metadata": {},
   "outputs": [
    {
     "data": {
      "text/plain": [
       "<matplotlib.axes._subplots.AxesSubplot at 0x11a8e69b0>"
      ]
     },
     "execution_count": 65,
     "metadata": {},
     "output_type": "execute_result"
    },
    {
     "data": {
      "image/png": "[encoded data removed]",
      "text/plain": [
       "<matplotlib.figure.Figure at 0x11a4bc2e8>"
      ]
     },
     "metadata": {},
     "output_type": "display_data"
    }
   ],
   "source": [
    "df.comments.plot(kind = 'hist', \\\n",
    "                  bins = 5, \\\n",
    "                  figsize = (8,8), \\\n",
    "                  grid=False, \\\n",
    "                  fontsize = 15, \\\n",
    "                  title=\"Number of Comments\", \\\n",
    "                  color='DarkCyan')"
   ]
  },
  {
   "cell_type": "code",
   "execution_count": null,
   "metadata": {
    "collapsed": true
   },
   "outputs": [],
   "source": [
    "### Observations"
   ]
  },
  {
   "cell_type": "code",
   "execution_count": null,
   "metadata": {
    "collapsed": true
   },
   "outputs": [],
   "source": [
    "We can see that"
   ]
  },
  {
   "cell_type": "markdown",
   "metadata": {},
   "source": [
    "\n",
    "### Duration\n",
    "Looking at comments independently and also in relation to other features\n",
    "\n",
    "Duration: The duration of the talk in seconds."
   ]
  },
  {
   "cell_type": "code",
   "execution_count": null,
   "metadata": {
    "collapsed": true
   },
   "outputs": [],
   "source": [
    "df.duration.describe() "
   ]
  },
  {
   "cell_type": "code",
   "execution_count": null,
   "metadata": {
    "collapsed": true
   },
   "outputs": [],
   "source": [
    "df.duration.plot()"
   ]
  },
  {
   "cell_type": "code",
   "execution_count": null,
   "metadata": {
    "collapsed": true
   },
   "outputs": [],
   "source": [
    "df.duration.plot( kind = 'hist')"
   ]
  },
  {
   "cell_type": "code",
   "execution_count": null,
   "metadata": {
    "collapsed": true
   },
   "outputs": [],
   "source": [
    "sns.boxplot(df.duration)"
   ]
  },
  {
   "cell_type": "markdown",
   "metadata": {},
   "source": [
    "### Observations"
   ]
  },
  {
   "cell_type": "code",
   "execution_count": null,
   "metadata": {
    "collapsed": true
   },
   "outputs": [],
   "source": [
    "We can see that"
   ]
  },
  {
   "cell_type": "markdown",
   "metadata": {},
   "source": [
    "### Number of Speakers\n",
    "\n",
    "num_speaker: The number of speakers in the talk."
   ]
  },
  {
   "cell_type": "code",
   "execution_count": null,
   "metadata": {
    "collapsed": true
   },
   "outputs": [],
   "source": [
    "df.num_speaker.describe()"
   ]
  },
  {
   "cell_type": "code",
   "execution_count": null,
   "metadata": {
    "collapsed": true
   },
   "outputs": [],
   "source": [
    "df_speaker_count = df.num_speaker.value_counts()"
   ]
  },
  {
   "cell_type": "code",
   "execution_count": null,
   "metadata": {
    "collapsed": true
   },
   "outputs": [],
   "source": [
    "df_speaker_count"
   ]
  },
  {
   "cell_type": "code",
   "execution_count": null,
   "metadata": {
    "collapsed": true
   },
   "outputs": [],
   "source": [
    "ax = df_speaker_count.plot(kind = 'bar', title = \"Number of Speakers in Talk\", grid=False, fontsize = 15, color = 'DarkCyan', figsize = (8,8))\n",
    "\n",
    "for p in ax.patches:\n",
    "    ax.annotate(str(p.get_height()), (p.get_x() * 1.005, p.get_height() * 1.005))"
   ]
  },
  {
   "cell_type": "code",
   "execution_count": null,
   "metadata": {
    "collapsed": true
   },
   "outputs": [],
   "source": [
    "df.num_speaker.plot( kind = 'hist')"
   ]
  },
  {
   "cell_type": "markdown",
   "metadata": {},
   "source": [
    "### Observations"
   ]
  },
  {
   "cell_type": "markdown",
   "metadata": {},
   "source": [
    "We can see that"
   ]
  },
  {
   "cell_type": "markdown",
   "metadata": {},
   "source": [
    "### Event\n",
    "Event: The TED/TEDx event where the talk took place."
   ]
  },
  {
   "cell_type": "code",
   "execution_count": null,
   "metadata": {
    "collapsed": true
   },
   "outputs": [],
   "source": [
    "df.groupby(\"event\").size().count() #355"
   ]
  },
  {
   "cell_type": "code",
   "execution_count": null,
   "metadata": {
    "collapsed": true
   },
   "outputs": [],
   "source": [
    "df.event.value_counts()"
   ]
  },
  {
   "cell_type": "code",
   "execution_count": null,
   "metadata": {
    "collapsed": true
   },
   "outputs": [],
   "source": [
    "df.event.describe()"
   ]
  },
  {
   "cell_type": "code",
   "execution_count": null,
   "metadata": {
    "collapsed": true
   },
   "outputs": [],
   "source": [
    "df.related_talks.head()"
   ]
  },
  {
   "cell_type": "code",
   "execution_count": null,
   "metadata": {
    "collapsed": true
   },
   "outputs": [],
   "source": [
    "df.tags.head()"
   ]
  },
  {
   "cell_type": "code",
   "execution_count": null,
   "metadata": {
    "collapsed": true,
    "scrolled": true
   },
   "outputs": [],
   "source": [
    "top_talks = df[[\"title\",\"views\", \"film_date\", \"duration\", \"comments\", \"num_speaker\"]].sort_values('views', ascending=False)\n",
    "top_talks"
   ]
  },
  {
   "cell_type": "code",
   "execution_count": null,
   "metadata": {
    "collapsed": true
   },
   "outputs": [],
   "source": [
    "df_test = top_talks.copy()"
   ]
  },
  {
   "cell_type": "code",
   "execution_count": null,
   "metadata": {
    "collapsed": true
   },
   "outputs": [],
   "source": [
    "df_test.index"
   ]
  },
  {
   "cell_type": "code",
   "execution_count": null,
   "metadata": {
    "collapsed": true
   },
   "outputs": [],
   "source": [
    "df.set_index(np.arange(len(df.index)))"
   ]
  },
  {
   "cell_type": "code",
   "execution_count": null,
   "metadata": {
    "collapsed": true
   },
   "outputs": [],
   "source": [
    "# df_test.set_index()"
   ]
  },
  {
   "cell_type": "code",
   "execution_count": null,
   "metadata": {
    "collapsed": true,
    "scrolled": true
   },
   "outputs": [],
   "source": [
    "from pandas import *\n",
    "idx = Int64Index(df_test.index)\n",
    "df_test2 = DataFrame(index = idx, data =(np.arange(len(df_test.index))))\n",
    "print(df_test2)"
   ]
  },
  {
   "cell_type": "code",
   "execution_count": null,
   "metadata": {
    "collapsed": true
   },
   "outputs": [],
   "source": [
    "df2 = df_test2\n",
    "df2.rename(index=str, columns={0: \"rank\"}, inplace=True )\n",
    "# df2"
   ]
  },
  {
   "cell_type": "code",
   "execution_count": null,
   "metadata": {
    "collapsed": true
   },
   "outputs": [],
   "source": [
    "df.reset_index(drop=True, inplace=True)\n",
    "df2.reset_index(drop=True, inplace=True)\n",
    "\n",
    "df3 = pd.concat([df, df2], axis=1 )"
   ]
  },
  {
   "cell_type": "code",
   "execution_count": null,
   "metadata": {
    "collapsed": true
   },
   "outputs": [],
   "source": [
    "df4 = df3.drop([\"Auction_Rank\",\"view_Rank\"], axis=1)"
   ]
  },
  {
   "cell_type": "code",
   "execution_count": null,
   "metadata": {
    "collapsed": true
   },
   "outputs": [],
   "source": [
    "df4.tail()"
   ]
  },
  {
   "cell_type": "code",
   "execution_count": null,
   "metadata": {
    "collapsed": true
   },
   "outputs": [],
   "source": [
    "df4.columns"
   ]
  },
  {
   "cell_type": "code",
   "execution_count": null,
   "metadata": {
    "collapsed": true,
    "scrolled": true
   },
   "outputs": [],
   "source": [
    "df.plot(kind = 'scatter', x = 'views', y = 'comments', s = 50, figsize = (8,8))"
   ]
  },
  {
   "cell_type": "code",
   "execution_count": null,
   "metadata": {
    "collapsed": true
   },
   "outputs": [],
   "source": [
    "df.plot(kind = 'scatter', x = 'views', y = 'languages', figsize = (8,8))"
   ]
  },
  {
   "cell_type": "code",
   "execution_count": null,
   "metadata": {
    "collapsed": true
   },
   "outputs": [],
   "source": [
    "df.plot(kind = 'scatter', x = 'duration', y ='views')\n",
    "\n",
    "#lm plot with seaborn and doing a regression line"
   ]
  },
  {
   "cell_type": "code",
   "execution_count": null,
   "metadata": {
    "collapsed": true
   },
   "outputs": [],
   "source": [
    "sns.pairplot(df[['views', 'duration']])"
   ]
  },
  {
   "cell_type": "code",
   "execution_count": null,
   "metadata": {
    "collapsed": true
   },
   "outputs": [],
   "source": [
    "df.views.plot(kind = 'hist', figsize = (8, 8))"
   ]
  },
  {
   "cell_type": "code",
   "execution_count": null,
   "metadata": {
    "collapsed": true
   },
   "outputs": [],
   "source": [
    "# df.views"
   ]
  },
  {
   "cell_type": "markdown",
   "metadata": {},
   "source": [
    "# Features: Analysis"
   ]
  },
  {
   "cell_type": "markdown",
   "metadata": {},
   "source": [
    "List of Columns: 'comments', 'description', 'duration', 'event', 'film_date','languages', 'main_speaker', 'name', 'num_speaker', 'published_date','ratings', 'related_talks', 'speaker_occupation', 'tags', 'title', 'url', 'views'    "
   ]
  },
  {
   "cell_type": "markdown",
   "metadata": {},
   "source": [
    "Ted Talks: Comments"
   ]
  },
  {
   "cell_type": "code",
   "execution_count": null,
   "metadata": {
    "collapsed": true
   },
   "outputs": [],
   "source": [
    "# df.comments\n",
    "#number of comments for each video"
   ]
  },
  {
   "cell_type": "code",
   "execution_count": null,
   "metadata": {
    "collapsed": true
   },
   "outputs": [],
   "source": [
    "df.comments.plot(kind = 'hist', figsize = (8,8))\n",
    "#df.Beds.plot(kind = 'hist', figsize = (8, 8))"
   ]
  },
  {
   "cell_type": "code",
   "execution_count": null,
   "metadata": {
    "collapsed": true
   },
   "outputs": [],
   "source": []
  }
 ],
 "metadata": {
  "kernelspec": {
   "display_name": "Python 3",
   "language": "python",
   "name": "python3"
  },
  "language_info": {
   "codemirror_mode": {
    "name": "ipython",
    "version": 3
   },
   "file_extension": ".py",
   "mimetype": "text/x-python",
   "name": "python",
   "nbconvert_exporter": "python",
   "pygments_lexer": "ipython3",
   "version": "3.6.1"
  }
 },
 "nbformat": 4,
 "nbformat_minor": 2
}
